{
 "cells": [
  {
   "cell_type": "code",
   "execution_count": 1,
   "id": "650c3f90",
   "metadata": {},
   "outputs": [
    {
     "name": "stdout",
     "output_type": "stream",
     "text": [
      "/Users/shivin/Document/NUS/Research/CAC/CAC_DL/DeepCAC\n"
     ]
    }
   ],
   "source": [
    "%cd ../"
   ]
  },
  {
   "cell_type": "code",
   "execution_count": 2,
   "id": "1fa1a3c5",
   "metadata": {},
   "outputs": [],
   "source": [
    "from __future__ import print_function, division\n",
    "import copy\n",
    "import torch\n",
    "import argparse\n",
    "import numpy as np\n",
    "import os\n",
    "import umap\n",
    "from torchvision import datasets, transforms\n",
    "from sklearn.metrics import adjusted_rand_score, normalized_mutual_info_score,\\\n",
    "f1_score, roc_auc_score, roc_curve, accuracy_score, matthews_corrcoef as mcc\n",
    "from torch.utils.data import Subset\n",
    "import pandas as pd\n",
    "from scipy.spatial import distance_matrix\n",
    "\n",
    "import argparse\n",
    "import numpy as np\n",
    "from scipy.cluster.vq import kmeans2\n",
    "from sklearn.metrics.cluster import normalized_mutual_info_score as nmi_score\n",
    "from sklearn.metrics import adjusted_rand_score as ari_score\n",
    "from sklearn.linear_model import LogisticRegression\n",
    "from sklearn.ensemble import GradientBoostingRegressor, GradientBoostingClassifier, RandomForestClassifier\n",
    "import torch.nn as nn\n",
    "import torch.nn.functional as F\n",
    "from torch.nn.parameter import Parameter\n",
    "from torch.optim import Adam\n",
    "from torch.utils.data import DataLoader, random_split\n",
    "from torch.nn import Linear\n",
    "from pytorchtools import EarlyStoppingCAC\n",
    "\n",
    "import numbers\n",
    "from sklearn.metrics import davies_bouldin_score as dbs, adjusted_rand_score as ari\n",
    "from matplotlib import pyplot as plt\n",
    "color = ['grey', 'red', 'blue', 'pink', 'brown', 'black', 'magenta', 'purple', 'orange', 'cyan', 'olive']\n",
    "\n",
    "from models import MultiHeadIDEC,  target_distribution, source_distribution\n",
    "from utils import *"
   ]
  },
  {
   "cell_type": "code",
   "execution_count": 35,
   "id": "49edcbc2",
   "metadata": {},
   "outputs": [],
   "source": [
    "# Dataset parameters\n",
    "params = {\n",
    "'dir' : 'synthetic',\n",
    "'dataset' : 'cic',\n",
    "\n",
    "# Training parameters\n",
    "'lr' : 0.002,\n",
    "'alpha' : 1,\n",
    "'wd' : 5e-4,\n",
    "'batch_size' : 512,\n",
    "'n_epochs' : 100,\n",
    "'n_runs' : 1,\n",
    "'pre_epoch' : 40,\n",
    "'pretrain' : True,\n",
    "\"load_ae\": False,\n",
    "\"classifier\": \"LR\",\n",
    "\"tol\": 0.01,\n",
    "\"attention\": \"True\",\n",
    "\"ablation\": 'None',\n",
    "\"cluster_balance\": 'hellinger',\n",
    "\"verbose\": 'True',\n",
    "\n",
    "# Model parameters\n",
    "'lamda' : 1,\n",
    "'beta' : 0.5, # KL loss/KM loss weight\n",
    "'gamma' : 1.5, # Classification loss weight\n",
    "'delta' : 1, # Class Balance weight\n",
    "'eta' : 0.0, # Class separation weight\n",
    "'hidden_dims' : [64, 32],\n",
    "'n_z' : 20,\n",
    "'n_clusters' : 3,\n",
    "'clustering' : 'cac',\n",
    "'n_classes'  : 2,\n",
    "\n",
    "# Utility parameters\n",
    "'n_jobs' : 6,\n",
    "'device' : 'cpu',\n",
    "'log_interval' : 2,\n",
    "'other' : 'False',\n",
    "'cluster_balance' : 'hellinger',\n",
    "'cluster_analysis' : 'False',\n",
    "'pretrain_path': '/Users/shivin/Document/NUS/Research/CAC/CAC_DL/DeepCAC/pretrained_model'}\n",
    "# 'pretrain_path': ''}\n",
    "\n",
    "\n",
    "class parameters(object):\n",
    "    def __init__(self, params):\n",
    "        self.dir = params['dir']\n",
    "        self.input_dim = -1\n",
    "        self.dataset = params['dataset']\n",
    "        \n",
    "        # Training parameters\n",
    "        self.lr = params['lr']\n",
    "        self.alpha = params['alpha']\n",
    "        self.wd = params['wd']\n",
    "        self.batch_size = params['batch_size']\n",
    "        self.n_epochs = params['n_epochs']\n",
    "        self.n_runs = params['n_runs']\n",
    "        self.pre_epoch = params['pre_epoch']\n",
    "        self.pretrain = params['pretrain']\n",
    "        self.load_ae = params['load_ae']\n",
    "        self.classifier = params['classifier']\n",
    "        self.tol = params['tol']\n",
    "        self.attention = params['attention'] == \"True\"\n",
    "        self.ablation = params['ablation']\n",
    "        self.verbose = params['verbose']\n",
    "\n",
    "        # Model parameters\n",
    "        self.lamda = params['lamda']\n",
    "        self.beta = params['beta']\n",
    "        self.gamma = params['gamma']\n",
    "        self.delta = params['delta']\n",
    "        self.eta = params['eta']\n",
    "        self.hidden_dims = params['hidden_dims']\n",
    "        self.latent_dim = self.n_z = params['n_z']\n",
    "        self.n_clusters = params['n_clusters']\n",
    "        self.clustering = params['clustering']\n",
    "        self.n_classes = params['n_classes']\n",
    "        self.cluster_balance = params['cluster_balance']\n",
    "        self.cluster_analysis = params['cluster_analysis']\n",
    "\n",
    "        # Utility parameters\n",
    "        self.n_jobs = params['n_jobs']\n",
    "        self.device = params['device']\n",
    "        self.log_interval = params['log_interval']\n",
    "        self.other = params['other']\n",
    "        self.pretrain_path = params['pretrain_path'] + \"/\" + self.dataset + \".pth\"\n",
    "\n",
    "args = parameters(params)\n",
    "datasets = ['titanic', 'magic', 'creditcard', 'adult', 'diabetes',\\\n",
    "            'cic', 'sepsis', 'synthetic', 'paper_synthetic', 'aki', 'infant', 'wid_mortality']"
   ]
  },
  {
   "cell_type": "code",
   "execution_count": 36,
   "id": "f7a76ae4",
   "metadata": {},
   "outputs": [
    {
     "name": "stdout",
     "output_type": "stream",
     "text": [
      "n_clusters 3\n",
      "alpha 1\n",
      "beta 0.5\n",
      "gamma 1.5\n",
      "delta 1\n",
      "eta 0.0\n",
      "cic\n"
     ]
    }
   ],
   "source": [
    "base_suffix = \"\"\n",
    "\n",
    "for key in ['n_clusters', 'alpha', 'beta', 'gamma', 'delta', 'eta']:\n",
    "    print(key, args.__dict__[key])\n",
    "\n",
    "base_suffix += args.dataset + \"_\"\n",
    "base_suffix += str(args.n_clusters) + \"_\"\n",
    "base_suffix += str(args.attention)\n",
    "\n",
    "scale, column_names, train_data, val_data, test_data = get_train_val_test_loaders(args)\n",
    "X_train, y_train, train_loader = train_data\n",
    "X_val, y_val, val_loader = val_data\n",
    "X_test, y_test, test_loader = test_data\n",
    "# X_train = X_train[:,:42]\n",
    "# args.input_dim = 42"
   ]
  },
  {
   "cell_type": "code",
   "execution_count": 37,
   "id": "437bf7a5",
   "metadata": {
    "code_folding": [
     552
    ],
    "scrolled": true
   },
   "outputs": [
    {
     "name": "stdout",
     "output_type": "stream",
     "text": [
      "Run : 0\n",
      "/Users/shivin/Document/NUS/Research/CAC/CAC_DL/DeepCAC/pretrained_model/cic.pth\n",
      "load pretrained ae from /Users/shivin/Document/NUS/Research/CAC/CAC_DL/DeepCAC/pretrained_model/cic.pth\n",
      "Starting Training\n",
      "\n",
      "[  0/100] train_loss: 0.682 valid_loss: 0.683 valid_F1: 0.521 valid_AUC: 0.481 valid_Feature_p: 0.000 valid_WDFD: 0.000 valid_Silhouette: 0.285 Complexity Term: 0.000\n",
      "Epoch: 00 | Epoch KM Loss: 1.825 | Total Loss: 18.385 | Classification Loss: 4.024 | Cluster Balance Loss: 1.251\n",
      "Epoch: 01 | Epoch KM Loss: 3.983 | Total Loss: 15.203 | Classification Loss: 3.013 | Cluster Balance Loss: 1.000\n",
      "\n",
      "[  2/100] train_loss: 0.404 valid_loss: 0.443 valid_F1: 0.461 valid_AUC: 0.546 valid_Feature_p: 0.000 valid_WDFD: 0.000 valid_Silhouette: 0.228 Complexity Term: 0.000\n",
      "Epoch: 02 | Epoch KM Loss: 1.644 | Total Loss: 11.545 | Classification Loss: 2.630 | Cluster Balance Loss: 0.891\n",
      "Epoch: 03 | Epoch KM Loss: 1.594 | Total Loss: 10.974 | Classification Loss: 2.331 | Cluster Balance Loss: 0.724\n",
      "\n",
      "[  4/100] train_loss: 0.339 valid_loss: 0.336 valid_F1: 0.461 valid_AUC: 0.793 valid_Feature_p: 0.000 valid_WDFD: 0.000 valid_Silhouette: 0.257 Complexity Term: 0.000\n",
      "Epoch: 04 | Epoch KM Loss: 1.177 | Total Loss: 10.519 | Classification Loss: 2.256 | Cluster Balance Loss: 0.703\n",
      "Epoch: 05 | Epoch KM Loss: 0.991 | Total Loss: 10.187 | Classification Loss: 2.199 | Cluster Balance Loss: 0.710\n",
      "\n",
      "[  6/100] train_loss: 0.314 valid_loss: 0.310 valid_F1: 0.610 valid_AUC: 0.824 valid_Feature_p: 0.000 valid_WDFD: 0.000 valid_Silhouette: 0.285 Complexity Term: 0.000\n",
      "Epoch: 06 | Epoch KM Loss: 1.449 | Total Loss: 10.550 | Classification Loss: 2.213 | Cluster Balance Loss: 0.764\n",
      "Epoch: 07 | Epoch KM Loss: 1.456 | Total Loss: 10.434 | Classification Loss: 2.146 | Cluster Balance Loss: 0.747\n",
      "\n",
      "[  8/100] train_loss: 0.288 valid_loss: 0.299 valid_F1: 0.607 valid_AUC: 0.838 valid_Feature_p: 0.000 valid_WDFD: 0.000 valid_Silhouette: 0.280 Complexity Term: 0.000\n",
      "Epoch: 08 | Epoch KM Loss: 1.379 | Total Loss: 10.194 | Classification Loss: 2.062 | Cluster Balance Loss: 0.776\n",
      "Epoch: 09 | Epoch KM Loss: 1.282 | Total Loss: 10.036 | Classification Loss: 2.041 | Cluster Balance Loss: 0.625\n",
      "\n",
      "[ 10/100] train_loss: 0.271 valid_loss: 0.302 valid_F1: 0.637 valid_AUC: 0.836 valid_Feature_p: 0.000 valid_WDFD: 0.000 valid_Silhouette: 0.278 Complexity Term: 0.000\n",
      "EarlyStopping counter: 1 out of 7\n",
      "Epoch: 10 | Epoch KM Loss: 1.666 | Total Loss: 10.353 | Classification Loss: 2.028 | Cluster Balance Loss: 0.996\n",
      "Epoch: 11 | Epoch KM Loss: 3.011 | Total Loss: 10.419 | Classification Loss: 1.672 | Cluster Balance Loss: 0.712\n",
      "\n",
      "[ 12/100] train_loss: 0.315 valid_loss: 0.375 valid_F1: 0.575 valid_AUC: 0.823 valid_Feature_p: 0.000 valid_WDFD: 0.000 valid_Silhouette: 0.316 Complexity Term: 0.000\n",
      "EarlyStopping counter: 2 out of 7\n",
      "Epoch: 12 | Epoch KM Loss: 1.162 | Total Loss: 9.687 | Classification Loss: 1.725 | Cluster Balance Loss: 0.703\n",
      "Epoch: 13 | Epoch KM Loss: 0.507 | Total Loss: 9.495 | Classification Loss: 1.885 | Cluster Balance Loss: 0.670\n",
      "\n",
      "[ 14/100] train_loss: 0.258 valid_loss: 0.295 valid_F1: 0.666 valid_AUC: 0.847 valid_Feature_p: 0.000 valid_WDFD: 0.000 valid_Silhouette: 0.289 Complexity Term: 0.000\n",
      "Epoch: 14 | Epoch KM Loss: 1.940 | Total Loss: 10.145 | Classification Loss: 1.831 | Cluster Balance Loss: 0.712\n",
      "Epoch: 15 | Epoch KM Loss: 2.919 | Total Loss: 10.078 | Classification Loss: 1.574 | Cluster Balance Loss: 0.631\n",
      "\n",
      "[ 16/100] train_loss: 0.247 valid_loss: 0.293 valid_F1: 0.699 valid_AUC: 0.854 valid_Feature_p: 0.000 valid_WDFD: 0.000 valid_Silhouette: 0.295 Complexity Term: 0.000\n",
      "Epoch: 16 | Epoch KM Loss: 0.984 | Total Loss: 9.343 | Classification Loss: 1.699 | Cluster Balance Loss: 0.741\n",
      "Epoch: 17 | Epoch KM Loss: 1.349 | Total Loss: 9.671 | Classification Loss: 1.702 | Cluster Balance Loss: 0.720\n",
      "\n",
      "[ 18/100] train_loss: 0.237 valid_loss: 0.313 valid_F1: 0.668 valid_AUC: 0.841 valid_Feature_p: 0.000 valid_WDFD: 0.000 valid_Silhouette: 0.333 Complexity Term: 0.000\n",
      "EarlyStopping counter: 1 out of 7\n",
      "Epoch: 18 | Epoch KM Loss: 1.583 | Total Loss: 9.218 | Classification Loss: 1.367 | Cluster Balance Loss: 0.666\n",
      "Epoch: 19 | Epoch KM Loss: 1.001 | Total Loss: 9.423 | Classification Loss: 1.555 | Cluster Balance Loss: 0.882\n",
      "\n",
      "[ 20/100] train_loss: 0.275 valid_loss: 0.344 valid_F1: 0.717 valid_AUC: 0.841 valid_Feature_p: 0.000 valid_WDFD: 0.000 valid_Silhouette: 0.310 Complexity Term: 0.000\n",
      "EarlyStopping counter: 2 out of 7\n",
      "Epoch: 20 | Epoch KM Loss: 2.144 | Total Loss: 10.362 | Classification Loss: 1.687 | Cluster Balance Loss: 0.738\n",
      "Epoch: 21 | Epoch KM Loss: 3.800 | Total Loss: 10.492 | Classification Loss: 1.371 | Cluster Balance Loss: 0.763\n",
      "\n",
      "[ 22/100] train_loss: 0.257 valid_loss: 0.293 valid_F1: 0.706 valid_AUC: 0.848 valid_Feature_p: 0.000 valid_WDFD: 0.000 valid_Silhouette: 0.310 Complexity Term: 0.000\n",
      "EarlyStopping counter: 3 out of 7\n",
      "Epoch: 22 | Epoch KM Loss: 0.829 | Total Loss: 8.760 | Classification Loss: 1.335 | Cluster Balance Loss: 0.557\n",
      "Epoch: 23 | Epoch KM Loss: 0.658 | Total Loss: 9.454 | Classification Loss: 1.635 | Cluster Balance Loss: 0.751\n",
      "\n",
      "[ 24/100] train_loss: 0.241 valid_loss: 0.344 valid_F1: 0.630 valid_AUC: 0.829 valid_Feature_p: 0.000 valid_WDFD: 0.000 valid_Silhouette: 0.335 Complexity Term: 0.000\n",
      "EarlyStopping counter: 4 out of 7\n",
      "Epoch: 24 | Epoch KM Loss: 2.345 | Total Loss: 9.877 | Classification Loss: 1.187 | Cluster Balance Loss: 0.643\n",
      "Epoch: 25 | Epoch KM Loss: 2.433 | Total Loss: 9.642 | Classification Loss: 1.087 | Cluster Balance Loss: 0.628\n",
      "\n",
      "[ 26/100] train_loss: 0.190 valid_loss: 0.344 valid_F1: 0.721 valid_AUC: 0.846 valid_Feature_p: 0.000 valid_WDFD: 0.000 valid_Silhouette: 0.332 Complexity Term: 0.000\n",
      "EarlyStopping counter: 5 out of 7\n",
      "Epoch: 26 | Epoch KM Loss: 0.708 | Total Loss: 9.284 | Classification Loss: 1.352 | Cluster Balance Loss: 0.695\n",
      "Epoch: 27 | Epoch KM Loss: 0.973 | Total Loss: 9.728 | Classification Loss: 1.389 | Cluster Balance Loss: 0.726\n",
      "\n",
      "[ 28/100] train_loss: 0.232 valid_loss: 0.300 valid_F1: 0.714 valid_AUC: 0.854 valid_Feature_p: 0.000 valid_WDFD: 0.000 valid_Silhouette: 0.312 Complexity Term: 0.000\n",
      "Epoch: 28 | Epoch KM Loss: 1.480 | Total Loss: 9.213 | Classification Loss: 1.172 | Cluster Balance Loss: 0.629\n",
      "Epoch: 29 | Epoch KM Loss: 1.439 | Total Loss: 8.714 | Classification Loss: 1.055 | Cluster Balance Loss: 0.584\n",
      "\n",
      "[ 30/100] train_loss: 0.231 valid_loss: 0.430 valid_F1: 0.638 valid_AUC: 0.843 valid_Feature_p: 0.000 valid_WDFD: 0.000 valid_Silhouette: 0.306 Complexity Term: 0.000\n",
      "EarlyStopping counter: 1 out of 7\n",
      "Epoch: 30 | Epoch KM Loss: 0.828 | Total Loss: 8.492 | Classification Loss: 1.120 | Cluster Balance Loss: 0.742\n",
      "Epoch: 31 | Epoch KM Loss: 0.621 | Total Loss: 8.971 | Classification Loss: 1.313 | Cluster Balance Loss: 0.682\n",
      "\n",
      "[ 32/100] train_loss: 0.184 valid_loss: 0.355 valid_F1: 0.651 valid_AUC: 0.821 valid_Feature_p: 0.000 valid_WDFD: 0.000 valid_Silhouette: 0.313 Complexity Term: 0.000\n",
      "EarlyStopping counter: 2 out of 7\n",
      "Epoch: 32 | Epoch KM Loss: 2.623 | Total Loss: 10.025 | Classification Loss: 1.121 | Cluster Balance Loss: 0.740\n",
      "Epoch: 33 | Epoch KM Loss: 3.258 | Total Loss: 9.529 | Classification Loss: 0.905 | Cluster Balance Loss: 0.660\n",
      "\n",
      "[ 34/100] train_loss: 0.181 valid_loss: 0.401 valid_F1: 0.701 valid_AUC: 0.830 valid_Feature_p: 0.000 valid_WDFD: 0.000 valid_Silhouette: 0.332 Complexity Term: 0.000\n",
      "EarlyStopping counter: 3 out of 7\n",
      "Epoch: 34 | Epoch KM Loss: 0.868 | Total Loss: 8.546 | Classification Loss: 0.978 | Cluster Balance Loss: 0.597\n",
      "Epoch: 35 | Epoch KM Loss: 0.793 | Total Loss: 9.141 | Classification Loss: 1.220 | Cluster Balance Loss: 0.593\n",
      "\n",
      "[ 36/100] train_loss: 0.211 valid_loss: 0.377 valid_F1: 0.729 valid_AUC: 0.858 valid_Feature_p: 0.000 valid_WDFD: 0.000 valid_Silhouette: 0.311 Complexity Term: 0.000\n",
      "Epoch: 36 | Epoch KM Loss: 1.718 | Total Loss: 9.040 | Classification Loss: 0.932 | Cluster Balance Loss: 0.669\n",
      "Epoch: 37 | Epoch KM Loss: 1.736 | Total Loss: 8.484 | Classification Loss: 0.784 | Cluster Balance Loss: 0.575\n",
      "\n",
      "[ 38/100] train_loss: 0.128 valid_loss: 0.512 valid_F1: 0.680 valid_AUC: 0.827 valid_Feature_p: 0.000 valid_WDFD: 0.000 valid_Silhouette: 0.331 Complexity Term: 0.000\n",
      "EarlyStopping counter: 1 out of 7\n"
     ]
    },
    {
     "name": "stdout",
     "output_type": "stream",
     "text": [
      "Epoch: 38 | Epoch KM Loss: 1.301 | Total Loss: 8.194 | Classification Loss: 0.683 | Cluster Balance Loss: 0.649\n",
      "Epoch: 39 | Epoch KM Loss: 1.089 | Total Loss: 7.711 | Classification Loss: 0.615 | Cluster Balance Loss: 0.617\n",
      "\n",
      "[ 40/100] train_loss: 0.119 valid_loss: 0.516 valid_F1: 0.694 valid_AUC: 0.841 valid_Feature_p: 0.000 valid_WDFD: 0.000 valid_Silhouette: 0.344 Complexity Term: 0.000\n",
      "EarlyStopping counter: 2 out of 7\n",
      "Epoch: 40 | Epoch KM Loss: 1.344 | Total Loss: 7.834 | Classification Loss: 0.573 | Cluster Balance Loss: 0.586\n",
      "Epoch: 41 | Epoch KM Loss: 1.172 | Total Loss: 7.771 | Classification Loss: 0.535 | Cluster Balance Loss: 0.627\n",
      "\n",
      "[ 42/100] train_loss: 0.080 valid_loss: 0.561 valid_F1: 0.704 valid_AUC: 0.838 valid_Feature_p: 0.000 valid_WDFD: 0.000 valid_Silhouette: 0.332 Complexity Term: 0.000\n",
      "EarlyStopping counter: 3 out of 7\n",
      "Epoch: 42 | Epoch KM Loss: 1.537 | Total Loss: 7.794 | Classification Loss: 0.490 | Cluster Balance Loss: 0.605\n",
      "Epoch: 43 | Epoch KM Loss: 1.523 | Total Loss: 7.493 | Classification Loss: 0.428 | Cluster Balance Loss: 0.555\n",
      "\n",
      "[ 44/100] train_loss: 0.092 valid_loss: 0.680 valid_F1: 0.685 valid_AUC: 0.827 valid_Feature_p: 0.000 valid_WDFD: 0.000 valid_Silhouette: 0.322 Complexity Term: 0.000\n",
      "EarlyStopping counter: 4 out of 7\n",
      "Epoch: 44 | Epoch KM Loss: 1.511 | Total Loss: 7.531 | Classification Loss: 0.400 | Cluster Balance Loss: 0.490\n",
      "Epoch: 45 | Epoch KM Loss: 1.807 | Total Loss: 7.668 | Classification Loss: 0.372 | Cluster Balance Loss: 0.592\n",
      "\n",
      "[ 46/100] train_loss: 0.060 valid_loss: 0.702 valid_F1: 0.678 valid_AUC: 0.818 valid_Feature_p: 0.000 valid_WDFD: 0.000 valid_Silhouette: 0.327 Complexity Term: 0.000\n",
      "EarlyStopping counter: 5 out of 7\n",
      "Epoch: 46 | Epoch KM Loss: 1.076 | Total Loss: 8.909 | Classification Loss: 0.742 | Cluster Balance Loss: 1.107\n",
      "Epoch: 47 | Epoch KM Loss: 2.192 | Total Loss: 11.692 | Classification Loss: 0.804 | Cluster Balance Loss: 0.706\n",
      "\n",
      "[ 48/100] train_loss: 0.126 valid_loss: 0.404 valid_F1: 0.671 valid_AUC: 0.812 valid_Feature_p: 0.000 valid_WDFD: 0.000 valid_Silhouette: 0.379 Complexity Term: 0.000\n",
      "EarlyStopping counter: 6 out of 7\n",
      "Epoch: 48 | Epoch KM Loss: 1.266 | Total Loss: 9.004 | Classification Loss: 0.578 | Cluster Balance Loss: 0.566\n",
      "Epoch: 49 | Epoch KM Loss: 0.887 | Total Loss: 7.845 | Classification Loss: 0.420 | Cluster Balance Loss: 0.479\n",
      "\n",
      "[ 50/100] train_loss: 0.103 valid_loss: 0.820 valid_F1: 0.672 valid_AUC: 0.815 valid_Feature_p: 0.000 valid_WDFD: 0.000 valid_Silhouette: 0.341 Complexity Term: 0.000\n",
      "EarlyStopping counter: 7 out of 7\n",
      "Train Losses:  [[18.385, 4.024], [15.203, 3.013], [11.545, 2.63], [10.974, 2.331], [10.519, 2.256], [10.187, 2.199], [10.55, 2.213], [10.434, 2.146], [10.194, 2.062], [10.036, 2.041], [10.353, 2.028], [10.419, 1.672], [9.687, 1.725], [9.495, 1.885], [10.145, 1.831], [10.078, 1.574], [9.343, 1.699], [9.671, 1.702], [9.218, 1.367], [9.423, 1.555], [10.362, 1.687], [10.492, 1.371], [8.76, 1.335], [9.454, 1.635], [9.877, 1.187], [9.642, 1.087], [9.284, 1.352], [9.728, 1.389], [9.213, 1.172], [8.714, 1.055], [8.492, 1.12], [8.971, 1.313], [10.025, 1.121], [9.529, 0.905], [8.546, 0.978], [9.141, 1.22], [9.04, 0.932], [8.484, 0.784], [8.194, 0.683], [7.711, 0.615], [7.834, 0.573], [7.771, 0.535], [7.794, 0.49], [7.493, 0.428], [7.531, 0.4], [7.668, 0.372], [8.909, 0.742], [11.692, 0.804], [9.004, 0.578], [7.845, 0.42]]\n",
      "\n",
      "####################################################################################\n",
      "\n",
      "Training Local Networks\n",
      "Loading Best model with score:  [0.7294439743726986, 0.8579724275724276]\n",
      "\n",
      "[ 50/100] train_loss: 0.097 valid_loss: 0.345 valid_F1: 0.683 valid_AUC: 0.850 valid_Sil: 0.311\n",
      "\n",
      "[ 50/100] train_loss: 0.090 valid_loss: 0.335 valid_F1: 0.715 valid_AUC: 0.849 valid_Sil: 0.311\n",
      "EarlyStopping counter: 1 out of 7\n",
      "\n",
      "[ 50/100] train_loss: 0.089 valid_loss: 0.345 valid_F1: 0.719 valid_AUC: 0.853 valid_Sil: 0.311\n",
      "\n",
      "[ 50/100] train_loss: 0.086 valid_loss: 0.361 valid_F1: 0.713 valid_AUC: 0.852 valid_Sil: 0.311\n",
      "EarlyStopping counter: 1 out of 7\n",
      "\n",
      "[ 50/100] train_loss: 0.085 valid_loss: 0.367 valid_F1: 0.720 valid_AUC: 0.852 valid_Sil: 0.311\n",
      "EarlyStopping counter: 2 out of 7\n",
      "\n",
      "[ 50/100] train_loss: 0.084 valid_loss: 0.366 valid_F1: 0.718 valid_AUC: 0.852 valid_Sil: 0.311\n",
      "EarlyStopping counter: 3 out of 7\n",
      "\n",
      "[ 50/100] train_loss: 0.085 valid_loss: 0.363 valid_F1: 0.712 valid_AUC: 0.849 valid_Sil: 0.311\n",
      "EarlyStopping counter: 4 out of 7\n",
      "\n",
      "[ 50/100] train_loss: 0.084 valid_loss: 0.370 valid_F1: 0.711 valid_AUC: 0.849 valid_Sil: 0.311\n",
      "EarlyStopping counter: 5 out of 7\n",
      "\n",
      "[ 50/100] train_loss: 0.085 valid_loss: 0.376 valid_F1: 0.713 valid_AUC: 0.852 valid_Sil: 0.311\n",
      "EarlyStopping counter: 6 out of 7\n",
      "\n",
      "[ 50/100] train_loss: 0.084 valid_loss: 0.373 valid_F1: 0.731 valid_AUC: 0.853 valid_Sil: 0.311\n",
      "\n",
      "[ 50/100] train_loss: 0.084 valid_loss: 0.369 valid_F1: 0.710 valid_AUC: 0.850 valid_Sil: 0.311\n",
      "EarlyStopping counter: 1 out of 7\n",
      "\n",
      "[ 50/100] train_loss: 0.084 valid_loss: 0.376 valid_F1: 0.710 valid_AUC: 0.849 valid_Sil: 0.311\n",
      "EarlyStopping counter: 2 out of 7\n",
      "\n",
      "[ 50/100] train_loss: 0.083 valid_loss: 0.374 valid_F1: 0.717 valid_AUC: 0.851 valid_Sil: 0.311\n",
      "EarlyStopping counter: 3 out of 7\n",
      "\n",
      "[ 50/100] train_loss: 0.084 valid_loss: 0.367 valid_F1: 0.724 valid_AUC: 0.851 valid_Sil: 0.311\n",
      "EarlyStopping counter: 4 out of 7\n",
      "\n",
      "[ 50/100] train_loss: 0.083 valid_loss: 0.373 valid_F1: 0.710 valid_AUC: 0.850 valid_Sil: 0.311\n",
      "EarlyStopping counter: 5 out of 7\n",
      "\n",
      "[ 50/100] train_loss: 0.082 valid_loss: 0.384 valid_F1: 0.712 valid_AUC: 0.850 valid_Sil: 0.311\n",
      "EarlyStopping counter: 6 out of 7\n",
      "\n",
      "[ 50/100] train_loss: 0.082 valid_loss: 0.383 valid_F1: 0.712 valid_AUC: 0.849 valid_Sil: 0.311\n",
      "EarlyStopping counter: 7 out of 7\n",
      "\n",
      "Cluster Wise discriminative features (NHFD)\n",
      "\n",
      "####################################################################################\n",
      "\n",
      "Evaluating Test Data with k =  3  Attention =  True\n",
      "Loading Best model with score:  [0.730589921166169, 0.8530397602397601]\n",
      "\n",
      "Cluster Wise discriminative features (NHFD)\n",
      "Run #0\n",
      "Loss Metrics - Test Loss 0.394, E-Test Loss 0.407, Local Sum Test Loss 0.222\n",
      "Clustering Metrics     - Acc 0.0000 , nmi 0.0000 , ari 0.0000, NHFD 0.743\n",
      "Classification Metrics - Test F1 0.714, Test AUC 0.841, Test ACC 0.866 , E-Test F1 0.709, E-Test AUC 0.847, E-Test ACC 0.861\n",
      "\n",
      "\n"
     ]
    }
   ],
   "source": [
    "####################################################################################\n",
    "####################################################################################\n",
    "####################################################################################\n",
    "################################### Initialiation ##################################\n",
    "####################################################################################\n",
    "####################################################################################\n",
    "####################################################################################\n",
    "\n",
    "f1_scores, auc_scores, acc_scores = [], [], [] #Inattentive test results\n",
    "e_f1_scores, e_auc_scores, e_acc_scores = [], [], [] #Attentive test results\n",
    "sil_scores, wdfd_scores, nhfd_scores, w_nhfd_scores = [], [], [], []\n",
    "\n",
    "# to track the training loss as the model trains\n",
    "test_losses, e_test_losses, local_sum_test_losses = [], [], []\n",
    "model_complexity = []\n",
    "\n",
    "if args.ablation == \"alpha\":\n",
    "    iter_array = alphas\n",
    "    iteration_name = \"Alpha\"\n",
    "\n",
    "elif args.ablation == \"beta\":\n",
    "    iter_array = betas\n",
    "    iteration_name = \"Beta\"\n",
    "\n",
    "elif args.ablation == \"gamma\":\n",
    "    iter_array = gammas\n",
    "    iteration_name = \"Gamma\"\n",
    "\n",
    "elif args.ablation == \"delta\":\n",
    "    iter_array = deltas\n",
    "    iteration_name = \"Delta\"\n",
    "\n",
    "elif args.ablation == \"k\":\n",
    "    iter_array = ks\n",
    "    iteration_name = \"K\"\n",
    "\n",
    "else:\n",
    "    iter_array = range(args.n_runs)\n",
    "    iteration_name = \"Run\"\n",
    "\n",
    "for r in range(len(iter_array)):\n",
    "    if args.verbose == 'False':\n",
    "        blockPrint()\n",
    "\n",
    "    print(iteration_name, \":\", iter_array[r])\n",
    "\n",
    "    if args.ablation == \"beta\":\n",
    "        args.beta = iter_array[r]\n",
    "\n",
    "    elif args.ablation == \"gamma\":\n",
    "        args.gamma = iter_array[r]\n",
    "\n",
    "    elif args.ablation == \"delta\":\n",
    "        args.delta = iter_array[r]\n",
    "\n",
    "    elif args.ablation == \"k\":\n",
    "        args.n_clusters = iter_array[r]\n",
    "\n",
    "    suffix = base_suffix + \"_\" + iteration_name + \"_\" + str(iter_array[r])\n",
    "    model = MultiHeadIDEC(\n",
    "            n_enc_1=128,\n",
    "            n_enc_2=64,\n",
    "            n_enc_3=32,\n",
    "            n_dec_1=32,\n",
    "            n_dec_2=64,\n",
    "            n_dec_3=128,\n",
    "            args=args).to(args.device)\n",
    "\n",
    "    model.pretrain(train_loader, args.pretrain_path)\n",
    "\n",
    "    optimizer = Adam(model.parameters(), lr=args.lr)\n",
    "\n",
    "    # cluster parameter initiate\n",
    "    device = args.device\n",
    "    y = y_train\n",
    "    x_bar, hidden = model.ae(torch.Tensor(X_train).to(args.device))\n",
    "    original_cluster_centers, cluster_indices = kmeans2(hidden.data.cpu().numpy(), k=args.n_clusters, minit='++')\n",
    "    model.cluster_layer.data = torch.tensor(original_cluster_centers).to(device)\n",
    "    criterion = nn.CrossEntropyLoss(reduction='none')\n",
    "\n",
    "\n",
    "    ####################################################################################\n",
    "    ####################################################################################\n",
    "    ####################################################################################\n",
    "    ################################## Clustering Step #################################\n",
    "    ####################################################################################\n",
    "    ####################################################################################\n",
    "    ####################################################################################\n",
    "\n",
    "\n",
    "    print(\"Starting Training\")\n",
    "    model.train()\n",
    "    N_EPOCHS = args.n_epochs\n",
    "    es = EarlyStoppingCAC(dataset=suffix)\n",
    "    train_losses, e_train_losses = [], []\n",
    "\n",
    "    for epoch in range(N_EPOCHS):\n",
    "        # beta = args.beta*(epoch*0.1)/(1+epoch*0.1)\n",
    "        beta = args.beta\n",
    "        # gamma = args.gamma - args.gamma*(epoch*0.1)/(1+epoch*0.1)\n",
    "        gamma = args.gamma\n",
    "        delta = args.delta\n",
    "        eta = args.eta\n",
    "        if epoch % args.log_interval == 0:\n",
    "            # plot(model, torch.FloatTensor(X_val).to(args.device), y_val, labels=None)\n",
    "            model.ae.eval() # prep model for evaluation\n",
    "            for j in range(model.n_clusters):\n",
    "                model.classifiers[j][0].eval()\n",
    "\n",
    "            z_train, _, q_train = model(torch.Tensor(X_train).to(args.device), output=\"decoded\")\n",
    "            q_train, q_train_p, q_train_n = q_train\n",
    "            p_train = target_distribution(q_train.detach())\n",
    "\n",
    "            # evaluate clustering performance\n",
    "            cluster_indices = q_train.detach().cpu().numpy().argmax(1)\n",
    "            preds = torch.zeros((len(z_train), args.n_classes))\n",
    "\n",
    "            # Calculate Training Metrics\n",
    "            nmi, acc, ari = 0, 0, 0\n",
    "            train_loss = 0\n",
    "            B = []\n",
    "\n",
    "            for j in range(model.n_clusters):\n",
    "                cluster_idx = np.where(cluster_indices == j)[0]\n",
    "                X_cluster = z_train[cluster_idx]\n",
    "                y_cluster = torch.Tensor(y_train[cluster_idx]).type(torch.LongTensor).to(model.device)\n",
    "\n",
    "                # B.append(torch.max(torch.linalg.norm(X_cluster, axis=1), axis=0).values)\n",
    "                cluster_preds = model.classifiers[j][0](X_cluster)\n",
    "                train_loss += torch.sum(criterion(cluster_preds, y_cluster))\n",
    "\n",
    "            train_loss /= len(z_train)\n",
    "            # Evaluate model on Validation dataset\n",
    "            qs, z_val = model(torch.FloatTensor(X_val).to(args.device), output=\"latent\")\n",
    "            q_val = qs[0]\n",
    "            cluster_ids = torch.argmax(q_val, axis=1)\n",
    "            preds = torch.zeros((len(z_val), args.n_classes))\n",
    "\n",
    "            # Weighted predictions\n",
    "            if args.attention == False:\n",
    "                for j in range(model.n_clusters):\n",
    "                    cluster_id = np.where(cluster_ids == j)[0]\n",
    "                    X_cluster = z_val[cluster_id]\n",
    "                    cluster_preds_val = model.classifiers[j][0](X_cluster)\n",
    "                    preds[cluster_id,:] = cluster_preds_val\n",
    "\n",
    "            else:\n",
    "                for j in range(model.n_clusters):\n",
    "                    X_cluster = z_val\n",
    "                    cluster_preds = model.classifiers[j][0](X_cluster)\n",
    "                    for c in range(args.n_classes):\n",
    "                        preds[:,c] += q_val[:,j]*cluster_preds[:,c]\n",
    "\n",
    "            # print(\"qval\", torch.sum(q_val, axis=0))\n",
    "            # print(\"Cluster Counts\", np.bincount(cluster_ids))\n",
    "            # print(\"KL div\", torch.kl_div(torch.sum(q_val, axis=0),\\\n",
    "            #                         torch.ones(args.n_clusters)/args.n_clusters))\n",
    "\n",
    "            # Classification Matrics\n",
    "            val_f1  = f1_score(y_val, np.argmax(preds.detach().numpy(), axis=1), average=\"macro\")\n",
    "            val_auc = multi_class_auc(y_val, preds.detach().numpy(), args.n_classes)\n",
    "\n",
    "            # Clustering Metrics\n",
    "            val_sil = silhouette_new(z_val.data.cpu().numpy(), cluster_ids.data.cpu().numpy(), metric='euclidean')\n",
    "            val_feature_diff, val_WDFD = 0, 0\n",
    "            # val_feature_diff = calculate_nhfd(X_val, cluster_ids)\n",
    "            # val_WDFD = calculate_WDFD(X_val, cluster_ids)\n",
    "            complexity_term = 0\n",
    "            # complexity_term  = calculate_bound(model, B, len(z_train))\n",
    "\n",
    "            val_loss = torch.mean(criterion(preds, torch.Tensor(y_val).type(torch.LongTensor)))\n",
    "\n",
    "            # # record validation loss\n",
    "            # valid_losses.append(loss.item())\n",
    "\n",
    "            # # calculate average loss over an epoch\n",
    "            # valid_loss = np.average(valid_losses)\n",
    "            # avg_valid_losses.append(valid_loss)\n",
    "\n",
    "            epoch_len = len(str(N_EPOCHS))\n",
    "\n",
    "            print_msg = (f'\\n[{epoch:>{epoch_len}}/{N_EPOCHS:>{epoch_len}}] ' +\n",
    "                         f'train_loss: {train_loss:.3f} ' +\n",
    "                         f'valid_loss: {val_loss:.3f} '  +\n",
    "                         f'valid_F1: {val_f1:.3f} '  +\n",
    "                         f'valid_AUC: {val_auc:.3f} ' + \n",
    "                         f'valid_Feature_p: {val_feature_diff:.3f} ' + \n",
    "                         f'valid_WDFD: {val_WDFD:.3f} ' + \n",
    "                         f'valid_Silhouette: {val_sil:.3f} ' + \n",
    "                         f'Complexity Term: {complexity_term:.3f}')\n",
    "\n",
    "            print(print_msg)\n",
    "\n",
    "            # early_stopping needs the validation loss to check if it has decresed, \n",
    "            # and if it has, it will make a checkpoint of the current model\n",
    "            es([val_f1, val_auc], model)\n",
    "            if es.early_stop == True:\n",
    "                break\n",
    "\n",
    "        # Normal Training\n",
    "        epoch_loss = 0\n",
    "        epoch_balance_loss = 0\n",
    "        epoch_class_loss = 0\n",
    "        epoch_km_loss = 0\n",
    "        \n",
    "        model.ae.train() # prep model for evaluation\n",
    "        for j in range(model.n_clusters):\n",
    "            model.classifiers[j][0].train()\n",
    "\n",
    "        for batch_idx, (x_batch, y_batch, idx) in enumerate(train_loader):\n",
    "            total_loss = 0\n",
    "            x_batch = x_batch.to(device)\n",
    "            idx = idx.to(device)\n",
    "\n",
    "            X_latents, x_bar, q_batch = model(x_batch)\n",
    "            q_batch = q_batch[0]\n",
    "            reconstr_loss = F.mse_loss(x_bar, x_batch)\n",
    "\n",
    "            classifier_labels = np.zeros(len(idx))\n",
    "            sub_epochs = min(10, 1 + int(epoch/5))\n",
    "\n",
    "            if args.attention == False:\n",
    "                classifier_labels = np.argmax(q_batch.detach().cpu().numpy(), axis=1)\n",
    "\n",
    "            for _ in range(sub_epochs):\n",
    "                # Choose classifier for a point probabilistically\n",
    "                if args.attention == True:\n",
    "                    for j in range(len(idx)):\n",
    "                        classifier_labels[j] = np.random.choice(range(args.n_clusters), p = q_batch[j].detach().numpy())\n",
    "\n",
    "                for k in range(args.n_clusters):\n",
    "                    idx_cluster = np.where(classifier_labels == k)[0]\n",
    "                    X_cluster = X_latents[idx_cluster]\n",
    "                    y_cluster = y_batch[idx_cluster]\n",
    "\n",
    "                    classifier_k, optimizer_k = model.classifiers[k]\n",
    "                    # Do not backprop the error to encoder\n",
    "                    y_pred_cluster = classifier_k(X_cluster.detach())\n",
    "                    cluster_loss = torch.mean(criterion(y_pred_cluster, y_cluster))\n",
    "                    optimizer_k.zero_grad()\n",
    "                    cluster_loss.backward(retain_graph=True)\n",
    "                    optimizer_k.step()\n",
    "\n",
    "            # Back propagate the error corresponding to last clustering\n",
    "            class_loss = torch.tensor(0.).to(args.device)\n",
    "            for k in range(args.n_clusters):\n",
    "                idx_cluster = np.where(classifier_labels == k)[0]\n",
    "                X_cluster = X_latents[idx_cluster]\n",
    "                y_cluster = y_batch[idx_cluster]\n",
    "\n",
    "                classifier_k, optimizer_k = model.classifiers[k]\n",
    "                y_pred_cluster = classifier_k(X_cluster)\n",
    "                class_loss += torch.sum(q_batch[idx_cluster,k]*criterion(y_pred_cluster, y_cluster))\n",
    "\n",
    "            class_loss /= len(X_latents)\n",
    "            delta_mu   = torch.zeros((args.n_clusters, args.latent_dim)).to(args.device)\n",
    "            cluster_id = torch.argmax(q_batch, 1)\n",
    "            # print(np.bincount(cluster_id.cpu().numpy()))\n",
    "\n",
    "            km_loss             = 0\n",
    "            dcn_loss            = 0\n",
    "            class_sep_loss      = 0\n",
    "\n",
    "            if args.eta > 0:\n",
    "                for j in range(args.n_clusters):\n",
    "                    pts_index = np.where(cluster_id == j)[0]\n",
    "                    cluster_pts = X_latents[pts_index]\n",
    "                    delta_mu[j,:]   = cluster_pts.sum(axis=0)/(1+len(cluster_pts))\n",
    "                    dcn_loss += torch.linalg.norm(X_latents[pts_index] - model.cluster_layer[j])/(1+len(cluster_pts))\n",
    "\n",
    "            q_batch = source_distribution(X_latents, model.cluster_layer, alpha=model.alpha)\n",
    "            P = torch.sum(torch.nn.Softmax(dim=1)(10*q_batch), axis=0)\n",
    "            P = P/P.sum()\n",
    "            Q = torch.ones(args.n_clusters)/args.n_clusters # Uniform distribution\n",
    "\n",
    "            if args.cluster_balance == \"kl\":\n",
    "                cluster_balance_loss = F.kl_div(P.log(), Q, reduction='batchmean')\n",
    "            else:\n",
    "                cluster_balance_loss = torch.linalg.norm(torch.sqrt(P) - torch.sqrt(Q))\n",
    "\n",
    "            km_loss = F.kl_div(q_batch.log(), p_train[idx], reduction='batchmean')\n",
    "\n",
    "            loss = reconstr_loss\n",
    "            if args.beta != 0:\n",
    "                loss += beta*km_loss\n",
    "            if args.gamma != 0:\n",
    "                loss += gamma*class_loss\n",
    "            if args.delta != 0:\n",
    "                loss += delta*cluster_balance_loss\n",
    "            if args.eta != 0:\n",
    "                loss += eta*dcn_loss\n",
    "\n",
    "            epoch_loss += loss\n",
    "            epoch_class_loss += class_loss\n",
    "            epoch_balance_loss += cluster_balance_loss\n",
    "            epoch_km_loss += km_loss\n",
    "            optimizer.zero_grad()\n",
    "            loss.backward(retain_graph=True)\n",
    "            optimizer.step()\n",
    "\n",
    "            # Update the positive and negative centroids\n",
    "            if args.eta > 0:\n",
    "                for j in range(args.n_clusters):\n",
    "                    pts_index = np.where(cluster_id == j)[0]\n",
    "                    N  = len(pts_index)\n",
    "                    model.cluster_layer.data[j:] -= (1/(100+N))*delta_mu[j:]\n",
    "\n",
    "        print('Epoch: {:02d} | Epoch KM Loss: {:.3f} | Total Loss: {:.3f} | Classification Loss: {:.3f} | Cluster Balance Loss: {:.3f}'.format(\n",
    "                    epoch, epoch_km_loss, epoch_loss, epoch_class_loss, loss))\n",
    "        train_losses.append([np.round(epoch_loss.item(),3), np.round(epoch_class_loss.item(),3)])\n",
    "\n",
    "    ####################################################################################\n",
    "    ####################################################################################\n",
    "    ####################################################################################\n",
    "    ################################### Local Training #################################\n",
    "    ####################################################################################\n",
    "    ####################################################################################\n",
    "    ####################################################################################\n",
    "    print('Train Losses: ', train_losses)\n",
    "    print(\"\\n####################################################################################\\n\")\n",
    "    print(\"Training Local Networks\")\n",
    "    model = es.load_checkpoint(model)\n",
    "\n",
    "    es = EarlyStoppingCAC(dataset=suffix)\n",
    "\n",
    "    qs, z_train = model(torch.FloatTensor(np.array(X_train)).to(args.device), output=\"latent\")\n",
    "    q_train = qs[0]\n",
    "    cluster_id_train = torch.argmax(q_train, axis=1)\n",
    "\n",
    "    # X_latents_data_loader = list(zip(z_train, cluster_id_train, y_train))\n",
    "    X_latents_data_loader = list(zip(z_train.to(args.device),q_train, y_train))\n",
    "\n",
    "    train_loader_latents = torch.utils.data.DataLoader(X_latents_data_loader,\n",
    "        batch_size=1024, shuffle=False)\n",
    "\n",
    "    B = []\n",
    "\n",
    "    # plot(model, torch.FloatTensor(np.array(X_train)).to(args.device), y_train,\\\n",
    "    #      torch.FloatTensor(np.array(X_test)).to(args.device), y_test)\n",
    "\n",
    "    # Post clustering training\n",
    "    for e in range(N_EPOCHS):\n",
    "        epoch_loss = 0\n",
    "        epoch_acc = 0\n",
    "        epoch_f1 = 0\n",
    "        acc = 0\n",
    "\n",
    "        # model.ae.train() # prep model for evaluation\n",
    "        for j in range(model.n_clusters):\n",
    "            model.classifiers[j][0].train()\n",
    "\n",
    "        # Full training of local networks\n",
    "        for batch_idx, (X_latents, q_batch, y_batch) in enumerate(train_loader_latents):\n",
    "            # torch.autograd.set_detect_anomaly(True)\n",
    "\n",
    "            classifier_labels = np.zeros(len(X_latents))\n",
    "            # Choose classifier for a point probabilistically\n",
    "            if args.attention == True:\n",
    "                for j in range(len(X_latents)):\n",
    "                    classifier_labels[j] = np.random.choice(range(args.n_clusters), p = q_batch[j].detach().numpy())\n",
    "            else:\n",
    "                classifier_labels = torch.argmax(q_batch, axis=1).data.cpu().numpy()\n",
    "\n",
    "            for k in range(args.n_clusters):\n",
    "                idx_cluster = np.where(classifier_labels == k)[0]\n",
    "                X_cluster = X_latents[idx_cluster]\n",
    "                y_cluster = y_batch[idx_cluster]\n",
    "\n",
    "                classifier_k, optimizer_k = model.classifiers[k]\n",
    "                # Do not backprop the error to encoder\n",
    "                y_pred_cluster = classifier_k(X_cluster.detach())\n",
    "                cluster_loss = torch.mean(criterion(y_pred_cluster, y_cluster))\n",
    "                optimizer_k.zero_grad()\n",
    "                cluster_loss.backward(retain_graph=True)\n",
    "                optimizer_k.step()\n",
    "        \n",
    "        # model.ae.eval() # prep model for evaluation\n",
    "        for j in range(model.n_clusters):\n",
    "            model.classifiers[j][0].eval()\n",
    "\n",
    "        train_preds = torch.zeros((len(z_train), args.n_classes))\n",
    "        train_loss = 0\n",
    "\n",
    "        # Weighted predictions\n",
    "        q_train, z_train = model(torch.FloatTensor(X_train).to(args.device), output=\"latent\")\n",
    "        q_train = q_train[0]\n",
    "        cluster_ids_train = torch.argmax(q_train, axis=1)\n",
    "        \n",
    "        for j in range(model.n_clusters):\n",
    "            cluster_id = np.where(cluster_ids_train == j)[0]\n",
    "            X_cluster = z_train\n",
    "            y_cluster = torch.Tensor(y_train[cluster_id]).type(torch.LongTensor)\n",
    "\n",
    "            # Ensemble train loss\n",
    "            cluster_preds = model.classifiers[j][0](X_cluster)\n",
    "            for c in range(args.n_classes):\n",
    "                train_preds[:,c] += q_train[:,j]*cluster_preds[:,c]\n",
    "\n",
    "            X_cluster = z_train[cluster_id]\n",
    "            cluster_preds = model.classifiers[j][0](X_cluster)\n",
    "            train_loss += torch.sum(q_train[cluster_id,j]*criterion(cluster_preds, y_cluster))\n",
    "            # B.append(torch.max(torch.linalg.norm(X_cluster, axis=1), axis=0).values)\n",
    "\n",
    "\n",
    "        train_loss /= len(z_train)\n",
    "        e_train_loss = torch.mean(criterion(train_preds, torch.Tensor(y_train).type(torch.LongTensor)))\n",
    "\n",
    "        # Evaluate model on Validation set\n",
    "        qs, z_val = model(torch.FloatTensor(X_val).to(args.device), output=\"latent\")\n",
    "        q_val = qs[0]\n",
    "        cluster_ids_val = torch.argmax(q_val, axis=1)\n",
    "        preds = torch.zeros((len(z_val), args.n_classes))\n",
    "\n",
    "        # Weighted predictions\n",
    "        for j in range(model.n_clusters):\n",
    "            cluster_id = np.where(cluster_ids_val == j)[0]\n",
    "            X_cluster = z_val\n",
    "            cluster_preds = model.classifiers[j][0](X_cluster)\n",
    "            for c in range(args.n_classes):\n",
    "                preds[:,c] += q_val[:,j]*cluster_preds[:,c]\n",
    "\n",
    "        val_f1  = f1_score(y_val, np.argmax(preds.detach().numpy(), axis=1), average=\"macro\")\n",
    "        val_auc = multi_class_auc(y_val, preds.detach().numpy(), args.n_classes)\n",
    "        val_sil = silhouette_new(z_val.data.cpu().numpy(), cluster_ids_val.data.cpu().numpy(), metric='euclidean')\n",
    "\n",
    "        val_loss = torch.mean(criterion(preds, torch.Tensor(y_val).type(torch.LongTensor)))\n",
    "        # record validation loss\n",
    "        # valid_losses.append(loss.item())\n",
    "\n",
    "        # calculate average loss over an epoch\n",
    "        # valid_loss = np.average(valid_losses)\n",
    "        # avg_valid_losses.append(valid_loss)\n",
    "        \n",
    "        epoch_len = len(str(N_EPOCHS))\n",
    "        \n",
    "        print_msg = (f'\\n[{epoch:>{epoch_len}}/{N_EPOCHS:>{epoch_len}}] ' +\n",
    "                     f'train_loss: {train_loss:.3f} ' +\n",
    "                     f'valid_loss: {val_loss:.3f} '  +\n",
    "                     f'valid_F1: {val_f1:.3f} '  +\n",
    "                     f'valid_AUC: {val_auc:.3f} ' +\n",
    "                     f'valid_Sil: {val_sil:.3f}')\n",
    "        \n",
    "        print(print_msg)\n",
    "        \n",
    "        # early_stopping needs the validation loss to check if it has decresed, \n",
    "        # and if it has, it will make a checkpoint of the current model\n",
    "        es([val_f1, val_auc], model)\n",
    "        if es.early_stop == True:\n",
    "            # train_losses.append(train_loss.item())\n",
    "            # e_train_losses.append(e_train_loss.item())\n",
    "            sil_scores.append(silhouette_new(z_train.data.cpu().numpy(), cluster_ids_train.data.cpu().numpy(), metric='euclidean'))\n",
    "            nhfd_scores.append(calculate_nhfd(X_train,  cluster_ids_train))\n",
    "            wdfd_scores.append(calculate_WDFD(X_train,  cluster_ids_train))\n",
    "            # mifd_scores.append(calculate_MIFD(X_train,  cluster_ids_train))\n",
    "            # model_complexity.append(calculate_bound(model, B, len(z_train)))\n",
    "            break\n",
    "\n",
    "\n",
    "    ####################################################################################\n",
    "    ####################################################################################\n",
    "    ####################################################################################\n",
    "    ################################### Testing Perf. ##################################\n",
    "    ####################################################################################\n",
    "    ####################################################################################\n",
    "    ####################################################################################\n",
    "\n",
    "    print(\"\\n####################################################################################\\n\")\n",
    "    print(\"Evaluating Test Data with k = \", args.n_clusters, \" Attention = \", args.attention)\n",
    "\n",
    "    # Load best model trained from local training phase\n",
    "    model = es.load_checkpoint(model)\n",
    "\n",
    "    # # Evaluate model on Test dataset\n",
    "    qs, z_test = model(torch.FloatTensor(X_test).to(args.device), output=\"latent\")\n",
    "    q_test = qs[0]\n",
    "    cluster_ids = torch.argmax(q_test, axis=1)\n",
    "    # cluster_ids = np.argmax(distance_matrix(z_test.data.cpu().numpy(), model.cluster_layer.data.cpu().numpy()), axis=1)\n",
    "    test_preds_e = torch.zeros((len(z_test), args.n_classes))\n",
    "\n",
    "    test_loss = 0\n",
    "    e_test_loss = 0\n",
    "    local_sum_loss = 0\n",
    "\n",
    "    # Weighted predictions\n",
    "    for j in range(model.n_clusters):\n",
    "        cluster_id = np.where(cluster_ids == j)[0]\n",
    "        X_cluster = z_test\n",
    "        cluster_test_preds = model.classifiers[j][0](X_cluster)\n",
    "        for c in range(args.n_classes):\n",
    "            test_preds_e[:,c] += q_test[:,j]*cluster_test_preds[:,c]\n",
    "    \n",
    "    e_test_loss = torch.mean(criterion(test_preds_e, torch.Tensor(y_test).type(torch.LongTensor)))\n",
    "    e_test_f1 = f1_score(y_test, np.argmax(test_preds_e.detach().numpy(), axis=1), average=\"macro\")\n",
    "    e_test_auc = multi_class_auc(y_test, test_preds_e.detach().numpy(), args.n_classes)\n",
    "    e_test_acc = accuracy_score(y_test, np.argmax(test_preds_e.detach().numpy(), axis=1))\n",
    "    e_test_nhfd = calculate_nhfd(X_test, cluster_ids)\n",
    "\n",
    "    test_preds = torch.zeros((len(z_test), args.n_classes))\n",
    "\n",
    "\n",
    "    # Hard local predictions\n",
    "    for j in range(model.n_clusters):\n",
    "        cluster_id = np.where(cluster_ids == j)[0]\n",
    "        X_cluster = z_test[cluster_id]\n",
    "        y_cluster = torch.Tensor(y_test[cluster_id]).type(torch.LongTensor)\n",
    "        cluster_test_preds = model.classifiers[j][0](X_cluster)\n",
    "        test_preds[cluster_id,:] = cluster_test_preds\n",
    "        local_sum_loss += torch.sum(q_test[cluster_id,j]*criterion(cluster_test_preds, y_cluster))\n",
    "    \n",
    "    test_f1 = f1_score(y_test, np.argmax(test_preds.detach().numpy(), axis=1), average=\"macro\")\n",
    "    test_auc = multi_class_auc(y_test, test_preds.detach().numpy(), args.n_classes)\n",
    "    test_acc = accuracy_score(y_test, np.argmax(test_preds.detach().numpy(), axis=1))\n",
    "    test_loss = torch.mean(criterion(test_preds, torch.Tensor(y_test).type(torch.LongTensor)))\n",
    "    local_sum_loss /= len(X_test)\n",
    "\n",
    "    test_losses.append(test_loss.item())\n",
    "    e_test_losses.append(e_test_loss.item())\n",
    "    local_sum_test_losses.append(local_sum_loss.item())\n",
    "\n",
    "    # enablePrint()\n",
    "    print(\"Run #{}\".format(r))\n",
    "    print('Loss Metrics - Test Loss {:.3f}, E-Test Loss {:.3f}, Local Sum Test Loss {:.3f}'.format(test_loss, e_test_loss, local_sum_loss))\n",
    "\n",
    "    print('Clustering Metrics     - Acc {:.4f}'.format(acc), ', nmi {:.4f}'.format(nmi),\\\n",
    "          ', ari {:.4f}, NHFD {:.3f}'.format(ari, e_test_nhfd))\n",
    "\n",
    "    print('Classification Metrics - Test F1 {:.3f}, Test AUC {:.3f}, Test ACC {:.3f}'.format(test_f1, test_auc, test_acc),\\\n",
    "        ', E-Test F1 {:.3f}, E-Test AUC {:.3f}, E-Test ACC {:.3f}'.format(e_test_f1, e_test_auc, e_test_acc))\n",
    "\n",
    "    print(\"\\n\")\n",
    "\n",
    "    f1_scores.append(test_f1)\n",
    "    auc_scores.append(test_auc)\n",
    "    acc_scores.append(test_acc)\n",
    "\n",
    "    e_f1_scores.append(e_test_f1)\n",
    "    e_auc_scores.append(e_test_auc)\n",
    "    e_acc_scores.append(e_test_acc)\n",
    "\n",
    "    ####################################################################################\n",
    "    ####################################################################################\n",
    "    ####################################################################################\n",
    "    ################################### Feature Imp. ###################################\n",
    "    ####################################################################################\n",
    "    ####################################################################################\n",
    "    ####################################################################################\n",
    "\n",
    "\n",
    "    regs = [GradientBoostingRegressor(random_state=0) for _ in range(args.n_clusters)]\n",
    "    qs, z_train = model(torch.FloatTensor(X_train).to(args.device), output=\"latent\")\n",
    "    q_train = qs[0]\n",
    "    cluster_ids = torch.argmax(q_train, axis=1)\n",
    "    train_preds_e = torch.zeros((len(z_train), args.n_classes))\n",
    "    feature_importances = np.zeros((args.n_clusters, args.input_dim))\n",
    "\n",
    "    # Weighted predictions\n",
    "    for j in range(model.n_clusters):\n",
    "        X_cluster = z_train\n",
    "        cluster_preds = model.classifiers[j][0](X_cluster)\n",
    "        # print(q_test, cluster_preds[:,0])\n",
    "        for c in range(args.n_classes):\n",
    "            train_preds_e[:,c] += q_train[:,j]*cluster_preds[:,c]\n",
    "\n",
    "    for j in range(model.n_clusters):\n",
    "        cluster_id = torch.where(cluster_ids == j)[0]\n",
    "        X_cluster = X_train[cluster_id]\n",
    "        if args.attention == True:\n",
    "            y_cluster = train_preds_e[cluster_id][:,1]\n",
    "        else:\n",
    "            y_cluster = train_preds[cluster_id][:,1]\n",
    "\n",
    "        # Some test data might not belong to any cluster\n",
    "        if len(cluster_id) > 0:\n",
    "            regs[j].fit(X_cluster, y_cluster.detach().cpu().numpy())\n",
    "            best_features = np.argsort(regs[j].feature_importances_)[::-1][:10]\n",
    "            feature_importances[j,:] = regs[j].feature_importances_\n",
    "            # print(\"Cluster # \", j, \"sized: \", len(cluster_id))\n",
    "            # print(list(zip(column_names[best_features], np.round(regs[j].feature_importances_[best_features], 3))))\n",
    "            # print(\"=========================\\n\")\n",
    "\n",
    "    feature_diff = 0\n",
    "    cntr = 0\n",
    "    for i in range(args.n_clusters):\n",
    "        for j in range(args.n_clusters):\n",
    "            if i > j:\n",
    "                ci = torch.where(cluster_ids == i)[0]\n",
    "                cj = torch.where(cluster_ids == j)[0]\n",
    "                Xi = X_train[ci]\n",
    "                Xj = X_train[cj]\n",
    "                feature_diff += 100*sum(feature_importances[i]*feature_importances[j]*(ttest_ind(Xi, Xj, axis=0)[1] < 0.05))/args.input_dim\n",
    "                # print(\"Cluster [{}, {}] p-value: \".format(i,j), feature_diff)\n",
    "                cntr += 1\n",
    "\n",
    "    # print(\"Average Feature Difference: \", feature_diff/cntr)\n",
    "    if cntr == 0:\n",
    "        w_nhfd_scores.append(0)\n",
    "    else:\n",
    "        w_nhfd_scores.append(feature_diff/cntr)\n"
   ]
  },
  {
   "cell_type": "code",
   "execution_count": 24,
   "id": "aa53aa19",
   "metadata": {},
   "outputs": [],
   "source": [
    "def plot_hist(x, y, bins=10):\n",
    "    minn = min(np.min(x), np.min(y))\n",
    "    maxx = max(np.max(x), np.max(y))\n",
    "    range_x = np.max(x) - np.min(x)\n",
    "    range_y = np.max(y) - np.min(y)\n",
    "    gap = min(range_x, range_y)/bins\n",
    "\n",
    "    if gap < 1e-5:\n",
    "        return 0\n",
    "\n",
    "    h1, r1 = np.histogram(x, np.arange(minn-gap, maxx+gap, gap))\n",
    "    h2, r2 = np.histogram(y, np.arange(minn-gap, maxx+gap, gap))\n",
    "    k1 = [(r1[j]+r1[j-1])/2 for j in range(1, len(r1))]\n",
    "    k2 = [(r2[j]+r2[j-1])/2 for j in range(1, len(r2))]\n",
    "    # print(h1, h2, k1)\n",
    "\n",
    "    fig, axes = plt.subplots(1, 2)\n",
    "\n",
    "    axes[0].bar(k1, h1, label='X1', alpha=.5)\n",
    "    axes[1].bar(k2, h2, label='X2', alpha=.5)\n",
    "    # axes[0].hist(h1, bins=r1, label='X1', alpha=.5)\n",
    "    # axes[1].hist(h2, bins=r2, label='X2', alpha=.5)\n",
    "    plt.show()"
   ]
  },
  {
   "cell_type": "markdown",
   "id": "fa242517",
   "metadata": {},
   "source": [
    "## MIFD Cluster Analysis"
   ]
  },
  {
   "cell_type": "code",
   "execution_count": 7,
   "id": "28a19a00",
   "metadata": {},
   "outputs": [
    {
     "name": "stdout",
     "output_type": "stream",
     "text": [
      "\n",
      "========\n",
      "\n",
      "MIFD Analysis of Clusters:  1,0\n",
      "|C1| =  1833 , |C2| =  1143\n"
     ]
    },
    {
     "ename": "NameError",
     "evalue": "name 'scaled_X_train' is not defined",
     "output_type": "error",
     "traceback": [
      "\u001b[0;31m---------------------------------------------------------------------------\u001b[0m",
      "\u001b[0;31mNameError\u001b[0m                                 Traceback (most recent call last)",
      "\u001b[0;32m/var/folders/s4/8ld2kcdn6l143yw8rwv3fx9r0000gn/T/ipykernel_34881/450644607.py\u001b[0m in \u001b[0;36m<module>\u001b[0;34m\u001b[0m\n\u001b[1;32m     29\u001b[0m             \u001b[0mprint\u001b[0m\u001b[0;34m(\u001b[0m\u001b[0;34m\"|C1| = \"\u001b[0m\u001b[0;34m,\u001b[0m \u001b[0mlen\u001b[0m\u001b[0;34m(\u001b[0m\u001b[0mci\u001b[0m\u001b[0;34m)\u001b[0m\u001b[0;34m,\u001b[0m \u001b[0;34m\", |C2| = \"\u001b[0m\u001b[0;34m,\u001b[0m \u001b[0mlen\u001b[0m\u001b[0;34m(\u001b[0m\u001b[0mcj\u001b[0m\u001b[0;34m)\u001b[0m\u001b[0;34m)\u001b[0m\u001b[0;34m\u001b[0m\u001b[0;34m\u001b[0m\u001b[0m\n\u001b[1;32m     30\u001b[0m             \u001b[0;32mfor\u001b[0m \u001b[0mk\u001b[0m\u001b[0;34m,\u001b[0m \u001b[0mv\u001b[0m \u001b[0;32min\u001b[0m \u001b[0msorted_dict\u001b[0m\u001b[0;34m:\u001b[0m\u001b[0;34m\u001b[0m\u001b[0;34m\u001b[0m\u001b[0m\n\u001b[0;32m---> 31\u001b[0;31m                 print(\"MI =\", v, \"; Feature:\", column_names[k], \"- C1 Mean:\", np.round(np.mean(scaled_X_train[ci][:,k]),3),\\\n\u001b[0m\u001b[1;32m     32\u001b[0m                       \", C2 Mean:\", np.round(np.mean(scaled_X_train[cj][:,k]),3))\n\u001b[1;32m     33\u001b[0m                 \u001b[0;31m# print(scaled_X_train[cj][:,k])\u001b[0m\u001b[0;34m\u001b[0m\u001b[0;34m\u001b[0m\u001b[0;34m\u001b[0m\u001b[0m\n",
      "\u001b[0;31mNameError\u001b[0m: name 'scaled_X_train' is not defined"
     ]
    }
   ],
   "source": [
    "cluster_entrpy = 0\n",
    "cntr = 0\n",
    "n_columns = X_train.shape[1]\n",
    "n_clusters = len(torch.unique(cluster_ids))\n",
    "input_dim = X_train.shape[1]\n",
    "mi_scores = {}\n",
    "\n",
    "for i in range(n_clusters):\n",
    "    for j in range(n_clusters):\n",
    "        if i > j:\n",
    "            joint_col_name = str(i) + \",\" + str(j)\n",
    "            mi_scores[joint_col_name] = {}\n",
    "            ci = torch.where(cluster_ids == i)[0]\n",
    "            cj = torch.where(cluster_ids == j)[0]\n",
    "            Xi = X_train[ci]\n",
    "            Xj = X_train[cj]\n",
    "            col_entrpy = 0\n",
    "            for c in range(n_columns):\n",
    "                c_entropy = calc_MI(Xi[:,c], Xj[:,c], 0)\n",
    "                col_entrpy += c_entropy\n",
    "                mi_scores[joint_col_name][c] = np.round(c_entropy, 3)\n",
    "                # print(column_names[c], \":\", c_entropy)\n",
    "            cluster_entrpy += col_entrpy/n_columns\n",
    "            cntr += 1\n",
    "            print(\"\\n========\\n\")\n",
    "            print(\"MIFD Analysis of Clusters: \", joint_col_name)\n",
    "            sorted_dict = sorted(mi_scores[joint_col_name].items(), key=lambda item: -item[1])[:10]\n",
    "            # print({column_names[k]: v for k, v in sorted_dict})\n",
    "            print(\"|C1| = \", len(ci), \", |C2| = \", len(cj))\n",
    "            for k, v in sorted_dict:\n",
    "                print(\"MI =\", v, \"; Feature:\", column_names[k], \"- C1 Mean:\", np.round(np.mean(scaled_X_train[ci][:,k]),3),\\\n",
    "                      \", C2 Mean:\", np.round(np.mean(scaled_X_train[cj][:,k]),3))\n",
    "                # print(scaled_X_train[cj][:,k])\n",
    "                plot_hist(scaled_X_train[ci][:,k], scaled_X_train[cj][:,k])"
   ]
  },
  {
   "cell_type": "markdown",
   "id": "f2c2d4d3",
   "metadata": {},
   "source": [
    "## NHFD"
   ]
  },
  {
   "cell_type": "code",
   "execution_count": 25,
   "id": "0c902e8e",
   "metadata": {},
   "outputs": [
    {
     "name": "stdout",
     "output_type": "stream",
     "text": [
      "\n",
      "========\n",
      "\n",
      "1,0\n",
      "{'HR': 1.0, 'O2Sat': 1.0, 'SBP': 1.0, 'MAP': 1.0, 'DBP': 1.0, 'Resp': 1.0, 'BaseExcess': 1.0, 'HCO3': 1.0, 'pH': 1.0, 'SaO2': 1.0}\n",
      "1.0 HR - C1: 0.2966669029592502 , C2: -0.063066724857498\n"
     ]
    },
    {
     "data": {
      "image/png": "[encoded data removed]",
      "text/plain": [
       "<Figure size 432x288 with 2 Axes>"
      ]
     },
     "metadata": {
      "needs_background": "light"
     },
     "output_type": "display_data"
    },
    {
     "name": "stdout",
     "output_type": "stream",
     "text": [
      "1.0 O2Sat - C1: -0.1959673941830182 , C2: 0.034165264525766764\n"
     ]
    },
    {
     "data": {
      "image/png": "[encoded data removed]",
      "text/plain": [
       "<Figure size 432x288 with 2 Axes>"
      ]
     },
     "metadata": {
      "needs_background": "light"
     },
     "output_type": "display_data"
    },
    {
     "name": "stdout",
     "output_type": "stream",
     "text": [
      "1.0 SBP - C1: -0.1615055546810405 , C2: -0.25539017998970986\n"
     ]
    },
    {
     "data": {
      "image/png": "[encoded data removed]",
      "text/plain": [
       "<Figure size 432x288 with 2 Axes>"
      ]
     },
     "metadata": {
      "needs_background": "light"
     },
     "output_type": "display_data"
    },
    {
     "name": "stdout",
     "output_type": "stream",
     "text": [
      "1.0 MAP - C1: -0.2313349113494999 , C2: -0.34652594739881953\n"
     ]
    },
    {
     "data": {
      "image/png": "[encoded data removed]",
      "text/plain": [
       "<Figure size 432x288 with 2 Axes>"
      ]
     },
     "metadata": {
      "needs_background": "light"
     },
     "output_type": "display_data"
    },
    {
     "name": "stdout",
     "output_type": "stream",
     "text": [
      "1.0 DBP - C1: -0.20086871532981 , C2: -0.289259570452401\n"
     ]
    },
    {
     "data": {
      "image/png": "[encoded data removed]",
      "text/plain": [
       "<Figure size 432x288 with 2 Axes>"
      ]
     },
     "metadata": {
      "needs_background": "light"
     },
     "output_type": "display_data"
    },
    {
     "name": "stdout",
     "output_type": "stream",
     "text": [
      "1.0 Resp - C1: 0.1883735516787014 , C2: 0.028298420509625034\n"
     ]
    },
    {
     "data": {
      "image/png": "[encoded data removed]",
      "text/plain": [
       "<Figure size 432x288 with 2 Axes>"
      ]
     },
     "metadata": {
      "needs_background": "light"
     },
     "output_type": "display_data"
    },
    {
     "name": "stdout",
     "output_type": "stream",
     "text": [
      "1.0 BaseExcess - C1: -0.1367085493796081 , C2: 0.01038891482273872\n"
     ]
    },
    {
     "data": {
      "image/png": "[encoded data removed]",
      "text/plain": [
       "<Figure size 432x288 with 2 Axes>"
      ]
     },
     "metadata": {
      "needs_background": "light"
     },
     "output_type": "display_data"
    },
    {
     "name": "stdout",
     "output_type": "stream",
     "text": [
      "1.0 HCO3 - C1: -0.17242000457781123 , C2: -0.0008964777838599704\n"
     ]
    },
    {
     "data": {
      "image/png": "[encoded data removed]",
      "text/plain": [
       "<Figure size 432x288 with 2 Axes>"
      ]
     },
     "metadata": {
      "needs_background": "light"
     },
     "output_type": "display_data"
    },
    {
     "name": "stdout",
     "output_type": "stream",
     "text": [
      "1.0 pH - C1: -0.19894695932424616 , C2: 0.047385797613944534\n"
     ]
    },
    {
     "data": {
      "image/png": "[encoded data removed]",
      "text/plain": [
       "<Figure size 432x288 with 2 Axes>"
      ]
     },
     "metadata": {
      "needs_background": "light"
     },
     "output_type": "display_data"
    },
    {
     "name": "stdout",
     "output_type": "stream",
     "text": [
      "1.0 SaO2 - C1: -0.3917497058571618 , C2: 0.15849254244357325\n"
     ]
    },
    {
     "data": {
      "image/png": "[encoded data removed]",
      "text/plain": [
       "<Figure size 432x288 with 2 Axes>"
      ]
     },
     "metadata": {
      "needs_background": "light"
     },
     "output_type": "display_data"
    },
    {
     "name": "stdout",
     "output_type": "stream",
     "text": [
      "\n",
      "========\n",
      "\n",
      "2,0\n",
      "{'HR': 1.0, 'SBP': 1.0, 'MAP': 1.0, 'DBP': 1.0, 'BaseExcess': 1.0, 'HCO3': 1.0, 'FiO2': 1.0, 'PaCO2': 1.0, 'AST': 1.0, 'BUN': 1.0}\n",
      "1.0 HR - C1: 0.16207931167384834 , C2: -0.063066724857498\n"
     ]
    },
    {
     "data": {
      "image/png": "[encoded data removed]",
      "text/plain": [
       "<Figure size 432x288 with 2 Axes>"
      ]
     },
     "metadata": {
      "needs_background": "light"
     },
     "output_type": "display_data"
    },
    {
     "name": "stdout",
     "output_type": "stream",
     "text": [
      "1.0 SBP - C1: 0.512553768440758 , C2: -0.25539017998970986\n"
     ]
    },
    {
     "data": {
      "image/png": "[encoded data removed]",
      "text/plain": [
       "<Figure size 432x288 with 2 Axes>"
      ]
     },
     "metadata": {
      "needs_background": "light"
     },
     "output_type": "display_data"
    },
    {
     "name": "stdout",
     "output_type": "stream",
     "text": [
      "1.0 MAP - C1: 0.5054973496221843 , C2: -0.34652594739881953\n"
     ]
    },
    {
     "data": {
      "image/png": "[encoded data removed]",
      "text/plain": [
       "<Figure size 432x288 with 2 Axes>"
      ]
     },
     "metadata": {
      "needs_background": "light"
     },
     "output_type": "display_data"
    },
    {
     "name": "stdout",
     "output_type": "stream",
     "text": [
      "1.0 DBP - C1: 0.3721261324546749 , C2: -0.289259570452401\n"
     ]
    },
    {
     "data": {
      "image/png": "[encoded data removed]",
      "text/plain": [
       "<Figure size 432x288 with 2 Axes>"
      ]
     },
     "metadata": {
      "needs_background": "light"
     },
     "output_type": "display_data"
    },
    {
     "name": "stdout",
     "output_type": "stream",
     "text": [
      "1.0 BaseExcess - C1: 0.10821328697521052 , C2: 0.01038891482273872\n"
     ]
    },
    {
     "data": {
      "image/png": "[encoded data removed]",
      "text/plain": [
       "<Figure size 432x288 with 2 Axes>"
      ]
     },
     "metadata": {
      "needs_background": "light"
     },
     "output_type": "display_data"
    },
    {
     "name": "stdout",
     "output_type": "stream",
     "text": [
      "1.0 HCO3 - C1: 0.11852066003701969 , C2: -0.0008964777838599704\n"
     ]
    },
    {
     "data": {
      "image/png": "[encoded data removed]",
      "text/plain": [
       "<Figure size 432x288 with 2 Axes>"
      ]
     },
     "metadata": {
      "needs_background": "light"
     },
     "output_type": "display_data"
    },
    {
     "name": "stdout",
     "output_type": "stream",
     "text": [
      "1.0 FiO2 - C1: -0.00914854377659866 , C2: 0.00918313606604868\n"
     ]
    },
    {
     "data": {
      "image/png": "[encoded data removed]",
      "text/plain": [
       "<Figure size 432x288 with 2 Axes>"
      ]
     },
     "metadata": {
      "needs_background": "light"
     },
     "output_type": "display_data"
    },
    {
     "name": "stdout",
     "output_type": "stream",
     "text": [
      "1.0 PaCO2 - C1: 0.043759661446156714 , C2: -0.03068592381104379\n"
     ]
    },
    {
     "data": {
      "image/png": "[encoded data removed]",
      "text/plain": [
       "<Figure size 432x288 with 2 Axes>"
      ]
     },
     "metadata": {
      "needs_background": "light"
     },
     "output_type": "display_data"
    },
    {
     "name": "stdout",
     "output_type": "stream",
     "text": [
      "1.0 AST - C1: -0.07843066080116085 , C2: -0.04602960661610211\n"
     ]
    },
    {
     "data": {
      "image/png": "[encoded data removed]",
      "text/plain": [
       "<Figure size 432x288 with 2 Axes>"
      ]
     },
     "metadata": {
      "needs_background": "light"
     },
     "output_type": "display_data"
    },
    {
     "name": "stdout",
     "output_type": "stream",
     "text": [
      "1.0 BUN - C1: -0.39070201210714534 , C2: -0.015679211312228408\n"
     ]
    },
    {
     "data": {
      "image/png": "[encoded data removed]",
      "text/plain": [
       "<Figure size 432x288 with 2 Axes>"
      ]
     },
     "metadata": {
      "needs_background": "light"
     },
     "output_type": "display_data"
    },
    {
     "name": "stdout",
     "output_type": "stream",
     "text": [
      "\n",
      "========\n",
      "\n",
      "2,1\n",
      "{'HR': 1.0, 'O2Sat': 1.0, 'Temp': 1.0, 'SBP': 1.0, 'MAP': 1.0, 'DBP': 1.0, 'Resp': 1.0, 'BaseExcess': 1.0, 'HCO3': 1.0, 'pH': 1.0}\n",
      "1.0 HR - C1: 0.16207931167384834 , C2: 0.2966669029592502\n"
     ]
    },
    {
     "data": {
      "image/png": "[encoded data removed]",
      "text/plain": [
       "<Figure size 432x288 with 2 Axes>"
      ]
     },
     "metadata": {
      "needs_background": "light"
     },
     "output_type": "display_data"
    },
    {
     "name": "stdout",
     "output_type": "stream",
     "text": [
      "1.0 O2Sat - C1: 0.060803079110630806 , C2: -0.1959673941830182\n"
     ]
    },
    {
     "data": {
      "image/png": "[encoded data removed]",
      "text/plain": [
       "<Figure size 432x288 with 2 Axes>"
      ]
     },
     "metadata": {
      "needs_background": "light"
     },
     "output_type": "display_data"
    },
    {
     "name": "stdout",
     "output_type": "stream",
     "text": [
      "1.0 Temp - C1: 0.10355624755120044 , C2: 0.009315985649296601\n"
     ]
    },
    {
     "data": {
      "image/png": "[encoded data removed]",
      "text/plain": [
       "<Figure size 432x288 with 2 Axes>"
      ]
     },
     "metadata": {
      "needs_background": "light"
     },
     "output_type": "display_data"
    },
    {
     "name": "stdout",
     "output_type": "stream",
     "text": [
      "1.0 SBP - C1: 0.512553768440758 , C2: -0.1615055546810405\n"
     ]
    },
    {
     "data": {
      "image/png": "[encoded data removed]",
      "text/plain": [
       "<Figure size 432x288 with 2 Axes>"
      ]
     },
     "metadata": {
      "needs_background": "light"
     },
     "output_type": "display_data"
    },
    {
     "name": "stdout",
     "output_type": "stream",
     "text": [
      "1.0 MAP - C1: 0.5054973496221843 , C2: -0.2313349113494999\n"
     ]
    },
    {
     "data": {
      "image/png": "[encoded data removed]",
      "text/plain": [
       "<Figure size 432x288 with 2 Axes>"
      ]
     },
     "metadata": {
      "needs_background": "light"
     },
     "output_type": "display_data"
    },
    {
     "name": "stdout",
     "output_type": "stream",
     "text": [
      "1.0 DBP - C1: 0.3721261324546749 , C2: -0.20086871532981\n"
     ]
    },
    {
     "data": {
      "image/png": "[encoded data removed]",
      "text/plain": [
       "<Figure size 432x288 with 2 Axes>"
      ]
     },
     "metadata": {
      "needs_background": "light"
     },
     "output_type": "display_data"
    },
    {
     "name": "stdout",
     "output_type": "stream",
     "text": [
      "1.0 Resp - C1: 0.034567889214090895 , C2: 0.1883735516787014\n"
     ]
    },
    {
     "data": {
      "image/png": "[encoded data removed]",
      "text/plain": [
       "<Figure size 432x288 with 2 Axes>"
      ]
     },
     "metadata": {
      "needs_background": "light"
     },
     "output_type": "display_data"
    },
    {
     "name": "stdout",
     "output_type": "stream",
     "text": [
      "1.0 BaseExcess - C1: 0.10821328697521052 , C2: -0.1367085493796081\n"
     ]
    },
    {
     "data": {
      "image/png": "[encoded data removed]",
      "text/plain": [
       "<Figure size 432x288 with 2 Axes>"
      ]
     },
     "metadata": {
      "needs_background": "light"
     },
     "output_type": "display_data"
    },
    {
     "name": "stdout",
     "output_type": "stream",
     "text": [
      "1.0 HCO3 - C1: 0.11852066003701969 , C2: -0.17242000457781123\n"
     ]
    },
    {
     "data": {
      "image/png": "[encoded data removed]",
      "text/plain": [
       "<Figure size 432x288 with 2 Axes>"
      ]
     },
     "metadata": {
      "needs_background": "light"
     },
     "output_type": "display_data"
    },
    {
     "name": "stdout",
     "output_type": "stream",
     "text": [
      "1.0 pH - C1: 0.07330109744761104 , C2: -0.19894695932424616\n"
     ]
    },
    {
     "data": {
      "image/png": "[encoded data removed]",
      "text/plain": [
       "<Figure size 432x288 with 2 Axes>"
      ]
     },
     "metadata": {
      "needs_background": "light"
     },
     "output_type": "display_data"
    },
    {
     "name": "stdout",
     "output_type": "stream",
     "text": [
      "\n",
      "========\n",
      "\n",
      "3,0\n",
      "{'HR': 1.0, 'O2Sat': 1.0, 'Temp': 1.0, 'SBP': 1.0, 'MAP': 1.0, 'DBP': 1.0, 'Resp': 1.0, 'HCO3': 1.0, 'BUN': 1.0, 'Calcium': 1.0}\n",
      "1.0 HR - C1: -0.4758155886787618 , C2: -0.063066724857498\n"
     ]
    },
    {
     "data": {
      "image/png": "[encoded data removed]",
      "text/plain": [
       "<Figure size 432x288 with 2 Axes>"
      ]
     },
     "metadata": {
      "needs_background": "light"
     },
     "output_type": "display_data"
    },
    {
     "name": "stdout",
     "output_type": "stream",
     "text": [
      "1.0 O2Sat - C1: 0.1272204572080519 , C2: 0.034165264525766764\n"
     ]
    },
    {
     "data": {
      "image/png": "[encoded data removed]",
      "text/plain": [
       "<Figure size 432x288 with 2 Axes>"
      ]
     },
     "metadata": {
      "needs_background": "light"
     },
     "output_type": "display_data"
    },
    {
     "name": "stdout",
     "output_type": "stream",
     "text": [
      "1.0 Temp - C1: -0.16987902645175013 , C2: 0.03411292021873622\n"
     ]
    },
    {
     "data": {
      "image/png": "[encoded data removed]",
      "text/plain": [
       "<Figure size 432x288 with 2 Axes>"
      ]
     },
     "metadata": {
      "needs_background": "light"
     },
     "output_type": "display_data"
    },
    {
     "name": "stdout",
     "output_type": "stream",
     "text": [
      "1.0 SBP - C1: -0.1170702337970431 , C2: -0.25539017998970986\n"
     ]
    },
    {
     "data": {
      "image/png": "[encoded data removed]",
      "text/plain": [
       "<Figure size 432x288 with 2 Axes>"
      ]
     },
     "metadata": {
      "needs_background": "light"
     },
     "output_type": "display_data"
    },
    {
     "name": "stdout",
     "output_type": "stream",
     "text": [
      "1.0 MAP - C1: 0.07702699787525084 , C2: -0.34652594739881953\n"
     ]
    },
    {
     "data": {
      "image/png": "[encoded data removed]",
      "text/plain": [
       "<Figure size 432x288 with 2 Axes>"
      ]
     },
     "metadata": {
      "needs_background": "light"
     },
     "output_type": "display_data"
    },
    {
     "name": "stdout",
     "output_type": "stream",
     "text": [
      "1.0 DBP - C1: 0.13167600524567039 , C2: -0.289259570452401\n"
     ]
    },
    {
     "data": {
      "image/png": "[encoded data removed]",
      "text/plain": [
       "<Figure size 432x288 with 2 Axes>"
      ]
     },
     "metadata": {
      "needs_background": "light"
     },
     "output_type": "display_data"
    },
    {
     "name": "stdout",
     "output_type": "stream",
     "text": [
      "1.0 Resp - C1: -0.2988389834682636 , C2: 0.028298420509625034\n"
     ]
    },
    {
     "data": {
      "image/png": "[encoded data removed]",
      "text/plain": [
       "<Figure size 432x288 with 2 Axes>"
      ]
     },
     "metadata": {
      "needs_background": "light"
     },
     "output_type": "display_data"
    },
    {
     "name": "stdout",
     "output_type": "stream",
     "text": [
      "1.0 HCO3 - C1: 0.07078079467334487 , C2: -0.0008964777838599704\n"
     ]
    },
    {
     "data": {
      "image/png": "[encoded data removed]",
      "text/plain": [
       "<Figure size 432x288 with 2 Axes>"
      ]
     },
     "metadata": {
      "needs_background": "light"
     },
     "output_type": "display_data"
    },
    {
     "name": "stdout",
     "output_type": "stream",
     "text": [
      "1.0 BUN - C1: -0.3752494355124232 , C2: -0.015679211312228408\n"
     ]
    },
    {
     "data": {
      "image/png": "[encoded data removed]",
      "text/plain": [
       "<Figure size 432x288 with 2 Axes>"
      ]
     },
     "metadata": {
      "needs_background": "light"
     },
     "output_type": "display_data"
    },
    {
     "name": "stdout",
     "output_type": "stream",
     "text": [
      "1.0 Calcium - C1: 0.14297053566962514 , C2: -0.0564092667350994\n"
     ]
    },
    {
     "data": {
      "image/png": "[encoded data removed]",
      "text/plain": [
       "<Figure size 432x288 with 2 Axes>"
      ]
     },
     "metadata": {
      "needs_background": "light"
     },
     "output_type": "display_data"
    },
    {
     "name": "stdout",
     "output_type": "stream",
     "text": [
      "\n",
      "========\n",
      "\n",
      "3,1\n",
      "{'HR': 1.0, 'O2Sat': 1.0, 'Temp': 1.0, 'MAP': 1.0, 'DBP': 1.0, 'Resp': 1.0, 'BaseExcess': 1.0, 'HCO3': 1.0, 'pH': 1.0, 'PaCO2': 1.0}\n",
      "1.0 HR - C1: -0.4758155886787618 , C2: 0.2966669029592502\n"
     ]
    },
    {
     "data": {
      "image/png": "[encoded data removed]",
      "text/plain": [
       "<Figure size 432x288 with 2 Axes>"
      ]
     },
     "metadata": {
      "needs_background": "light"
     },
     "output_type": "display_data"
    },
    {
     "name": "stdout",
     "output_type": "stream",
     "text": [
      "1.0 O2Sat - C1: 0.1272204572080519 , C2: -0.1959673941830182\n"
     ]
    },
    {
     "data": {
      "image/png": "[encoded data removed]",
      "text/plain": [
       "<Figure size 432x288 with 2 Axes>"
      ]
     },
     "metadata": {
      "needs_background": "light"
     },
     "output_type": "display_data"
    },
    {
     "name": "stdout",
     "output_type": "stream",
     "text": [
      "1.0 Temp - C1: -0.16987902645175013 , C2: 0.009315985649296601\n"
     ]
    },
    {
     "data": {
      "image/png": "[encoded data removed]",
      "text/plain": [
       "<Figure size 432x288 with 2 Axes>"
      ]
     },
     "metadata": {
      "needs_background": "light"
     },
     "output_type": "display_data"
    },
    {
     "name": "stdout",
     "output_type": "stream",
     "text": [
      "1.0 MAP - C1: 0.07702699787525084 , C2: -0.2313349113494999\n"
     ]
    },
    {
     "data": {
      "image/png": "[encoded data removed]",
      "text/plain": [
       "<Figure size 432x288 with 2 Axes>"
      ]
     },
     "metadata": {
      "needs_background": "light"
     },
     "output_type": "display_data"
    },
    {
     "name": "stdout",
     "output_type": "stream",
     "text": [
      "1.0 DBP - C1: 0.13167600524567039 , C2: -0.20086871532981\n"
     ]
    },
    {
     "data": {
      "image/png": "[encoded data removed]",
      "text/plain": [
       "<Figure size 432x288 with 2 Axes>"
      ]
     },
     "metadata": {
      "needs_background": "light"
     },
     "output_type": "display_data"
    },
    {
     "name": "stdout",
     "output_type": "stream",
     "text": [
      "1.0 Resp - C1: -0.2988389834682636 , C2: 0.1883735516787014\n"
     ]
    },
    {
     "data": {
      "image/png": "[encoded data removed]",
      "text/plain": [
       "<Figure size 432x288 with 2 Axes>"
      ]
     },
     "metadata": {
      "needs_background": "light"
     },
     "output_type": "display_data"
    },
    {
     "name": "stdout",
     "output_type": "stream",
     "text": [
      "1.0 BaseExcess - C1: 0.027149820453806976 , C2: -0.1367085493796081\n"
     ]
    },
    {
     "data": {
      "image/png": "[encoded data removed]",
      "text/plain": [
       "<Figure size 432x288 with 2 Axes>"
      ]
     },
     "metadata": {
      "needs_background": "light"
     },
     "output_type": "display_data"
    },
    {
     "name": "stdout",
     "output_type": "stream",
     "text": [
      "1.0 HCO3 - C1: 0.07078079467334487 , C2: -0.17242000457781123\n"
     ]
    },
    {
     "data": {
      "image/png": "[encoded data removed]",
      "text/plain": [
       "<Figure size 432x288 with 2 Axes>"
      ]
     },
     "metadata": {
      "needs_background": "light"
     },
     "output_type": "display_data"
    },
    {
     "name": "stdout",
     "output_type": "stream",
     "text": [
      "1.0 pH - C1: 0.10150149898099031 , C2: -0.19894695932424616\n"
     ]
    },
    {
     "data": {
      "image/png": "[encoded data removed]",
      "text/plain": [
       "<Figure size 432x288 with 2 Axes>"
      ]
     },
     "metadata": {
      "needs_background": "light"
     },
     "output_type": "display_data"
    },
    {
     "name": "stdout",
     "output_type": "stream",
     "text": [
      "1.0 PaCO2 - C1: -0.07424503891421107 , C2: 0.04775554892314276\n"
     ]
    },
    {
     "data": {
      "image/png": "[encoded data removed]",
      "text/plain": [
       "<Figure size 432x288 with 2 Axes>"
      ]
     },
     "metadata": {
      "needs_background": "light"
     },
     "output_type": "display_data"
    },
    {
     "name": "stdout",
     "output_type": "stream",
     "text": [
      "\n",
      "========\n",
      "\n",
      "3,2\n",
      "{'HR': 1.0, 'O2Sat': 1.0, 'Temp': 1.0, 'SBP': 1.0, 'MAP': 1.0, 'DBP': 1.0, 'Resp': 1.0, 'BaseExcess': 1.0, 'PaCO2': 1.0, 'AST': 1.0}\n",
      "1.0 HR - C1: -0.4758155886787618 , C2: 0.16207931167384834\n"
     ]
    },
    {
     "data": {
      "image/png": "[encoded data removed]",
      "text/plain": [
       "<Figure size 432x288 with 2 Axes>"
      ]
     },
     "metadata": {
      "needs_background": "light"
     },
     "output_type": "display_data"
    },
    {
     "name": "stdout",
     "output_type": "stream",
     "text": [
      "1.0 O2Sat - C1: 0.1272204572080519 , C2: 0.060803079110630806\n"
     ]
    },
    {
     "data": {
      "image/png": "[encoded data removed]",
      "text/plain": [
       "<Figure size 432x288 with 2 Axes>"
      ]
     },
     "metadata": {
      "needs_background": "light"
     },
     "output_type": "display_data"
    },
    {
     "name": "stdout",
     "output_type": "stream",
     "text": [
      "1.0 Temp - C1: -0.16987902645175013 , C2: 0.10355624755120044\n"
     ]
    },
    {
     "data": {
      "image/png": "[encoded data removed]",
      "text/plain": [
       "<Figure size 432x288 with 2 Axes>"
      ]
     },
     "metadata": {
      "needs_background": "light"
     },
     "output_type": "display_data"
    },
    {
     "name": "stdout",
     "output_type": "stream",
     "text": [
      "1.0 SBP - C1: -0.1170702337970431 , C2: 0.512553768440758\n"
     ]
    },
    {
     "data": {
      "image/png": "[encoded data removed]",
      "text/plain": [
       "<Figure size 432x288 with 2 Axes>"
      ]
     },
     "metadata": {
      "needs_background": "light"
     },
     "output_type": "display_data"
    },
    {
     "name": "stdout",
     "output_type": "stream",
     "text": [
      "1.0 MAP - C1: 0.07702699787525084 , C2: 0.5054973496221843\n"
     ]
    },
    {
     "data": {
      "image/png": "[encoded data removed]",
      "text/plain": [
       "<Figure size 432x288 with 2 Axes>"
      ]
     },
     "metadata": {
      "needs_background": "light"
     },
     "output_type": "display_data"
    },
    {
     "name": "stdout",
     "output_type": "stream",
     "text": [
      "1.0 DBP - C1: 0.13167600524567039 , C2: 0.3721261324546749\n"
     ]
    },
    {
     "data": {
      "image/png": "[encoded data removed]",
      "text/plain": [
       "<Figure size 432x288 with 2 Axes>"
      ]
     },
     "metadata": {
      "needs_background": "light"
     },
     "output_type": "display_data"
    },
    {
     "name": "stdout",
     "output_type": "stream",
     "text": [
      "1.0 Resp - C1: -0.2988389834682636 , C2: 0.034567889214090895\n"
     ]
    },
    {
     "data": {
      "image/png": "[encoded data removed]",
      "text/plain": [
       "<Figure size 432x288 with 2 Axes>"
      ]
     },
     "metadata": {
      "needs_background": "light"
     },
     "output_type": "display_data"
    },
    {
     "name": "stdout",
     "output_type": "stream",
     "text": [
      "1.0 BaseExcess - C1: 0.027149820453806976 , C2: 0.10821328697521052\n"
     ]
    },
    {
     "data": {
      "image/png": "[encoded data removed]",
      "text/plain": [
       "<Figure size 432x288 with 2 Axes>"
      ]
     },
     "metadata": {
      "needs_background": "light"
     },
     "output_type": "display_data"
    },
    {
     "name": "stdout",
     "output_type": "stream",
     "text": [
      "1.0 PaCO2 - C1: -0.07424503891421107 , C2: 0.043759661446156714\n"
     ]
    },
    {
     "data": {
      "image/png": "[encoded data removed]",
      "text/plain": [
       "<Figure size 432x288 with 2 Axes>"
      ]
     },
     "metadata": {
      "needs_background": "light"
     },
     "output_type": "display_data"
    },
    {
     "name": "stdout",
     "output_type": "stream",
     "text": [
      "1.0 AST - C1: -0.055503333611913536 , C2: -0.07843066080116085\n"
     ]
    },
    {
     "data": {
      "image/png": "[encoded data removed]",
      "text/plain": [
       "<Figure size 432x288 with 2 Axes>"
      ]
     },
     "metadata": {
      "needs_background": "light"
     },
     "output_type": "display_data"
    }
   ],
   "source": [
    "cluster_entrpy = 0\n",
    "cntr = 0\n",
    "n_columns = X_train.shape[1]\n",
    "n_clusters = len(torch.unique(cluster_ids))\n",
    "input_dim = X_train.shape[1]\n",
    "mi_scores = {}\n",
    "scaled_X_train = X_train\n",
    "for i in range(n_clusters):\n",
    "    for j in range(n_clusters):\n",
    "        if i > j:\n",
    "            joint_col_name = str(i) + \",\" + str(j)\n",
    "            mi_scores[joint_col_name] = {}\n",
    "            ci = torch.where(cluster_ids == i)[0]\n",
    "            cj = torch.where(cluster_ids == j)[0]\n",
    "            Xi = X_train[ci]\n",
    "            Xj = X_train[cj]\n",
    "            col_entrpy = 0\n",
    "            p_vals = np.nan_to_num(ttest_ind(Xi, Xj, axis=0, equal_var=True))[1]\n",
    "            for c in range(n_columns):\n",
    "                mi_scores[joint_col_name][c] = np.round(np.exp(-p_vals[c]/0.05), 3)\n",
    "                # print(column_names[c], \":\", c_entropy)\n",
    "            cntr += 1\n",
    "            print(\"\\n========\\n\")\n",
    "            print(joint_col_name)\n",
    "            sorted_dict = sorted(mi_scores[joint_col_name].items(), key=lambda item: -item[1])[:10]\n",
    "            print({column_names[k]: v for k, v in sorted_dict})\n",
    "            for k, v in sorted_dict:\n",
    "                print(v, column_names[k], \"- C1:\", np.mean(scaled_X_train[ci][:,k]), \", C2:\", np.mean(scaled_X_train[cj][:,k]))\n",
    "                plot_hist(scaled_X_train[ci][:,k], scaled_X_train[cj][:,k])"
   ]
  },
  {
   "cell_type": "markdown",
   "id": "a70d6860",
   "metadata": {},
   "source": [
    "## WDFD"
   ]
  },
  {
   "cell_type": "code",
   "execution_count": 18,
   "id": "74e921eb",
   "metadata": {
    "scrolled": true
   },
   "outputs": [
    {
     "name": "stdout",
     "output_type": "stream",
     "text": [
      "\n",
      "========\n",
      "\n",
      "WDFD Analysis of Clusters:  1,0\n",
      "|C1| = 1890, |C0| = 2458\n",
      "|C1| = 0.032, |C0| = 0.115\n",
      "MI = 0.86 ; Feature: CSRU - C1 Mean: 0.502 , C2 Mean: 0.147\n",
      "MI = 0.789 ; Feature: MechVentLast8Hour - C1 Mean: 0.278 , C2 Mean: 0.661\n",
      "MI = 0.672 ; Feature: MechVentDuration - C1 Mean: 1423.359 , C2 Mean: 2008.074\n",
      "MI = 0.62 ; Feature: UrineOutputSum - C1 Mean: 9.254 , C2 Mean: 12.899\n",
      "MI = 0.483 ; Feature: GCS_last - C1 Mean: 14.487 , C2 Mean: 12.74\n",
      "MI = 0.454 ; Feature: PaO2_first - C1 Mean: 257.822 , C2 Mean: 201.619\n",
      "MI = 0.449 ; Feature: GCS_median - C1 Mean: 13.827 , C2 Mean: 12.221\n",
      "MI = 0.41 ; Feature: GCS_highest - C1 Mean: 14.758 , C2 Mean: 13.692\n",
      "MI = 0.409 ; Feature: GCS_first - C1 Mean: 8.806 , C2 Mean: 10.807\n",
      "MI = 0.396 ; Feature: NIMAP_highest - C1 Mean: 89.858 , C2 Mean: 97.255\n",
      "\n",
      "========\n",
      "\n",
      "WDFD Analysis of Clusters:  2,0\n",
      "|C2| = 2402, |C0| = 2458\n",
      "|C2| = 0.254, |C0| = 0.115\n",
      "MI = 0.667 ; Feature: GCS_last - C1 Mean: 10.328 , C2 Mean: 12.74\n",
      "MI = 0.55 ; Feature: BUN_last - C1 Mean: 34.09 , C2 Mean: 22.73\n",
      "MI = 0.537 ; Feature: Creatinine_last - C1 Mean: 1.918 , C2 Mean: 1.158\n",
      "MI = 0.53 ; Feature: GCS_median - C1 Mean: 10.325 , C2 Mean: 12.221\n",
      "MI = 0.501 ; Feature: GCS_highest - C1 Mean: 12.393 , C2 Mean: 13.692\n",
      "MI = 0.497 ; Feature: Creatinine_first - C1 Mean: 1.927 , C2 Mean: 1.187\n",
      "MI = 0.476 ; Feature: SOFA - C1 Mean: 7.574 , C2 Mean: 5.574\n",
      "MI = 0.46 ; Feature: DiasABP_first - C1 Mean: 67.179 , C2 Mean: 60.865\n",
      "MI = 0.46 ; Feature: BUN_first - C1 Mean: 34.118 , C2 Mean: 24.077\n",
      "MI = 0.44 ; Feature: Glucose_highest - C1 Mean: 205.217 , C2 Mean: 166.489\n",
      "\n",
      "========\n",
      "\n",
      "WDFD Analysis of Clusters:  2,1\n",
      "|C2| = 2402, |C1| = 1890\n",
      "|C2| = 0.254, |C1| = 0.032\n",
      "MI = 1.18 ; Feature: MechVentLast8Hour - C1 Mean: 0.85 , C2 Mean: 0.278\n",
      "MI = 1.15 ; Feature: GCS_last - C1 Mean: 10.328 , C2 Mean: 14.487\n",
      "MI = 1.047 ; Feature: CSRU - C1 Mean: 0.069 , C2 Mean: 0.502\n",
      "MI = 0.979 ; Feature: GCS_median - C1 Mean: 10.325 , C2 Mean: 13.827\n",
      "MI = 0.911 ; Feature: GCS_highest - C1 Mean: 12.393 , C2 Mean: 14.758\n",
      "MI = 0.892 ; Feature: MechVentDuration - C1 Mean: 2198.186 , C2 Mean: 1423.359\n",
      "MI = 0.83 ; Feature: UrineOutputSum - C1 Mean: 14.126 , C2 Mean: 9.254\n",
      "MI = 0.787 ; Feature: BUN_last - C1 Mean: 34.09 , C2 Mean: 17.827\n",
      "MI = 0.755 ; Feature: PaO2_first - C1 Mean: 164.375 , C2 Mean: 257.822\n",
      "MI = 0.747 ; Feature: BUN_first - C1 Mean: 34.118 , C2 Mean: 17.799\n"
     ]
    }
   ],
   "source": [
    "cluster_entrpy = 0\n",
    "cntr = 0\n",
    "n_columns = X_train.shape[1]\n",
    "n_clusters = len(torch.unique(cluster_ids))\n",
    "input_dim = X_train.shape[1]\n",
    "mi_scores = {}\n",
    "scaled_X_train = scale.inverse_transform(X_train)\n",
    "\n",
    "for i in range(n_clusters):\n",
    "    for j in range(n_clusters):\n",
    "        if i > j:\n",
    "            joint_col_name = str(i) + \",\" + str(j)\n",
    "            mi_scores[joint_col_name] = {}\n",
    "            ci = torch.where(cluster_ids == i)[0]\n",
    "            cj = torch.where(cluster_ids == j)[0]\n",
    "            Xi = X_train[ci]\n",
    "            Xj = X_train[cj]\n",
    "            col_entrpy = 0\n",
    "            for c in range(n_columns):\n",
    "                c_entropy = wd(Xi[:,c], Xj[:,c])\n",
    "                col_entrpy += c_entropy\n",
    "                mi_scores[joint_col_name][c] = np.round(c_entropy, 3)\n",
    "                # print(column_names[c], \":\", c_entropy)\n",
    "            cluster_entrpy += col_entrpy/n_columns\n",
    "            cntr += 1\n",
    "            print(\"\\n========\\n\")\n",
    "            print(\"WDFD Analysis of Clusters: \", joint_col_name)\n",
    "            sorted_dict = sorted(mi_scores[joint_col_name].items(), key=lambda item: -item[1])[:10]\n",
    "            # print({column_names[k]: v for k, v in sorted_dict})\n",
    "            print(\"|C{}| = {}, |C{}| = {}\".format(i, len(ci), j, len(cj)))\n",
    "            print(\"|C{}| = {:.3f}, |C{}| = {:.3f}\".format(i, sum(y_train[ci])/len(ci), j, sum(y_train[cj])/len(cj)))\n",
    "            for k, v in sorted_dict:\n",
    "                print(\"MI =\", v, \"; Feature:\", column_names[k], \"- C1 Mean:\", np.round(np.mean(scaled_X_train[ci][:,k]),3),\\\n",
    "                      \", C2 Mean:\", np.round(np.mean(scaled_X_train[cj][:,k]),3))\n",
    "                # print(scaled_X_train[cj][:,k])\n",
    "                # plot_hist(scaled_X_train[ci][:,k], scaled_X_train[cj][:,k])"
   ]
  },
  {
   "cell_type": "code",
   "execution_count": 52,
   "id": "b7ce6a3e",
   "metadata": {},
   "outputs": [],
   "source": [
    "def NHFD_Single_Cluster_Analysis(X_train, cluster_ids, column_names):\n",
    "    print(\"\\nCluster Wise discriminative features (NHFD)\")\n",
    "    cluster_entrpy = 0\n",
    "    cntr = 0\n",
    "    n_columns = X_train.shape[1]\n",
    "    n_clusters = len(torch.unique(cluster_ids))\n",
    "    input_dim = X_train.shape[1]\n",
    "    mi_scores = {}\n",
    "    for i in range(n_clusters):\n",
    "        mi_scores[i] = {}\n",
    "        ci = torch.where(cluster_ids == i)[0]\n",
    "        for c in range(n_columns):\n",
    "            Xi_c = X_train[ci][:,c]\n",
    "            Zc = []\n",
    "            # Collect values from other clusters\n",
    "            for j in range(n_clusters):\n",
    "                if i != j:\n",
    "                    cj = torch.where(cluster_ids == j)[0]                    \n",
    "                    Xj_c = X_train[cj][:,c]\n",
    "                    Zc = np.concatenate([Zc, Xj_c])\n",
    "\n",
    "            col_entrpy = 0\n",
    "            p_vals = np.nan_to_num(ttest_ind(Xi_c, Zc, axis=0, equal_var=True))[1]\n",
    "#             p_vals = np.nan_to_num(wd(Xi_c, Zc))\n",
    "#             p_vals = np.nan_to_num(calc_MI(Xi_c, Zc,0))\n",
    "#             mi_scores[i][c] = np.round(np.exp(-p_vals/0.05), 3)\n",
    "            mi_scores[i][c] = -np.log(p_vals + np.finfo(float).eps)*0.05\n",
    "#             mi_scores[i][c] = p_vals\n",
    "\n",
    "        print(\"\\n========\\n\")\n",
    "        print(\"|C{}| = {}\".format(i, len(ci)))\n",
    "        print(\"|C{}| = {:.3f}\".format(i, sum(y_train[ci])/len(ci)))\n",
    "\n",
    "        sorted_dict = sorted(mi_scores[i].items(), key=lambda item: -item[1])\n",
    "        for feature, pval in sorted_dict:\n",
    "            f = column_names[feature]\n",
    "            print(f, \"\\t\", pval, end='\\t')\n",
    "            for cluster_id in range(n_clusters):\n",
    "                    c_cluster_id = torch.where(cluster_ids == cluster_id)[0]\n",
    "                    X_cluster_f = X_train[c_cluster_id][:,feature]\n",
    "                    print(\"({:.3f}, {:.3f})\".format(np.round(np.mean(X_cluster_f),3), np.round(np.std(X_cluster_f),3)), end='\\t')\n",
    "            print('')\n"
   ]
  },
  {
   "cell_type": "code",
   "execution_count": 53,
   "id": "b912febf",
   "metadata": {
    "scrolled": true
   },
   "outputs": [
    {
     "name": "stdout",
     "output_type": "stream",
     "text": [
      "\n",
      "Cluster Wise discriminative features (NHFD)\n",
      "\n",
      "========\n",
      "\n",
      "|C0| = 2374\n",
      "|C0| = 0.112\n",
      "SOFA \t 1.8021826694558578\t(5.489, 3.802)\t(5.860, 3.890)\t(7.767, 4.471)\t\n",
      "CSRU \t 1.8021826694558578\t(0.137, 0.343)\t(0.507, 0.500)\t(0.059, 0.235)\t\n",
      "GCS_lowest \t 1.8021826694554983\t(9.082, 4.746)\t(8.056, 5.020)\t(7.506, 4.539)\t\n",
      "GCS_first \t 1.8021826694144498\t(10.871, 4.549)\t(8.770, 5.219)\t(10.250, 4.722)\t\n",
      "Creatinine_last \t 1.8021826689009495\t(1.132, 0.869)\t(0.923, 0.423)\t(1.979, 2.046)\t\n",
      "BUN_last \t 1.802171702741115\t(22.278, 15.345)\t(17.238, 9.475)\t(35.342, 27.136)\t\n",
      "SAPS-I \t 1.8019308691607554\t(13.318, 5.549)\t(13.281, 6.281)\t(15.858, 6.089)\t\n",
      "Creatinine_first \t 1.782105082381228\t(1.164, 0.846)\t(0.864, 0.396)\t(1.992, 2.189)\t\n",
      "SICU \t 1.6910306357502796\t(0.325, 0.466)\t(0.189, 0.395)\t(0.274, 0.446)\t\n",
      "K_first \t 1.6130027206298498\t(4.087, 0.644)\t(4.180, 0.604)\t(4.269, 0.850)\t\n",
      "FiO2_first \t 1.6010254898894496\t(0.754, 0.248)\t(0.828, 0.232)\t(0.784, 0.268)\t\n",
      "MechVentDuration \t 1.5471099501657675\t(2020.914, 746.774)\t(1440.874, 874.470)\t(2197.851, 823.878)\t\n",
      "Bilirubin_last \t 1.4627088258929573\t(1.379, 1.637)\t(1.561, 0.928)\t(2.806, 7.434)\t\n",
      "Lactate_last \t 1.432547403273788\t(1.754, 0.894)\t(1.804, 0.751)\t(2.250, 2.384)\t\n",
      "UrineOutputSum \t 1.2874507424146062\t(12.983, 5.157)\t(9.366, 5.331)\t(14.117, 6.101)\t\n",
      "K_last \t 1.2016658118413792\t(4.010, 0.494)\t(4.085, 0.486)\t(4.108, 0.563)\t\n",
      "Bilirubin_first \t 1.1815180904536138\t(1.408, 1.591)\t(1.553, 0.887)\t(2.642, 7.169)\t\n",
      "NISysABP_last \t 1.1043359721080264\t(121.516, 22.978)\t(117.692, 17.963)\t(118.139, 24.436)\t\n",
      "GCS_last \t 1.0817073886794362\t(12.744, 3.116)\t(14.489, 1.295)\t(10.226, 4.187)\t\n",
      "ALP_first \t 1.0022216037671916\t(94.853, 41.902)\t(97.436, 27.676)\t(123.906, 179.328)\t\n",
      "Weight_last \t 0.9810524919229491\t(82.679, 21.042)\t(81.445, 16.755)\t(90.394, 30.374)\t\n",
      "BUN_first \t 0.9712002455544072\t(23.766, 17.109)\t(17.085, 9.770)\t(35.384, 28.643)\t\n",
      "NIMAP_last \t 0.9462244289409387\t(78.279, 15.552)\t(76.583, 12.308)\t(75.600, 16.487)\t\n",
      "ALP_last \t 0.940748550983673\t(93.522, 40.418)\t(96.175, 27.389)\t(121.850, 182.272)\t\n",
      "Weight_first \t 0.9168552822438207\t(82.102, 21.375)\t(80.646, 17.132)\t(89.866, 30.807)\t\n",
      "ALT_last \t 0.8622539762785486\t(114.093, 238.980)\t(134.461, 105.042)\t(269.952, 1089.249)\t\n",
      "AST_last \t 0.8592137528775187\t(139.425, 208.310)\t(168.015, 114.110)\t(350.870, 1508.780)\t\n",
      "Lactate_first \t 0.8507514865919655\t(2.392, 1.683)\t(2.381, 1.225)\t(2.942, 2.887)\t\n",
      "TroponinT_first \t 0.8330758059354667\t(0.806, 1.200)\t(0.949, 0.702)\t(1.441, 4.794)\t\n",
      "pH_first \t 0.8041109250629962\t(7.376, 0.082)\t(7.389, 0.070)\t(7.342, 0.114)\t\n",
      "AST_first \t 0.7764712688568878\t(146.013, 261.502)\t(169.724, 121.489)\t(355.456, 1546.729)\t\n",
      "NIMAP_median \t 0.7696141549048199\t(76.966, 12.414)\t(73.775, 9.251)\t(76.615, 14.417)\t\n",
      "NISysABP_median \t 0.7684848681581427\t(119.266, 19.126)\t(113.941, 14.353)\t(119.103, 21.758)\t\n",
      "Albumin_last \t 0.7409551730471184\t(3.007, 0.630)\t(3.056, 0.438)\t(2.812, 0.773)\t\n",
      "NIDiasABP_highest \t 0.7321752719384492\t(80.915, 19.418)\t(74.348, 15.867)\t(81.850, 20.974)\t\n",
      "Weight \t 0.7286796475463921\t(79.536, 20.775)\t(76.877, 16.483)\t(87.256, 28.744)\t\n",
      "pH_last \t 0.7271092870890061\t(7.404, 0.053)\t(7.409, 0.044)\t(7.385, 0.076)\t\n",
      "SaO2_lowest \t 0.7229335089295\t(95.284, 2.513)\t(95.629, 2.159)\t(93.702, 8.592)\t\n",
      "NIDiasABP_median \t 0.7096829538981096\t(57.778, 12.123)\t(55.247, 9.632)\t(57.087, 13.685)\t\n",
      "NIDiasABP_last \t 0.7046846381643203\t(58.757, 15.242)\t(57.783, 12.887)\t(56.113, 16.082)\t\n",
      "ALT_first \t 0.6845800764430727\t(105.587, 217.616)\t(120.951, 100.556)\t(235.024, 1020.100)\t\n",
      "Albumin_first \t 0.6669666006621445\t(3.041, 0.641)\t(3.089, 0.436)\t(2.854, 0.785)\t\n",
      "SaO2_median \t 0.6654919386246145\t(97.032, 1.358)\t(97.339, 1.276)\t(96.021, 5.283)\t\n",
      "NIMAP_highest \t 0.6459074892005411\t(98.234, 18.999)\t(91.189, 14.469)\t(99.960, 20.987)\t\n",
      "TroponinT_last \t 0.6111059965645317\t(0.822, 1.274)\t(0.865, 0.558)\t(1.297, 3.771)\t\n",
      "SaO2_last \t 0.5999381061029915\t(96.759, 1.438)\t(96.880, 1.586)\t(95.909, 5.548)\t\n",
      "SaO2_first \t 0.5967969779377984\t(96.956, 1.429)\t(97.376, 1.364)\t(95.680, 7.020)\t\n",
      "Age \t 0.589438268096869\t(65.546, 17.810)\t(64.351, 16.901)\t(62.867, 17.744)\t\n",
      "Glucose_lowest \t 0.5871465195213261\t(110.792, 30.593)\t(107.445, 24.745)\t(107.348, 32.827)\t\n",
      "MechVentLast8Hour \t 0.5363585635702169\t(0.655, 0.440)\t(0.284, 0.470)\t(0.869, 0.363)\t\n",
      "PaCO2_first \t 0.5242185675288367\t(40.785, 8.704)\t(40.206, 6.744)\t(43.362, 14.279)\t\n",
      "TroponinI_first \t 0.5175238019940079\t(6.461, 4.666)\t(6.984, 2.398)\t(8.076, 16.953)\t\n",
      "NISysABP_highest \t 0.5088663967000499\t(145.988, 25.958)\t(136.610, 20.715)\t(148.746, 29.554)\t\n",
      "WBC_first \t 0.5080293427559343\t(12.382, 4.573)\t(11.973, 4.075)\t(14.234, 11.684)\t\n",
      "CCU \t 0.5077614954635487\t(0.168, 0.374)\t(0.065, 0.248)\t(0.186, 0.389)\t\n",
      "Na_last \t 0.5018453431847351\t(139.136, 4.151)\t(137.963, 3.525)\t(139.293, 4.926)\t\n",
      "TroponinI_last \t 0.500758895887364\t(5.821, 4.312)\t(6.116, 1.883)\t(7.403, 15.385)\t\n",
      "GCS_highest \t 0.48641836104713043\t(13.700, 2.236)\t(14.740, 0.892)\t(12.342, 3.284)\t\n",
      "Temp_first \t 0.48358848993340786\t(36.640, 1.022)\t(36.344, 0.860)\t(36.692, 1.174)\t\n",
      "Mg_first \t 0.442056192095035\t(1.908, 0.359)\t(1.967, 0.365)\t(1.945, 0.640)\t\n",
      "MAP_first \t 0.44165465636845636\t(83.045, 21.489)\t(79.595, 14.609)\t(90.792, 37.629)\t\n",
      "Platelets_last \t 0.4014038069014057\t(198.658, 99.089)\t(173.444, 73.207)\t(202.435, 123.918)\t\n",
      "Platelets_first \t 0.40099024142791145\t(222.671, 106.809)\t(188.689, 81.283)\t(232.012, 136.987)\t\n",
      "WBC_last \t 0.40013801083513567\t(11.913, 3.976)\t(11.498, 3.353)\t(13.367, 9.803)\t\n",
      "SaO2_highest \t 0.39791244558695127\t(97.828, 1.335)\t(98.195, 1.171)\t(96.999, 4.896)\t\n",
      "HR_first \t 0.38910631791763706\t(88.461, 20.357)\t(85.166, 14.450)\t(94.522, 22.408)\t\n",
      "FiO2_last \t 0.3808923959632824\t(0.491, 0.144)\t(0.489, 0.128)\t(0.518, 0.190)\t\n",
      "NISysABP_lowest \t 0.3712383724603253\t(95.425, 19.968)\t(93.434, 14.632)\t(93.930, 22.761)\t\n",
      "HCO3_first \t 0.3669728106091091\t(23.411, 4.255)\t(23.304, 3.119)\t(22.762, 5.844)\t\n",
      "GCS_median \t 0.3666674457843224\t(12.197, 3.249)\t(13.807, 2.058)\t(10.279, 4.061)\t\n",
      "HCO3_last \t 0.36501057525514635\t(24.507, 3.897)\t(24.777, 2.993)\t(23.602, 5.314)\t\n",
      "PaO2_last \t 0.3555054421367595\t(120.201, 50.155)\t(118.337, 45.506)\t(113.878, 53.959)\t\n",
      "NISysABP_first \t 0.32808232988340635\t(122.622, 25.238)\t(113.410, 19.990)\t(126.441, 29.549)\t\n",
      "SysABP_last \t 0.2992409826644124\t(123.644, 22.649)\t(119.162, 19.961)\t(124.047, 27.022)\t\n",
      "Gender \t 0.2989572740017027\t(0.537, 0.498)\t(0.550, 0.497)\t(0.597, 0.491)\t\n",
      "Na_first \t 0.292459381298463\t(139.021, 4.579)\t(138.888, 3.464)\t(138.477, 5.611)\t\n",
      "NIMAP_first \t 0.2896489936504199\t(80.201, 17.002)\t(73.965, 13.251)\t(82.952, 20.616)\t\n",
      "NIMAP_lowest \t 0.28628688440728717\t(60.326, 13.190)\t(59.346, 9.419)\t(59.351, 15.273)\t\n",
      "NIDiasABP_first \t 0.28065944755150696\t(61.151, 16.635)\t(55.958, 13.243)\t(63.164, 19.636)\t\n",
      "HCT_last \t 0.2752140910786842\t(31.084, 4.613)\t(30.162, 4.585)\t(31.227, 4.716)\t\n",
      "Temp_highest \t 0.26670402176605484\t(37.894, 0.741)\t(37.818, 0.589)\t(38.057, 0.846)\t\n",
      "HR_median \t 0.25353541136413327\t(85.706, 15.184)\t(83.590, 11.709)\t(89.397, 16.658)\t\n",
      "Temp_lowest \t 0.24655329517400382\t(35.924, 0.773)\t(35.850, 0.642)\t(35.883, 0.976)\t\n",
      "PaCO2_last \t 0.24485858268194935\t(39.702, 6.823)\t(39.480, 5.525)\t(40.940, 11.274)\t\n",
      "DiasABP_lowest \t 0.2169426907005757\t(44.907, 9.637)\t(42.676, 7.083)\t(45.605, 12.156)\t\n",
      "DiasABP_last \t 0.20563827932027354\t(61.757, 12.906)\t(58.522, 11.599)\t(62.916, 15.807)\t\n",
      "NIDiasABP_lowest \t 0.20355837866261847\t(41.319, 12.906)\t(40.782, 9.901)\t(40.339, 14.662)\t\n",
      "MAP_highest \t 0.20232023146732978\t(116.991, 32.467)\t(111.389, 25.701)\t(125.764, 46.016)\t\n",
      "Length_of_stay \t 0.20224181793826138\t(12.961, 9.691)\t(9.987, 6.611)\t(16.813, 16.526)\t\n",
      "HCT_first \t 0.19358239267810384\t(32.160, 5.791)\t(30.670, 5.733)\t(32.755, 6.312)\t\n",
      "MechVentStartTime \t 0.1855225533201939\t(267.176, 374.734)\t(182.408, 163.581)\t(389.146, 694.255)\t\n",
      "DiasABP_highest \t 0.17406451536095088\t(82.967, 15.642)\t(80.078, 13.476)\t(87.151, 21.094)\t\n",
      "MAP_last \t 0.1652934446954213\t(83.028, 17.803)\t(78.975, 14.243)\t(84.530, 23.631)\t\n",
      "Glucose_highest \t 0.16021383769947284\t(170.616, 77.116)\t(147.252, 49.888)\t(198.609, 112.670)\t\n",
      "HR_lowest \t 0.1576742476281512\t(68.151, 14.199)\t(66.815, 11.297)\t(70.607, 15.751)\t\n",
      "DiasABP_first \t 0.14577515688688758\t(61.922, 12.605)\t(59.335, 10.169)\t(65.359, 17.346)\t\n",
      "MAP_median \t 0.14182225822350192\t(80.471, 11.317)\t(76.330, 8.116)\t(82.708, 18.586)\t\n",
      "Temp_median \t 0.10928413965878458\t(37.038, 0.571)\t(37.041, 0.455)\t(37.081, 0.717)\t\n",
      "MAP_lowest \t 0.10570814512810284\t(58.865, 14.564)\t(56.266, 10.301)\t(59.835, 21.749)\t\n",
      "PaO2_first \t 0.09372234929998316\t(201.182, 115.372)\t(258.978, 118.533)\t(161.076, 118.388)\t\n",
      "RespRate_last \t 0.0826452700545866\t(19.777, 5.806)\t(19.271, 3.964)\t(20.542, 6.393)\t\n",
      "DiasABP_median \t 0.07362547509886046\t(59.781, 9.081)\t(57.046, 6.696)\t(61.532, 11.440)\t\n",
      "HR_highest \t 0.07048365936680555\t(111.971, 22.000)\t(106.858, 18.594)\t(117.460, 23.822)\t\n",
      "Height \t 0.04575714113069028\t(170.822, 14.818)\t(169.796, 16.919)\t(174.979, 139.316)\t\n",
      "RespRate_first \t 0.03805569628815378\t(20.088, 5.661)\t(19.303, 4.101)\t(20.954, 7.766)\t\n",
      "HR_last \t 0.037155447846288776\t(85.796, 16.749)\t(83.437, 14.831)\t(88.344, 18.969)\t\n",
      "Mg_last \t 0.03617940178872788\t(2.045, 0.277)\t(2.015, 0.241)\t(2.080, 0.394)\t\n",
      "Glucose_last \t 0.033056536223533786\t(128.878, 41.479)\t(122.804, 29.843)\t(132.708, 48.135)\t\n",
      "RespRate_median \t 0.025944931316545836\t(19.414, 4.349)\t(18.776, 2.785)\t(20.048, 4.469)\t\n",
      "RespRate_highest \t 0.022521097586321637\t(29.242, 7.679)\t(28.149, 4.624)\t(30.323, 9.068)\t\n",
      "Glucose_median \t 0.0192031614486481\t(133.806, 37.897)\t(124.679, 26.776)\t(140.715, 44.080)\t\n",
      "SysABP_first \t 0.014853342442201045\t(123.748, 24.337)\t(117.341, 18.469)\t(129.533, 34.472)\t\n",
      "Temp_last \t 0.00888624875410055\t(37.044, 0.687)\t(36.974, 0.576)\t(37.110, 0.859)\t\n",
      "Cholesterol_last \t 0.005143394723964906\t(156.444, 41.870)\t(155.745, 21.807)\t(157.295, 62.498)\t\n",
      "Glucose_first \t 0.0035197446949043563\t(149.557, 69.751)\t(129.245, 41.472)\t(166.254, 98.784)\t\n",
      "RespRate_lowest \t 0.0028995244107529704\t(12.341, 3.804)\t(11.972, 2.684)\t(12.661, 3.398)\t\n",
      "Cholesterol_first \t 0.001382629929237559\t(156.584, 42.206)\t(155.820, 21.696)\t(157.297, 62.580)\t\n"
     ]
    },
    {
     "name": "stdout",
     "output_type": "stream",
     "text": [
      "\n",
      "========\n",
      "\n",
      "|C1| = 1994\n",
      "|C1| = 0.024\n",
      "Length_of_stay \t 1.8021826694558578\t(12.961, 9.691)\t(9.987, 6.611)\t(16.813, 16.526)\t\n",
      "CCU \t 1.8021826694558578\t(0.168, 0.374)\t(0.065, 0.248)\t(0.186, 0.389)\t\n",
      "CSRU \t 1.8021826694558578\t(0.137, 0.343)\t(0.507, 0.500)\t(0.059, 0.235)\t\n",
      "DiasABP_first \t 1.8021826694558578\t(61.922, 12.605)\t(59.335, 10.169)\t(65.359, 17.346)\t\n",
      "GCS_first \t 1.8021826694558578\t(10.871, 4.549)\t(8.770, 5.219)\t(10.250, 4.722)\t\n",
      "Glucose_first \t 1.8021826694558578\t(149.557, 69.751)\t(129.245, 41.472)\t(166.254, 98.784)\t\n",
      "HR_first \t 1.8021826694558578\t(88.461, 20.357)\t(85.166, 14.450)\t(94.522, 22.408)\t\n",
      "NIDiasABP_first \t 1.8021826694558578\t(61.151, 16.635)\t(55.958, 13.243)\t(63.164, 19.636)\t\n",
      "NIMAP_first \t 1.8021826694558578\t(80.201, 17.002)\t(73.965, 13.251)\t(82.952, 20.616)\t\n",
      "NISysABP_first \t 1.8021826694558578\t(122.622, 25.238)\t(113.410, 19.990)\t(126.441, 29.549)\t\n",
      "Temp_first \t 1.8021826694558578\t(36.640, 1.022)\t(36.344, 0.860)\t(36.692, 1.174)\t\n",
      "GCS_last \t 1.8021826694558578\t(12.744, 3.116)\t(14.489, 1.295)\t(10.226, 4.187)\t\n",
      "GCS_highest \t 1.8021826694558578\t(13.700, 2.236)\t(14.740, 0.892)\t(12.342, 3.284)\t\n",
      "Glucose_highest \t 1.8021826694558578\t(170.616, 77.116)\t(147.252, 49.888)\t(198.609, 112.670)\t\n",
      "HR_highest \t 1.8021826694558578\t(111.971, 22.000)\t(106.858, 18.594)\t(117.460, 23.822)\t\n",
      "NIDiasABP_highest \t 1.8021826694558578\t(80.915, 19.418)\t(74.348, 15.867)\t(81.850, 20.974)\t\n",
      "NIMAP_highest \t 1.8021826694558578\t(98.234, 18.999)\t(91.189, 14.469)\t(99.960, 20.987)\t\n",
      "NISysABP_highest \t 1.8021826694558578\t(145.988, 25.958)\t(136.610, 20.715)\t(148.746, 29.554)\t\n",
      "DiasABP_median \t 1.8021826694558578\t(59.781, 9.081)\t(57.046, 6.696)\t(61.532, 11.440)\t\n",
      "GCS_median \t 1.8021826694558578\t(12.197, 3.249)\t(13.807, 2.058)\t(10.279, 4.061)\t\n",
      "Glucose_median \t 1.8021826694558578\t(133.806, 37.897)\t(124.679, 26.776)\t(140.715, 44.080)\t\n",
      "MAP_median \t 1.8021826694558578\t(80.471, 11.317)\t(76.330, 8.116)\t(82.708, 18.586)\t\n",
      "BUN_first \t 1.8021826694558578\t(23.766, 17.109)\t(17.085, 9.770)\t(35.384, 28.643)\t\n",
      "Creatinine_first \t 1.8021826694558578\t(1.164, 0.846)\t(0.864, 0.396)\t(1.992, 2.189)\t\n",
      "PaO2_first \t 1.8021826694558578\t(201.182, 115.372)\t(258.978, 118.533)\t(161.076, 118.388)\t\n",
      "Platelets_first \t 1.8021826694558578\t(222.671, 106.809)\t(188.689, 81.283)\t(232.012, 136.987)\t\n",
      "SysABP_first \t 1.8021826694558578\t(123.748, 24.337)\t(117.341, 18.469)\t(129.533, 34.472)\t\n",
      "pH_first \t 1.8021826694558578\t(7.376, 0.082)\t(7.389, 0.070)\t(7.342, 0.114)\t\n",
      "BUN_last \t 1.8021826694558578\t(22.278, 15.345)\t(17.238, 9.475)\t(35.342, 27.136)\t\n",
      "Creatinine_last \t 1.8021826694558578\t(1.132, 0.869)\t(0.923, 0.423)\t(1.979, 2.046)\t\n",
      "MechVentDuration \t 1.8021826694558578\t(2020.914, 746.774)\t(1440.874, 874.470)\t(2197.851, 823.878)\t\n",
      "MechVentLast8Hour \t 1.8021826694558578\t(0.655, 0.440)\t(0.284, 0.470)\t(0.869, 0.363)\t\n",
      "UrineOutputSum \t 1.8021826694558578\t(12.983, 5.157)\t(9.366, 5.331)\t(14.117, 6.101)\t\n",
      "MechVentStartTime \t 1.802182669455856\t(267.176, 374.734)\t(182.408, 163.581)\t(389.146, 694.255)\t\n",
      "HCT_first \t 1.802182669455846\t(32.160, 5.791)\t(30.670, 5.733)\t(32.755, 6.312)\t\n",
      "Na_last \t 1.8021826694556418\t(139.136, 4.151)\t(137.963, 3.525)\t(139.293, 4.926)\t\n",
      "DiasABP_highest \t 1.802182669454413\t(82.967, 15.642)\t(80.078, 13.476)\t(87.151, 21.094)\t\n",
      "Weight \t 1.8021826694429999\t(79.536, 20.775)\t(76.877, 16.483)\t(87.256, 28.744)\t\n",
      "DiasABP_last \t 1.8021826694109522\t(61.757, 12.906)\t(58.522, 11.599)\t(62.916, 15.807)\t\n",
      "NISysABP_median \t 1.8021826693750693\t(119.266, 19.126)\t(113.941, 14.353)\t(119.103, 21.758)\t\n",
      "MAP_highest \t 1.802182669174866\t(116.991, 32.467)\t(111.389, 25.701)\t(125.764, 46.016)\t\n",
      "MAP_first \t 1.8021826680725632\t(83.045, 21.489)\t(79.595, 14.609)\t(90.792, 37.629)\t\n",
      "HR_median \t 1.802182662948515\t(85.706, 15.184)\t(83.590, 11.709)\t(89.397, 16.658)\t\n",
      "Platelets_last \t 1.8021826598169473\t(198.658, 99.089)\t(173.444, 73.207)\t(202.435, 123.918)\t\n",
      "DiasABP_lowest \t 1.8021825579200585\t(44.907, 9.637)\t(42.676, 7.083)\t(45.605, 12.156)\t\n",
      "SaO2_highest \t 1.8021816759052627\t(97.828, 1.335)\t(98.195, 1.171)\t(96.999, 4.896)\t\n",
      "pH_last \t 1.8021816223620264\t(7.404, 0.053)\t(7.409, 0.044)\t(7.385, 0.076)\t\n",
      "SICU \t 1.8021810621904741\t(0.325, 0.466)\t(0.189, 0.395)\t(0.274, 0.446)\t\n",
      "MAP_last \t 1.8021806196201036\t(83.028, 17.803)\t(78.975, 14.243)\t(84.530, 23.631)\t\n",
      "NIMAP_median \t 1.8021645877892238\t(76.966, 12.414)\t(73.775, 9.251)\t(76.615, 14.417)\t\n",
      "SaO2_median \t 1.802162667206308\t(97.032, 1.358)\t(97.339, 1.276)\t(96.021, 5.283)\t\n",
      "SaO2_first \t 1.802161349987506\t(96.956, 1.429)\t(97.376, 1.364)\t(95.680, 7.020)\t\n",
      "RespRate_median \t 1.8020650048307425\t(19.414, 4.349)\t(18.776, 2.785)\t(20.048, 4.469)\t\n",
      "FiO2_first \t 1.801690505877242\t(0.754, 0.248)\t(0.828, 0.232)\t(0.784, 0.268)\t\n",
      "Albumin_last \t 1.797840809851409\t(3.007, 0.630)\t(3.056, 0.438)\t(2.812, 0.773)\t\n",
      "Weight_first \t 1.7666002948539117\t(82.102, 21.375)\t(80.646, 17.132)\t(89.866, 30.807)\t\n",
      "Albumin_first \t 1.7532016215157835\t(3.041, 0.641)\t(3.089, 0.436)\t(2.854, 0.785)\t\n",
      "RespRate_highest \t 1.7525711040635341\t(29.242, 7.679)\t(28.149, 4.624)\t(30.323, 9.068)\t\n",
      "SAPS-I \t 1.7336134540139683\t(13.318, 5.549)\t(13.281, 6.281)\t(15.858, 6.089)\t\n",
      "HCT_last \t 1.708245532602879\t(31.084, 4.613)\t(30.162, 4.585)\t(31.227, 4.716)\t\n",
      "HR_last \t 1.6929675672464528\t(85.796, 16.749)\t(83.437, 14.831)\t(88.344, 18.969)\t\n",
      "Weight_last \t 1.6903016364622674\t(82.679, 21.042)\t(81.445, 16.755)\t(90.394, 30.374)\t\n",
      "Temp_highest \t 1.67934203557382\t(37.894, 0.741)\t(37.818, 0.589)\t(38.057, 0.846)\t\n",
      "SaO2_lowest \t 1.6144801151691\t(95.284, 2.513)\t(95.629, 2.159)\t(93.702, 8.592)\t\n",
      "SysABP_last \t 1.4923610640166316\t(123.644, 22.649)\t(119.162, 19.961)\t(124.047, 27.022)\t\n",
      "RespRate_first \t 1.489968886458606\t(20.088, 5.661)\t(19.303, 4.101)\t(20.954, 7.766)\t\n",
      "Glucose_last \t 1.4344344936699724\t(128.878, 41.479)\t(122.804, 29.843)\t(132.708, 48.135)\t\n",
      "MAP_lowest \t 1.328603331449353\t(58.865, 14.564)\t(56.266, 10.301)\t(59.835, 21.749)\t\n",
      "SOFA \t 1.2923989275755428\t(5.489, 3.802)\t(5.860, 3.890)\t(7.767, 4.471)\t\n",
      "HR_lowest \t 1.2766044578733693\t(68.151, 14.199)\t(66.815, 11.297)\t(70.607, 15.751)\t\n",
      "NIDiasABP_median \t 1.2584977694665178\t(57.778, 12.123)\t(55.247, 9.632)\t(57.087, 13.685)\t\n",
      "PaCO2_first \t 1.186882619345612\t(40.785, 8.704)\t(40.206, 6.744)\t(43.362, 14.279)\t\n",
      "WBC_last \t 1.166319507594144\t(11.913, 3.976)\t(11.498, 3.353)\t(13.367, 9.803)\t\n",
      "WBC_first \t 1.1292171139250378\t(12.382, 4.573)\t(11.973, 4.075)\t(14.234, 11.684)\t\n",
      "HCO3_last \t 1.1178699136691932\t(24.507, 3.897)\t(24.777, 2.993)\t(23.602, 5.314)\t\n",
      "RespRate_last \t 0.9938863182981788\t(19.777, 5.806)\t(19.271, 3.964)\t(20.542, 6.393)\t\n",
      "RespRate_lowest \t 0.9690883787215189\t(12.341, 3.804)\t(11.972, 2.684)\t(12.661, 3.398)\t\n",
      "SaO2_last \t 0.9404989400401038\t(96.759, 1.438)\t(96.880, 1.586)\t(95.909, 5.548)\t\n",
      "Mg_last \t 0.8887712598022095\t(2.045, 0.277)\t(2.015, 0.241)\t(2.080, 0.394)\t\n",
      "Temp_last \t 0.8060931577328007\t(37.044, 0.687)\t(36.974, 0.576)\t(37.110, 0.859)\t\n",
      "Lactate_first \t 0.7408064764897407\t(2.392, 1.683)\t(2.381, 1.225)\t(2.942, 2.887)\t\n",
      "Lactate_last \t 0.6460644197492625\t(1.754, 0.894)\t(1.804, 0.751)\t(2.250, 2.384)\t\n",
      "Bilirubin_last \t 0.5585514390498469\t(1.379, 1.637)\t(1.561, 0.928)\t(2.806, 7.434)\t\n",
      "ALP_first \t 0.4907306700130105\t(94.853, 41.902)\t(97.436, 27.676)\t(123.906, 179.328)\t\n",
      "Bilirubin_first \t 0.48506604225739897\t(1.408, 1.591)\t(1.553, 0.887)\t(2.642, 7.169)\t\n",
      "ALP_last \t 0.4500933399613681\t(93.522, 40.418)\t(96.175, 27.389)\t(121.850, 182.272)\t\n",
      "PaCO2_last \t 0.4328199665362319\t(39.702, 6.823)\t(39.480, 5.525)\t(40.940, 11.274)\t\n",
      "FiO2_last \t 0.41058973210613303\t(0.491, 0.144)\t(0.489, 0.128)\t(0.518, 0.190)\t\n",
      "NISysABP_last \t 0.40171696848984795\t(121.516, 22.978)\t(117.692, 17.963)\t(118.139, 24.436)\t\n",
      "AST_first \t 0.3367109893358463\t(146.013, 261.502)\t(169.724, 121.489)\t(355.456, 1546.729)\t\n",
      "ALT_last \t 0.33560740287001917\t(114.093, 238.980)\t(134.461, 105.042)\t(269.952, 1089.249)\t\n",
      "AST_last \t 0.32575197745449147\t(139.425, 208.310)\t(168.015, 114.110)\t(350.870, 1508.780)\t\n",
      "Mg_first \t 0.3169860037897423\t(1.908, 0.359)\t(1.967, 0.365)\t(1.945, 0.640)\t\n",
      "TroponinT_last \t 0.30444886986648045\t(0.822, 1.274)\t(0.865, 0.558)\t(1.297, 3.771)\t\n",
      "ALT_first \t 0.2904994254883277\t(105.587, 217.616)\t(120.951, 100.556)\t(235.024, 1020.100)\t\n",
      "Temp_lowest \t 0.2165250119246355\t(35.924, 0.773)\t(35.850, 0.642)\t(35.883, 0.976)\t\n",
      "NISysABP_lowest \t 0.20103039706716\t(95.425, 19.968)\t(93.434, 14.632)\t(93.930, 22.761)\t\n",
      "TroponinT_first \t 0.17964221178870718\t(0.806, 1.200)\t(0.949, 0.702)\t(1.441, 4.794)\t\n",
      "Glucose_lowest \t 0.15871176384311467\t(110.792, 30.593)\t(107.445, 24.745)\t(107.348, 32.827)\t\n",
      "TroponinI_last \t 0.14824008551980294\t(5.821, 4.312)\t(6.116, 1.883)\t(7.403, 15.385)\t\n",
      "K_last \t 0.13928615331337285\t(4.010, 0.494)\t(4.085, 0.486)\t(4.108, 0.563)\t\n",
      "GCS_lowest \t 0.13696308285056352\t(9.082, 4.746)\t(8.056, 5.020)\t(7.506, 4.539)\t\n",
      "HCO3_first \t 0.12854312179980554\t(23.411, 4.255)\t(23.304, 3.119)\t(22.762, 5.844)\t\n",
      "NIMAP_lowest \t 0.09251702985014228\t(60.326, 13.190)\t(59.346, 9.419)\t(59.351, 15.273)\t\n",
      "Height \t 0.09026456240888141\t(170.822, 14.818)\t(169.796, 16.919)\t(174.979, 139.316)\t\n",
      "Gender \t 0.0804029369674309\t(0.537, 0.498)\t(0.550, 0.497)\t(0.597, 0.491)\t\n",
      "Temp_median \t 0.07359571412667802\t(37.038, 0.571)\t(37.041, 0.455)\t(37.081, 0.717)\t\n",
      "Na_first \t 0.06649036529790835\t(139.021, 4.579)\t(138.888, 3.464)\t(138.477, 5.611)\t\n",
      "TroponinI_first \t 0.058714938218267315\t(6.461, 4.666)\t(6.984, 2.398)\t(8.076, 16.953)\t\n",
      "PaO2_last \t 0.055190889821578916\t(120.201, 50.155)\t(118.337, 45.506)\t(113.878, 53.959)\t\n",
      "Cholesterol_last \t 0.050841255106037014\t(156.444, 41.870)\t(155.745, 21.807)\t(157.295, 62.498)\t\n",
      "Cholesterol_first \t 0.050423686577397264\t(156.584, 42.206)\t(155.820, 21.696)\t(157.297, 62.580)\t\n",
      "NIMAP_last \t 0.04868543292171957\t(78.279, 15.552)\t(76.583, 12.308)\t(75.600, 16.487)\t\n",
      "NIDiasABP_last \t 0.04844384357325063\t(58.757, 15.242)\t(57.783, 12.887)\t(56.113, 16.082)\t\n",
      "Age \t 0.014065163892612073\t(65.546, 17.810)\t(64.351, 16.901)\t(62.867, 17.744)\t\n",
      "NIDiasABP_lowest \t 0.005697930276789901\t(41.319, 12.906)\t(40.782, 9.901)\t(40.339, 14.662)\t\n",
      "K_first \t 0.004060610093700521\t(4.087, 0.644)\t(4.180, 0.604)\t(4.269, 0.850)\t\n"
     ]
    },
    {
     "name": "stdout",
     "output_type": "stream",
     "text": [
      "\n",
      "========\n",
      "\n",
      "|C2| = 2382\n",
      "|C2| = 0.268\n",
      "SAPS-I \t 1.8021826694558578\t(13.318, 5.549)\t(13.281, 6.281)\t(15.858, 6.089)\t\n",
      "SOFA \t 1.8021826694558578\t(5.489, 3.802)\t(5.860, 3.890)\t(7.767, 4.471)\t\n",
      "Length_of_stay \t 1.8021826694558578\t(12.961, 9.691)\t(9.987, 6.611)\t(16.813, 16.526)\t\n",
      "Weight \t 1.8021826694558578\t(79.536, 20.775)\t(76.877, 16.483)\t(87.256, 28.744)\t\n",
      "CSRU \t 1.8021826694558578\t(0.137, 0.343)\t(0.507, 0.500)\t(0.059, 0.235)\t\n",
      "DiasABP_first \t 1.8021826694558578\t(61.922, 12.605)\t(59.335, 10.169)\t(65.359, 17.346)\t\n",
      "Glucose_first \t 1.8021826694558578\t(149.557, 69.751)\t(129.245, 41.472)\t(166.254, 98.784)\t\n",
      "HR_first \t 1.8021826694558578\t(88.461, 20.357)\t(85.166, 14.450)\t(94.522, 22.408)\t\n",
      "MAP_first \t 1.8021826694558578\t(83.045, 21.489)\t(79.595, 14.609)\t(90.792, 37.629)\t\n",
      "NIMAP_first \t 1.8021826694558578\t(80.201, 17.002)\t(73.965, 13.251)\t(82.952, 20.616)\t\n",
      "NISysABP_first \t 1.8021826694558578\t(122.622, 25.238)\t(113.410, 19.990)\t(126.441, 29.549)\t\n",
      "SaO2_first \t 1.8021826694558578\t(96.956, 1.429)\t(97.376, 1.364)\t(95.680, 7.020)\t\n",
      "GCS_last \t 1.8021826694558578\t(12.744, 3.116)\t(14.489, 1.295)\t(10.226, 4.187)\t\n",
      "SaO2_lowest \t 1.8021826694558578\t(95.284, 2.513)\t(95.629, 2.159)\t(93.702, 8.592)\t\n",
      "DiasABP_highest \t 1.8021826694558578\t(82.967, 15.642)\t(80.078, 13.476)\t(87.151, 21.094)\t\n",
      "GCS_highest \t 1.8021826694558578\t(13.700, 2.236)\t(14.740, 0.892)\t(12.342, 3.284)\t\n",
      "Glucose_highest \t 1.8021826694558578\t(170.616, 77.116)\t(147.252, 49.888)\t(198.609, 112.670)\t\n",
      "HR_highest \t 1.8021826694558578\t(111.971, 22.000)\t(106.858, 18.594)\t(117.460, 23.822)\t\n",
      "MAP_highest \t 1.8021826694558578\t(116.991, 32.467)\t(111.389, 25.701)\t(125.764, 46.016)\t\n",
      "SaO2_highest \t 1.8021826694558578\t(97.828, 1.335)\t(98.195, 1.171)\t(96.999, 4.896)\t\n",
      "DiasABP_median \t 1.8021826694558578\t(59.781, 9.081)\t(57.046, 6.696)\t(61.532, 11.440)\t\n",
      "GCS_median \t 1.8021826694558578\t(12.197, 3.249)\t(13.807, 2.058)\t(10.279, 4.061)\t\n",
      "HR_median \t 1.8021826694558578\t(85.706, 15.184)\t(83.590, 11.709)\t(89.397, 16.658)\t\n",
      "MAP_median \t 1.8021826694558578\t(80.471, 11.317)\t(76.330, 8.116)\t(82.708, 18.586)\t\n",
      "SaO2_median \t 1.8021826694558578\t(97.032, 1.358)\t(97.339, 1.276)\t(96.021, 5.283)\t\n",
      "Albumin_first \t 1.8021826694558578\t(3.041, 0.641)\t(3.089, 0.436)\t(2.854, 0.785)\t\n",
      "BUN_first \t 1.8021826694558578\t(23.766, 17.109)\t(17.085, 9.770)\t(35.384, 28.643)\t\n",
      "Creatinine_first \t 1.8021826694558578\t(1.164, 0.846)\t(0.864, 0.396)\t(1.992, 2.189)\t\n",
      "PaO2_first \t 1.8021826694558578\t(201.182, 115.372)\t(258.978, 118.533)\t(161.076, 118.388)\t\n",
      "SysABP_first \t 1.8021826694558578\t(123.748, 24.337)\t(117.341, 18.469)\t(129.533, 34.472)\t\n",
      "Weight_first \t 1.8021826694558578\t(82.102, 21.375)\t(80.646, 17.132)\t(89.866, 30.807)\t\n",
      "pH_first \t 1.8021826694558578\t(7.376, 0.082)\t(7.389, 0.070)\t(7.342, 0.114)\t\n",
      "Albumin_last \t 1.8021826694558578\t(3.007, 0.630)\t(3.056, 0.438)\t(2.812, 0.773)\t\n",
      "BUN_last \t 1.8021826694558578\t(22.278, 15.345)\t(17.238, 9.475)\t(35.342, 27.136)\t\n",
      "Bilirubin_last \t 1.8021826694558578\t(1.379, 1.637)\t(1.561, 0.928)\t(2.806, 7.434)\t\n",
      "Creatinine_last \t 1.8021826694558578\t(1.132, 0.869)\t(0.923, 0.423)\t(1.979, 2.046)\t\n",
      "Lactate_last \t 1.8021826694558578\t(1.754, 0.894)\t(1.804, 0.751)\t(2.250, 2.384)\t\n",
      "Weight_last \t 1.8021826694558578\t(82.679, 21.042)\t(81.445, 16.755)\t(90.394, 30.374)\t\n",
      "pH_last \t 1.8021826694558578\t(7.404, 0.053)\t(7.409, 0.044)\t(7.385, 0.076)\t\n",
      "MechVentStartTime \t 1.8021826694558578\t(267.176, 374.734)\t(182.408, 163.581)\t(389.146, 694.255)\t\n",
      "MechVentDuration \t 1.8021826694558578\t(2020.914, 746.774)\t(1440.874, 874.470)\t(2197.851, 823.878)\t\n",
      "MechVentLast8Hour \t 1.8021826694558578\t(0.655, 0.440)\t(0.284, 0.470)\t(0.869, 0.363)\t\n",
      "UrineOutputSum \t 1.8021826694558578\t(12.983, 5.157)\t(9.366, 5.331)\t(14.117, 6.101)\t\n",
      "Glucose_median \t 1.8021826694558574\t(133.806, 37.897)\t(124.679, 26.776)\t(140.715, 44.080)\t\n",
      "NISysABP_highest \t 1.8021826694376184\t(145.988, 25.958)\t(136.610, 20.715)\t(148.746, 29.554)\t\n",
      "PaCO2_first \t 1.8021826694347007\t(40.785, 8.704)\t(40.206, 6.744)\t(43.362, 14.279)\t\n",
      "Bilirubin_first \t 1.8021826694046486\t(1.408, 1.591)\t(1.553, 0.887)\t(2.642, 7.169)\t\n",
      "Temp_highest \t 1.802182669400714\t(37.894, 0.741)\t(37.818, 0.589)\t(38.057, 0.846)\t\n",
      "Lactate_first \t 1.8021826693780412\t(2.392, 1.683)\t(2.381, 1.225)\t(2.942, 2.887)\t\n",
      "NIMAP_highest \t 1.802182669290777\t(98.234, 18.999)\t(91.189, 14.469)\t(99.960, 20.987)\t\n",
      "WBC_first \t 1.8021826691896932\t(12.382, 4.573)\t(11.973, 4.075)\t(14.234, 11.684)\t\n",
      "SaO2_last \t 1.8021826679157122\t(96.759, 1.438)\t(96.880, 1.586)\t(95.909, 5.548)\t\n",
      "NIDiasABP_first \t 1.8021826678513877\t(61.151, 16.635)\t(55.958, 13.243)\t(63.164, 19.636)\t\n",
      "ALP_first \t 1.8021826571614739\t(94.853, 41.902)\t(97.436, 27.676)\t(123.906, 179.328)\t\n",
      "WBC_last \t 1.8021826496853788\t(11.913, 3.976)\t(11.498, 3.353)\t(13.367, 9.803)\t\n",
      "HCO3_last \t 1.802182172080152\t(24.507, 3.897)\t(24.777, 2.993)\t(23.602, 5.314)\t\n",
      "ALP_last \t 1.802182101681201\t(93.522, 40.418)\t(96.175, 27.389)\t(121.850, 182.272)\t\n",
      "GCS_lowest \t 1.8021578230693582\t(9.082, 4.746)\t(8.056, 5.020)\t(7.506, 4.539)\t\n",
      "RespRate_median \t 1.802146459250907\t(19.414, 4.349)\t(18.776, 2.785)\t(20.048, 4.469)\t\n",
      "ALT_last \t 1.8008030439612874\t(114.093, 238.980)\t(134.461, 105.042)\t(269.952, 1089.249)\t\n",
      "Platelets_first \t 1.8005528145493295\t(222.671, 106.809)\t(188.689, 81.283)\t(232.012, 136.987)\t\n",
      "AST_last \t 1.799772505061667\t(139.425, 208.310)\t(168.015, 114.110)\t(350.870, 1508.780)\t\n",
      "HR_lowest \t 1.7997623414697266\t(68.151, 14.199)\t(66.815, 11.297)\t(70.607, 15.751)\t\n",
      "HCT_first \t 1.787018698775707\t(32.160, 5.791)\t(30.670, 5.733)\t(32.755, 6.312)\t\n",
      "AST_first \t 1.7859894476609055\t(146.013, 261.502)\t(169.724, 121.489)\t(355.456, 1546.729)\t\n",
      "HR_last \t 1.7847237800215199\t(85.796, 16.749)\t(83.437, 14.831)\t(88.344, 18.969)\t\n",
      "RespRate_highest \t 1.7751827278885626\t(29.242, 7.679)\t(28.149, 4.624)\t(30.323, 9.068)\t\n",
      "NIDiasABP_highest \t 1.7130053301351982\t(80.915, 19.418)\t(74.348, 15.867)\t(81.850, 20.974)\t\n",
      "RespRate_first \t 1.6405093526551189\t(20.088, 5.661)\t(19.303, 4.101)\t(20.954, 7.766)\t\n",
      "ALT_first \t 1.5989873040226679\t(105.587, 217.616)\t(120.951, 100.556)\t(235.024, 1020.100)\t\n",
      "K_first \t 1.5744927085818232\t(4.087, 0.644)\t(4.180, 0.604)\t(4.269, 0.850)\t\n",
      "TroponinT_first \t 1.5320018135619202\t(0.806, 1.200)\t(0.949, 0.702)\t(1.441, 4.794)\t\n",
      "DiasABP_last \t 1.5289617303737053\t(61.757, 12.906)\t(58.522, 11.599)\t(62.916, 15.807)\t\n",
      "TroponinT_last \t 1.5152122563838657\t(0.822, 1.274)\t(0.865, 0.558)\t(1.297, 3.771)\t\n",
      "CCU \t 1.4428363507552278\t(0.168, 0.374)\t(0.065, 0.248)\t(0.186, 0.389)\t\n",
      "Temp_first \t 1.3462790181139186\t(36.640, 1.022)\t(36.344, 0.860)\t(36.692, 1.174)\t\n",
      "RespRate_last \t 1.3391275286170106\t(19.777, 5.806)\t(19.271, 3.964)\t(20.542, 6.393)\t\n",
      "FiO2_last \t 1.3231933309916497\t(0.491, 0.144)\t(0.489, 0.128)\t(0.518, 0.190)\t\n",
      "MAP_last \t 1.2704618961302836\t(83.028, 17.803)\t(78.975, 14.243)\t(84.530, 23.631)\t\n",
      "DiasABP_lowest \t 1.233745925598841\t(44.907, 9.637)\t(42.676, 7.083)\t(45.605, 12.156)\t\n",
      "Na_last \t 1.0982205758067753\t(139.136, 4.151)\t(137.963, 3.525)\t(139.293, 4.926)\t\n",
      "Glucose_last \t 1.0942741922666694\t(128.878, 41.479)\t(122.804, 29.843)\t(132.708, 48.135)\t\n",
      "PaCO2_last \t 1.0850828010413274\t(39.702, 6.823)\t(39.480, 5.525)\t(40.940, 11.274)\t\n",
      "Mg_last \t 1.02243674061621\t(2.045, 0.277)\t(2.015, 0.241)\t(2.080, 0.394)\t\n",
      "TroponinI_last \t 0.9844177214711941\t(5.821, 4.312)\t(6.116, 1.883)\t(7.403, 15.385)\t\n",
      "Platelets_last \t 0.9514432176545569\t(198.658, 99.089)\t(173.444, 73.207)\t(202.435, 123.918)\t\n",
      "NIDiasABP_last \t 0.9367973154611016\t(58.757, 15.242)\t(57.783, 12.887)\t(56.113, 16.082)\t\n",
      "RespRate_lowest \t 0.910530701745889\t(12.341, 3.804)\t(11.972, 2.684)\t(12.661, 3.398)\t\n",
      "Temp_last \t 0.7962765398655937\t(37.044, 0.687)\t(36.974, 0.576)\t(37.110, 0.859)\t\n",
      "TroponinI_first \t 0.752498406504982\t(6.461, 4.666)\t(6.984, 2.398)\t(8.076, 16.953)\t\n",
      "MAP_lowest \t 0.7472971258966425\t(58.865, 14.564)\t(56.266, 10.301)\t(59.835, 21.749)\t\n",
      "HCO3_first \t 0.7453076472263969\t(23.411, 4.255)\t(23.304, 3.119)\t(22.762, 5.844)\t\n",
      "NIMAP_last \t 0.709850727174316\t(78.279, 15.552)\t(76.583, 12.308)\t(75.600, 16.487)\t\n",
      "K_last \t 0.6732579677028795\t(4.010, 0.494)\t(4.085, 0.486)\t(4.108, 0.563)\t\n",
      "Age \t 0.6606964434356389\t(65.546, 17.810)\t(64.351, 16.901)\t(62.867, 17.744)\t\n",
      "HCT_last \t 0.6565429467582673\t(31.084, 4.613)\t(30.162, 4.585)\t(31.227, 4.716)\t\n",
      "NISysABP_median \t 0.6380662302180695\t(119.266, 19.126)\t(113.941, 14.353)\t(119.103, 21.758)\t\n",
      "PaO2_last \t 0.5427742840544751\t(120.201, 50.155)\t(118.337, 45.506)\t(113.878, 53.959)\t\n",
      "Gender \t 0.5358281875219746\t(0.537, 0.498)\t(0.550, 0.497)\t(0.597, 0.491)\t\n",
      "SysABP_last \t 0.4968099870434812\t(123.644, 22.649)\t(119.162, 19.961)\t(124.047, 27.022)\t\n",
      "Na_first \t 0.4927715455402387\t(139.021, 4.579)\t(138.888, 3.464)\t(138.477, 5.611)\t\n",
      "NIMAP_median \t 0.38192522764384135\t(76.966, 12.414)\t(73.775, 9.251)\t(76.615, 14.417)\t\n",
      "NISysABP_last \t 0.2762709682682364\t(121.516, 22.978)\t(117.692, 17.963)\t(118.139, 24.436)\t\n",
      "Temp_median \t 0.2537153383768799\t(37.038, 0.571)\t(37.041, 0.455)\t(37.081, 0.717)\t\n",
      "GCS_first \t 0.250524459052555\t(10.871, 4.549)\t(8.770, 5.219)\t(10.250, 4.722)\t\n",
      "Glucose_lowest \t 0.2219374215221242\t(110.792, 30.593)\t(107.445, 24.745)\t(107.348, 32.827)\t\n",
      "NIDiasABP_lowest \t 0.18611586745832584\t(41.319, 12.906)\t(40.782, 9.901)\t(40.339, 14.662)\t\n",
      "Height \t 0.17503695456809154\t(170.822, 14.818)\t(169.796, 16.919)\t(174.979, 139.316)\t\n",
      "NIMAP_lowest \t 0.10938707301351136\t(60.326, 13.190)\t(59.346, 9.419)\t(59.351, 15.273)\t\n",
      "NIDiasABP_median \t 0.10144867739051472\t(57.778, 12.123)\t(55.247, 9.632)\t(57.087, 13.685)\t\n",
      "NISysABP_lowest \t 0.0709466256811662\t(95.425, 19.968)\t(93.434, 14.632)\t(93.930, 22.761)\t\n",
      "Cholesterol_last \t 0.05689768228854175\t(156.444, 41.870)\t(155.745, 21.807)\t(157.295, 62.498)\t\n",
      "SICU \t 0.05666950668234197\t(0.325, 0.466)\t(0.189, 0.395)\t(0.274, 0.446)\t\n",
      "Cholesterol_first \t 0.049925380620315894\t(156.584, 42.206)\t(155.820, 21.696)\t(157.297, 62.580)\t\n",
      "Mg_first \t 0.04366552659733591\t(1.908, 0.359)\t(1.967, 0.365)\t(1.945, 0.640)\t\n",
      "FiO2_first \t 0.03222450510689772\t(0.754, 0.248)\t(0.828, 0.232)\t(0.784, 0.268)\t\n",
      "Temp_lowest \t 0.014313833484946454\t(35.924, 0.773)\t(35.850, 0.642)\t(35.883, 0.976)\t\n"
     ]
    }
   ],
   "source": [
    "scaled_X_train = scale.inverse_transform(X_train)\n",
    "NHFD_Single_Cluster_Analysis(scaled_X_train, cluster_ids, column_names)"
   ]
  },
  {
   "cell_type": "code",
   "execution_count": 22,
   "id": "c6406008",
   "metadata": {},
   "outputs": [
    {
     "ename": "TypeError",
     "evalue": "WDFD_Single_Cluster_Analysis() missing 1 required positional argument: 'column_names'",
     "output_type": "error",
     "traceback": [
      "\u001b[0;31m---------------------------------------------------------------------------\u001b[0m",
      "\u001b[0;31mTypeError\u001b[0m                                 Traceback (most recent call last)",
      "\u001b[0;32m/var/folders/s4/8ld2kcdn6l143yw8rwv3fx9r0000gn/T/ipykernel_86948/3299654390.py\u001b[0m in \u001b[0;36m<module>\u001b[0;34m\u001b[0m\n\u001b[0;32m----> 1\u001b[0;31m \u001b[0mWDFD_Single_Cluster_Analysis\u001b[0m\u001b[0;34m(\u001b[0m\u001b[0mX_train\u001b[0m\u001b[0;34m,\u001b[0m \u001b[0mcluster_ids\u001b[0m\u001b[0;34m,\u001b[0m \u001b[0mcolumn_names\u001b[0m\u001b[0;34m)\u001b[0m\u001b[0;34m\u001b[0m\u001b[0;34m\u001b[0m\u001b[0m\n\u001b[0m",
      "\u001b[0;31mTypeError\u001b[0m: WDFD_Single_Cluster_Analysis() missing 1 required positional argument: 'column_names'"
     ]
    }
   ],
   "source": [
    "WDFD_Single_Cluster_Analysis(X_train, cluster_ids, column_names)"
   ]
  },
  {
   "cell_type": "markdown",
   "id": "2c29171a",
   "metadata": {},
   "source": [
    "## Local Training"
   ]
  },
  {
   "cell_type": "code",
   "execution_count": 33,
   "id": "16d7e2af",
   "metadata": {},
   "outputs": [
    {
     "name": "stdout",
     "output_type": "stream",
     "text": [
      "\n",
      "####################################################################################\n",
      "\n",
      "Training Local Networks\n",
      "Loading Best model with score:  [0.8140828700936527, 0.9156538566041738]\n",
      "\n",
      "[ 32/100] train_loss: 0.043 valid_loss: 0.150 valid_F1: 0.663 valid_AUC: 0.917 valid_Sil: 0.213\n",
      "\n",
      "[ 32/100] train_loss: 0.042 valid_loss: 0.148 valid_F1: 0.668 valid_AUC: 0.917 valid_Sil: 0.213\n",
      "EarlyStopping counter: 1 out of 7\n",
      "\n",
      "[ 32/100] train_loss: 0.042 valid_loss: 0.150 valid_F1: 0.667 valid_AUC: 0.917 valid_Sil: 0.213\n",
      "EarlyStopping counter: 2 out of 7\n",
      "\n",
      "[ 32/100] train_loss: 0.042 valid_loss: 0.149 valid_F1: 0.667 valid_AUC: 0.917 valid_Sil: 0.213\n",
      "EarlyStopping counter: 3 out of 7\n",
      "\n",
      "[ 32/100] train_loss: 0.042 valid_loss: 0.152 valid_F1: 0.653 valid_AUC: 0.918 valid_Sil: 0.213\n",
      "\n",
      "[ 32/100] train_loss: 0.042 valid_loss: 0.149 valid_F1: 0.670 valid_AUC: 0.917 valid_Sil: 0.213\n",
      "EarlyStopping counter: 1 out of 7\n",
      "\n",
      "[ 32/100] train_loss: 0.042 valid_loss: 0.150 valid_F1: 0.655 valid_AUC: 0.918 valid_Sil: 0.213\n",
      "\n",
      "[ 32/100] train_loss: 0.042 valid_loss: 0.151 valid_F1: 0.664 valid_AUC: 0.917 valid_Sil: 0.213\n",
      "EarlyStopping counter: 1 out of 7\n",
      "\n",
      "[ 32/100] train_loss: 0.042 valid_loss: 0.149 valid_F1: 0.665 valid_AUC: 0.917 valid_Sil: 0.213\n",
      "EarlyStopping counter: 2 out of 7\n",
      "\n",
      "[ 32/100] train_loss: 0.042 valid_loss: 0.154 valid_F1: 0.655 valid_AUC: 0.917 valid_Sil: 0.213\n",
      "EarlyStopping counter: 3 out of 7\n",
      "\n",
      "[ 32/100] train_loss: 0.042 valid_loss: 0.150 valid_F1: 0.658 valid_AUC: 0.917 valid_Sil: 0.213\n",
      "EarlyStopping counter: 4 out of 7\n",
      "\n",
      "[ 32/100] train_loss: 0.042 valid_loss: 0.151 valid_F1: 0.668 valid_AUC: 0.917 valid_Sil: 0.213\n",
      "EarlyStopping counter: 5 out of 7\n",
      "\n",
      "[ 32/100] train_loss: 0.042 valid_loss: 0.151 valid_F1: 0.661 valid_AUC: 0.918 valid_Sil: 0.213\n",
      "EarlyStopping counter: 6 out of 7\n",
      "\n",
      "[ 32/100] train_loss: 0.042 valid_loss: 0.152 valid_F1: 0.661 valid_AUC: 0.917 valid_Sil: 0.213\n",
      "EarlyStopping counter: 7 out of 7\n",
      "\n",
      "Cluster Wise discriminative features (NHFD)\n"
     ]
    },
    {
     "ename": "NameError",
     "evalue": "name 'mifd_scores' is not defined",
     "output_type": "error",
     "traceback": [
      "\u001b[0;31m---------------------------------------------------------------------------\u001b[0m",
      "\u001b[0;31mNameError\u001b[0m                                 Traceback (most recent call last)",
      "\u001b[0;32m/var/folders/s4/8ld2kcdn6l143yw8rwv3fx9r0000gn/T/ipykernel_34881/513432288.py\u001b[0m in \u001b[0;36m<module>\u001b[0;34m\u001b[0m\n\u001b[1;32m    132\u001b[0m         \u001b[0msil_scores\u001b[0m\u001b[0;34m.\u001b[0m\u001b[0mappend\u001b[0m\u001b[0;34m(\u001b[0m\u001b[0msilhouette_new\u001b[0m\u001b[0;34m(\u001b[0m\u001b[0mz_train\u001b[0m\u001b[0;34m.\u001b[0m\u001b[0mdata\u001b[0m\u001b[0;34m.\u001b[0m\u001b[0mcpu\u001b[0m\u001b[0;34m(\u001b[0m\u001b[0;34m)\u001b[0m\u001b[0;34m.\u001b[0m\u001b[0mnumpy\u001b[0m\u001b[0;34m(\u001b[0m\u001b[0;34m)\u001b[0m\u001b[0;34m,\u001b[0m \u001b[0mcluster_ids_train\u001b[0m\u001b[0;34m.\u001b[0m\u001b[0mdata\u001b[0m\u001b[0;34m.\u001b[0m\u001b[0mcpu\u001b[0m\u001b[0;34m(\u001b[0m\u001b[0;34m)\u001b[0m\u001b[0;34m.\u001b[0m\u001b[0mnumpy\u001b[0m\u001b[0;34m(\u001b[0m\u001b[0;34m)\u001b[0m\u001b[0;34m,\u001b[0m \u001b[0mmetric\u001b[0m\u001b[0;34m=\u001b[0m\u001b[0;34m'euclidean'\u001b[0m\u001b[0;34m)\u001b[0m\u001b[0;34m)\u001b[0m\u001b[0;34m\u001b[0m\u001b[0;34m\u001b[0m\u001b[0m\n\u001b[1;32m    133\u001b[0m         \u001b[0mnhfd_scores\u001b[0m\u001b[0;34m.\u001b[0m\u001b[0mappend\u001b[0m\u001b[0;34m(\u001b[0m\u001b[0mcalculate_nhfd\u001b[0m\u001b[0;34m(\u001b[0m\u001b[0mX_train\u001b[0m\u001b[0;34m,\u001b[0m  \u001b[0mcluster_ids_train\u001b[0m\u001b[0;34m)\u001b[0m\u001b[0;34m)\u001b[0m\u001b[0;34m\u001b[0m\u001b[0;34m\u001b[0m\u001b[0m\n\u001b[0;32m--> 134\u001b[0;31m         \u001b[0mmifd_scores\u001b[0m\u001b[0;34m.\u001b[0m\u001b[0mappend\u001b[0m\u001b[0;34m(\u001b[0m\u001b[0mcalculate_MIFD\u001b[0m\u001b[0;34m(\u001b[0m\u001b[0mX_train\u001b[0m\u001b[0;34m,\u001b[0m  \u001b[0mcluster_ids_train\u001b[0m\u001b[0;34m)\u001b[0m\u001b[0;34m)\u001b[0m\u001b[0;34m\u001b[0m\u001b[0;34m\u001b[0m\u001b[0m\n\u001b[0m\u001b[1;32m    135\u001b[0m         \u001b[0;31m# model_complexity.append(calculate_bound(model, B, len(z_train)))\u001b[0m\u001b[0;34m\u001b[0m\u001b[0;34m\u001b[0m\u001b[0;34m\u001b[0m\u001b[0m\n\u001b[1;32m    136\u001b[0m         \u001b[0;32mbreak\u001b[0m\u001b[0;34m\u001b[0m\u001b[0;34m\u001b[0m\u001b[0m\n",
      "\u001b[0;31mNameError\u001b[0m: name 'mifd_scores' is not defined"
     ]
    }
   ],
   "source": [
    "print(\"\\n####################################################################################\\n\")\n",
    "print(\"Training Local Networks\")\n",
    "model = es.load_checkpoint(model)\n",
    "\n",
    "es = EarlyStoppingCAC(dataset=suffix)\n",
    "\n",
    "qs, z_train = model(torch.FloatTensor(np.array(X_train)).to(args.device), output=\"latent\")\n",
    "q_train = qs[0]\n",
    "cluster_id_train = torch.argmax(q_train, axis=1)\n",
    "\n",
    "# X_latents_data_loader = list(zip(z_train, cluster_id_train, y_train))\n",
    "X_latents_data_loader = list(zip(z_train.to(args.device),q_train, y_train))\n",
    "\n",
    "train_loader_latents = torch.utils.data.DataLoader(X_latents_data_loader,\n",
    "    batch_size=1024, shuffle=False)\n",
    "\n",
    "B = []\n",
    "\n",
    "# plot(model, torch.FloatTensor(np.array(X_train)).to(args.device), y_train,\\\n",
    "#      torch.FloatTensor(np.array(X_test)).to(args.device), y_test)\n",
    "\n",
    "# Post clustering training\n",
    "for e in range(N_EPOCHS):\n",
    "    epoch_loss = 0\n",
    "    epoch_acc = 0\n",
    "    epoch_f1 = 0\n",
    "    acc = 0\n",
    "\n",
    "    # model.ae.train() # prep model for evaluation\n",
    "    for j in range(model.n_clusters):\n",
    "        model.classifiers[j][0].train()\n",
    "\n",
    "    # Full training of local networks\n",
    "    for batch_idx, (X_latents, q_batch, y_batch) in enumerate(train_loader_latents):\n",
    "        # torch.autograd.set_detect_anomaly(True)\n",
    "\n",
    "        classifier_labels = np.zeros(len(X_latents))\n",
    "        # Choose classifier for a point probabilistically\n",
    "        if args.attention == True:\n",
    "            for j in range(len(X_latents)):\n",
    "                classifier_labels[j] = np.random.choice(range(args.n_clusters), p = q_batch[j].detach().numpy())\n",
    "        else:\n",
    "            classifier_labels = torch.argmax(q_batch, axis=1).data.cpu().numpy()\n",
    "\n",
    "        for k in range(args.n_clusters):\n",
    "            idx_cluster = np.where(classifier_labels == k)[0]\n",
    "            X_cluster = X_latents[idx_cluster]\n",
    "            y_cluster = y_batch[idx_cluster]\n",
    "\n",
    "            classifier_k, optimizer_k = model.classifiers[k]\n",
    "            # Do not backprop the error to encoder\n",
    "            y_pred_cluster = classifier_k(X_cluster.detach())\n",
    "            cluster_loss = torch.mean(criterion(y_pred_cluster, y_cluster))\n",
    "            optimizer_k.zero_grad()\n",
    "            cluster_loss.backward(retain_graph=True)\n",
    "            optimizer_k.step()\n",
    "\n",
    "    # model.ae.eval() # prep model for evaluation\n",
    "    for j in range(model.n_clusters):\n",
    "        model.classifiers[j][0].eval()\n",
    "\n",
    "    train_preds = torch.zeros((len(z_train), 2))\n",
    "    train_loss = 0\n",
    "\n",
    "    # Weighted predictions\n",
    "    q_train, z_train = model(torch.FloatTensor(X_train).to(args.device), output=\"latent\")\n",
    "    q_train = q_train[0]\n",
    "    cluster_ids_train = torch.argmax(q_train, axis=1)\n",
    "\n",
    "    for j in range(model.n_clusters):\n",
    "        cluster_id = np.where(cluster_ids_train == j)[0]\n",
    "        X_cluster = z_train\n",
    "        y_cluster = torch.Tensor(y_train[cluster_id]).type(torch.LongTensor)\n",
    "\n",
    "        # Ensemble train loss\n",
    "        cluster_preds = model.classifiers[j][0](X_cluster)\n",
    "        train_preds[:,0] += q_train[:,j]*cluster_preds[:,0]\n",
    "        train_preds[:,1] += q_train[:,j]*cluster_preds[:,1]\n",
    "\n",
    "        X_cluster = z_train[cluster_id]\n",
    "        cluster_preds = model.classifiers[j][0](X_cluster)\n",
    "        train_loss += torch.sum(q_train[cluster_id,j]*criterion(cluster_preds, y_cluster))\n",
    "        # B.append(torch.max(torch.linalg.norm(X_cluster, axis=1), axis=0).values)\n",
    "\n",
    "\n",
    "    train_loss /= len(z_train)\n",
    "    e_train_loss = torch.mean(criterion(train_preds, torch.Tensor(y_train).type(torch.LongTensor)))\n",
    "\n",
    "    # Evaluate model on Validation set\n",
    "    qs, z_val = model(torch.FloatTensor(X_val).to(args.device), output=\"latent\")\n",
    "    q_val = qs[0]\n",
    "    cluster_ids_val = torch.argmax(q_val, axis=1)\n",
    "    preds = torch.zeros((len(z_val), 2))\n",
    "\n",
    "    # Weighted predictions\n",
    "    for j in range(model.n_clusters):\n",
    "        cluster_id = np.where(cluster_ids_val == j)[0]\n",
    "        X_cluster = z_val\n",
    "        cluster_preds = model.classifiers[j][0](X_cluster)\n",
    "        preds[:,0] += q_val[:,j]*cluster_preds[:,0]\n",
    "        preds[:,1] += q_val[:,j]*cluster_preds[:,1]\n",
    "\n",
    "    val_f1  = f1_score(y_val, np.argmax(preds.detach().numpy(), axis=1))\n",
    "    val_auc = roc_auc_score(y_val, preds[:,1].detach().numpy())\n",
    "    val_sil = silhouette_new(z_val.data.cpu().numpy(), cluster_ids_val.data.cpu().numpy(), metric='euclidean')\n",
    "\n",
    "    val_loss = torch.mean(criterion(preds, torch.Tensor(y_val).type(torch.LongTensor)))\n",
    "    # record validation loss\n",
    "    # valid_losses.append(loss.item())\n",
    "\n",
    "    # calculate average loss over an epoch\n",
    "    # valid_loss = np.average(valid_losses)\n",
    "    # avg_valid_losses.append(valid_loss)\n",
    "\n",
    "    epoch_len = len(str(N_EPOCHS))\n",
    "\n",
    "    print_msg = (f'\\n[{epoch:>{epoch_len}}/{N_EPOCHS:>{epoch_len}}] ' +\n",
    "                 f'train_loss: {train_loss:.3f} ' +\n",
    "                 f'valid_loss: {val_loss:.3f} '  +\n",
    "                 f'valid_F1: {val_f1:.3f} '  +\n",
    "                 f'valid_AUC: {val_auc:.3f} ' +\n",
    "                 f'valid_Sil: {val_sil:.3f}')\n",
    "\n",
    "    print(print_msg)\n",
    "\n",
    "    # early_stopping needs the validation loss to check if it has decresed, \n",
    "    # and if it has, it will make a checkpoint of the current model\n",
    "    es([val_f1, val_auc], model)\n",
    "    if es.early_stop == True:\n",
    "        train_losses.append(train_loss.item())\n",
    "        e_train_losses.append(e_train_loss.item())\n",
    "        sil_scores.append(silhouette_new(z_train.data.cpu().numpy(), cluster_ids_train.data.cpu().numpy(), metric='euclidean'))\n",
    "        nhfd_scores.append(calculate_nhfd(X_train,  cluster_ids_train))\n",
    "        mifd_scores.append(calculate_MIFD(X_train,  cluster_ids_train))\n",
    "        # model_complexity.append(calculate_bound(model, B, len(z_train)))\n",
    "        break\n"
   ]
  },
  {
   "cell_type": "markdown",
   "id": "e49629bb",
   "metadata": {},
   "source": [
    "## Evaluating on Test Data"
   ]
  },
  {
   "cell_type": "code",
   "execution_count": null,
   "id": "fc6cdc82",
   "metadata": {},
   "outputs": [],
   "source": [
    "print(\"\\n####################################################################################\\n\")\n",
    "print(\"Evaluating Test Data with k = \", args.n_clusters, \" Attention = \", args.attention)\n",
    "\n",
    "# Load best model trained from local training phase\n",
    "model = es.load_checkpoint(model)\n",
    "\n",
    "# # Evaluate model on Test dataset\n",
    "qs, z_test = model(torch.FloatTensor(X_test).to(args.device), output=\"latent\")\n",
    "q_test = qs[0]\n",
    "cluster_ids = torch.argmax(q_test, axis=1)\n",
    "# cluster_ids = np.argmax(distance_matrix(z_test.data.cpu().numpy(), model.cluster_layer.data.cpu().numpy()), axis=1)\n",
    "test_preds_e = torch.zeros((len(z_test), 2))\n",
    "\n",
    "test_loss = 0\n",
    "e_test_loss = 0\n",
    "local_sum_loss = 0\n",
    "\n",
    "# Weighted predictions\n",
    "for j in range(model.n_clusters):\n",
    "    cluster_id = np.where(cluster_ids == j)[0]\n",
    "    X_cluster = z_test\n",
    "    cluster_test_preds = model.classifiers[j][0](X_cluster)\n",
    "    test_preds_e[:,0] += q_test[:,j]*cluster_test_preds[:,0]\n",
    "    test_preds_e[:,1] += q_test[:,j]*cluster_test_preds[:,1]\n",
    "\n",
    "e_test_loss = torch.mean(criterion(test_preds_e, torch.Tensor(y_test).type(torch.LongTensor)))\n",
    "e_test_f1 = f1_score(y_test, np.argmax(test_preds_e.detach().numpy(), axis=1))\n",
    "e_test_auc = roc_auc_score(y_test, test_preds_e[:,1].detach().numpy())\n",
    "e_test_acc = accuracy_score(y_test, np.argmax(test_preds_e.detach().numpy(), axis=1))\n",
    "e_test_nhfd = calculate_nhfd(X_test, cluster_ids)\n",
    "\n",
    "test_preds = torch.zeros((len(z_test), 2))\n",
    "\n",
    "# Hard local predictions\n",
    "for j in range(model.n_clusters):\n",
    "    cluster_id = np.where(cluster_ids == j)[0]\n",
    "    X_cluster = z_test[cluster_id]\n",
    "    y_cluster = torch.Tensor(y_test[cluster_id]).type(torch.LongTensor)\n",
    "    cluster_test_preds = model.classifiers[j][0](X_cluster)\n",
    "    test_preds[cluster_id,:] = cluster_test_preds\n",
    "    local_sum_loss += torch.sum(q_test[cluster_id,j]*criterion(cluster_test_preds, y_cluster))\n",
    "\n",
    "test_f1 = f1_score(y_test, np.argmax(test_preds.detach().numpy(), axis=1))\n",
    "test_auc = roc_auc_score(y_test, test_preds[:,1].detach().numpy())\n",
    "test_acc = accuracy_score(y_test, np.argmax(test_preds.detach().numpy(), axis=1))\n",
    "test_loss = torch.mean(criterion(test_preds, torch.Tensor(y_test).type(torch.LongTensor)))\n",
    "local_sum_loss /= len(X_test)\n",
    "\n",
    "test_losses.append(test_loss.item())\n",
    "e_test_losses.append(e_test_loss.item())\n",
    "local_sum_test_losses.append(local_sum_loss.item())\n",
    "\n",
    "# enablePrint()\n",
    "# print(\"Run #{}\".format(r))\n",
    "\n",
    "print('Loss Metrics - Test Loss {:.3f}, E-Test Loss {:.3f}, Local Sum Test Loss {:.3f}'.format(test_loss, e_test_loss, local_sum_loss))\n",
    "\n",
    "print('Clustering Metrics     - Acc {:.4f}'.format(acc), ', nmi {:.4f}'.format(nmi),\\\n",
    "      ', ari {:.4f}, NHFD {:.3f}'.format(ari, e_test_nhfd))\n",
    "\n",
    "print('Classification Metrics - Test F1 {:.3f}, Test AUC {:.3f}, Test ACC {:.3f}'.format(test_f1, test_auc, test_acc),\\\n",
    "    ', E-Test F1 {:.3f}, E-Test AUC {:.3f}, E-Test ACC {:.3f}'.format(e_test_f1, e_test_auc, e_test_acc))\n",
    "\n",
    "print(\"\\n\")\n",
    "f1_scores.append(e_test_f1)\n",
    "auc_scores.append(e_test_auc)\n",
    "# acc_scores.append(e_test_acc)\n",
    "mifd_scores = []\n",
    "print(\"\\n\")\n",
    "print(\"Test F1: \", f1_scores)\n",
    "print(\"Test AUC: \", auc_scores)\n",
    "\n",
    "print(\"Sil scores: \", sil_scores)\n",
    "print(\"NHFD: \", nhfd_scores)\n",
    "print(\"MIFD: \", mifd_scores)\n",
    "\n",
    "print(\"Train Loss: \", train_losses)\n",
    "print(\"E-Train Loss: \", e_train_losses)\n",
    "\n",
    "print(\"Test Loss: \", test_losses)\n",
    "print(\"E-Test Loss: \", e_test_losses)\n",
    "print(\"Local Test Loss: \", local_sum_test_losses)\n",
    "\n",
    "print(\"Model Complexity: \", model_complexity)\n",
    "\n",
    "# enablePrint()\n",
    "print(\"Dataset\\tk\\tF1\\tAUC\\tACC\\tSIL\\tNHFD\\tMIFD\\tW-NHFD\")\n",
    "\n",
    "print(\"{}\\t{}\\t{:.3f}\\t{:.3f}\\t{:.3f}\\t{:.3f}\\t{:.3f}\\t{:.3f}\".format\\\n",
    "    (args.dataset, args.n_clusters, np.average(f1_scores), np.average(auc_scores),\\\n",
    "    np.average(acc_scores), np.average(sil_scores), np.average(nhfd_scores),\\\n",
    "    np.average(mifd_scores), np.average(w_nhfd_scores)))\n",
    "\n",
    "print(\"\\n\")"
   ]
  },
  {
   "cell_type": "markdown",
   "id": "e8351ea7",
   "metadata": {},
   "source": [
    "### K-Means feature segregation ... "
   ]
  },
  {
   "cell_type": "code",
   "execution_count": 35,
   "id": "dda312cd",
   "metadata": {},
   "outputs": [
    {
     "ename": "NameError",
     "evalue": "name 'KMeans' is not defined",
     "output_type": "error",
     "traceback": [
      "\u001b[0;31m---------------------------------------------------------------------------\u001b[0m",
      "\u001b[0;31mNameError\u001b[0m                                 Traceback (most recent call last)",
      "\u001b[0;32m/var/folders/s4/8ld2kcdn6l143yw8rwv3fx9r0000gn/T/ipykernel_86948/2472071341.py\u001b[0m in \u001b[0;36m<module>\u001b[0;34m\u001b[0m\n\u001b[1;32m      1\u001b[0m \u001b[0;32mfrom\u001b[0m \u001b[0msklearn\u001b[0m\u001b[0;34m.\u001b[0m\u001b[0mmetrics\u001b[0m\u001b[0;34m.\u001b[0m\u001b[0mcluster\u001b[0m \u001b[0;32mimport\u001b[0m \u001b[0madjusted_rand_score\u001b[0m \u001b[0;32mas\u001b[0m \u001b[0mari_score\u001b[0m\u001b[0;34m\u001b[0m\u001b[0;34m\u001b[0m\u001b[0m\n\u001b[0;32m----> 2\u001b[0;31m \u001b[0mkm\u001b[0m \u001b[0;34m=\u001b[0m \u001b[0mKMeans\u001b[0m\u001b[0;34m(\u001b[0m\u001b[0mn_clusters\u001b[0m\u001b[0;34m=\u001b[0m\u001b[0margs\u001b[0m\u001b[0;34m.\u001b[0m\u001b[0mn_clusters\u001b[0m\u001b[0;34m,\u001b[0m \u001b[0mn_init\u001b[0m\u001b[0;34m=\u001b[0m\u001b[0;36m20\u001b[0m\u001b[0;34m)\u001b[0m\u001b[0;34m\u001b[0m\u001b[0;34m\u001b[0m\u001b[0m\n\u001b[0m\u001b[1;32m      3\u001b[0m \u001b[0mcluster_ids\u001b[0m \u001b[0;34m=\u001b[0m \u001b[0mtorch\u001b[0m\u001b[0;34m.\u001b[0m\u001b[0margmax\u001b[0m\u001b[0;34m(\u001b[0m\u001b[0mq_train\u001b[0m\u001b[0;34m,\u001b[0m \u001b[0maxis\u001b[0m\u001b[0;34m=\u001b[0m\u001b[0;36m1\u001b[0m\u001b[0;34m)\u001b[0m\u001b[0;34m.\u001b[0m\u001b[0mdata\u001b[0m\u001b[0;34m.\u001b[0m\u001b[0mcpu\u001b[0m\u001b[0;34m(\u001b[0m\u001b[0;34m)\u001b[0m\u001b[0;34m.\u001b[0m\u001b[0mnumpy\u001b[0m\u001b[0;34m(\u001b[0m\u001b[0;34m)\u001b[0m\u001b[0;34m\u001b[0m\u001b[0;34m\u001b[0m\u001b[0m\n\u001b[1;32m      4\u001b[0m \u001b[0mn_features\u001b[0m \u001b[0;34m=\u001b[0m \u001b[0mX_train\u001b[0m\u001b[0;34m.\u001b[0m\u001b[0mshape\u001b[0m\u001b[0;34m[\u001b[0m\u001b[0;36m1\u001b[0m\u001b[0;34m]\u001b[0m\u001b[0;34m\u001b[0m\u001b[0;34m\u001b[0m\u001b[0m\n\u001b[1;32m      5\u001b[0m \u001b[0mnmi_scores\u001b[0m \u001b[0;34m=\u001b[0m \u001b[0;34m{\u001b[0m\u001b[0;34m}\u001b[0m\u001b[0;34m\u001b[0m\u001b[0;34m\u001b[0m\u001b[0m\n",
      "\u001b[0;31mNameError\u001b[0m: name 'KMeans' is not defined"
     ]
    }
   ],
   "source": [
    "from sklearn.metrics.cluster import adjusted_rand_score as ari_score\n",
    "km = KMeans(n_clusters=args.n_clusters, n_init=20)\n",
    "cluster_ids = torch.argmax(q_train, axis=1).data.cpu().numpy()\n",
    "n_features = X_train.shape[1]\n",
    "nmi_scores = {}\n",
    "ari_scores = {}\n",
    "nmi_sum = 0\n",
    "ari_sum = 0\n",
    "for feature in range(n_features):\n",
    "    feature_labels = km.fit(X_train[:,feature].reshape(-1,1)).labels_\n",
    "    nmi = nmi_score(feature_labels, cluster_ids)\n",
    "    ari = ari_score(feature_labels, cluster_ids)\n",
    "    nmi_sum += nmi\n",
    "    ari_sum += ari\n",
    "    nmi_scores[column_names[feature]] = np.round(nmi, 3)\n",
    "    ari_scores[column_names[feature]] = np.round(ari, 3)\n",
    "\n",
    "nmi_sum, ari_sum\n",
    "{k: v for k, v in sorted(nmi_scores.items(), key=lambda item: item[1])}\n",
    "{k: v for k, v in sorted(ari_scores.items(), key=lambda item: item[1])}"
   ]
  },
  {
   "cell_type": "code",
   "execution_count": 8,
   "id": "31ba752d",
   "metadata": {},
   "outputs": [
    {
     "name": "stdout",
     "output_type": "stream",
     "text": [
      "tensor([[ -0.0470,   3.9581,  -0.6811,  ...,  -0.7307,   0.3996,  -0.1538],\n",
      "        [  0.7745,  16.7383,  -4.1157,  ...,  -3.1421,   1.0533,  -1.2180],\n",
      "        [  1.2878,  41.3400, -11.4000,  ...,  -8.2573,   3.4354,  -3.5407],\n",
      "        ...,\n",
      "        [ -0.3648,   8.5961,  -0.9250,  ...,  -2.0739,   1.2289,  -0.9856],\n",
      "        [  0.6373,  14.0108,  -2.3756,  ...,  -2.7678,   1.3514,  -1.6754],\n",
      "        [  0.9142,  17.9184,  -5.0957,  ...,  -3.3098,   0.9024,  -1.9583]],\n",
      "       grad_fn=<AddmmBackward>) tensor([[0.0931, 0.0125, 0.8944],\n",
      "        [0.2301, 0.6733, 0.0966],\n",
      "        [0.2583, 0.5373, 0.2044],\n",
      "        ...,\n",
      "        [0.6842, 0.0289, 0.2869],\n",
      "        [0.5611, 0.2685, 0.1704],\n",
      "        [0.1116, 0.8357, 0.0527]], grad_fn=<TBackward>)\n",
      "[0 2 1 ... 0 2 2]\n",
      "0.5554603478570804\n"
     ]
    }
   ],
   "source": [
    "print(z_val, q_val)\n",
    "q_labels = torch.argmax(q_val, axis=1).data.cpu().numpy()\n",
    "km_labels = kmeans.fit_predict(z_val.data.cpu().numpy())\n",
    "print(km_labels)\n",
    "print(nmi_score(q_labels, km_labels))"
   ]
  },
  {
   "cell_type": "code",
   "execution_count": 34,
   "id": "601452dc",
   "metadata": {},
   "outputs": [
    {
     "name": "stderr",
     "output_type": "stream",
     "text": [
      "/Users/shivin/miniconda/lib/python3.8/site-packages/numba/np/ufunc/parallel.py:366: NumbaWarning: The TBB threading layer requires TBB version 2021 update 1 or later i.e., TBB_INTERFACE_VERSION >= 12010. Found TBB_INTERFACE_VERSION = 11000. The TBB threading layer is disabled.\n",
      "  warnings.warn(problem)\n",
      "OMP: Info #276: omp_set_nested routine deprecated, please use omp_set_max_active_levels instead.\n"
     ]
    },
    {
     "name": "stdout",
     "output_type": "stream",
     "text": [
      "Training data\n"
     ]
    },
    {
     "data": {
      "image/png": "[encoded data removed]",
      "text/plain": [
       "<Figure size 432x288 with 2 Axes>"
      ]
     },
     "metadata": {
      "needs_background": "light"
     },
     "output_type": "display_data"
    },
    {
     "name": "stdout",
     "output_type": "stream",
     "text": [
      "Cluster #  0 sized:  5645 +/- 0.05845881310894597\n",
      "[('ICULOS', 0.551), ('Temp', 0.063), ('hospital', 0.046), ('HR', 0.035), ('7_ShockIndex_HR', 0.024), ('O2Sat', 0.02), ('23_PartialSOFA_SBP', 0.02), ('17_PartialSOFA_SBP', 0.019), ('Calcium', 0.012), ('6_ShockIndex_HR', 0.011)]\n",
      "=========================\n",
      "\n",
      "Cluster #  1 sized:  6094 +/- 0.12881522809320645\n",
      "[('ICULOS', 0.397), ('O2Sat', 0.178), ('HR', 0.041), ('22_PartialSOFA_SBP', 0.03), ('7_PartialSOFA_SBP', 0.022), ('Calcium', 0.02), ('Temp', 0.019), ('EtCO2', 0.017), ('WBC', 0.017), ('19_PartialSOFA_SBP', 0.015)]\n",
      "=========================\n",
      "\n",
      "Cluster #  2 sized:  5888 +/- 0.04228940217391304\n",
      "[('ICULOS', 0.39), ('Temp', 0.161), ('WBC', 0.057), ('7_PartialSOFA_SBP', 0.044), ('HR', 0.036), ('hospital', 0.036), ('O2Sat', 0.023), ('Magnesium', 0.023), ('Lactate', 0.022), ('16_PartialSOFA_SBP', 0.022)]\n",
      "=========================\n",
      "\n",
      "Cluster #  3 sized:  5057 +/- 0.05774174411706545\n",
      "[('ICULOS', 0.73), ('Temp', 0.058), ('hospital', 0.036), ('17_PartialSOFA_SBP', 0.015), ('4_ShockIndex_HR', 0.014), ('7_PartialSOFA_SBP', 0.012), ('O2Sat', 0.011), ('Hct', 0.006), ('Calcium', 0.006), ('WBC', 0.006)]\n",
      "=========================\n",
      "\n"
     ]
    }
   ],
   "source": [
    "####################################################################################\n",
    "####################################################################################\n",
    "####################################################################################\n",
    "################################### Feature Imp. ###################################\n",
    "####################################################################################\n",
    "####################################################################################\n",
    "####################################################################################\n",
    "\n",
    "plot(model, torch.FloatTensor(X_train).to(args.device), y_train, labels=None)\n",
    "\n",
    "regs = [GradientBoostingRegressor(random_state=0) for _ in range(args.n_clusters)]\n",
    "qs, z_train = model(torch.FloatTensor(X_train).to(args.device), output=\"latent\")\n",
    "q_train = qs[0]\n",
    "cluster_ids = torch.argmax(q_train, axis=1)\n",
    "preds_e = torch.zeros((len(z_train), 2))\n",
    "feature_importances = np.zeros((args.n_clusters, args.input_dim))\n",
    "\n",
    "# Weighted predictions\n",
    "for j in range(model.n_clusters):\n",
    "    cluster_id = np.where(cluster_ids == j)[0]\n",
    "    # X_cluster = z_test[cluster_id]\n",
    "    X_cluster = z_train\n",
    "    cluster_preds = model.classifiers[j][0](X_cluster)\n",
    "    # print(q_test, cluster_preds[:,0])\n",
    "    preds_e[:,0] += q_train[:,j]*cluster_preds[:,0]\n",
    "    preds_e[:,1] += q_train[:,j]*cluster_preds[:,1]\n",
    "\n",
    "for j in range(model.n_clusters):\n",
    "    cluster_id = torch.where(cluster_ids == j)[0]\n",
    "    X_cluster = X_train[cluster_id]\n",
    "    if args.attention == True:\n",
    "        y_cluster = preds_e[cluster_id][:,1]\n",
    "    else:\n",
    "        y_cluster = preds[cluster_id][:,1]\n",
    "\n",
    "    # Some test data might not belong to any cluster\n",
    "    if len(cluster_id) > 0:\n",
    "        regs[j].fit(X_cluster, y_cluster.detach().cpu().numpy())\n",
    "        best_features = np.argsort(regs[j].feature_importances_)[::-1][:10]\n",
    "        feature_importances[j,:] = regs[j].feature_importances_\n",
    "        print(\"Cluster # \", j, \"sized: \", len(cluster_id), \"+/-\", sum(y_train[cluster_id])/len(cluster_id))\n",
    "        print(list(zip(column_names[best_features], np.round(regs[j].feature_importances_[best_features], 3))))\n",
    "        print(\"=========================\\n\")\n"
   ]
  },
  {
   "cell_type": "markdown",
   "id": "f62d9fb7",
   "metadata": {},
   "source": [
    "## Baseline Model"
   ]
  },
  {
   "cell_type": "code",
   "execution_count": 10,
   "id": "aa21f9e5",
   "metadata": {
    "code_folding": []
   },
   "outputs": [
    {
     "ename": "NameError",
     "evalue": "name 'NNClassifier' is not defined",
     "output_type": "error",
     "traceback": [
      "\u001b[0;31m---------------------------------------------------------------------------\u001b[0m",
      "\u001b[0;31mNameError\u001b[0m                                 Traceback (most recent call last)",
      "\u001b[0;32m<ipython-input-10-3c1310b02c60>\u001b[0m in \u001b[0;36m<module>\u001b[0;34m\u001b[0m\n\u001b[1;32m      2\u001b[0m \u001b[0;34m\u001b[0m\u001b[0m\n\u001b[1;32m      3\u001b[0m \u001b[0;32mfor\u001b[0m \u001b[0mr\u001b[0m \u001b[0;32min\u001b[0m \u001b[0mrange\u001b[0m\u001b[0;34m(\u001b[0m\u001b[0;36m5\u001b[0m\u001b[0;34m)\u001b[0m\u001b[0;34m:\u001b[0m\u001b[0;34m\u001b[0m\u001b[0;34m\u001b[0m\u001b[0m\n\u001b[0;32m----> 4\u001b[0;31m     \u001b[0mm\u001b[0m \u001b[0;34m=\u001b[0m \u001b[0mNNClassifier\u001b[0m\u001b[0;34m(\u001b[0m\u001b[0margs\u001b[0m\u001b[0;34m,\u001b[0m \u001b[0minput_dim\u001b[0m\u001b[0;34m=\u001b[0m\u001b[0;36m89\u001b[0m\u001b[0;34m)\u001b[0m\u001b[0;34m\u001b[0m\u001b[0;34m\u001b[0m\u001b[0m\n\u001b[0m\u001b[1;32m      5\u001b[0m     \u001b[0mdevice\u001b[0m \u001b[0;34m=\u001b[0m \u001b[0margs\u001b[0m\u001b[0;34m.\u001b[0m\u001b[0mdevice\u001b[0m\u001b[0;34m\u001b[0m\u001b[0;34m\u001b[0m\u001b[0m\n\u001b[1;32m      6\u001b[0m \u001b[0;34m\u001b[0m\u001b[0m\n",
      "\u001b[0;31mNameError\u001b[0m: name 'NNClassifier' is not defined"
     ]
    }
   ],
   "source": [
    "f1_scores, auc_scores = [], []\n",
    "\n",
    "for r in range(5):\n",
    "    m = NNClassifier(args, input_dim=89)\n",
    "    device = args.device\n",
    "\n",
    "    N_EPOCHS = args.n_epochs\n",
    "    es = EarlyStopping(dataset=args.dataset, path=\"./pretrained_model/checkpoint_base\")\n",
    "\n",
    "    kmeans = KMeans(n_clusters=args.n_classes, n_init=20)\n",
    "\n",
    "    for e in range(1, N_EPOCHS):\n",
    "        epoch_loss = 0\n",
    "        epoch_acc = 0\n",
    "        epoch_f1 = 0\n",
    "        m.train()\n",
    "        nmi, acc, ari = 0, 0, 0\n",
    "\n",
    "#         for X_batch, y_batch, _ in train_loader:\n",
    "        X_batch, y_batch = torch.FloatTensor(X_train), torch.Tensor(y_train).type(torch.LongTensor)\n",
    "        y_pred, train_loss = m.fit(X_batch, y_batch)\n",
    "        epoch_loss += train_loss\n",
    "\n",
    "        f1 = f1_score(np.argmax(y_pred, axis=1), y_batch)\n",
    "        acc = roc_auc_score(y_batch, y_pred[:,1])\n",
    "        epoch_acc += acc.item()\n",
    "        epoch_f1 += f1.item()\n",
    "\n",
    "\n",
    "        m.classifier.eval()\n",
    "        val_pred = m(torch.FloatTensor(X_val).to(args.device))\n",
    "        val_loss = nn.CrossEntropyLoss(reduction='mean')(val_pred, torch.Tensor(y_val).type(torch.LongTensor))\n",
    "\n",
    "        val_f1 = f1_score(torch.argmax(val_pred, axis=1), y_val)\n",
    "        val_auc = roc_auc_score(y_val, val_pred[:,1].data.cpu().numpy())\n",
    "        es([val_f1, val_auc], m)\n",
    "\n",
    "        print(f'Epoch {e+0:03}: | Train Loss: {epoch_loss/len(train_loader):.5f} | ',\n",
    "            f'Train F1: {epoch_f1/len(train_loader):.3f} | Train Acc: {epoch_acc/len(train_loader):.3f}| ',\n",
    "            f'Val F1: {val_f1:.3f} | Val Acc: {val_auc:.3f} | Val Loss: {val_loss:.3f}')\n",
    "\n",
    "        if es.early_stop == True:\n",
    "            break\n",
    "\n",
    "\n",
    "    ###################################### Testing #####################################\n",
    "\n",
    "    print(\"\\n####################################################################################\\n\")\n",
    "    print(\"Evaluating Test Data\")\n",
    "\n",
    "    # Load best model trained from local training phase\n",
    "    m = es.load_checkpoint(m)\n",
    "    m.classifier.eval()\n",
    "    test_pred = m.classifier(torch.FloatTensor(X_test))\n",
    "    test_loss = nn.CrossEntropyLoss(reduction='mean')(test_pred, torch.Tensor(y_test).type(torch.LongTensor))\n",
    "\n",
    "    test_f1 = f1_score(np.argmax(test_pred.detach().numpy(), axis=1), y_test)\n",
    "    test_auc = roc_auc_score(y_test, test_pred[:,1].detach().numpy())\n",
    "    f1_scores.append(test_f1)\n",
    "    auc_scores.append(test_auc)\n",
    "    \n",
    "    print(f'Epoch {e+0:03}: | Train Loss: {epoch_loss/len(train_loader):.5f} | ',\n",
    "        f'Train F1: {epoch_f1/len(train_loader):.3f} | Train Acc: {epoch_acc/len(train_loader):.3f}| ',\n",
    "        f'Test F1: {test_f1:.3f} | Test Acc: {test_auc:.3f} | Test Loss: {test_loss:.3f}')\n",
    "\n",
    "\n",
    "#     reg = GradientBoostingRegressor(random_state=0)\n",
    "\n",
    "#     reg.fit(X_test, y_test)\n",
    "#     best_features = np.argsort(reg.feature_importances_)[::-1][:10]\n",
    "#     print(\"Best Features \")\n",
    "#     print(column_names[best_features])\n",
    "#     print(\"=========================\\n\")\n",
    "print(f1_scores, auc_scores)\n",
    "print(\"Avg. Test F1 = {:.3f}, AUC = {:.3f}\".format(np.average(f1_scores), np.average(auc_scores)))"
   ]
  },
  {
   "cell_type": "code",
   "execution_count": null,
   "id": "32b388fc",
   "metadata": {},
   "outputs": [],
   "source": []
  }
 ],
 "metadata": {
  "kernelspec": {
   "display_name": "Python 3 (ipykernel)",
   "language": "python",
   "name": "python3"
  },
  "language_info": {
   "codemirror_mode": {
    "name": "ipython",
    "version": 3
   },
   "file_extension": ".py",
   "mimetype": "text/x-python",
   "name": "python",
   "nbconvert_exporter": "python",
   "pygments_lexer": "ipython3",
   "version": "3.8.5"
  }
 },
 "nbformat": 4,
 "nbformat_minor": 5
}
