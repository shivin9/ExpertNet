{
 "cells": [
  {
   "cell_type": "code",
   "execution_count": 1,
   "id": "650c3f90",
   "metadata": {},
   "outputs": [
    {
     "name": "stdout",
     "output_type": "stream",
     "text": [
      "/Users/shivin/Document/NUS/Research/CAC/CAC_DL/DeepCAC\n"
     ]
    }
   ],
   "source": [
    "%cd ../"
   ]
  },
  {
   "cell_type": "code",
   "execution_count": 3,
   "id": "1fa1a3c5",
   "metadata": {},
   "outputs": [],
   "source": [
    "from __future__ import print_function, division\n",
    "import copy\n",
    "import torch\n",
    "import argparse\n",
    "import numpy as np\n",
    "import os\n",
    "from torchvision import datasets, transforms\n",
    "from sklearn.metrics import adjusted_rand_score, normalized_mutual_info_score,\\\n",
    "f1_score, roc_auc_score, roc_curve, accuracy_score, matthews_corrcoef as mcc\n",
    "from torch.utils.data import Subset\n",
    "import pandas as pd\n",
    "from scipy.spatial import distance_matrix\n",
    "\n",
    "import argparse\n",
    "import numpy as np\n",
    "from sklearn.cluster import KMeans\n",
    "from sklearn.metrics.cluster import normalized_mutual_info_score as nmi_score\n",
    "from sklearn.metrics import adjusted_rand_score as ari_score\n",
    "from sklearn.ensemble import GradientBoostingRegressor\n",
    "import torch.nn as nn\n",
    "import torch.nn.functional as F\n",
    "from torch.nn.parameter import Parameter\n",
    "from torch.optim import Adam\n",
    "from torch.utils.data import DataLoader, random_split\n",
    "from torch.nn import Linear\n",
    "from pytorchtools import EarlyStoppingCAC\n",
    "from sklearn.preprocessing import label_binarize\n",
    "\n",
    "import numbers\n",
    "from sklearn.metrics import davies_bouldin_score as dbs, adjusted_rand_score as ari\n",
    "from matplotlib import pyplot as plt\n",
    "color = ['grey', 'red', 'blue', 'pink', 'brown', 'black', 'magenta', 'purple', 'orange', 'cyan', 'olive']\n",
    "\n",
    "from models import MultiHeadIDEC,  target_distribution, source_distribution\n",
    "from utils import *"
   ]
  },
  {
   "cell_type": "code",
   "execution_count": 4,
   "id": "49edcbc2",
   "metadata": {},
   "outputs": [],
   "source": [
    "# Dataset parameters\n",
    "params = {\n",
    "'dir' : 'synthetic',\n",
    "'dataset' : 'cic_los',\n",
    "\n",
    "# Training parameters\n",
    "'lr' : 0.002,\n",
    "'alpha' : 1,\n",
    "'wd' : 5e-4,\n",
    "'batch_size' : 512,\n",
    "'n_epochs' : 100,\n",
    "'pre_epoch' : 40,\n",
    "'pretrain' : True,\n",
    "\"load_ae\": False,\n",
    "\"classifier\": \"LR\",\n",
    "\"tol\": 0.01,\n",
    "\"attention\": \"True\",\n",
    "\"ablation\": 'None',\n",
    "\"verbose\": 'True',\n",
    "\n",
    "# Model parameters\n",
    "'lamda' : 1,\n",
    "'beta' : 0.5, # KL loss/KM loss weight\n",
    "'gamma' : 1.5, # Classification loss weight\n",
    "'delta' : 0.1, # Class Balance weight\n",
    "'eta' : 0.0, # Class separation weight\n",
    "'hidden_dims' : [64, 32],\n",
    "'n_z' : 20,\n",
    "'n_clusters' : 3,\n",
    "'clustering' : 'cac',\n",
    "'n_classes'  : 3,\n",
    "\n",
    "# Utility parameters\n",
    "'n_jobs' : 6,\n",
    "'device' : 'cpu',\n",
    "'log_interval' : 2,   \n",
    "'cluster_balance' : 'hellinger',\n",
    "'pretrain_path': '/Users/shivin/Document/NUS/Research/CAC/CAC_DL/DeepCAC/pretrained_model'}\n",
    "# 'pretrain_path': ''}\n",
    "\n",
    "\n",
    "class parameters(object):\n",
    "    def __init__(self, params):\n",
    "        self.dir = params['dir']\n",
    "        self.input_dim = -1\n",
    "        self.dataset = params['dataset']\n",
    "        \n",
    "        # Training parameters\n",
    "        self.lr = params['lr']\n",
    "        self.alpha = params['alpha']\n",
    "        self.wd = params['wd']\n",
    "        self.batch_size = params['batch_size']\n",
    "        self.n_epochs = params['n_epochs']\n",
    "        self.pre_epoch = params['pre_epoch']\n",
    "        self.pretrain = params['pretrain']\n",
    "        self.load_ae = params['load_ae']\n",
    "        self.classifier = params['classifier']\n",
    "        self.tol = params['tol']\n",
    "        self.attention = params['attention'] == \"True\"\n",
    "        self.ablation = params['ablation']\n",
    "        self.verbose = params['verbose']\n",
    "\n",
    "        # Model parameters\n",
    "        self.lamda = params['lamda']\n",
    "        self.beta = params['beta']\n",
    "        self.gamma = params['gamma']\n",
    "        self.delta = params['delta']\n",
    "        self.eta = params['eta']\n",
    "        self.hidden_dims = params['hidden_dims']\n",
    "        self.latent_dim = self.n_z = params['n_z']\n",
    "        self.n_clusters = params['n_clusters']\n",
    "        self.clustering = params['clustering']\n",
    "        self.n_classes = params['n_classes']\n",
    "        self.cluster_balance = params['cluster_balance']\n",
    "\n",
    "        # Utility parameters\n",
    "        self.n_jobs = params['n_jobs']\n",
    "        self.device = params['device']\n",
    "        self.log_interval = params['log_interval']\n",
    "        self.pretrain_path = params['pretrain_path'] + \"/\" + self.dataset + \".pth\"\n",
    "\n",
    "args = parameters(params)\n",
    "datasets = ['titanic', 'magic', 'creditcard', 'adult', 'diabetes',\\\n",
    "            'cic', 'sepsis', 'synthetic', 'paper_synthetic', 'aki', 'infant', 'wid_mortality']"
   ]
  },
  {
   "cell_type": "code",
   "execution_count": 5,
   "id": "f7a76ae4",
   "metadata": {},
   "outputs": [
    {
     "name": "stdout",
     "output_type": "stream",
     "text": [
      "n_clusters 3\n",
      "alpha 1\n",
      "beta 0.5\n",
      "gamma 1.5\n",
      "delta 0.1\n",
      "cic_los\n"
     ]
    }
   ],
   "source": [
    "base_suffix = \"\"\n",
    "\n",
    "for key in ['n_clusters', 'alpha', 'beta', 'gamma', 'delta']:\n",
    "    print(key, args.__dict__[key])\n",
    "\n",
    "base_suffix += args.dataset + \"_\"\n",
    "base_suffix += str(args.n_clusters) + \"_\"\n",
    "base_suffix += str(args.attention)\n",
    "\n",
    "scale, column_names, train_data, val_data, test_data = get_train_val_test_loaders(args)\n",
    "X_train, y_train, train_loader = train_data\n",
    "X_val, y_val, val_loader = val_data\n",
    "X_test, y_test, test_loader = test_data\n",
    "# X_train = X_train[:,:42]\n",
    "# args.input_dim = 42"
   ]
  },
  {
   "cell_type": "code",
   "execution_count": null,
   "id": "437bf7a5",
   "metadata": {},
   "outputs": [],
   "source": [
    "####################################################################################\n",
    "####################################################################################\n",
    "####################################################################################\n",
    "################################### Initialiation ##################################\n",
    "####################################################################################\n",
    "####################################################################################\n",
    "####################################################################################\n",
    "\n",
    "f1_scores, auc_scores, acc_scores = [], [], [] #Inattentive test results\n",
    "e_f1_scores, e_auc_scores, e_acc_scores = [], [], [] #Attentive test results\n",
    "sil_scores, wdfd_scores, nhfd_scores, w_nhfd_scores = [], [], [], []\n",
    "\n",
    "# to track the training loss as the model trains\n",
    "train_losses, e_train_losses = [], []\n",
    "test_losses, e_test_losses, local_sum_test_losses = [], [], []\n",
    "model_complexity = []\n",
    "\n",
    "if args.ablation == \"alpha\":\n",
    "    iter_array = alphas\n",
    "    iteration_name = \"Alpha\"\n",
    "\n",
    "elif args.ablation == \"beta\":\n",
    "    iter_array = betas\n",
    "    iteration_name = \"Beta\"\n",
    "\n",
    "elif args.ablation == \"gamma\":\n",
    "    iter_array = gammas\n",
    "    iteration_name = \"Gamma\"\n",
    "\n",
    "elif args.ablation == \"delta\":\n",
    "    iter_array = deltas\n",
    "    iteration_name = \"Delta\"\n",
    "\n",
    "elif args.ablation == \"k\":\n",
    "    iter_array = ks\n",
    "    iteration_name = \"K\"\n",
    "\n",
    "else:\n",
    "    iter_array = range(3)\n",
    "    iteration_name = \"Run\"\n",
    "\n",
    "for r in range(len(iter_array)):\n",
    "    if args.verbose == 'False':\n",
    "        blockPrint()\n",
    "\n",
    "    print(iteration_name, \":\", iter_array[r])\n",
    "\n",
    "    if args.ablation == \"beta\":\n",
    "        args.beta = iter_array[r]\n",
    "\n",
    "    elif args.ablation == \"gamma\":\n",
    "        args.gamma = iter_array[r]\n",
    "\n",
    "    elif args.ablation == \"delta\":\n",
    "        args.delta = iter_array[r]\n",
    "\n",
    "    elif args.ablation == \"k\":\n",
    "        args.n_clusters = iter_array[r]\n",
    "\n",
    "    suffix = base_suffix + \"_\" + iteration_name + \"_\" + str(iter_array[r])\n",
    "    model = MultiHeadIDEC(\n",
    "            n_enc_1=128,\n",
    "            n_enc_2=64,\n",
    "            n_enc_3=32,\n",
    "            n_dec_1=32,\n",
    "            n_dec_2=64,\n",
    "            n_dec_3=128,\n",
    "            args=args).to(args.device)\n",
    "\n",
    "    model.pretrain(train_loader, args.pretrain_path)\n",
    "\n",
    "    optimizer = Adam(model.parameters(), lr=args.lr)\n",
    "\n",
    "    # cluster parameter initiate\n",
    "    device = args.device\n",
    "    y = y_train\n",
    "    x_bar, hidden = model.ae(torch.Tensor(X_train).to(args.device))\n",
    "\n",
    "    kmeans = KMeans(n_clusters=args.n_clusters, n_init=20)\n",
    "    cluster_indices = kmeans.fit_predict(hidden.data.cpu().numpy())\n",
    "    original_cluster_centers = kmeans.cluster_centers_\n",
    "    model.cluster_layer.data = torch.tensor(original_cluster_centers).to(device)\n",
    "\n",
    "    for i in range(args.n_clusters):\n",
    "        cluster_idx = np.where(cluster_indices == i)[0]\n",
    "        cluster_idx_p = np.where(y[cluster_idx] == 1)[0]\n",
    "        cluster_idx_n = np.where(y[cluster_idx] == 0)[0]\n",
    "        hidden_p = hidden[cluster_idx][cluster_idx_p]\n",
    "        hidden_n = hidden[cluster_idx][cluster_idx_n]\n",
    "        \n",
    "        model.p_cluster_layer.data[i,:] = torch.mean(hidden_p, axis=0)\n",
    "        model.n_cluster_layer.data[i,:] = torch.mean(hidden_n, axis=0)\n",
    "\n",
    "    criterion = nn.CrossEntropyLoss(reduction='none')\n",
    "\n",
    "\n",
    "    ####################################################################################\n",
    "    ####################################################################################\n",
    "    ####################################################################################\n",
    "    ################################## Clustering Step #################################\n",
    "    ####################################################################################\n",
    "    ####################################################################################\n",
    "    ####################################################################################\n",
    "\n",
    "\n",
    "    print(\"Starting Training\")\n",
    "    model.train()\n",
    "    N_EPOCHS = args.n_epochs\n",
    "    es = EarlyStoppingCAC(dataset=suffix)\n",
    "\n",
    "    for epoch in range(N_EPOCHS):\n",
    "        # beta = args.beta*(epoch*0.1)/(1+epoch*0.1)\n",
    "        beta = args.beta\n",
    "        # gamma = args.gamma - args.gamma*(epoch*0.1)/(1+epoch*0.1)\n",
    "        gamma = args.gamma\n",
    "        delta = args.delta\n",
    "        eta = args.eta\n",
    "        if epoch % args.log_interval == 0:\n",
    "            print(y_val)\n",
    "            plot(model, torch.FloatTensor(X_val).to(args.device), y_val, labels=None)\n",
    "            model.ae.eval() # prep model for evaluation\n",
    "            for j in range(model.n_clusters):\n",
    "                model.classifiers[j][0].eval()\n",
    "\n",
    "            z_train, _, q_train = model(torch.Tensor(X_train).to(args.device), output=\"decoded\")\n",
    "            q_train, q_train_p, q_train_n = q_train\n",
    "            p_train = target_distribution(q_train.detach())\n",
    "\n",
    "            # evaluate clustering performance\n",
    "            cluster_indices = q_train.detach().cpu().numpy().argmax(1)\n",
    "            preds = torch.zeros((len(z_train), args.n_classes))\n",
    "\n",
    "            # Calculate Training Metrics\n",
    "            nmi, acc, ari = 0, 0, 0\n",
    "            train_loss = 0\n",
    "            B = []\n",
    "\n",
    "            for j in range(model.n_clusters):\n",
    "                cluster_idx = np.where(cluster_indices == j)[0]\n",
    "                X_cluster = z_train[cluster_idx]\n",
    "                y_cluster = torch.Tensor(y_train[cluster_idx]).type(torch.LongTensor).to(model.device)\n",
    "\n",
    "                # B.append(torch.max(torch.linalg.norm(X_cluster, axis=1), axis=0).values)\n",
    "                cluster_preds = model.classifiers[j][0](X_cluster)\n",
    "                train_loss += torch.sum(criterion(cluster_preds, y_cluster))\n",
    "\n",
    "            train_loss /= len(z_train)\n",
    "            # Evaluate model on Validation dataset\n",
    "            qs, z_val = model(torch.FloatTensor(X_val).to(args.device), output=\"latent\")\n",
    "            q_val = qs[0]\n",
    "            cluster_ids = torch.argmax(q_val, axis=1)\n",
    "            preds = torch.zeros((len(z_val), args.n_classes))\n",
    "\n",
    "            # Weighted predictions\n",
    "            if args.attention == False:\n",
    "                for j in range(model.n_clusters):\n",
    "                    cluster_id = np.where(cluster_ids == j)[0]\n",
    "                    X_cluster = z_val[cluster_id]\n",
    "                    cluster_preds_val = model.classifiers[j][0](X_cluster)\n",
    "                    preds[cluster_id,:] = cluster_preds_val\n",
    "\n",
    "            else:\n",
    "                for j in range(model.n_clusters):\n",
    "                    X_cluster = z_val\n",
    "                    cluster_preds = model.classifiers[j][0](X_cluster)\n",
    "                    for c in range(args.n_classes):\n",
    "                        preds[:,c] += q_val[:,j]*cluster_preds[:,c]\n",
    "\n",
    "            print(\"qval\", torch.sum(q_val, axis=0))\n",
    "            print(\"Cluster Counts\", np.bincount(cluster_ids))\n",
    "            # print(\"KL div\", torch.kl_div(torch.sum(q_val, axis=0),\\\n",
    "            #                         torch.ones(args.n_clusters)/args.n_clusters))\n",
    "\n",
    "            # Classification Matrics\n",
    "            val_f1  = f1_score(y_val, np.argmax(preds.detach().numpy(), axis=1), average=\"macro\")\n",
    "            val_auc = multi_class_auc(y_val, preds.detach().numpy(), args.n_classes)\n",
    "\n",
    "            # Clustering Metrics\n",
    "            val_sil = silhouette_new(z_val.data.cpu().numpy(), cluster_ids.data.cpu().numpy(), metric='euclidean')\n",
    "            val_feature_diff = calculate_nhfd(X_val, cluster_ids)\n",
    "            val_MIFD = calculate_MIFD(X_val, cluster_ids)\n",
    "            complexity_term = 0\n",
    "            # complexity_term  = calculate_bound(model, B, len(z_train))\n",
    "\n",
    "            val_loss = torch.mean(criterion(preds, torch.Tensor(y_val).type(torch.LongTensor)))\n",
    "\n",
    "            # # record validation loss\n",
    "            # valid_losses.append(loss.item())\n",
    "\n",
    "            # # calculate average loss over an epoch\n",
    "            # valid_loss = np.average(valid_losses)\n",
    "            # avg_valid_losses.append(valid_loss)\n",
    "\n",
    "            epoch_len = len(str(N_EPOCHS))\n",
    "\n",
    "            print_msg = (f'\\n[{epoch:>{epoch_len}}/{N_EPOCHS:>{epoch_len}}] ' +\n",
    "                         f'train_loss: {train_loss:.3f} ' +\n",
    "                         f'valid_loss: {val_loss:.3f} '  +\n",
    "                         f'valid_F1: {val_f1:.3f} '  +\n",
    "                         f'valid_AUC: {val_auc:.3f} ' + \n",
    "                         f'valid_Feature_p: {val_feature_diff:.3f} ' + \n",
    "                         f'valid_MIFD: {val_MIFD:.3f} ' + \n",
    "                         f'valid_Silhouette: {val_sil:.3f} ' + \n",
    "                         f'Complexity Term: {complexity_term:.3f}')\n",
    "\n",
    "            print(print_msg)\n",
    "\n",
    "            # early_stopping needs the validation loss to check if it has decresed, \n",
    "            # and if it has, it will make a checkpoint of the current model\n",
    "            es([val_f1, val_auc], model)\n",
    "            if es.early_stop == True:\n",
    "                break\n",
    "\n",
    "        # Normal Training\n",
    "        epoch_loss = 0\n",
    "        epoch_balance_loss = 0\n",
    "        epoch_class_loss = 0\n",
    "        epoch_km_loss = 0\n",
    "        \n",
    "        model.ae.train() # prep model for evaluation\n",
    "        for j in range(model.n_clusters):\n",
    "            model.classifiers[j][0].train()\n",
    "\n",
    "        for batch_idx, (x_batch, y_batch, idx) in enumerate(train_loader):\n",
    "            x_batch = x_batch.to(device)\n",
    "            idx = idx.to(device)\n",
    "\n",
    "            X_latents, x_bar, q_batch = model(x_batch)\n",
    "            q_batch = q_batch[0]\n",
    "            reconstr_loss = F.mse_loss(x_bar, x_batch)\n",
    "\n",
    "            classifier_labels = np.zeros(len(idx))\n",
    "            sub_epochs = min(10, 1 + int(epoch/5))\n",
    "\n",
    "            if args.attention == False:\n",
    "                classifier_labels = np.argmax(q_batch.detach().cpu().numpy(), axis=1)\n",
    "\n",
    "            for _ in range(sub_epochs):\n",
    "                # Choose classifier for a point probabilistically\n",
    "                if args.attention == True:\n",
    "                    for j in range(len(idx)):\n",
    "                        classifier_labels[j] = np.random.choice(range(args.n_clusters), p = q_batch[j].detach().numpy())\n",
    "\n",
    "                for k in range(args.n_clusters):\n",
    "                    idx_cluster = np.where(classifier_labels == k)[0]\n",
    "                    X_cluster = X_latents[idx_cluster]\n",
    "                    y_cluster = y_batch[idx_cluster]\n",
    "\n",
    "                    classifier_k, optimizer_k = model.classifiers[k]\n",
    "                    # Do not backprop the error to encoder\n",
    "                    y_pred_cluster = classifier_k(X_cluster.detach())\n",
    "                    cluster_loss = torch.mean(criterion(y_pred_cluster, y_cluster))\n",
    "                    optimizer_k.zero_grad()\n",
    "                    cluster_loss.backward(retain_graph=True)\n",
    "                    optimizer_k.step()\n",
    "\n",
    "            # Back propagate the error corresponding to last clustering\n",
    "            class_loss = torch.tensor(0.).to(args.device)\n",
    "            for k in range(args.n_clusters):\n",
    "                idx_cluster = np.where(classifier_labels == k)[0]\n",
    "                X_cluster = X_latents[idx_cluster]\n",
    "                y_cluster = y_batch[idx_cluster]\n",
    "\n",
    "                classifier_k, optimizer_k = model.classifiers[k]\n",
    "                y_pred_cluster = classifier_k(X_cluster)\n",
    "                class_loss += torch.sum(q_batch[idx_cluster,k]*criterion(y_pred_cluster, y_cluster))\n",
    "\n",
    "            class_loss /= len(X_latents)\n",
    "            # delta_mu   = torch.zeros((args.n_clusters, args.latent_dim)).to(args.device)\n",
    "            # delta_mu_p = torch.zeros((args.n_clusters, args.latent_dim)).to(args.device)\n",
    "            # delta_mu_n = torch.zeros((args.n_clusters, args.latent_dim)).to(args.device)\n",
    "\n",
    "            cluster_id = torch.argmax(q_batch, 1)\n",
    "            # print(np.bincount(cluster_id.cpu().numpy()))\n",
    "\n",
    "            positive_class_dist = 0\n",
    "            negative_class_dist = 0\n",
    "            km_loss             = 0\n",
    "            class_sep_loss      = 0\n",
    "\n",
    "            # for j in range(args.n_clusters):\n",
    "            #     pts_index = np.where(cluster_id == j)[0]\n",
    "            #     cluster_pts = X_latents[pts_index]\n",
    "            #     n_class_index = np.where(y_batch[pts_index] == 0)[0]\n",
    "            #     p_class_index = np.where(y_batch[pts_index] == 1)[0]\n",
    "\n",
    "            #     n_class = cluster_pts[n_class_index]\n",
    "            #     p_class = cluster_pts[p_class_index]\n",
    "\n",
    "            #     delta_mu_p[j,:] = p_class.sum(axis=0)/(1+len(p_class))\n",
    "            #     delta_mu_n[j,:] = n_class.sum(axis=0)/(1+len(n_class))\n",
    "            #     delta_mu[j,:]   = cluster_pts.sum(axis=0)/(1+len(cluster_pts))\n",
    "\n",
    "            #     s1 = torch.linalg.vector_norm(X_latents[p_class_index] - model.p_cluster_layer[j])/(1+len(p_class))\n",
    "            #     s2 = torch.linalg.vector_norm(X_latents[n_class_index] - model.n_cluster_layer[j])/(1+len(n_class))\n",
    "            #     m12 = torch.linalg.vector_norm(model.p_cluster_layer[j] - model.n_cluster_layer[j])\n",
    "\n",
    "            #     class_sep_loss += (s1+s2)/m12\n",
    "            #     km_loss += torch.linalg.vector_norm(X_latents[pts_index] - model.cluster_layer[j])/(1+len(cluster_pts))\n",
    "\n",
    "            q_batch = source_distribution(X_latents, model.cluster_layer, alpha=model.alpha)\n",
    "            P = torch.sum(torch.nn.Softmax(dim=1)(10*q_batch), axis=0)\n",
    "            P = P/P.sum()\n",
    "            Q = torch.ones(args.n_clusters)/args.n_clusters # Uniform distribution\n",
    "\n",
    "            if args.cluster_balance == \"kl\":\n",
    "                cluster_balance_loss = F.kl_div(P.log(), Q, reduction='batchmean')\n",
    "            else:\n",
    "                # cluster_balance_loss = torch.linalg.vector_norm(torch.sqrt(P) - torch.sqrt(Q))\n",
    "                cluster_balance_loss = torch.linalg.vector_norm(torch.log(P) + torch.log(1-P))\n",
    "                # cluster_balance_loss = torch.linalg.vector_norm(1/P + 1/(1-P))\n",
    "\n",
    "            km_loss = F.kl_div(q_batch.log(), p_train[idx], reduction='batchmean')\n",
    "\n",
    "            loss = reconstr_loss\n",
    "            if args.beta != 0:\n",
    "                loss += beta*km_loss\n",
    "            if args.gamma != 0:\n",
    "                loss += gamma*class_loss\n",
    "            if args.delta != 0:\n",
    "                loss += delta*cluster_balance_loss\n",
    "            if args.eta != 0:\n",
    "                loss += eta*class_sep_loss\n",
    "\n",
    "            epoch_loss += loss\n",
    "            epoch_class_loss += class_loss\n",
    "            epoch_balance_loss += cluster_balance_loss\n",
    "            epoch_km_loss += km_loss\n",
    "            optimizer.zero_grad()\n",
    "            loss.backward(retain_graph=True)\n",
    "            optimizer.step()\n",
    "\n",
    "            # Update the positive and negative centroids\n",
    "            # for j in range(args.n_clusters):\n",
    "            #     pts_index = np.where(cluster_id == j)[0]\n",
    "            #     n_class_index = np.where(y[pts_index] == 0)[0]\n",
    "            #     p_class_index = np.where(y[pts_index] == 1)[0]\n",
    "\n",
    "            #     N  = len(pts_index)\n",
    "            #     Np = len(p_class_index)\n",
    "            #     Nn = len(n_class_index)\n",
    "            #     model.p_cluster_layer.data[j:] -= (1/(100+Np))*delta_mu_p[j:]\n",
    "            #     model.n_cluster_layer.data[j:] -= (1/(100+Nn))*delta_mu_n[j:]\n",
    "            #     model.cluster_layer.data[j:]   -= (1/(100+N))*delta_mu[j:]\n",
    "\n",
    "        print('Epoch: {:02d} | Loss: {:.3f} | KM Loss: {:.3f} | Classification Loss: {:.3f} | Cluster Balance Loss: {:.3f}'.format(\n",
    "                    epoch, epoch_km_loss, epoch_loss, epoch_class_loss, epoch_balance_loss))\n",
    "\n",
    "    ####################################################################################\n",
    "    ####################################################################################\n",
    "    ####################################################################################\n",
    "    ################################### Local Training #################################\n",
    "    ####################################################################################\n",
    "    ####################################################################################\n",
    "    ####################################################################################\n",
    "\n",
    "    print(\"\\n####################################################################################\\n\")\n",
    "    print(\"Training Local Networks\")\n",
    "    model = es.load_checkpoint(model)\n",
    "\n",
    "    es = EarlyStoppingCAC(dataset=suffix)\n",
    "\n",
    "    qs, z_train = model(torch.FloatTensor(np.array(X_train)).to(args.device), output=\"latent\")\n",
    "    q_train = qs[0]\n",
    "    cluster_id_train = torch.argmax(q_train, axis=1)\n",
    "\n",
    "    # X_latents_data_loader = list(zip(z_train, cluster_id_train, y_train))\n",
    "    X_latents_data_loader = list(zip(z_train.to(args.device),q_train, y_train))\n",
    "\n",
    "    train_loader_latents = torch.utils.data.DataLoader(X_latents_data_loader,\n",
    "        batch_size=1024, shuffle=False)\n",
    "\n",
    "    B = []\n",
    "\n",
    "    # plot(model, torch.FloatTensor(np.array(X_train)).to(args.device), y_train,\\\n",
    "    #      torch.FloatTensor(np.array(X_test)).to(args.device), y_test)\n",
    "\n",
    "    # Post clustering training\n",
    "    for e in range(N_EPOCHS):\n",
    "        epoch_loss = 0\n",
    "        epoch_acc = 0\n",
    "        epoch_f1 = 0\n",
    "        acc = 0\n",
    "\n",
    "        # model.ae.train() # prep model for evaluation\n",
    "        for j in range(model.n_clusters):\n",
    "            model.classifiers[j][0].train()\n",
    "\n",
    "        # Full training of local networks\n",
    "        for batch_idx, (X_latents, q_batch, y_batch) in enumerate(train_loader_latents):\n",
    "            # torch.autograd.set_detect_anomaly(True)\n",
    "\n",
    "            classifier_labels = np.zeros(len(X_latents))\n",
    "            # Choose classifier for a point probabilistically\n",
    "            if args.attention == True:\n",
    "                for j in range(len(X_latents)):\n",
    "                    classifier_labels[j] = np.random.choice(range(args.n_clusters), p = q_batch[j].detach().numpy())\n",
    "            else:\n",
    "                classifier_labels = torch.argmax(q_batch, axis=1).data.cpu().numpy()\n",
    "\n",
    "            for k in range(args.n_clusters):\n",
    "                idx_cluster = np.where(classifier_labels == k)[0]\n",
    "                X_cluster = X_latents[idx_cluster]\n",
    "                y_cluster = y_batch[idx_cluster]\n",
    "\n",
    "                classifier_k, optimizer_k = model.classifiers[k]\n",
    "                # Do not backprop the error to encoder\n",
    "                y_pred_cluster = classifier_k(X_cluster.detach())\n",
    "                cluster_loss = torch.mean(criterion(y_pred_cluster, y_cluster))\n",
    "                optimizer_k.zero_grad()\n",
    "                cluster_loss.backward(retain_graph=True)\n",
    "                optimizer_k.step()\n",
    "        \n",
    "        # model.ae.eval() # prep model for evaluation\n",
    "        for j in range(model.n_clusters):\n",
    "            model.classifiers[j][0].eval()\n",
    "\n",
    "        train_preds = torch.zeros((len(z_train), args.n_classes))\n",
    "        train_loss = 0\n",
    "\n",
    "        # Weighted predictions\n",
    "        q_train, z_train = model(torch.FloatTensor(X_train).to(args.device), output=\"latent\")\n",
    "        q_train = q_train[0]\n",
    "        cluster_ids_train = torch.argmax(q_train, axis=1)\n",
    "        \n",
    "        for j in range(model.n_clusters):\n",
    "            cluster_id = np.where(cluster_ids_train == j)[0]\n",
    "            X_cluster = z_train\n",
    "            y_cluster = torch.Tensor(y_train[cluster_id]).type(torch.LongTensor)\n",
    "\n",
    "            # Ensemble train loss\n",
    "            cluster_preds = model.classifiers[j][0](X_cluster)\n",
    "            for c in range(args.n_classes):\n",
    "                train_preds[:,c] += q_train[:,j]*cluster_preds[:,c]\n",
    "\n",
    "            X_cluster = z_train[cluster_id]\n",
    "            cluster_preds = model.classifiers[j][0](X_cluster)\n",
    "            train_loss += torch.sum(q_train[cluster_id,j]*criterion(cluster_preds, y_cluster))\n",
    "            # B.append(torch.max(torch.linalg.norm(X_cluster, axis=1), axis=0).values)\n",
    "\n",
    "\n",
    "        train_loss /= len(z_train)\n",
    "        e_train_loss = torch.mean(criterion(train_preds, torch.Tensor(y_train).type(torch.LongTensor)))\n",
    "\n",
    "        # Evaluate model on Validation set\n",
    "        qs, z_val = model(torch.FloatTensor(X_val).to(args.device), output=\"latent\")\n",
    "        q_val = qs[0]\n",
    "        cluster_ids_val = torch.argmax(q_val, axis=1)\n",
    "        preds = torch.zeros((len(z_val), args.n_classes))\n",
    "\n",
    "        # Weighted predictions\n",
    "        for j in range(model.n_clusters):\n",
    "            cluster_id = np.where(cluster_ids_val == j)[0]\n",
    "            X_cluster = z_val\n",
    "            cluster_preds = model.classifiers[j][0](X_cluster)\n",
    "            for c in range(args.n_classes):\n",
    "                preds[:,c] += q_val[:,j]*cluster_preds[:,c]\n",
    "\n",
    "        val_f1  = f1_score(y_val, np.argmax(preds.detach().numpy(), axis=1), average=\"macro\")\n",
    "        val_auc = multi_class_auc(y_val, preds.detach().numpy(), args.n_classes)\n",
    "        val_sil = silhouette_new(z_val.data.cpu().numpy(), cluster_ids_val.data.cpu().numpy(), metric='euclidean')\n",
    "\n",
    "        val_loss = torch.mean(criterion(preds, torch.Tensor(y_val).type(torch.LongTensor)))\n",
    "        # record validation loss\n",
    "        # valid_losses.append(loss.item())\n",
    "\n",
    "        # calculate average loss over an epoch\n",
    "        # valid_loss = np.average(valid_losses)\n",
    "        # avg_valid_losses.append(valid_loss)\n",
    "        \n",
    "        epoch_len = len(str(N_EPOCHS))\n",
    "        \n",
    "        print_msg = (f'\\n[{epoch:>{epoch_len}}/{N_EPOCHS:>{epoch_len}}] ' +\n",
    "                     f'train_loss: {train_loss:.3f} ' +\n",
    "                     f'valid_loss: {val_loss:.3f} '  +\n",
    "                     f'valid_F1: {val_f1:.3f} '  +\n",
    "                     f'valid_AUC: {val_auc:.3f} ' +\n",
    "                     f'valid_Sil: {val_sil:.3f}')\n",
    "        \n",
    "        print(print_msg)\n",
    "        \n",
    "        # early_stopping needs the validation loss to check if it has decresed, \n",
    "        # and if it has, it will make a checkpoint of the current model\n",
    "        es([val_f1, val_auc], model)\n",
    "        if es.early_stop == True:\n",
    "            train_losses.append(train_loss.item())\n",
    "            e_train_losses.append(e_train_loss.item())\n",
    "            sil_scores.append(silhouette_new(z_train.data.cpu().numpy(), cluster_ids_train.data.cpu().numpy(), metric='euclidean'))\n",
    "            nhfd_scores.append(calculate_nhfd(X_train,  cluster_ids_train))\n",
    "            mifd_scores.append(calculate_MIFD(X_train,  cluster_ids_train))\n",
    "            # model_complexity.append(calculate_bound(model, B, len(z_train)))\n",
    "            break\n",
    "\n",
    "\n",
    "    ####################################################################################\n",
    "    ####################################################################################\n",
    "    ####################################################################################\n",
    "    ################################### Testing Perf. ##################################\n",
    "    ####################################################################################\n",
    "    ####################################################################################\n",
    "    ####################################################################################\n",
    "\n",
    "    print(\"\\n####################################################################################\\n\")\n",
    "    print(\"Evaluating Test Data with k = \", args.n_clusters, \" Attention = \", args.attention)\n",
    "\n",
    "    # Load best model trained from local training phase\n",
    "    model = es.load_checkpoint(model)\n",
    "\n",
    "    # # Evaluate model on Test dataset\n",
    "    qs, z_test = model(torch.FloatTensor(X_test).to(args.device), output=\"latent\")\n",
    "    q_test = qs[0]\n",
    "    cluster_ids = torch.argmax(q_test, axis=1)\n",
    "    # cluster_ids = np.argmax(distance_matrix(z_test.data.cpu().numpy(), model.cluster_layer.data.cpu().numpy()), axis=1)\n",
    "    test_preds_e = torch.zeros((len(z_test), args.n_classes))\n",
    "\n",
    "    test_loss = 0\n",
    "    e_test_loss = 0\n",
    "    local_sum_loss = 0\n",
    "\n",
    "    # Weighted predictions\n",
    "    for j in range(model.n_clusters):\n",
    "        cluster_id = np.where(cluster_ids == j)[0]\n",
    "        X_cluster = z_test\n",
    "        cluster_test_preds = model.classifiers[j][0](X_cluster)\n",
    "        for c in range(args.n_classes):\n",
    "            test_preds_e[:,c] += q_test[:,j]*cluster_test_preds[:,c]\n",
    "    \n",
    "    e_test_loss = torch.mean(criterion(test_preds_e, torch.Tensor(y_test).type(torch.LongTensor)))\n",
    "    e_test_f1 = f1_score(y_test, np.argmax(test_preds_e.detach().numpy(), axis=1), average=\"macro\")\n",
    "    e_test_auc = multi_class_auc(y_test, test_preds_e.detach().numpy(), args.n_classes)\n",
    "    e_test_acc = accuracy_score(y_test, np.argmax(test_preds_e.detach().numpy(), axis=1))\n",
    "    e_test_nhfd = calculate_nhfd(X_test, cluster_ids)\n",
    "\n",
    "    test_preds = torch.zeros((len(z_test), args.n_classes))\n",
    "\n",
    "    # Hard local predictions\n",
    "    for j in range(model.n_clusters):\n",
    "        cluster_id = np.where(cluster_ids == j)[0]\n",
    "        X_cluster = z_test[cluster_id]\n",
    "        y_cluster = torch.Tensor(y_test[cluster_id]).type(torch.LongTensor)\n",
    "        cluster_test_preds = model.classifiers[j][0](X_cluster)\n",
    "        test_preds[cluster_id,:] = cluster_test_preds\n",
    "        local_sum_loss += torch.sum(q_test[cluster_id,j]*criterion(cluster_test_preds, y_cluster))\n",
    "    \n",
    "    test_f1 = f1_score(y_test, np.argmax(test_preds.detach().numpy(), axis=1), average=\"macro\")\n",
    "    test_auc = multi_class_auc(y_test, test_preds.detach().numpy(), args.n_classes)\n",
    "    test_acc = accuracy_score(y_test, np.argmax(test_preds.detach().numpy(), axis=1))\n",
    "    test_loss = torch.mean(criterion(test_preds, torch.Tensor(y_test).type(torch.LongTensor)))\n",
    "    local_sum_loss /= len(X_test)\n",
    "\n",
    "    test_losses.append(test_loss.item())\n",
    "    e_test_losses.append(e_test_loss.item())\n",
    "    local_sum_test_losses.append(local_sum_loss.item())\n",
    "\n",
    "    # enablePrint()\n",
    "    print(\"Run #{}\".format(r))\n",
    "\n",
    "    print('Loss Metrics - Test Loss {:.3f}, E-Test Loss {:.3f}, Local Sum Test Loss {:.3f}'.format(test_loss, e_test_loss, local_sum_loss))\n",
    "\n",
    "    print('Clustering Metrics     - Acc {:.4f}'.format(acc), ', nmi {:.4f}'.format(nmi),\\\n",
    "          ', ari {:.4f}, NHFD {:.3f}'.format(ari, e_test_nhfd))\n",
    "\n",
    "    print('Classification Metrics - Test F1 {:.3f}, Test AUC {:.3f}, Test ACC {:.3f}'.format(test_f1, test_auc, test_acc),\\\n",
    "        ', E-Test F1 {:.3f}, E-Test AUC {:.3f}, E-Test ACC {:.3f}'.format(e_test_f1, e_test_auc, e_test_acc))\n",
    "\n",
    "    print(\"\\n\")\n",
    "    f1_scores.append(e_test_f1)\n",
    "    auc_scores.append(e_test_auc)\n",
    "    acc_scores.append(e_test_acc)\n",
    "\n",
    "    ####################################################################################\n",
    "    ####################################################################################\n",
    "    ####################################################################################\n",
    "    ################################### Feature Imp. ###################################\n",
    "    ####################################################################################\n",
    "    ####################################################################################\n",
    "    ####################################################################################\n",
    "\n",
    "\n",
    "    regs = [GradientBoostingRegressor(random_state=0) for _ in range(args.n_clusters)]\n",
    "    qs, z_train = model(torch.FloatTensor(X_train).to(args.device), output=\"latent\")\n",
    "    q_train = qs[0]\n",
    "    cluster_ids = torch.argmax(q_train, axis=1)\n",
    "    train_preds_e = torch.zeros((len(z_train), args.n_classes))\n",
    "    feature_importances = np.zeros((args.n_clusters, args.input_dim))\n",
    "\n",
    "    # Weighted predictions\n",
    "    for j in range(model.n_clusters):\n",
    "        X_cluster = z_train\n",
    "        cluster_preds = model.classifiers[j][0](X_cluster)\n",
    "        # print(q_test, cluster_preds[:,0])\n",
    "        for c in range(args.n_classes):\n",
    "            train_preds_e[:,c] += q_train[:,j]*cluster_preds[:,c]\n",
    "\n",
    "    for j in range(model.n_clusters):\n",
    "        cluster_id = torch.where(cluster_ids == j)[0]\n",
    "        X_cluster = X_train[cluster_id]\n",
    "        if args.attention == True:\n",
    "            y_cluster = train_preds_e[cluster_id][:,1]\n",
    "        else:\n",
    "            y_cluster = train_preds[cluster_id][:,1]\n",
    "\n",
    "        # Some test data might not belong to any cluster\n",
    "        if len(cluster_id) > 0:\n",
    "            regs[j].fit(X_cluster, y_cluster.detach().cpu().numpy())\n",
    "            best_features = np.argsort(regs[j].feature_importances_)[::-1][:10]\n",
    "            feature_importances[j,:] = regs[j].feature_importances_\n",
    "            # print(\"Cluster # \", j, \"sized: \", len(cluster_id))\n",
    "            # print(list(zip(column_names[best_features], np.round(regs[j].feature_importances_[best_features], 3))))\n",
    "            # print(\"=========================\\n\")\n",
    "\n",
    "    feature_diff = 0\n",
    "    cntr = 0\n",
    "    for i in range(args.n_clusters):\n",
    "        for j in range(args.n_clusters):\n",
    "            if i > j:\n",
    "                ci = torch.where(cluster_ids == i)[0]\n",
    "                cj = torch.where(cluster_ids == j)[0]\n",
    "                Xi = X_train[ci]\n",
    "                Xj = X_train[cj]\n",
    "                feature_diff += 100*sum(feature_importances[i]*feature_importances[j]*(ttest_ind(Xi, Xj, axis=0)[1] < 0.05))/args.input_dim\n",
    "                # print(\"Cluster [{}, {}] p-value: \".format(i,j), feature_diff)\n",
    "                cntr += 1\n",
    "\n",
    "    # print(\"Average Feature Difference: \", feature_diff/cntr)\n",
    "    if cntr == 0:\n",
    "        w_nhfd_scores.append(0)\n",
    "    else:\n",
    "        w_nhfd_scores.append(feature_diff/cntr)\n"
   ]
  },
  {
   "cell_type": "code",
   "execution_count": 24,
   "id": "f7f7bcf2",
   "metadata": {},
   "outputs": [
    {
     "data": {
      "text/plain": [
       "0.4489928650449815"
      ]
     },
     "execution_count": 24,
     "metadata": {},
     "output_type": "execute_result"
    }
   ],
   "source": [
    "multi_class_auc(y_val, preds.detach().numpy(), 3)"
   ]
  },
  {
   "cell_type": "code",
   "execution_count": 88,
   "id": "aa53aa19",
   "metadata": {},
   "outputs": [],
   "source": [
    "def plot_hist(x, y, bins=10):\n",
    "    minn = min(np.min(x), np.min(y))\n",
    "    maxx = max(np.max(x), np.max(y))\n",
    "    range_x = np.max(x) - np.min(x)\n",
    "    range_y = np.max(y) - np.min(y)\n",
    "    gap = min(range_x, range_y)/bins\n",
    "\n",
    "    if gap < 1e-5:\n",
    "        return 0\n",
    "\n",
    "    h1, r1 = np.histogram(x, np.arange(minn-gap, maxx+gap, gap))\n",
    "    h2, r2 = np.histogram(y, np.arange(minn-gap, maxx+gap, gap))\n",
    "    k1 = [(r1[j]+r1[j-1])/2 for j in range(1, len(r1))]\n",
    "    k2 = [(r2[j]+r2[j-1])/2 for j in range(1, len(r2))]\n",
    "    # print(h1, h2, k1)\n",
    "\n",
    "    fig, axes = plt.subplots(1, 2)\n",
    "\n",
    "    axes[0].bar(k1, h1, label='X1', alpha=.5)\n",
    "    axes[1].bar(k2, h2, label='X2', alpha=.5)\n",
    "    # axes[0].hist(h1, bins=r1, label='X1', alpha=.5)\n",
    "    # axes[1].hist(h2, bins=r2, label='X2', alpha=.5)\n",
    "    plt.show()"
   ]
  },
  {
   "cell_type": "markdown",
   "id": "fa242517",
   "metadata": {},
   "source": [
    "## MIFD Cluster Analysis"
   ]
  },
  {
   "cell_type": "code",
   "execution_count": 66,
   "id": "28a19a00",
   "metadata": {},
   "outputs": [
    {
     "name": "stdout",
     "output_type": "stream",
     "text": [
      "\n",
      "========\n",
      "\n",
      "MIFD Analysis of Clusters:  1,0\n",
      "|C1| =  2163 , |C2| =  2359\n",
      "MI = 16.326 ; Feature: Gender - C1 Mean: 0.579 , C2 Mean: 0.561\n"
     ]
    },
    {
     "data": {
      "image/png": "[encoded data removed]",
      "text/plain": [
       "<Figure size 432x288 with 2 Axes>"
      ]
     },
     "metadata": {
      "needs_background": "light"
     },
     "output_type": "display_data"
    },
    {
     "name": "stdout",
     "output_type": "stream",
     "text": [
      "MI = 0.735 ; Feature: SICU - C1 Mean: 0.231 , C2 Mean: 0.251\n"
     ]
    },
    {
     "data": {
      "image/png": "[encoded data removed]",
      "text/plain": [
       "<Figure size 432x288 with 2 Axes>"
      ]
     },
     "metadata": {
      "needs_background": "light"
     },
     "output_type": "display_data"
    },
    {
     "name": "stdout",
     "output_type": "stream",
     "text": [
      "MI = 0.593 ; Feature: MechVentLast8Hour - C1 Mean: 0.421 , C2 Mean: 0.809\n"
     ]
    },
    {
     "data": {
      "image/png": "[encoded data removed]",
      "text/plain": [
       "<Figure size 432x288 with 2 Axes>"
      ]
     },
     "metadata": {
      "needs_background": "light"
     },
     "output_type": "display_data"
    },
    {
     "name": "stdout",
     "output_type": "stream",
     "text": [
      "MI = 0.574 ; Feature: CCU - C1 Mean: 0.072 , C2 Mean: 0.217\n"
     ]
    },
    {
     "data": {
      "image/png": "[encoded data removed]",
      "text/plain": [
       "<Figure size 432x288 with 2 Axes>"
      ]
     },
     "metadata": {
      "needs_background": "light"
     },
     "output_type": "display_data"
    },
    {
     "name": "stdout",
     "output_type": "stream",
     "text": [
      "MI = 0.521 ; Feature: Age - C1 Mean: 64.564 , C2 Mean: 63.562\n"
     ]
    },
    {
     "data": {
      "image/png": "[encoded data removed]",
      "text/plain": [
       "<Figure size 432x288 with 2 Axes>"
      ]
     },
     "metadata": {
      "needs_background": "light"
     },
     "output_type": "display_data"
    },
    {
     "name": "stdout",
     "output_type": "stream",
     "text": [
      "MI = 0.509 ; Feature: HR_first - C1 Mean: 86.124 , C2 Mean: 93.952\n"
     ]
    },
    {
     "data": {
      "image/png": "[encoded data removed]",
      "text/plain": [
       "<Figure size 432x288 with 2 Axes>"
      ]
     },
     "metadata": {
      "needs_background": "light"
     },
     "output_type": "display_data"
    },
    {
     "name": "stdout",
     "output_type": "stream",
     "text": [
      "MI = 0.507 ; Feature: HR_lowest - C1 Mean: 67.054 , C2 Mean: 70.176\n"
     ]
    },
    {
     "data": {
      "image/png": "[encoded data removed]",
      "text/plain": [
       "<Figure size 432x288 with 2 Axes>"
      ]
     },
     "metadata": {
      "needs_background": "light"
     },
     "output_type": "display_data"
    },
    {
     "name": "stdout",
     "output_type": "stream",
     "text": [
      "MI = 0.5 ; Feature: NIDiasABP_first - C1 Mean: 57.655 , C2 Mean: 62.105\n"
     ]
    },
    {
     "data": {
      "image/png": "[encoded data removed]",
      "text/plain": [
       "<Figure size 432x288 with 2 Axes>"
      ]
     },
     "metadata": {
      "needs_background": "light"
     },
     "output_type": "display_data"
    },
    {
     "name": "stdout",
     "output_type": "stream",
     "text": [
      "MI = 0.487 ; Feature: NIMAP_highest - C1 Mean: 94.364 , C2 Mean: 98.635\n"
     ]
    },
    {
     "data": {
      "image/png": "[encoded data removed]",
      "text/plain": [
       "<Figure size 432x288 with 2 Axes>"
      ]
     },
     "metadata": {
      "needs_background": "light"
     },
     "output_type": "display_data"
    },
    {
     "name": "stdout",
     "output_type": "stream",
     "text": [
      "MI = 0.485 ; Feature: NIDiasABP_last - C1 Mean: 56.913 , C2 Mean: 58.018\n"
     ]
    },
    {
     "data": {
      "image/png": "[encoded data removed]",
      "text/plain": [
       "<Figure size 432x288 with 2 Axes>"
      ]
     },
     "metadata": {
      "needs_background": "light"
     },
     "output_type": "display_data"
    },
    {
     "name": "stdout",
     "output_type": "stream",
     "text": [
      "\n",
      "========\n",
      "\n",
      "MIFD Analysis of Clusters:  2,0\n",
      "|C1| =  2228 , |C2| =  2359\n",
      "MI = 27.424 ; Feature: Gender - C1 Mean: 0.546 , C2 Mean: 0.561\n"
     ]
    },
    {
     "data": {
      "image/png": "[encoded data removed]",
      "text/plain": [
       "<Figure size 432x288 with 2 Axes>"
      ]
     },
     "metadata": {
      "needs_background": "light"
     },
     "output_type": "display_data"
    },
    {
     "name": "stdout",
     "output_type": "stream",
     "text": [
      "MI = 0.907 ; Feature: CCU - C1 Mean: 0.138 , C2 Mean: 0.217\n"
     ]
    },
    {
     "data": {
      "image/png": "[encoded data removed]",
      "text/plain": [
       "<Figure size 432x288 with 2 Axes>"
      ]
     },
     "metadata": {
      "needs_background": "light"
     },
     "output_type": "display_data"
    },
    {
     "name": "stdout",
     "output_type": "stream",
     "text": [
      "MI = 0.687 ; Feature: SICU - C1 Mean: 0.318 , C2 Mean: 0.251\n"
     ]
    },
    {
     "data": {
      "image/png": "[encoded data removed]",
      "text/plain": [
       "<Figure size 432x288 with 2 Axes>"
      ]
     },
     "metadata": {
      "needs_background": "light"
     },
     "output_type": "display_data"
    },
    {
     "name": "stdout",
     "output_type": "stream",
     "text": [
      "MI = 0.602 ; Feature: HCT_first - C1 Mean: 31.908 , C2 Mean: 33.028\n"
     ]
    },
    {
     "data": {
      "image/png": "[encoded data removed]",
      "text/plain": [
       "<Figure size 432x288 with 2 Axes>"
      ]
     },
     "metadata": {
      "needs_background": "light"
     },
     "output_type": "display_data"
    },
    {
     "name": "stdout",
     "output_type": "stream",
     "text": [
      "MI = 0.58 ; Feature: NIMAP_median - C1 Mean: 76.353 , C2 Mean: 77.79\n"
     ]
    },
    {
     "data": {
      "image/png": "[encoded data removed]",
      "text/plain": [
       "<Figure size 432x288 with 2 Axes>"
      ]
     },
     "metadata": {
      "needs_background": "light"
     },
     "output_type": "display_data"
    },
    {
     "name": "stdout",
     "output_type": "stream",
     "text": [
      "MI = 0.554 ; Feature: CSRU - C1 Mean: 0.194 , C2 Mean: 0.087\n"
     ]
    },
    {
     "data": {
      "image/png": "[encoded data removed]",
      "text/plain": [
       "<Figure size 432x288 with 2 Axes>"
      ]
     },
     "metadata": {
      "needs_background": "light"
     },
     "output_type": "display_data"
    },
    {
     "name": "stdout",
     "output_type": "stream",
     "text": [
      "MI = 0.531 ; Feature: NIDiasABP_last - C1 Mean: 57.631 , C2 Mean: 58.018\n"
     ]
    },
    {
     "data": {
      "image/png": "[encoded data removed]",
      "text/plain": [
       "<Figure size 432x288 with 2 Axes>"
      ]
     },
     "metadata": {
      "needs_background": "light"
     },
     "output_type": "display_data"
    },
    {
     "name": "stdout",
     "output_type": "stream",
     "text": [
      "MI = 0.531 ; Feature: NIDiasABP_highest - C1 Mean: 79.468 , C2 Mean: 80.318\n"
     ]
    },
    {
     "data": {
      "image/png": "[encoded data removed]",
      "text/plain": [
       "<Figure size 432x288 with 2 Axes>"
      ]
     },
     "metadata": {
      "needs_background": "light"
     },
     "output_type": "display_data"
    },
    {
     "name": "stdout",
     "output_type": "stream",
     "text": [
      "MI = 0.53 ; Feature: NISysABP_highest - C1 Mean: 145.053 , C2 Mean: 147.455\n"
     ]
    },
    {
     "data": {
      "image/png": "[encoded data removed]",
      "text/plain": [
       "<Figure size 432x288 with 2 Axes>"
      ]
     },
     "metadata": {
      "needs_background": "light"
     },
     "output_type": "display_data"
    },
    {
     "name": "stdout",
     "output_type": "stream",
     "text": [
      "MI = 0.528 ; Feature: Temp_highest - C1 Mean: 37.952 , C2 Mean: 38.001\n"
     ]
    },
    {
     "data": {
      "image/png": "[encoded data removed]",
      "text/plain": [
       "<Figure size 432x288 with 2 Axes>"
      ]
     },
     "metadata": {
      "needs_background": "light"
     },
     "output_type": "display_data"
    },
    {
     "name": "stdout",
     "output_type": "stream",
     "text": [
      "\n",
      "========\n",
      "\n",
      "MIFD Analysis of Clusters:  2,1\n",
      "|C1| =  2228 , |C2| =  2163\n",
      "MI = 16.147 ; Feature: Gender - C1 Mean: 0.546 , C2 Mean: 0.579\n"
     ]
    },
    {
     "data": {
      "image/png": "[encoded data removed]",
      "text/plain": [
       "<Figure size 432x288 with 2 Axes>"
      ]
     },
     "metadata": {
      "needs_background": "light"
     },
     "output_type": "display_data"
    },
    {
     "name": "stdout",
     "output_type": "stream",
     "text": [
      "MI = 1.88 ; Feature: ALT_first - C1 Mean: 111.638 , C2 Mean: 121.607\n"
     ]
    },
    {
     "data": {
      "image/png": "[encoded data removed]",
      "text/plain": [
       "<Figure size 432x288 with 2 Axes>"
      ]
     },
     "metadata": {
      "needs_background": "light"
     },
     "output_type": "display_data"
    },
    {
     "name": "stdout",
     "output_type": "stream",
     "text": [
      "MI = 1.295 ; Feature: TroponinI_first - C1 Mean: 6.46 , C2 Mean: 6.806\n"
     ]
    },
    {
     "data": {
      "image/png": "[encoded data removed]",
      "text/plain": [
       "<Figure size 432x288 with 2 Axes>"
      ]
     },
     "metadata": {
      "needs_background": "light"
     },
     "output_type": "display_data"
    },
    {
     "name": "stdout",
     "output_type": "stream",
     "text": [
      "MI = 1.187 ; Feature: TroponinI_last - C1 Mean: 5.723 , C2 Mean: 6.007\n"
     ]
    },
    {
     "data": {
      "image/png": "[encoded data removed]",
      "text/plain": [
       "<Figure size 432x288 with 2 Axes>"
      ]
     },
     "metadata": {
      "needs_background": "light"
     },
     "output_type": "display_data"
    },
    {
     "name": "stdout",
     "output_type": "stream",
     "text": [
      "MI = 0.727 ; Feature: CSRU - C1 Mean: 0.194 , C2 Mean: 0.387\n"
     ]
    },
    {
     "data": {
      "image/png": "[encoded data removed]",
      "text/plain": [
       "<Figure size 432x288 with 2 Axes>"
      ]
     },
     "metadata": {
      "needs_background": "light"
     },
     "output_type": "display_data"
    },
    {
     "name": "stdout",
     "output_type": "stream",
     "text": [
      "MI = 0.701 ; Feature: SICU - C1 Mean: 0.318 , C2 Mean: 0.231\n"
     ]
    },
    {
     "data": {
      "image/png": "[encoded data removed]",
      "text/plain": [
       "<Figure size 432x288 with 2 Axes>"
      ]
     },
     "metadata": {
      "needs_background": "light"
     },
     "output_type": "display_data"
    },
    {
     "name": "stdout",
     "output_type": "stream",
     "text": [
      "MI = 0.654 ; Feature: CCU - C1 Mean: 0.138 , C2 Mean: 0.072\n"
     ]
    },
    {
     "data": {
      "image/png": "[encoded data removed]",
      "text/plain": [
       "<Figure size 432x288 with 2 Axes>"
      ]
     },
     "metadata": {
      "needs_background": "light"
     },
     "output_type": "display_data"
    },
    {
     "name": "stdout",
     "output_type": "stream",
     "text": [
      "MI = 0.623 ; Feature: Cholesterol_first - C1 Mean: 158.136 , C2 Mean: 158.122\n"
     ]
    },
    {
     "data": {
      "image/png": "[encoded data removed]",
      "text/plain": [
       "<Figure size 432x288 with 2 Axes>"
      ]
     },
     "metadata": {
      "needs_background": "light"
     },
     "output_type": "display_data"
    },
    {
     "name": "stdout",
     "output_type": "stream",
     "text": [
      "MI = 0.623 ; Feature: Cholesterol_last - C1 Mean: 158.052 , C2 Mean: 158.114\n"
     ]
    },
    {
     "data": {
      "image/png": "[encoded data removed]",
      "text/plain": [
       "<Figure size 432x288 with 2 Axes>"
      ]
     },
     "metadata": {
      "needs_background": "light"
     },
     "output_type": "display_data"
    },
    {
     "name": "stdout",
     "output_type": "stream",
     "text": [
      "MI = 0.589 ; Feature: NIDiasABP_last - C1 Mean: 57.631 , C2 Mean: 56.913\n"
     ]
    },
    {
     "data": {
      "image/png": "[encoded data removed]",
      "text/plain": [
       "<Figure size 432x288 with 2 Axes>"
      ]
     },
     "metadata": {
      "needs_background": "light"
     },
     "output_type": "display_data"
    }
   ],
   "source": [
    "cluster_entrpy = 0\n",
    "cntr = 0\n",
    "n_columns = X_train.shape[1]\n",
    "n_clusters = len(torch.unique(cluster_ids))\n",
    "input_dim = X_train.shape[1]\n",
    "mi_scores = {}\n",
    "scaled_X_train = scale.inverse_transform(X_train)\n",
    "\n",
    "for i in range(n_clusters):\n",
    "    for j in range(n_clusters):\n",
    "        if i > j:\n",
    "            joint_col_name = str(i) + \",\" + str(j)\n",
    "            mi_scores[joint_col_name] = {}\n",
    "            ci = torch.where(cluster_ids == i)[0]\n",
    "            cj = torch.where(cluster_ids == j)[0]\n",
    "            Xi = X_train[ci]\n",
    "            Xj = X_train[cj]\n",
    "            col_entrpy = 0\n",
    "            for c in range(n_columns):\n",
    "                c_entropy = calc_MI(Xi[:,c], Xj[:,c], 0)\n",
    "                col_entrpy += c_entropy\n",
    "                mi_scores[joint_col_name][c] = np.round(c_entropy, 3)\n",
    "                # print(column_names[c], \":\", c_entropy)\n",
    "            cluster_entrpy += col_entrpy/n_columns\n",
    "            cntr += 1\n",
    "            print(\"\\n========\\n\")\n",
    "            print(\"MIFD Analysis of Clusters: \", joint_col_name)\n",
    "            sorted_dict = sorted(mi_scores[joint_col_name].items(), key=lambda item: -item[1])[:10]\n",
    "            # print({column_names[k]: v for k, v in sorted_dict})\n",
    "            print(\"|C1| = \", len(ci), \", |C2| = \", len(cj))\n",
    "            for k, v in sorted_dict:\n",
    "                print(\"MI =\", v, \"; Feature:\", column_names[k], \"- C1 Mean:\", np.round(np.mean(scaled_X_train[ci][:,k]),3),\\\n",
    "                      \", C2 Mean:\", np.round(np.mean(scaled_X_train[cj][:,k]),3))\n",
    "                # print(scaled_X_train[cj][:,k])\n",
    "                plot_hist(scaled_X_train[ci][:,k], scaled_X_train[cj][:,k])"
   ]
  },
  {
   "cell_type": "markdown",
   "id": "f2c2d4d3",
   "metadata": {},
   "source": [
    "## NHFD"
   ]
  },
  {
   "cell_type": "code",
   "execution_count": 89,
   "id": "0c902e8e",
   "metadata": {},
   "outputs": [
    {
     "name": "stdout",
     "output_type": "stream",
     "text": [
      "\n",
      "========\n",
      "\n",
      "1,0\n",
      "{'SAPS-I': 1.0, 'SOFA': 1.0, 'Length_of_stay': 1.0, 'Weight': 1.0, 'CCU': 1.0, 'CSRU': 1.0, 'DiasABP_first': 1.0, 'Glucose_first': 1.0, 'HR_first': 1.0, 'MAP_first': 1.0}\n",
      "1.0 SAPS-I - C1: 0.17055819925940519 , C2: -0.2009509915829389\n"
     ]
    },
    {
     "data": {
      "image/png": "[encoded data removed]",
      "text/plain": [
       "<Figure size 432x288 with 2 Axes>"
      ]
     },
     "metadata": {
      "needs_background": "light"
     },
     "output_type": "display_data"
    },
    {
     "name": "stdout",
     "output_type": "stream",
     "text": [
      "1.0 SOFA - C1: 0.09307093885102816 , C2: -0.14779264735317046\n"
     ]
    },
    {
     "data": {
      "image/png": "[encoded data removed]",
      "text/plain": [
       "<Figure size 432x288 with 2 Axes>"
      ]
     },
     "metadata": {
      "needs_background": "light"
     },
     "output_type": "display_data"
    },
    {
     "name": "stdout",
     "output_type": "stream",
     "text": [
      "1.0 Length_of_stay - C1: 0.113191638115997 , C2: -0.13338457640512633\n"
     ]
    },
    {
     "data": {
      "image/png": "[encoded data removed]",
      "text/plain": [
       "<Figure size 432x288 with 2 Axes>"
      ]
     },
     "metadata": {
      "needs_background": "light"
     },
     "output_type": "display_data"
    },
    {
     "name": "stdout",
     "output_type": "stream",
     "text": [
      "1.0 Weight - C1: 0.05331833687420394 , C2: -0.07716715908269164\n"
     ]
    },
    {
     "data": {
      "image/png": "[encoded data removed]",
      "text/plain": [
       "<Figure size 432x288 with 2 Axes>"
      ]
     },
     "metadata": {
      "needs_background": "light"
     },
     "output_type": "display_data"
    },
    {
     "name": "stdout",
     "output_type": "stream",
     "text": [
      "1.0 CCU - C1: 0.057042322620443245 , C2: -0.1272903933079245\n"
     ]
    },
    {
     "data": {
      "image/png": "[encoded data removed]",
      "text/plain": [
       "<Figure size 432x288 with 2 Axes>"
      ]
     },
     "metadata": {
      "needs_background": "light"
     },
     "output_type": "display_data"
    },
    {
     "name": "stdout",
     "output_type": "stream",
     "text": [
      "1.0 CSRU - C1: -0.1758462778299223 , C2: 0.20386616386487505\n"
     ]
    },
    {
     "data": {
      "image/png": "[encoded data removed]",
      "text/plain": [
       "<Figure size 432x288 with 2 Axes>"
      ]
     },
     "metadata": {
      "needs_background": "light"
     },
     "output_type": "display_data"
    },
    {
     "name": "stdout",
     "output_type": "stream",
     "text": [
      "1.0 DiasABP_first - C1: 0.13291894298626186 , C2: -0.1714614921545497\n"
     ]
    },
    {
     "data": {
      "image/png": "[encoded data removed]",
      "text/plain": [
       "<Figure size 432x288 with 2 Axes>"
      ]
     },
     "metadata": {
      "needs_background": "light"
     },
     "output_type": "display_data"
    },
    {
     "name": "stdout",
     "output_type": "stream",
     "text": [
      "1.0 Glucose_first - C1: 0.14345216006499859 , C2: -0.25569598117762427\n"
     ]
    },
    {
     "data": {
      "image/png": "[encoded data removed]",
      "text/plain": [
       "<Figure size 432x288 with 2 Axes>"
      ]
     },
     "metadata": {
      "needs_background": "light"
     },
     "output_type": "display_data"
    },
    {
     "name": "stdout",
     "output_type": "stream",
     "text": [
      "1.0 HR_first - C1: 0.05628097779086991 , C2: -0.10332977648735692\n"
     ]
    },
    {
     "data": {
      "image/png": "[encoded data removed]",
      "text/plain": [
       "<Figure size 432x288 with 2 Axes>"
      ]
     },
     "metadata": {
      "needs_background": "light"
     },
     "output_type": "display_data"
    },
    {
     "name": "stdout",
     "output_type": "stream",
     "text": [
      "1.0 MAP_first - C1: 0.08561428336370455 , C2: -0.18814698117201453\n"
     ]
    },
    {
     "data": {
      "image/png": "[encoded data removed]",
      "text/plain": [
       "<Figure size 432x288 with 2 Axes>"
      ]
     },
     "metadata": {
      "needs_background": "light"
     },
     "output_type": "display_data"
    },
    {
     "name": "stdout",
     "output_type": "stream",
     "text": [
      "\n",
      "========\n",
      "\n",
      "2,0\n",
      "{'SAPS-I': 1.0, 'SOFA': 1.0, 'Length_of_stay': 1.0, 'Age': 1.0, 'Weight': 1.0, 'CCU': 1.0, 'CSRU': 1.0, 'DiasABP_first': 1.0, 'GCS_first': 1.0, 'Glucose_first': 1.0}\n",
      "1.0 SAPS-I - C1: 0.32781774394444735 , C2: -0.2009509915829389\n"
     ]
    },
    {
     "data": {
      "image/png": "[encoded data removed]",
      "text/plain": [
       "<Figure size 432x288 with 2 Axes>"
      ]
     },
     "metadata": {
      "needs_background": "light"
     },
     "output_type": "display_data"
    },
    {
     "name": "stdout",
     "output_type": "stream",
     "text": [
      "1.0 SOFA - C1: 0.3391527447232578 , C2: -0.14779264735317046\n"
     ]
    },
    {
     "data": {
      "image/png": "[encoded data removed]",
      "text/plain": [
       "<Figure size 432x288 with 2 Axes>"
      ]
     },
     "metadata": {
      "needs_background": "light"
     },
     "output_type": "display_data"
    },
    {
     "name": "stdout",
     "output_type": "stream",
     "text": [
      "1.0 Length_of_stay - C1: 0.2176527087950362 , C2: -0.13338457640512633\n"
     ]
    },
    {
     "data": {
      "image/png": "[encoded data removed]",
      "text/plain": [
       "<Figure size 432x288 with 2 Axes>"
      ]
     },
     "metadata": {
      "needs_background": "light"
     },
     "output_type": "display_data"
    },
    {
     "name": "stdout",
     "output_type": "stream",
     "text": [
      "1.0 Age - C1: -0.14172546711870224 , C2: 0.031753701916494806\n"
     ]
    },
    {
     "data": {
      "image/png": "[encoded data removed]",
      "text/plain": [
       "<Figure size 432x288 with 2 Axes>"
      ]
     },
     "metadata": {
      "needs_background": "light"
     },
     "output_type": "display_data"
    },
    {
     "name": "stdout",
     "output_type": "stream",
     "text": [
      "1.0 Weight - C1: 0.16277473341882018 , C2: -0.07716715908269164\n"
     ]
    },
    {
     "data": {
      "image/png": "[encoded data removed]",
      "text/plain": [
       "<Figure size 432x288 with 2 Axes>"
      ]
     },
     "metadata": {
      "needs_background": "light"
     },
     "output_type": "display_data"
    },
    {
     "name": "stdout",
     "output_type": "stream",
     "text": [
      "1.0 CCU - C1: 0.36213361701211094 , C2: -0.1272903933079245\n"
     ]
    },
    {
     "data": {
      "image/png": "[encoded data removed]",
      "text/plain": [
       "<Figure size 432x288 with 2 Axes>"
      ]
     },
     "metadata": {
      "needs_background": "light"
     },
     "output_type": "display_data"
    },
    {
     "name": "stdout",
     "output_type": "stream",
     "text": [
      "1.0 CSRU - C1: -0.3240495689619911 , C2: 0.20386616386487505\n"
     ]
    },
    {
     "data": {
      "image/png": "[encoded data removed]",
      "text/plain": [
       "<Figure size 432x288 with 2 Axes>"
      ]
     },
     "metadata": {
      "needs_background": "light"
     },
     "output_type": "display_data"
    },
    {
     "name": "stdout",
     "output_type": "stream",
     "text": [
      "1.0 DiasABP_first - C1: 0.31790932632524854 , C2: -0.1714614921545497\n"
     ]
    },
    {
     "data": {
      "image/png": "[encoded data removed]",
      "text/plain": [
       "<Figure size 432x288 with 2 Axes>"
      ]
     },
     "metadata": {
      "needs_background": "light"
     },
     "output_type": "display_data"
    },
    {
     "name": "stdout",
     "output_type": "stream",
     "text": [
      "1.0 GCS_first - C1: 0.14806953454086777 , C2: -0.050080034385631474\n"
     ]
    },
    {
     "data": {
      "image/png": "[encoded data removed]",
      "text/plain": [
       "<Figure size 432x288 with 2 Axes>"
      ]
     },
     "metadata": {
      "needs_background": "light"
     },
     "output_type": "display_data"
    },
    {
     "name": "stdout",
     "output_type": "stream",
     "text": [
      "1.0 Glucose_first - C1: 0.6399916896788255 , C2: -0.25569598117762427\n"
     ]
    },
    {
     "data": {
      "image/png": "[encoded data removed]",
      "text/plain": [
       "<Figure size 432x288 with 2 Axes>"
      ]
     },
     "metadata": {
      "needs_background": "light"
     },
     "output_type": "display_data"
    },
    {
     "name": "stdout",
     "output_type": "stream",
     "text": [
      "\n",
      "========\n",
      "\n",
      "2,1\n",
      "{'SOFA': 1.0, 'CCU': 1.0, 'CSRU': 1.0, 'SICU': 1.0, 'Glucose_first': 1.0, 'HR_first': 1.0, 'MAP_first': 1.0, 'SaO2_first': 1.0, 'GCS_last': 1.0, 'HR_last': 1.0}\n",
      "1.0 SOFA - C1: 0.3391527447232578 , C2: 0.09307093885102816\n"
     ]
    },
    {
     "data": {
      "image/png": "[encoded data removed]",
      "text/plain": [
       "<Figure size 432x288 with 2 Axes>"
      ]
     },
     "metadata": {
      "needs_background": "light"
     },
     "output_type": "display_data"
    },
    {
     "name": "stdout",
     "output_type": "stream",
     "text": [
      "1.0 CCU - C1: 0.36213361701211094 , C2: 0.057042322620443245\n"
     ]
    },
    {
     "data": {
      "image/png": "[encoded data removed]",
      "text/plain": [
       "<Figure size 432x288 with 2 Axes>"
      ]
     },
     "metadata": {
      "needs_background": "light"
     },
     "output_type": "display_data"
    },
    {
     "name": "stdout",
     "output_type": "stream",
     "text": [
      "1.0 CSRU - C1: -0.3240495689619911 , C2: -0.1758462778299223\n"
     ]
    },
    {
     "data": {
      "image/png": "[encoded data removed]",
      "text/plain": [
       "<Figure size 432x288 with 2 Axes>"
      ]
     },
     "metadata": {
      "needs_background": "light"
     },
     "output_type": "display_data"
    },
    {
     "name": "stdout",
     "output_type": "stream",
     "text": [
      "1.0 SICU - C1: -0.13891936552268333 , C2: 0.051993970403351006\n"
     ]
    },
    {
     "data": {
      "image/png": "[encoded data removed]",
      "text/plain": [
       "<Figure size 432x288 with 2 Axes>"
      ]
     },
     "metadata": {
      "needs_background": "light"
     },
     "output_type": "display_data"
    },
    {
     "name": "stdout",
     "output_type": "stream",
     "text": [
      "1.0 Glucose_first - C1: 0.6399916896788255 , C2: 0.14345216006499859\n"
     ]
    },
    {
     "data": {
      "image/png": "[encoded data removed]",
      "text/plain": [
       "<Figure size 432x288 with 2 Axes>"
      ]
     },
     "metadata": {
      "needs_background": "light"
     },
     "output_type": "display_data"
    },
    {
     "name": "stdout",
     "output_type": "stream",
     "text": [
      "1.0 HR_first - C1: 0.2637469035889159 , C2: 0.05628097779086991\n"
     ]
    },
    {
     "data": {
      "image/png": "[encoded data removed]",
      "text/plain": [
       "<Figure size 432x288 with 2 Axes>"
      ]
     },
     "metadata": {
      "needs_background": "light"
     },
     "output_type": "display_data"
    },
    {
     "name": "stdout",
     "output_type": "stream",
     "text": [
      "1.0 MAP_first - C1: 0.531327582004049 , C2: 0.08561428336370455\n"
     ]
    },
    {
     "data": {
      "image/png": "[encoded data removed]",
      "text/plain": [
       "<Figure size 432x288 with 2 Axes>"
      ]
     },
     "metadata": {
      "needs_background": "light"
     },
     "output_type": "display_data"
    },
    {
     "name": "stdout",
     "output_type": "stream",
     "text": [
      "1.0 SaO2_first - C1: -0.6090306509818443 , C2: 0.045850455361972416\n"
     ]
    },
    {
     "data": {
      "image/png": "[encoded data removed]",
      "text/plain": [
       "<Figure size 432x288 with 2 Axes>"
      ]
     },
     "metadata": {
      "needs_background": "light"
     },
     "output_type": "display_data"
    },
    {
     "name": "stdout",
     "output_type": "stream",
     "text": [
      "1.0 GCS_last - C1: -0.6431271926407636 , C2: -0.15910800487825352\n"
     ]
    },
    {
     "data": {
      "image/png": "[encoded data removed]",
      "text/plain": [
       "<Figure size 432x288 with 2 Axes>"
      ]
     },
     "metadata": {
      "needs_background": "light"
     },
     "output_type": "display_data"
    },
    {
     "name": "stdout",
     "output_type": "stream",
     "text": [
      "1.0 HR_last - C1: 0.20744709326299926 , C2: 0.022747178984009655\n"
     ]
    },
    {
     "data": {
      "image/png": "[encoded data removed]",
      "text/plain": [
       "<Figure size 432x288 with 2 Axes>"
      ]
     },
     "metadata": {
      "needs_background": "light"
     },
     "output_type": "display_data"
    }
   ],
   "source": [
    "cluster_entrpy = 0\n",
    "cntr = 0\n",
    "n_columns = X_train.shape[1]\n",
    "n_clusters = len(torch.unique(cluster_ids))\n",
    "input_dim = X_train.shape[1]\n",
    "mi_scores = {}\n",
    "scaled_X_train = X_train\n",
    "for i in range(n_clusters):\n",
    "    for j in range(n_clusters):\n",
    "        if i > j:\n",
    "            joint_col_name = str(i) + \",\" + str(j)\n",
    "            mi_scores[joint_col_name] = {}\n",
    "            ci = torch.where(cluster_ids == i)[0]\n",
    "            cj = torch.where(cluster_ids == j)[0]\n",
    "            Xi = X_train[ci]\n",
    "            Xj = X_train[cj]\n",
    "            col_entrpy = 0\n",
    "            p_vals = np.nan_to_num(ttest_ind(Xi, Xj, axis=0, equal_var=True))[1]\n",
    "            for c in range(n_columns):\n",
    "                mi_scores[joint_col_name][c] = np.round(np.exp(-p_vals[c]/0.05), 3)\n",
    "                # print(column_names[c], \":\", c_entropy)\n",
    "            cntr += 1\n",
    "            print(\"\\n========\\n\")\n",
    "            print(joint_col_name)\n",
    "            sorted_dict = sorted(mi_scores[joint_col_name].items(), key=lambda item: -item[1])[:10]\n",
    "            print({column_names[k]: v for k, v in sorted_dict})\n",
    "            for k, v in sorted_dict:\n",
    "                print(v, column_names[k], \"- C1:\", np.mean(scaled_X_train[ci][:,k]), \", C2:\", np.mean(scaled_X_train[cj][:,k]))\n",
    "                plot_hist(scaled_X_train[ci][:,k], scaled_X_train[cj][:,k])"
   ]
  },
  {
   "cell_type": "markdown",
   "id": "a70d6860",
   "metadata": {},
   "source": [
    "## WDFD"
   ]
  },
  {
   "cell_type": "code",
   "execution_count": 90,
   "id": "74e921eb",
   "metadata": {
    "scrolled": true
   },
   "outputs": [
    {
     "name": "stdout",
     "output_type": "stream",
     "text": [
      "\n",
      "========\n",
      "\n",
      "WDFD Analysis of Clusters:  1,0\n",
      "|C1| = 2484, |C0| = 3446\n",
      "|C1| = 0.172, |C0| = 0.079\n",
      "MI = 0.443 ; Feature: Glucose_highest - C1 Mean: 187.048 , C2 Mean: 148.086\n",
      "MI = 0.428 ; Feature: Glucose_median - C1 Mean: 140.994 , C2 Mean: 124.758\n",
      "MI = 0.427 ; Feature: GCS_last - C1 Mean: 11.795 , C2 Mean: 13.34\n",
      "MI = 0.413 ; Feature: BUN_last - C1 Mean: 28.692 , C2 Mean: 20.154\n",
      "MI = 0.407 ; Feature: Creatinine_first - C1 Mean: 1.614 , C2 Mean: 1.008\n",
      "MI = 0.403 ; Feature: Creatinine_last - C1 Mean: 1.587 , C2 Mean: 1.016\n",
      "MI = 0.4 ; Feature: Glucose_first - C1 Mean: 160.452 , C2 Mean: 129.837\n",
      "MI = 0.391 ; Feature: BUN_first - C1 Mean: 29.284 , C2 Mean: 20.757\n",
      "MI = 0.383 ; Feature: GCS_median - C1 Mean: 11.386 , C2 Mean: 12.757\n",
      "MI = 0.382 ; Feature: SysABP_first - C1 Mean: 129.119 , C2 Mean: 118.887\n",
      "\n",
      "========\n",
      "\n",
      "WDFD Analysis of Clusters:  2,0\n",
      "|C2| = 820, |C0| = 3446\n",
      "|C2| = 0.310, |C0| = 0.079\n",
      "MI = 1.045 ; Feature: Glucose_highest - C1 Mean: 240.022 , C2 Mean: 148.086\n",
      "MI = 0.987 ; Feature: MechVentStartTime - C1 Mean: 654.759 , C2 Mean: 177.487\n",
      "MI = 0.911 ; Feature: GCS_last - C1 Mean: 10.044 , C2 Mean: 13.34\n",
      "MI = 0.899 ; Feature: Glucose_first - C1 Mean: 198.537 , C2 Mean: 129.837\n",
      "MI = 0.895 ; Feature: Lactate_last - C1 Mean: 3.129 , C2 Mean: 1.714\n",
      "MI = 0.841 ; Feature: Lactate_first - C1 Mean: 3.961 , C2 Mean: 2.192\n",
      "MI = 0.838 ; Feature: BUN_last - C1 Mean: 37.467 , C2 Mean: 20.154\n",
      "MI = 0.831 ; Feature: Creatinine_last - C1 Mean: 2.193 , C2 Mean: 1.016\n",
      "MI = 0.804 ; Feature: Cholesterol_first - C1 Mean: 158.274 , C2 Mean: 157.787\n",
      "MI = 0.803 ; Feature: Cholesterol_last - C1 Mean: 158.198 , C2 Mean: 157.748\n",
      "\n",
      "========\n",
      "\n",
      "WDFD Analysis of Clusters:  2,1\n",
      "|C2| = 820, |C1| = 2484\n",
      "|C2| = 0.310, |C1| = 0.172\n",
      "MI = 0.795 ; Feature: Lactate_last - C1 Mean: 3.129 , C2 Mean: 1.871\n",
      "MI = 0.719 ; Feature: ALT_last - C1 Mean: 589.974 , C2 Mean: 114.475\n",
      "MI = 0.707 ; Feature: MechVentStartTime - C1 Mean: 654.759 , C2 Mean: 312.568\n",
      "MI = 0.699 ; Feature: AST_last - C1 Mean: 776.008 , C2 Mean: 139.078\n",
      "MI = 0.674 ; Feature: SaO2_lowest - C1 Mean: 91.372 , C2 Mean: 95.072\n",
      "MI = 0.659 ; Feature: SaO2_first - C1 Mean: 93.963 , C2 Mean: 96.83\n",
      "MI = 0.648 ; Feature: AST_first - C1 Mean: 759.676 , C2 Mean: 151.256\n",
      "MI = 0.639 ; Feature: TroponinT_first - C1 Mean: 2.739 , C2 Mean: 0.839\n",
      "MI = 0.616 ; Feature: SaO2_median - C1 Mean: 94.918 , C2 Mean: 96.888\n",
      "MI = 0.615 ; Feature: TroponinT_last - C1 Mean: 2.32 , C2 Mean: 0.849\n"
     ]
    }
   ],
   "source": [
    "cluster_entrpy = 0\n",
    "cntr = 0\n",
    "n_columns = X_train.shape[1]\n",
    "n_clusters = len(torch.unique(cluster_ids))\n",
    "input_dim = X_train.shape[1]\n",
    "mi_scores = {}\n",
    "scaled_X_train = scale.inverse_transform(X_train)\n",
    "\n",
    "for i in range(n_clusters):\n",
    "    for j in range(n_clusters):\n",
    "        if i > j:\n",
    "            joint_col_name = str(i) + \",\" + str(j)\n",
    "            mi_scores[joint_col_name] = {}\n",
    "            ci = torch.where(cluster_ids == i)[0]\n",
    "            cj = torch.where(cluster_ids == j)[0]\n",
    "            Xi = X_train[ci]\n",
    "            Xj = X_train[cj]\n",
    "            col_entrpy = 0\n",
    "            for c in range(n_columns):\n",
    "                c_entropy = wd(Xi[:,c], Xj[:,c])\n",
    "                col_entrpy += c_entropy\n",
    "                mi_scores[joint_col_name][c] = np.round(c_entropy, 3)\n",
    "                # print(column_names[c], \":\", c_entropy)\n",
    "            cluster_entrpy += col_entrpy/n_columns\n",
    "            cntr += 1\n",
    "            print(\"\\n========\\n\")\n",
    "            print(\"WDFD Analysis of Clusters: \", joint_col_name)\n",
    "            sorted_dict = sorted(mi_scores[joint_col_name].items(), key=lambda item: -item[1])[:10]\n",
    "            # print({column_names[k]: v for k, v in sorted_dict})\n",
    "            print(\"|C{}| = {}, |C{}| = {}\".format(i, len(ci), j, len(cj)))\n",
    "            print(\"|C{}| = {:.3f}, |C{}| = {:.3f}\".format(i, sum(y_train[ci])/len(ci), j, sum(y_train[cj])/len(cj)))\n",
    "            for k, v in sorted_dict:\n",
    "                print(\"MI =\", v, \"; Feature:\", column_names[k], \"- C1 Mean:\", np.round(np.mean(scaled_X_train[ci][:,k]),3),\\\n",
    "                      \", C2 Mean:\", np.round(np.mean(scaled_X_train[cj][:,k]),3))\n",
    "                # print(scaled_X_train[cj][:,k])\n",
    "                # plot_hist(scaled_X_train[ci][:,k], scaled_X_train[cj][:,k])"
   ]
  },
  {
   "cell_type": "code",
   "execution_count": 94,
   "id": "b7ce6a3e",
   "metadata": {},
   "outputs": [],
   "source": [
    "def NHFD_Single_Cluster_Analysis(X_train, cluster_ids, column_names):\n",
    "    print(\"\\nCluster Wise discriminative features (NHFD)\")\n",
    "    cluster_entrpy = 0\n",
    "    cntr = 0\n",
    "    n_columns = X_train.shape[1]\n",
    "    n_clusters = len(torch.unique(cluster_ids))\n",
    "    input_dim = X_train.shape[1]\n",
    "    mi_scores = {}\n",
    "    for i in range(n_clusters):\n",
    "        mi_scores[i] = {}\n",
    "        ci = torch.where(cluster_ids == i)[0]\n",
    "        for c in range(n_columns):\n",
    "            Xi_c = X_train[ci][:,c]\n",
    "            Zc = []\n",
    "            # Collect values from other clusters\n",
    "            for j in range(n_clusters):\n",
    "                if i != j:\n",
    "                    cj = torch.where(cluster_ids == j)[0]                    \n",
    "                    Xj_c = X_train[cj][:,c]\n",
    "                    Zc = np.concatenate([Zc, Xj_c])\n",
    "\n",
    "            col_entrpy = 0\n",
    "            # p_vals = np.nan_to_num(ttest_ind(Xi_c, Zc, axis=0, equal_var=True))[1]\n",
    "            p_vals = -np.nan_to_num(wd(Xi_c, Zc))\n",
    "            # p_vals = np.nan_to_num(calc_MI(Xi_c, Zc,0))\n",
    "            mi_scores[i][c] = p_vals\n",
    "\n",
    "        print(\"\\n========\\n\")\n",
    "        print(\"|C{}| = {}\".format(i, len(ci)))\n",
    "        print(\"|C{}| = {:.3f}\".format(i, sum(y_train[ci])/len(ci)))\n",
    "\n",
    "        sorted_dict = sorted(mi_scores[i].items(), key=lambda item: item[1])\n",
    "        for feature, pval in sorted_dict:\n",
    "            f = column_names[feature]\n",
    "            print(f, \"\\t\", -pval, end='\\t')\n",
    "            for cluster_id in range(n_clusters):\n",
    "                    c_cluster_id = torch.where(cluster_ids == cluster_id)[0]\n",
    "                    X_cluster_f = X_train[c_cluster_id][:,feature]\n",
    "                    print(np.round(np.mean(X_cluster_f),3), end='\\t')\n",
    "            print('')\n"
   ]
  },
  {
   "cell_type": "code",
   "execution_count": 95,
   "id": "b912febf",
   "metadata": {},
   "outputs": [
    {
     "name": "stdout",
     "output_type": "stream",
     "text": [
      "\n",
      "Cluster Wise discriminative features (NHFD)\n",
      "\n",
      "========\n",
      "\n",
      "|C0| = 3446\n",
      "|C0| = 0.079\n",
      "MechVentStartTime \t 221.1934200067569\t177.487\t312.568\t654.759\t\n",
      "AST_first \t 214.58835523068058\t154.703\t151.256\t759.676\t\n",
      "AST_last \t 209.82794862924075\t150.898\t139.078\t776.008\t\n",
      "ALT_last \t 177.79369108968493\t120.1\t114.475\t589.974\t\n",
      "MechVentDuration \t 158.22823588788475\t1837.783\t2017.705\t1903.726\t\n",
      "ALT_first \t 143.87653956544483\t111.598\t110.5\t478.802\t\n",
      "Glucose_highest \t 52.10919316072836\t148.086\t187.048\t240.022\t\n",
      "Glucose_first \t 40.11995047885959\t129.837\t160.452\t198.537\t\n",
      "PaO2_first \t 28.606086316207765\t217.512\t196.706\t170.151\t\n",
      "Platelets_first \t 23.830064171548422\t205.084\t229.582\t220.143\t\n",
      "ALP_first \t 22.612824444463072\t102.378\t103.792\t126.829\t\n",
      "ALP_last \t 22.563207476059972\t100.387\t101.074\t130.535\t\n",
      "Glucose_median \t 17.95979955846837\t124.758\t140.994\t147.933\t\n",
      "Cholesterol_first \t 17.060305527623193\t157.787\t154.428\t158.274\t\n",
      "Cholesterol_last \t 16.937057417167598\t157.748\t154.311\t158.198\t\n",
      "MAP_highest \t 16.76811933038338\t110.228\t123.761\t136.765\t\n",
      "Platelets_last \t 14.544947393125742\t188.192\t201.931\t182.387\t\n",
      "Glucose_last \t 12.155728137540702\t122.627\t133.478\t137.568\t\n",
      "MAP_first \t 11.208320760313356\t79.617\t87.099\t99.28\t\n",
      "SysABP_first \t 11.020153824193004\t118.887\t129.119\t129.13\t\n",
      "BUN_last \t 10.715954279819085\t20.154\t28.692\t37.467\t\n",
      "BUN_first \t 10.496421647899307\t20.757\t29.284\t37.197\t\n",
      "PaO2_last \t 10.103021571170158\t116.229\t117.922\t120.896\t\n",
      "NISysABP_first \t 6.694678422476613\t118.098\t124.894\t123.445\t\n",
      "Glucose_lowest \t 6.621897584459535\t106.509\t112.091\t106.712\t\n",
      "DiasABP_highest \t 6.560794014414709\t80.419\t86.09\t89.343\t\n",
      "HR_highest \t 6.254329271447773\t109.342\t114.085\t120.126\t\n",
      "MAP_last \t 6.169670086519404\t79.473\t84.852\t86.95\t\n",
      "SysABP_last \t 6.057890565662403\t119.57\t126.781\t121.532\t\n",
      "NISysABP_lowest \t 5.908776986875878\t91.892\t97.239\t95.598\t\n",
      "NISysABP_highest \t 5.8963199858096225\t141.434\t147.349\t146.208\t\n",
      "NISysABP_median \t 5.689979911530216\t114.987\t120.704\t119.469\t\n",
      "DiasABP_first \t 5.330768023956287\t59.955\t64.244\t66.85\t\n",
      "MAP_median \t 5.154380052018599\t77.598\t81.973\t84.422\t\n",
      "MAP_lowest \t 5.00220228493573\t57.454\t58.976\t60.955\t\n",
      "Weight_first \t 4.972163956069874\t82.596\t85.601\t88.439\t\n",
      "Weight_last \t 4.890710738946048\t83.221\t86.208\t89.127\t\n",
      "HR_first \t 4.85761416820781\t87.562\t90.751\t94.898\t\n",
      "Weight \t 4.523975527737448\t79.677\t82.717\t85.268\t\n",
      "NISysABP_last \t 4.446138997129385\t117.341\t121.767\t119.193\t\n",
      "DiasABP_last \t 3.84216442765062\t59.522\t62.824\t63.416\t\n",
      "NIMAP_lowest \t 3.7989861974238286\t58.125\t61.434\t61.008\t\n",
      "NIMAP_first \t 3.779719068396528\t77.66\t80.997\t81.297\t\n",
      "NIMAP_median \t 3.5083920308856236\t74.374\t77.388\t77.803\t\n",
      "PaCO2_first \t 3.4793473989892867\t41.029\t42.072\t41.936\t\n",
      "DiasABP_median \t 3.3619728397014366\t58.157\t60.766\t62.06\t\n",
      "Length_of_stay \t 3.336740734918128\t11.808\t14.828\t16.107\t\n",
      "HR_median \t 3.2796857586040815\t84.782\t87.299\t90.342\t\n",
      "DiasABP_lowest \t 3.2219988155345107\t43.838\t45.062\t45.53\t\n",
      "NIMAP_highest \t 3.116330344573775\t95.546\t97.748\t98.885\t\n",
      "NIDiasABP_lowest \t 2.994364591539407\t39.689\t42.036\t41.846\t\n",
      "NIMAP_last \t 2.820459671690739\t75.864\t78.08\t77.122\t\n",
      "NIDiasABP_median \t 2.698239052161507\t55.847\t57.514\t58.533\t\n",
      "NIDiasABP_first \t 2.549153119908306\t59.41\t61.086\t61.881\t\n",
      "HR_last \t 2.5401213931451734\t84.87\t86.389\t89.558\t\n",
      "PaCO2_last \t 2.5276993609240774\t40.172\t40.11\t39.544\t\n",
      "Height \t 2.525044731965537\t170.942\t170.873\t179.746\t\n",
      "SAPS-I \t 2.499285664679181\t12.98\t15.242\t16.199\t\n",
      "NIDiasABP_highest \t 2.356181541185973\t78.878\t79.266\t81.218\t\n",
      "NIDiasABP_last \t 2.2527017334935073\t57.167\t57.984\t57.732\t\n",
      "RespRate_highest \t 2.2327178430841452\t28.208\t29.929\t31.988\t\n",
      "TroponinI_first \t 2.1654053162239313\t6.629\t6.48\t11.66\t\n",
      "HR_lowest \t 2.0072755378084866\t67.979\t68.79\t70.824\t\n",
      "GCS_last \t 1.9791840306174606\t13.34\t11.795\t10.044\t\n",
      "TroponinI_last \t 1.9367130530052614\t5.892\t5.87\t10.687\t\n",
      "HCO3_first \t 1.8672901196516805\t23.935\t22.694\t21.232\t\n",
      "HCO3_last \t 1.7439637024084327\t25.012\t23.804\t22.541\t\n",
      "WBC_last \t 1.6704276628928043\t11.487\t12.784\t14.275\t\n",
      "WBC_first \t 1.659388369952008\t12.108\t13.378\t14.9\t\n",
      "GCS_median \t 1.5556507804548152\t12.757\t11.386\t10.642\t\n",
      "RespRate_first \t 1.5288829086738733\t19.413\t20.695\t21.692\t\n",
      "RespRate_last \t 1.3743371579525498\t19.227\t20.502\t20.883\t\n",
      "SaO2_lowest \t 1.3721769108105861\t95.474\t95.072\t91.372\t\n",
      "RespRate_median \t 1.3709282544547432\t18.778\t20.105\t20.282\t\n",
      "Bilirubin_last \t 1.3673183201025298\t1.617\t1.723\t3.928\t\n",
      "SOFA \t 1.2683694588088716\t5.782\t6.793\t7.827\t\n",
      "Bilirubin_first \t 1.2320006652562356\t1.632\t1.702\t3.513\t\n",
      "UrineOutputSum \t 1.1543747805007083\t11.784\t12.945\t12.636\t\n",
      "Age \t 1.1401898328895788\t64.805\t64.296\t61.759\t\n",
      "HCT_first \t 1.068610164565279\t31.424\t32.218\t33.184\t\n",
      "SaO2_first \t 1.0039911172506562\t97.12\t96.83\t93.963\t\n",
      "GCS_lowest \t 0.9534568551430678\t8.689\t7.881\t7.297\t\n",
      "GCS_highest \t 0.9510973548966999\t13.994\t13.158\t12.692\t\n",
      "Na_first \t 0.9163627851064124\t138.771\t139.005\t138.217\t\n",
      "RespRate_lowest \t 0.8834512979122864\t11.913\t12.792\t12.809\t\n",
      "Na_last \t 0.8458642021327892\t138.475\t139.306\t139.003\t\n",
      "Lactate_first \t 0.8440668533365335\t2.192\t2.67\t3.961\t\n",
      "SaO2_median \t 0.8030071379813786\t97.117\t96.888\t94.918\t\n",
      "TroponinT_first \t 0.7725916841836249\t0.843\t0.839\t2.739\t\n",
      "Creatinine_first \t 0.7342108236028668\t1.008\t1.614\t2.133\t\n",
      "SaO2_last \t 0.7245188295595006\t96.785\t96.622\t94.892\t\n",
      "Creatinine_last \t 0.7213270578996999\t1.016\t1.587\t2.193\t\n",
      "SaO2_highest \t 0.6718530855759233\t97.938\t97.717\t96.19\t\n",
      "TroponinT_last \t 0.6476808935022841\t0.799\t0.849\t2.32\t\n",
      "HCT_last \t 0.5413613139929134\t30.597\t31.01\t31.528\t\n",
      "Lactate_last \t 0.522955540564172\t1.714\t1.871\t3.129\t\n",
      "GCS_first \t 0.5004967491127561\t9.786\t10.132\t10.756\t\n",
      "MechVentLast8Hour \t 0.21562947597978369\t0.515\t0.691\t0.852\t\n",
      "Albumin_first \t 0.19710613836071175\t3.01\t2.962\t2.981\t\n",
      "Albumin_last \t 0.19292857998312724\t2.974\t2.932\t2.924\t\n",
      "Temp_lowest \t 0.18278598568477814\t35.958\t35.854\t35.694\t\n",
      "CSRU \t 0.172107222892859\t0.303\t0.146\t0.085\t\n",
      "Temp_first \t 0.15541117387645031\t36.574\t36.597\t36.478\t\n",
      "K_first \t 0.1546591372483978\t4.113\t4.223\t4.319\t\n",
      "Temp_last \t 0.12364834614951223\t37.006\t37.089\t37.086\t\n",
      "Temp_highest \t 0.12146245232258261\t37.875\t37.976\t38.014\t\n",
      "Temp_median \t 0.09967915984238546\t37.052\t37.067\t37.023\t\n",
      "K_last \t 0.09774121367754224\t4.02\t4.094\t4.184\t\n",
      "CCU \t 0.09136728656757143\t0.1\t0.164\t0.271\t\n",
      "Mg_last \t 0.04642542056057145\t2.026\t2.063\t2.098\t\n",
      "pH_first \t 0.0416031750565147\t7.388\t7.356\t7.32\t\n",
      "Mg_first \t 0.0356428272469212\t1.938\t1.918\t2.0\t\n",
      "FiO2_first \t 0.027275412929140708\t0.777\t0.786\t0.827\t\n",
      "FiO2_last \t 0.027016472679071302\t0.49\t0.499\t0.544\t\n",
      "pH_last \t 0.020831661462553348\t7.409\t7.393\t7.373\t\n",
      "Gender \t 0.012539381958256936\t0.568\t0.541\t0.599\t\n",
      "SICU \t 0.003996838650149987\t0.265\t0.29\t0.206\t\n",
      "\n",
      "========\n",
      "\n",
      "|C1| = 2484\n",
      "|C1| = 0.172\n",
      "MechVentDuration \t 167.2828830288116\t1837.783\t2017.705\t1903.726\t\n",
      "AST_last \t 131.97747834009277\t150.898\t139.078\t776.008\t\n",
      "AST_first \t 119.7347870246817\t154.703\t151.256\t759.676\t\n",
      "ALT_last \t 96.16611303838732\t120.1\t114.475\t589.974\t\n",
      "MechVentStartTime \t 72.00370000829967\t177.487\t312.568\t654.759\t\n",
      "ALT_first \t 71.84603260685462\t111.598\t110.5\t478.802\t\n",
      "Glucose_highest \t 25.369730596604292\t148.086\t187.048\t240.022\t\n",
      "Platelets_first \t 22.256942076621936\t205.084\t229.582\t220.143\t\n",
      "Glucose_first \t 21.33230458786883\t129.837\t160.452\t198.537\t\n",
      "Platelets_last \t 15.489698571496866\t188.192\t201.931\t182.387\t\n",
      "PaO2_first \t 13.994609167707717\t217.512\t196.706\t170.151\t\n",
      "Glucose_median \t 11.881993060336677\t124.758\t140.994\t147.933\t\n",
      "ALP_first \t 10.682581188983528\t102.378\t103.792\t126.829\t\n",
      "ALP_last \t 10.274383259224505\t100.387\t101.074\t130.535\t\n",
      "MAP_highest \t 8.508030300659271\t110.228\t123.761\t136.765\t\n",
      "SysABP_first \t 8.293107299761498\t118.887\t129.119\t129.13\t\n",
      "Glucose_last \t 8.227387250953967\t122.627\t133.478\t137.568\t\n",
      "SysABP_last \t 6.862694258235766\t119.57\t126.781\t121.532\t\n",
      "Glucose_lowest \t 5.9631231790817365\t106.509\t112.091\t106.712\t\n",
      "NISysABP_first \t 5.950529305786031\t118.098\t124.894\t123.445\t\n",
      "MAP_first \t 5.947534112517701\t79.617\t87.099\t99.28\t\n",
      "Cholesterol_first \t 5.904050410000324\t157.787\t154.428\t158.274\t\n",
      "Cholesterol_last \t 5.896599211222505\t157.748\t154.311\t158.198\t\n",
      "BUN_first \t 5.425867171314298\t20.757\t29.284\t37.197\t\n",
      "BUN_last \t 5.2139124492339946\t20.154\t28.692\t37.467\t\n",
      "PaO2_last \t 5.187578889083522\t116.229\t117.922\t120.896\t\n",
      "NISysABP_highest \t 5.101592925230506\t141.434\t147.349\t146.208\t\n",
      "NISysABP_median \t 4.993863525785911\t114.987\t120.704\t119.469\t\n",
      "NISysABP_lowest \t 4.835767417762543\t91.892\t97.239\t95.598\t\n",
      "MAP_last \t 4.269339494955137\t79.473\t84.852\t86.95\t\n",
      "NISysABP_last \t 4.179371944588041\t117.341\t121.767\t119.193\t\n",
      "DiasABP_highest \t 3.9696681655748156\t80.419\t86.09\t89.343\t\n",
      "MAP_median \t 3.668939553533037\t77.598\t81.973\t84.422\t\n",
      "DiasABP_first \t 3.2823093504357206\t59.955\t64.244\t66.85\t\n",
      "MAP_lowest \t 3.0590946032806565\t57.454\t58.976\t60.955\t\n",
      "NIMAP_first \t 2.970166645925885\t77.66\t80.997\t81.297\t\n",
      "Weight_first \t 2.914953308093084\t82.596\t85.601\t88.439\t\n",
      "Weight \t 2.9005429526051434\t79.677\t82.717\t85.268\t\n",
      "NIMAP_lowest \t 2.8740478123301405\t58.125\t61.434\t61.008\t\n",
      "Weight_last \t 2.765719108945696\t83.221\t86.208\t89.127\t\n",
      "HR_first \t 2.7483454294204326\t87.562\t90.751\t94.898\t\n",
      "HR_highest \t 2.7460674667411697\t109.342\t114.085\t120.126\t\n",
      "DiasABP_last \t 2.718536451948609\t59.522\t62.824\t63.416\t\n",
      "NIMAP_median \t 2.6674864870399864\t74.374\t77.388\t77.803\t\n",
      "DiasABP_median \t 2.231464661407122\t58.157\t60.766\t62.06\t\n",
      "Length_of_stay \t 2.1930593346675473\t11.808\t14.828\t16.107\t\n",
      "NIMAP_highest \t 2.177203487687859\t95.546\t97.748\t98.885\t\n",
      "NIMAP_last \t 2.1553002884203325\t75.864\t78.08\t77.122\t\n",
      "PaCO2_first \t 2.092681383450687\t41.029\t42.072\t41.936\t\n",
      "DiasABP_lowest \t 2.018280121878001\t43.838\t45.062\t45.53\t\n",
      "NIDiasABP_lowest \t 1.9872962605459192\t39.689\t42.036\t41.846\t\n",
      "Height \t 1.9852657042984705\t170.942\t170.873\t179.746\t\n",
      "NIDiasABP_median \t 1.8679672871390594\t55.847\t57.514\t58.533\t\n",
      "NIDiasABP_first \t 1.7800521457652763\t59.41\t61.086\t61.881\t\n",
      "NIDiasABP_highest \t 1.771345445822258\t78.878\t79.266\t81.218\t\n",
      "SAPS-I \t 1.6497687984485048\t12.98\t15.242\t16.199\t\n",
      "PaCO2_last \t 1.5854813360445204\t40.172\t40.11\t39.544\t\n",
      "NIDiasABP_last \t 1.533292580314027\t57.167\t57.984\t57.732\t\n",
      "HR_median \t 1.4854180508994084\t84.782\t87.299\t90.342\t\n",
      "RespRate_highest \t 1.3824181097890045\t28.208\t29.929\t31.988\t\n",
      "TroponinI_first \t 1.1155688372640054\t6.629\t6.48\t11.66\t\n",
      "RespRate_median \t 1.0527792368706117\t18.778\t20.105\t20.282\t\n",
      "RespRate_first \t 1.0522578843482213\t19.413\t20.695\t21.692\t\n",
      "WBC_last \t 1.0447970553139891\t11.487\t12.784\t14.275\t\n",
      "HR_last \t 1.0108517014526637\t84.87\t86.389\t89.558\t\n",
      "UrineOutputSum \t 1.005231811630189\t11.784\t12.945\t12.636\t\n",
      "WBC_first \t 1.0048723205828685\t12.108\t13.378\t14.9\t\n",
      "HR_lowest \t 0.9980403376414863\t67.979\t68.79\t70.824\t\n",
      "RespRate_last \t 0.9931820218651379\t19.227\t20.502\t20.883\t\n",
      "GCS_median \t 0.9641559695553727\t12.757\t11.386\t10.642\t\n",
      "HCO3_last \t 0.9601569174625156\t25.012\t23.804\t22.541\t\n",
      "HCO3_first \t 0.953527411132022\t23.935\t22.694\t21.232\t\n",
      "TroponinI_last \t 0.9436520021707588\t5.892\t5.87\t10.687\t\n",
      "GCS_last \t 0.9109710869531262\t13.34\t11.795\t10.044\t\n",
      "Na_last \t 0.7359064450231215\t138.475\t139.306\t139.003\t\n",
      "RespRate_lowest \t 0.7143592381897139\t11.913\t12.792\t12.809\t\n",
      "SOFA \t 0.6666137369994443\t5.782\t6.793\t7.827\t\n",
      "Age \t 0.6506899679553975\t64.805\t64.296\t61.759\t\n",
      "Na_first \t 0.6116030052364618\t138.771\t139.005\t138.217\t\n",
      "GCS_highest \t 0.5851976119034585\t13.994\t13.158\t12.692\t\n",
      "GCS_lowest \t 0.5410783087151982\t8.689\t7.881\t7.297\t\n",
      "HCT_first \t 0.4966378310722774\t31.424\t32.218\t33.184\t\n",
      "SaO2_lowest \t 0.47938745086573964\t95.474\t95.072\t91.372\t\n",
      "Bilirubin_first \t 0.4408973525634687\t1.632\t1.702\t3.513\t\n",
      "Bilirubin_last \t 0.4151409760938243\t1.617\t1.723\t3.928\t\n",
      "Creatinine_first \t 0.40043573005036887\t1.008\t1.614\t2.133\t\n",
      "TroponinT_first \t 0.3992998326098008\t0.843\t0.839\t2.739\t\n",
      "SaO2_first \t 0.3850239087897916\t97.12\t96.83\t93.963\t\n",
      "Creatinine_last \t 0.34762674612905015\t1.016\t1.587\t2.193\t\n",
      "Lactate_first \t 0.30765165392498783\t2.192\t2.67\t3.961\t\n",
      "TroponinT_last \t 0.2984404378270313\t0.799\t0.849\t2.32\t\n",
      "SaO2_median \t 0.2926972144695811\t97.117\t96.888\t94.918\t\n",
      "SaO2_last \t 0.24917242787961064\t96.785\t96.622\t94.892\t\n",
      "HCT_last \t 0.24829158470775825\t30.597\t31.01\t31.528\t\n",
      "SaO2_highest \t 0.24267305535118971\t97.938\t97.717\t96.19\t\n",
      "Lactate_last \t 0.20943755435190403\t1.714\t1.871\t3.129\t\n",
      "GCS_first \t 0.1932110367735902\t9.786\t10.132\t10.756\t\n",
      "Albumin_first \t 0.1161893309022242\t3.01\t2.962\t2.981\t\n",
      "CSRU \t 0.11497576649354047\t0.303\t0.146\t0.085\t\n",
      "Albumin_last \t 0.11492862397873564\t2.974\t2.932\t2.924\t\n",
      "MechVentLast8Hour \t 0.11075904993266344\t0.515\t0.691\t0.852\t\n",
      "Temp_first \t 0.11016731299268998\t36.574\t36.597\t36.478\t\n",
      "Temp_lowest \t 0.10289915810455598\t35.958\t35.854\t35.694\t\n",
      "Temp_highest \t 0.08325136144698406\t37.875\t37.976\t38.014\t\n",
      "K_first \t 0.08201265244382663\t4.113\t4.223\t4.319\t\n",
      "Temp_last \t 0.0732931480549972\t37.006\t37.089\t37.086\t\n",
      "Temp_median \t 0.061344562641061764\t37.052\t37.067\t37.023\t\n",
      "K_last \t 0.04356090223760128\t4.02\t4.094\t4.184\t\n",
      "SICU \t 0.03639515073031219\t0.265\t0.29\t0.206\t\n",
      "Mg_first \t 0.0351971685585987\t1.938\t1.918\t2.0\t\n",
      "Gender \t 0.033004405380013264\t0.568\t0.541\t0.599\t\n",
      "CCU \t 0.03171111313983375\t0.1\t0.164\t0.271\t\n",
      "Mg_last \t 0.028257103014385193\t2.026\t2.063\t2.098\t\n"
     ]
    },
    {
     "name": "stdout",
     "output_type": "stream",
     "text": [
      "pH_first \t 0.021298987808804702\t7.388\t7.356\t7.32\t\n",
      "FiO2_first \t 0.020123664117843484\t0.777\t0.786\t0.827\t\n",
      "pH_last \t 0.009221135035288635\t7.409\t7.393\t7.373\t\n",
      "FiO2_last \t 0.008587343542928321\t0.49\t0.499\t0.544\t\n",
      "\n",
      "========\n",
      "\n",
      "|C2| = 820\n",
      "|C2| = 0.310\n",
      "AST_last \t 649.8041889096392\t150.898\t139.078\t776.008\t\n",
      "AST_first \t 636.2158293548923\t154.703\t151.256\t759.676\t\n",
      "ALT_last \t 509.89535823882875\t120.1\t114.475\t589.974\t\n",
      "MechVentStartTime \t 420.89407127111673\t177.487\t312.568\t654.759\t\n",
      "ALT_first \t 401.27407248081204\t111.598\t110.5\t478.802\t\n",
      "MechVentDuration \t 149.65888683900772\t1837.783\t2017.705\t1903.726\t\n",
      "Glucose_highest \t 75.61455779928538\t148.086\t187.048\t240.022\t\n",
      "Glucose_first \t 56.20130620178572\t129.837\t160.452\t198.537\t\n",
      "ALP_last \t 41.45652371187281\t100.387\t101.074\t130.535\t\n",
      "PaO2_first \t 38.731575048754365\t217.512\t196.706\t170.151\t\n",
      "ALP_first \t 37.34501228344927\t102.378\t103.792\t126.829\t\n",
      "Cholesterol_first \t 32.903639113017576\t157.787\t154.428\t158.274\t\n",
      "Cholesterol_last \t 32.81237767658523\t157.748\t154.311\t158.198\t\n",
      "MAP_highest \t 21.475555927894757\t110.228\t123.761\t136.765\t\n",
      "MAP_first \t 16.87295448529617\t79.617\t87.099\t99.28\t\n",
      "Glucose_median \t 16.37823073111174\t124.758\t140.994\t147.933\t\n",
      "Platelets_last \t 14.83950881257709\t188.192\t201.931\t182.387\t\n",
      "BUN_last \t 13.737464233185996\t20.154\t28.692\t37.467\t\n",
      "Platelets_first \t 13.303059793369297\t205.084\t229.582\t220.143\t\n",
      "BUN_first \t 12.872629657519497\t20.757\t29.284\t37.197\t\n",
      "PaO2_last \t 12.451518691046957\t116.229\t117.922\t120.896\t\n",
      "Glucose_last \t 10.982270433992932\t122.627\t133.478\t137.568\t\n",
      "SysABP_first \t 10.103337683651397\t118.887\t129.119\t129.13\t\n",
      "Height \t 9.333115829857055\t170.942\t170.873\t179.746\t\n",
      "HR_highest \t 8.834258564898164\t109.342\t114.085\t120.126\t\n",
      "MAP_last \t 7.458246261062364\t79.473\t84.852\t86.95\t\n",
      "DiasABP_highest \t 6.841858743012768\t80.419\t86.09\t89.343\t\n",
      "MAP_lowest \t 6.218557075383685\t57.454\t58.976\t60.955\t\n",
      "TroponinI_first \t 6.166849718235985\t6.629\t6.48\t11.66\t\n",
      "SysABP_last \t 6.061255203726647\t119.57\t126.781\t121.532\t\n",
      "HR_first \t 6.052129832595954\t87.562\t90.751\t94.898\t\n",
      "MAP_median \t 5.920439301765265\t77.598\t81.973\t84.422\t\n",
      "Weight_last \t 5.708014007471004\t83.221\t86.208\t89.127\t\n",
      "DiasABP_first \t 5.535761977772364\t59.955\t64.244\t66.85\t\n",
      "TroponinI_last \t 5.509889312404412\t5.892\t5.87\t10.687\t\n",
      "Weight_first \t 5.472685496617741\t82.596\t85.601\t88.439\t\n",
      "Glucose_lowest \t 4.826591970436164\t106.509\t112.091\t106.712\t\n",
      "Weight \t 4.6137291443996\t79.677\t82.717\t85.268\t\n",
      "HR_median \t 4.520430297613337\t84.782\t87.299\t90.342\t\n",
      "HR_last \t 4.42112488918932\t84.87\t86.389\t89.558\t\n",
      "NISysABP_lowest \t 4.186818431747438\t91.892\t97.239\t95.598\t\n",
      "SaO2_lowest \t 3.953003947167636\t95.474\t95.072\t91.372\t\n",
      "PaCO2_first \t 3.6119410562862924\t41.029\t42.072\t41.936\t\n",
      "NISysABP_highest \t 3.569991295429847\t141.434\t147.349\t146.208\t\n",
      "NISysABP_last \t 3.5537946455843707\t117.341\t121.767\t119.193\t\n",
      "NISysABP_median \t 3.5131098020671576\t114.987\t120.704\t119.469\t\n",
      "DiasABP_last \t 3.301381451769472\t59.522\t62.824\t63.416\t\n",
      "Length_of_stay \t 3.1722779562855408\t11.808\t14.828\t16.107\t\n",
      "NIMAP_lowest \t 3.1721125681712787\t58.125\t61.434\t61.008\t\n",
      "DiasABP_lowest \t 3.1511498683861117\t43.838\t45.062\t45.53\t\n",
      "DiasABP_median \t 3.1374893821641234\t58.157\t60.766\t62.06\t\n",
      "NISysABP_first \t 3.0701858144275698\t118.098\t124.894\t123.445\t\n",
      "RespRate_highest \t 3.058569090459311\t28.208\t29.929\t31.988\t\n",
      "SaO2_first \t 3.053392120459815\t97.12\t96.83\t93.963\t\n",
      "HR_lowest \t 2.963945919056643\t67.979\t68.79\t70.824\t\n",
      "NIDiasABP_lowest \t 2.9619358888507574\t39.689\t42.036\t41.846\t\n",
      "Age \t 2.839595742555427\t64.805\t64.296\t61.759\t\n",
      "Bilirubin_last \t 2.7337055421951906\t1.617\t1.723\t3.928\t\n",
      "NIMAP_highest \t 2.6495128581174203\t95.546\t97.748\t98.885\t\n",
      "GCS_last \t 2.648961179658958\t13.34\t11.795\t10.044\t\n",
      "NIMAP_median \t 2.5205197442819753\t74.374\t77.388\t77.803\t\n",
      "PaCO2_last \t 2.4708355808474898\t40.172\t40.11\t39.544\t\n",
      "NIMAP_first \t 2.4358100475574496\t77.66\t80.997\t81.297\t\n",
      "Bilirubin_first \t 2.407211346015551\t1.632\t1.702\t3.513\t\n",
      "HCO3_first \t 2.3743614576399334\t23.935\t22.694\t21.232\t\n",
      "WBC_first \t 2.3512763321079992\t12.108\t13.378\t14.9\t\n",
      "NIMAP_last \t 2.317669114959651\t75.864\t78.08\t77.122\t\n",
      "NIDiasABP_median \t 2.3082195912938954\t55.847\t57.514\t58.533\t\n",
      "NIDiasABP_highest \t 2.2816252011029796\t78.878\t79.266\t81.218\t\n",
      "NIDiasABP_first \t 2.2721595046144922\t59.41\t61.086\t61.881\t\n",
      "SAPS-I \t 2.2716611305501275\t12.98\t15.242\t16.199\t\n",
      "WBC_last \t 2.2481479185945425\t11.487\t12.784\t14.275\t\n",
      "SaO2_median \t 2.238069795466833\t97.117\t96.888\t94.918\t\n",
      "HCO3_last \t 2.077848048245801\t25.012\t23.804\t22.541\t\n",
      "SaO2_last \t 2.067099323956513\t96.785\t96.622\t94.892\t\n",
      "TroponinT_first \t 2.052900012851264\t0.843\t0.839\t2.739\t\n",
      "NIDiasABP_last \t 1.9970349597859487\t57.167\t57.984\t57.732\t\n",
      "SaO2_highest \t 1.8348377772603441\t97.938\t97.717\t96.19\t\n",
      "RespRate_first \t 1.7430428303740397\t19.413\t20.695\t21.692\t\n",
      "SOFA \t 1.6441911130075426\t5.782\t6.793\t7.827\t\n",
      "TroponinT_last \t 1.6012585409912379\t0.799\t0.849\t2.32\t\n",
      "Lactate_first \t 1.569739377397617\t2.192\t2.67\t3.961\t\n",
      "GCS_median \t 1.5413726504511531\t12.757\t11.386\t10.642\t\n",
      "HCT_first \t 1.4558567980961268\t31.424\t32.218\t33.184\t\n",
      "Lactate_last \t 1.3494646312606282\t1.714\t1.871\t3.129\t\n",
      "RespRate_last \t 1.1361111162629536\t19.227\t20.502\t20.883\t\n",
      "UrineOutputSum \t 1.1295456029985722\t11.784\t12.945\t12.636\t\n",
      "Na_first \t 1.0678577115096826\t138.771\t139.005\t138.217\t\n",
      "GCS_lowest \t 1.053344875827603\t8.689\t7.881\t7.297\t\n",
      "GCS_highest \t 0.9516739077040857\t13.994\t13.158\t12.692\t\n",
      "RespRate_median \t 0.9478347755104124\t18.778\t20.105\t20.282\t\n",
      "Creatinine_last \t 0.9380631711110279\t1.016\t1.587\t2.193\t\n",
      "Creatinine_first \t 0.8711272958014357\t1.008\t1.614\t2.133\t\n",
      "GCS_first \t 0.8244943786665012\t9.786\t10.132\t10.756\t\n",
      "HCT_last \t 0.758933194617311\t30.597\t31.01\t31.528\t\n",
      "Na_last \t 0.6898826053271151\t138.475\t139.306\t139.003\t\n",
      "RespRate_lowest \t 0.5462974244722282\t11.913\t12.792\t12.809\t\n",
      "MechVentLast8Hour \t 0.26351791507098205\t0.515\t0.691\t0.852\t\n",
      "Temp_lowest \t 0.23737453838669886\t35.958\t35.854\t35.694\t\n",
      "Albumin_first \t 0.20925271117621852\t3.01\t2.962\t2.981\t\n",
      "Albumin_last \t 0.20212095292510848\t2.974\t2.932\t2.924\t\n",
      "K_first \t 0.18912877881940277\t4.113\t4.223\t4.319\t\n",
      "Temp_last \t 0.16823180560522952\t37.006\t37.089\t37.086\t\n",
      "CSRU \t 0.15242308220243156\t0.303\t0.146\t0.085\t\n",
      "Temp_first \t 0.1501549410013601\t36.574\t36.597\t36.478\t\n",
      "CCU \t 0.14482691732186515\t0.1\t0.164\t0.271\t\n",
      "K_last \t 0.14064526263949456\t4.02\t4.094\t4.184\t\n",
      "Temp_highest \t 0.11072778692461491\t37.875\t37.976\t38.014\t\n",
      "Temp_median \t 0.10928075451050048\t37.052\t37.067\t37.023\t\n",
      "Mg_first \t 0.07085056967198336\t1.938\t1.918\t2.0\t\n",
      "SICU \t 0.06995511720988812\t0.265\t0.29\t0.206\t\n",
      "Mg_last \t 0.057332013441295036\t2.026\t2.063\t2.098\t\n",
      "pH_first \t 0.05465861495130025\t7.388\t7.356\t7.32\t\n",
      "FiO2_last \t 0.04993183201598036\t0.49\t0.499\t0.544\t\n",
      "FiO2_first \t 0.04678466923654803\t0.777\t0.786\t0.827\t\n",
      "Gender \t 0.04256386461777733\t0.568\t0.541\t0.599\t\n",
      "pH_last \t 0.029627591168256057\t7.409\t7.393\t7.373\t\n"
     ]
    }
   ],
   "source": [
    "NHFD_Single_Cluster_Analysis(scaled_X_train, cluster_ids, column_names)"
   ]
  },
  {
   "cell_type": "code",
   "execution_count": 15,
   "id": "c6406008",
   "metadata": {},
   "outputs": [
    {
     "ename": "NameError",
     "evalue": "name 'WDFD_Single_Cluster_Analysis' is not defined",
     "output_type": "error",
     "traceback": [
      "\u001b[0;31m---------------------------------------------------------------------------\u001b[0m",
      "\u001b[0;31mNameError\u001b[0m                                 Traceback (most recent call last)",
      "\u001b[0;32m<ipython-input-15-378ddba55360>\u001b[0m in \u001b[0;36m<module>\u001b[0;34m\u001b[0m\n\u001b[0;32m----> 1\u001b[0;31m \u001b[0mWDFD_Single_Cluster_Analysis\u001b[0m\u001b[0;34m(\u001b[0m\u001b[0mX_train\u001b[0m\u001b[0;34m,\u001b[0m \u001b[0mcluster_ids\u001b[0m\u001b[0;34m,\u001b[0m \u001b[0mcolumn_names\u001b[0m\u001b[0;34m)\u001b[0m\u001b[0;34m\u001b[0m\u001b[0;34m\u001b[0m\u001b[0m\n\u001b[0m",
      "\u001b[0;31mNameError\u001b[0m: name 'WDFD_Single_Cluster_Analysis' is not defined"
     ]
    }
   ],
   "source": [
    "WDFD_Single_Cluster_Analysis(X_train, cluster_ids, column_names)"
   ]
  },
  {
   "cell_type": "markdown",
   "id": "2c29171a",
   "metadata": {},
   "source": [
    "## Local Training"
   ]
  },
  {
   "cell_type": "code",
   "execution_count": 14,
   "id": "16d7e2af",
   "metadata": {},
   "outputs": [
    {
     "name": "stdout",
     "output_type": "stream",
     "text": [
      "\n",
      "####################################################################################\n",
      "\n",
      "Training Local Networks\n",
      "Loading Best model with score:  [0.6666666666666665, 0.905458160201992]\n",
      "\n",
      "[ 30/100] train_loss: 0.058 valid_loss: 0.144 valid_F1: 0.665 valid_AUC: 0.900 valid_Sil: 0.322\n",
      "\n",
      "[ 30/100] train_loss: 0.058 valid_loss: 0.144 valid_F1: 0.668 valid_AUC: 0.898 valid_Sil: 0.322\n",
      "EarlyStopping counter: 1 out of 7\n",
      "\n",
      "[ 30/100] train_loss: 0.058 valid_loss: 0.144 valid_F1: 0.664 valid_AUC: 0.899 valid_Sil: 0.322\n",
      "EarlyStopping counter: 2 out of 7\n",
      "\n",
      "[ 30/100] train_loss: 0.060 valid_loss: 0.143 valid_F1: 0.659 valid_AUC: 0.890 valid_Sil: 0.322\n",
      "EarlyStopping counter: 3 out of 7\n",
      "\n",
      "[ 30/100] train_loss: 0.059 valid_loss: 0.143 valid_F1: 0.658 valid_AUC: 0.906 valid_Sil: 0.322\n",
      "\n",
      "[ 30/100] train_loss: 0.058 valid_loss: 0.142 valid_F1: 0.663 valid_AUC: 0.902 valid_Sil: 0.322\n",
      "EarlyStopping counter: 1 out of 7\n",
      "\n",
      "[ 30/100] train_loss: 0.058 valid_loss: 0.144 valid_F1: 0.659 valid_AUC: 0.904 valid_Sil: 0.322\n",
      "EarlyStopping counter: 2 out of 7\n",
      "\n",
      "[ 30/100] train_loss: 0.058 valid_loss: 0.143 valid_F1: 0.660 valid_AUC: 0.898 valid_Sil: 0.322\n",
      "EarlyStopping counter: 3 out of 7\n",
      "\n",
      "[ 30/100] train_loss: 0.058 valid_loss: 0.143 valid_F1: 0.663 valid_AUC: 0.901 valid_Sil: 0.322\n",
      "EarlyStopping counter: 4 out of 7\n",
      "\n",
      "[ 30/100] train_loss: 0.058 valid_loss: 0.144 valid_F1: 0.670 valid_AUC: 0.906 valid_Sil: 0.322\n",
      "\n",
      "[ 30/100] train_loss: 0.058 valid_loss: 0.143 valid_F1: 0.663 valid_AUC: 0.898 valid_Sil: 0.322\n",
      "EarlyStopping counter: 1 out of 7\n",
      "\n",
      "[ 30/100] train_loss: 0.058 valid_loss: 0.143 valid_F1: 0.664 valid_AUC: 0.898 valid_Sil: 0.322\n",
      "EarlyStopping counter: 2 out of 7\n",
      "\n",
      "[ 30/100] train_loss: 0.057 valid_loss: 0.143 valid_F1: 0.661 valid_AUC: 0.904 valid_Sil: 0.322\n",
      "EarlyStopping counter: 3 out of 7\n",
      "\n",
      "[ 30/100] train_loss: 0.061 valid_loss: 0.142 valid_F1: 0.660 valid_AUC: 0.907 valid_Sil: 0.322\n",
      "\n",
      "[ 30/100] train_loss: 0.058 valid_loss: 0.144 valid_F1: 0.666 valid_AUC: 0.898 valid_Sil: 0.322\n",
      "EarlyStopping counter: 1 out of 7\n",
      "\n",
      "[ 30/100] train_loss: 0.058 valid_loss: 0.144 valid_F1: 0.666 valid_AUC: 0.898 valid_Sil: 0.322\n",
      "EarlyStopping counter: 2 out of 7\n",
      "\n",
      "[ 30/100] train_loss: 0.059 valid_loss: 0.146 valid_F1: 0.655 valid_AUC: 0.904 valid_Sil: 0.322\n",
      "EarlyStopping counter: 3 out of 7\n",
      "\n",
      "[ 30/100] train_loss: 0.058 valid_loss: 0.142 valid_F1: 0.661 valid_AUC: 0.899 valid_Sil: 0.322\n",
      "EarlyStopping counter: 4 out of 7\n",
      "\n",
      "[ 30/100] train_loss: 0.058 valid_loss: 0.144 valid_F1: 0.666 valid_AUC: 0.904 valid_Sil: 0.322\n",
      "EarlyStopping counter: 5 out of 7\n",
      "\n",
      "[ 30/100] train_loss: 0.057 valid_loss: 0.144 valid_F1: 0.668 valid_AUC: 0.902 valid_Sil: 0.322\n",
      "EarlyStopping counter: 6 out of 7\n",
      "\n",
      "[ 30/100] train_loss: 0.057 valid_loss: 0.146 valid_F1: 0.663 valid_AUC: 0.903 valid_Sil: 0.322\n",
      "EarlyStopping counter: 7 out of 7\n"
     ]
    }
   ],
   "source": [
    "print(\"\\n####################################################################################\\n\")\n",
    "print(\"Training Local Networks\")\n",
    "model = es.load_checkpoint(model)\n",
    "\n",
    "es = EarlyStoppingCAC(dataset=suffix)\n",
    "\n",
    "qs, z_train = model(torch.FloatTensor(np.array(X_train)).to(args.device), output=\"latent\")\n",
    "q_train = qs[0]\n",
    "cluster_id_train = torch.argmax(q_train, axis=1)\n",
    "\n",
    "# X_latents_data_loader = list(zip(z_train, cluster_id_train, y_train))\n",
    "X_latents_data_loader = list(zip(z_train.to(args.device),q_train, y_train))\n",
    "\n",
    "train_loader_latents = torch.utils.data.DataLoader(X_latents_data_loader,\n",
    "    batch_size=1024, shuffle=False)\n",
    "\n",
    "B = []\n",
    "\n",
    "# plot(model, torch.FloatTensor(np.array(X_train)).to(args.device), y_train,\\\n",
    "#      torch.FloatTensor(np.array(X_test)).to(args.device), y_test)\n",
    "\n",
    "# Post clustering training\n",
    "for e in range(N_EPOCHS):\n",
    "    epoch_loss = 0\n",
    "    epoch_acc = 0\n",
    "    epoch_f1 = 0\n",
    "    acc = 0\n",
    "\n",
    "    # model.ae.train() # prep model for evaluation\n",
    "    for j in range(model.n_clusters):\n",
    "        model.classifiers[j][0].train()\n",
    "\n",
    "    # Full training of local networks\n",
    "    for batch_idx, (X_latents, q_batch, y_batch) in enumerate(train_loader_latents):\n",
    "        # torch.autograd.set_detect_anomaly(True)\n",
    "\n",
    "        classifier_labels = np.zeros(len(X_latents))\n",
    "        # Choose classifier for a point probabilistically\n",
    "        if args.attention == True:\n",
    "            for j in range(len(X_latents)):\n",
    "                classifier_labels[j] = np.random.choice(range(args.n_clusters), p = q_batch[j].detach().numpy())\n",
    "        else:\n",
    "            classifier_labels = torch.argmax(q_batch, axis=1).data.cpu().numpy()\n",
    "\n",
    "        for k in range(args.n_clusters):\n",
    "            idx_cluster = np.where(classifier_labels == k)[0]\n",
    "            X_cluster = X_latents[idx_cluster]\n",
    "            y_cluster = y_batch[idx_cluster]\n",
    "\n",
    "            classifier_k, optimizer_k = model.classifiers[k]\n",
    "            # Do not backprop the error to encoder\n",
    "            y_pred_cluster = classifier_k(X_cluster.detach())\n",
    "            cluster_loss = torch.mean(criterion(y_pred_cluster, y_cluster))\n",
    "            optimizer_k.zero_grad()\n",
    "            cluster_loss.backward(retain_graph=True)\n",
    "            optimizer_k.step()\n",
    "\n",
    "    # model.ae.eval() # prep model for evaluation\n",
    "    for j in range(model.n_clusters):\n",
    "        model.classifiers[j][0].eval()\n",
    "\n",
    "    train_preds = torch.zeros((len(z_train), 2))\n",
    "    train_loss = 0\n",
    "\n",
    "    # Weighted predictions\n",
    "    q_train, z_train = model(torch.FloatTensor(X_train).to(args.device), output=\"latent\")\n",
    "    q_train = q_train[0]\n",
    "    cluster_ids_train = torch.argmax(q_train, axis=1)\n",
    "\n",
    "    for j in range(model.n_clusters):\n",
    "        cluster_id = np.where(cluster_ids_train == j)[0]\n",
    "        X_cluster = z_train\n",
    "        y_cluster = torch.Tensor(y_train[cluster_id]).type(torch.LongTensor)\n",
    "\n",
    "        # Ensemble train loss\n",
    "        cluster_preds = model.classifiers[j][0](X_cluster)\n",
    "        train_preds[:,0] += q_train[:,j]*cluster_preds[:,0]\n",
    "        train_preds[:,1] += q_train[:,j]*cluster_preds[:,1]\n",
    "\n",
    "        X_cluster = z_train[cluster_id]\n",
    "        cluster_preds = model.classifiers[j][0](X_cluster)\n",
    "        train_loss += torch.sum(q_train[cluster_id,j]*criterion(cluster_preds, y_cluster))\n",
    "        # B.append(torch.max(torch.linalg.norm(X_cluster, axis=1), axis=0).values)\n",
    "\n",
    "\n",
    "    train_loss /= len(z_train)\n",
    "    e_train_loss = torch.mean(criterion(train_preds, torch.Tensor(y_train).type(torch.LongTensor)))\n",
    "\n",
    "    # Evaluate model on Validation set\n",
    "    qs, z_val = model(torch.FloatTensor(X_val).to(args.device), output=\"latent\")\n",
    "    q_val = qs[0]\n",
    "    cluster_ids_val = torch.argmax(q_val, axis=1)\n",
    "    preds = torch.zeros((len(z_val), 2))\n",
    "\n",
    "    # Weighted predictions\n",
    "    for j in range(model.n_clusters):\n",
    "        cluster_id = np.where(cluster_ids_val == j)[0]\n",
    "        X_cluster = z_val\n",
    "        cluster_preds = model.classifiers[j][0](X_cluster)\n",
    "        preds[:,0] += q_val[:,j]*cluster_preds[:,0]\n",
    "        preds[:,1] += q_val[:,j]*cluster_preds[:,1]\n",
    "\n",
    "    val_f1  = f1_score(y_val, np.argmax(preds.detach().numpy(), axis=1))\n",
    "    val_auc = roc_auc_score(y_val, preds[:,1].detach().numpy())\n",
    "    val_sil = silhouette_new(z_val.data.cpu().numpy(), cluster_ids_val.data.cpu().numpy(), metric='euclidean')\n",
    "\n",
    "    val_loss = torch.mean(criterion(preds, torch.Tensor(y_val).type(torch.LongTensor)))\n",
    "    # record validation loss\n",
    "    # valid_losses.append(loss.item())\n",
    "\n",
    "    # calculate average loss over an epoch\n",
    "    # valid_loss = np.average(valid_losses)\n",
    "    # avg_valid_losses.append(valid_loss)\n",
    "\n",
    "    epoch_len = len(str(N_EPOCHS))\n",
    "\n",
    "    print_msg = (f'\\n[{epoch:>{epoch_len}}/{N_EPOCHS:>{epoch_len}}] ' +\n",
    "                 f'train_loss: {train_loss:.3f} ' +\n",
    "                 f'valid_loss: {val_loss:.3f} '  +\n",
    "                 f'valid_F1: {val_f1:.3f} '  +\n",
    "                 f'valid_AUC: {val_auc:.3f} ' +\n",
    "                 f'valid_Sil: {val_sil:.3f}')\n",
    "\n",
    "    print(print_msg)\n",
    "\n",
    "    # early_stopping needs the validation loss to check if it has decresed, \n",
    "    # and if it has, it will make a checkpoint of the current model\n",
    "    es([val_f1, val_auc], model)\n",
    "    if es.early_stop == True:\n",
    "        train_losses.append(train_loss.item())\n",
    "        e_train_losses.append(e_train_loss.item())\n",
    "        sil_scores.append(silhouette_new(z_train.data.cpu().numpy(), cluster_ids_train.data.cpu().numpy(), metric='euclidean'))\n",
    "        nhfd_scores.append(calculate_nhfd(X_train,  cluster_ids_train))\n",
    "        mifd_scores.append(calculate_MIFD(X_train,  cluster_ids_train))\n",
    "        # model_complexity.append(calculate_bound(model, B, len(z_train)))\n",
    "        break\n"
   ]
  },
  {
   "cell_type": "markdown",
   "id": "e49629bb",
   "metadata": {},
   "source": [
    "## Evaluating on Test Data"
   ]
  },
  {
   "cell_type": "code",
   "execution_count": 17,
   "id": "fc6cdc82",
   "metadata": {},
   "outputs": [
    {
     "name": "stdout",
     "output_type": "stream",
     "text": [
      "\n",
      "####################################################################################\n",
      "\n",
      "Evaluating Test Data with k =  3  Attention =  True\n",
      "Loading Best model with score:  [0.5, 0.8614633366633366]\n",
      "Loss Metrics - Test Loss 939.536, E-Test Loss 946.010, Local Sum Test Loss 122.919\n",
      "Clustering Metrics     - Acc 0.0000 , nmi 0.0000 , ari 0.0000, NHFD 0.074\n",
      "Classification Metrics - Test F1 0.438, Test AUC 0.847, Test ACC 0.869 , E-Test F1 0.466, E-Test AUC 0.855, E-Test ACC 0.872\n",
      "\n",
      "\n",
      "\n",
      "\n",
      "Test F1:  [0.46582984658298465]\n",
      "Test AUC:  [0.855149271086176]\n",
      "Sil scores:  [-0.01068612]\n",
      "NHFD:  [0.3387557710957288]\n",
      "MIFD:  [1.1413843291757655]\n",
      "Train Loss:  [190.31500244140625]\n",
      "E-Train Loss:  [1446.4432373046875]\n",
      "Test Loss:  [939.5361328125]\n",
      "E-Test Loss:  [946.0103149414062]\n",
      "Local Test Loss:  [122.91876983642578]\n",
      "Model Complexity:  []\n",
      "Dataset\tk\tF1\tAUC\tACC\tSIL\tNHFD\tMIFD\tW-NHFD\n",
      "cic\t3\t0.466\t0.855\tnan\t-0.011\t0.339\t1.141\n",
      "\n",
      "\n"
     ]
    },
    {
     "name": "stderr",
     "output_type": "stream",
     "text": [
      "/Users/shivin/miniconda/lib/python3.8/site-packages/numpy/lib/function_base.py:380: RuntimeWarning: Mean of empty slice.\n",
      "  avg = a.mean(axis)\n",
      "/Users/shivin/miniconda/lib/python3.8/site-packages/numpy/core/_methods.py:170: RuntimeWarning: invalid value encountered in double_scalars\n",
      "  ret = ret.dtype.type(ret / rcount)\n"
     ]
    }
   ],
   "source": [
    "print(\"\\n####################################################################################\\n\")\n",
    "print(\"Evaluating Test Data with k = \", args.n_clusters, \" Attention = \", args.attention)\n",
    "\n",
    "# Load best model trained from local training phase\n",
    "model = es.load_checkpoint(model)\n",
    "\n",
    "# # Evaluate model on Test dataset\n",
    "qs, z_test = model(torch.FloatTensor(X_test).to(args.device), output=\"latent\")\n",
    "q_test = qs[0]\n",
    "cluster_ids = torch.argmax(q_test, axis=1)\n",
    "# cluster_ids = np.argmax(distance_matrix(z_test.data.cpu().numpy(), model.cluster_layer.data.cpu().numpy()), axis=1)\n",
    "test_preds_e = torch.zeros((len(z_test), 2))\n",
    "\n",
    "test_loss = 0\n",
    "e_test_loss = 0\n",
    "local_sum_loss = 0\n",
    "\n",
    "# Weighted predictions\n",
    "for j in range(model.n_clusters):\n",
    "    cluster_id = np.where(cluster_ids == j)[0]\n",
    "    X_cluster = z_test\n",
    "    cluster_test_preds = model.classifiers[j][0](X_cluster)\n",
    "    test_preds_e[:,0] += q_test[:,j]*cluster_test_preds[:,0]\n",
    "    test_preds_e[:,1] += q_test[:,j]*cluster_test_preds[:,1]\n",
    "\n",
    "e_test_loss = torch.mean(criterion(test_preds_e, torch.Tensor(y_test).type(torch.LongTensor)))\n",
    "e_test_f1 = f1_score(y_test, np.argmax(test_preds_e.detach().numpy(), axis=1))\n",
    "e_test_auc = roc_auc_score(y_test, test_preds_e[:,1].detach().numpy())\n",
    "e_test_acc = accuracy_score(y_test, np.argmax(test_preds_e.detach().numpy(), axis=1))\n",
    "e_test_nhfd = calculate_nhfd(X_test, cluster_ids)\n",
    "\n",
    "test_preds = torch.zeros((len(z_test), 2))\n",
    "\n",
    "# Hard local predictions\n",
    "for j in range(model.n_clusters):\n",
    "    cluster_id = np.where(cluster_ids == j)[0]\n",
    "    X_cluster = z_test[cluster_id]\n",
    "    y_cluster = torch.Tensor(y_test[cluster_id]).type(torch.LongTensor)\n",
    "    cluster_test_preds = model.classifiers[j][0](X_cluster)\n",
    "    test_preds[cluster_id,:] = cluster_test_preds\n",
    "    local_sum_loss += torch.sum(q_test[cluster_id,j]*criterion(cluster_test_preds, y_cluster))\n",
    "\n",
    "test_f1 = f1_score(y_test, np.argmax(test_preds.detach().numpy(), axis=1))\n",
    "test_auc = roc_auc_score(y_test, test_preds[:,1].detach().numpy())\n",
    "test_acc = accuracy_score(y_test, np.argmax(test_preds.detach().numpy(), axis=1))\n",
    "test_loss = torch.mean(criterion(test_preds, torch.Tensor(y_test).type(torch.LongTensor)))\n",
    "local_sum_loss /= len(X_test)\n",
    "\n",
    "test_losses.append(test_loss.item())\n",
    "e_test_losses.append(e_test_loss.item())\n",
    "local_sum_test_losses.append(local_sum_loss.item())\n",
    "\n",
    "# enablePrint()\n",
    "# print(\"Run #{}\".format(r))\n",
    "\n",
    "print('Loss Metrics - Test Loss {:.3f}, E-Test Loss {:.3f}, Local Sum Test Loss {:.3f}'.format(test_loss, e_test_loss, local_sum_loss))\n",
    "\n",
    "print('Clustering Metrics     - Acc {:.4f}'.format(acc), ', nmi {:.4f}'.format(nmi),\\\n",
    "      ', ari {:.4f}, NHFD {:.3f}'.format(ari, e_test_nhfd))\n",
    "\n",
    "print('Classification Metrics - Test F1 {:.3f}, Test AUC {:.3f}, Test ACC {:.3f}'.format(test_f1, test_auc, test_acc),\\\n",
    "    ', E-Test F1 {:.3f}, E-Test AUC {:.3f}, E-Test ACC {:.3f}'.format(e_test_f1, e_test_auc, e_test_acc))\n",
    "\n",
    "print(\"\\n\")\n",
    "f1_scores.append(e_test_f1)\n",
    "auc_scores.append(e_test_auc)\n",
    "# acc_scores.append(e_test_acc)\n",
    "\n",
    "print(\"\\n\")\n",
    "print(\"Test F1: \", f1_scores)\n",
    "print(\"Test AUC: \", auc_scores)\n",
    "\n",
    "print(\"Sil scores: \", sil_scores)\n",
    "print(\"NHFD: \", nhfd_scores)\n",
    "print(\"MIFD: \", mifd_scores)\n",
    "\n",
    "print(\"Train Loss: \", train_losses)\n",
    "print(\"E-Train Loss: \", e_train_losses)\n",
    "\n",
    "print(\"Test Loss: \", test_losses)\n",
    "print(\"E-Test Loss: \", e_test_losses)\n",
    "print(\"Local Test Loss: \", local_sum_test_losses)\n",
    "\n",
    "print(\"Model Complexity: \", model_complexity)\n",
    "\n",
    "# enablePrint()\n",
    "print(\"Dataset\\tk\\tF1\\tAUC\\tACC\\tSIL\\tNHFD\\tMIFD\\tW-NHFD\")\n",
    "\n",
    "print(\"{}\\t{}\\t{:.3f}\\t{:.3f}\\t{:.3f}\\t{:.3f}\\t{:.3f}\\t{:.3f}\".format\\\n",
    "    (args.dataset, args.n_clusters, np.average(f1_scores), np.average(auc_scores),\\\n",
    "    np.average(acc_scores), np.average(sil_scores), np.average(nhfd_scores),\\\n",
    "    np.average(mifd_scores), np.average(w_nhfd_scores)))\n",
    "\n",
    "print(\"\\n\")"
   ]
  },
  {
   "cell_type": "markdown",
   "id": "e8351ea7",
   "metadata": {},
   "source": [
    "### K-Means feature segregation ... "
   ]
  },
  {
   "cell_type": "code",
   "execution_count": 7,
   "id": "dda312cd",
   "metadata": {},
   "outputs": [
    {
     "name": "stderr",
     "output_type": "stream",
     "text": [
      "<ipython-input-7-97a7324fd4d1>:10: ConvergenceWarning: Number of distinct clusters (2) found smaller than n_clusters (3). Possibly due to duplicate points in X.\n",
      "  feature_labels = km.fit(X_train[:,feature].reshape(-1,1)).labels_\n",
      "<ipython-input-7-97a7324fd4d1>:10: ConvergenceWarning: Number of distinct clusters (2) found smaller than n_clusters (3). Possibly due to duplicate points in X.\n",
      "  feature_labels = km.fit(X_train[:,feature].reshape(-1,1)).labels_\n",
      "<ipython-input-7-97a7324fd4d1>:10: ConvergenceWarning: Number of distinct clusters (2) found smaller than n_clusters (3). Possibly due to duplicate points in X.\n",
      "  feature_labels = km.fit(X_train[:,feature].reshape(-1,1)).labels_\n"
     ]
    },
    {
     "data": {
      "text/plain": [
       "{'Gender': 0.0,\n",
       " 'Height': -0.0,\n",
       " 'SaO2_last': 0.0,\n",
       " 'SaO2_lowest': 0.0,\n",
       " 'SaO2_highest': 0.0,\n",
       " 'ALP_first': -0.0,\n",
       " 'ALT_first': -0.0,\n",
       " 'AST_first': -0.0,\n",
       " 'Bilirubin_first': 0.0,\n",
       " 'Mg_first': -0.0,\n",
       " 'TroponinI_first': 0.0,\n",
       " 'TroponinT_first': -0.0,\n",
       " 'ALP_last': -0.0,\n",
       " 'ALT_last': -0.0,\n",
       " 'AST_last': -0.0,\n",
       " 'Bilirubin_last': 0.0,\n",
       " 'Platelets_last': 0.0,\n",
       " 'TroponinI_last': 0.0,\n",
       " 'TroponinT_last': 0.0,\n",
       " 'Age': 0.001,\n",
       " 'SaO2_first': 0.001,\n",
       " 'RespRate_highest': 0.001,\n",
       " 'SaO2_median': 0.001,\n",
       " 'PaO2_last': 0.001,\n",
       " 'MAP_first': 0.002,\n",
       " 'Temp_first': 0.002,\n",
       " 'NIDiasABP_last': 0.002,\n",
       " 'Temp_lowest': 0.002,\n",
       " 'NIDiasABP_highest': 0.002,\n",
       " 'Cholesterol_first': 0.002,\n",
       " 'Cholesterol_last': 0.002,\n",
       " 'SICU': 0.003,\n",
       " 'NIMAP_last': 0.003,\n",
       " 'RespRate_lowest': 0.003,\n",
       " 'Temp_highest': 0.003,\n",
       " 'Platelets_first': 0.003,\n",
       " 'FiO2_last': 0.003,\n",
       " 'HCT_last': 0.003,\n",
       " 'K_last': 0.003,\n",
       " 'Lactate_last': 0.003,\n",
       " 'Weight': 0.004,\n",
       " 'GCS_first': 0.004,\n",
       " 'NIDiasABP_first': 0.004,\n",
       " 'RespRate_first': 0.004,\n",
       " 'RespRate_last': 0.004,\n",
       " 'Glucose_lowest': 0.004,\n",
       " 'NIMAP_highest': 0.004,\n",
       " 'NISysABP_highest': 0.004,\n",
       " 'NIDiasABP_median': 0.004,\n",
       " 'Temp_median': 0.004,\n",
       " 'K_first': 0.004,\n",
       " 'Weight_first': 0.004,\n",
       " 'Weight_last': 0.004,\n",
       " 'NISysABP_first': 0.005,\n",
       " 'Glucose_last': 0.005,\n",
       " 'HR_last': 0.005,\n",
       " 'HR_lowest': 0.005,\n",
       " 'DiasABP_highest': 0.005,\n",
       " 'Temp_last': 0.006,\n",
       " 'GCS_lowest': 0.006,\n",
       " 'RespRate_median': 0.006,\n",
       " 'MechVentStartTime': 0.006,\n",
       " 'NIMAP_first': 0.007,\n",
       " 'DiasABP_last': 0.007,\n",
       " 'NISysABP_last': 0.007,\n",
       " 'NIDiasABP_lowest': 0.007,\n",
       " 'MAP_highest': 0.007,\n",
       " 'NIMAP_median': 0.007,\n",
       " 'DiasABP_lowest': 0.008,\n",
       " 'NISysABP_median': 0.008,\n",
       " 'HCT_first': 0.008,\n",
       " 'Mg_last': 0.008,\n",
       " 'WBC_last': 0.008,\n",
       " 'MAP_lowest': 0.009,\n",
       " 'NIMAP_lowest': 0.009,\n",
       " 'MAP_median': 0.009,\n",
       " 'Na_first': 0.009,\n",
       " 'WBC_first': 0.009,\n",
       " 'UrineOutputSum': 0.009,\n",
       " 'Length_of_stay': 0.01,\n",
       " 'DiasABP_median': 0.01,\n",
       " 'SysABP_last': 0.01,\n",
       " 'CCU': 0.011,\n",
       " 'NISysABP_lowest': 0.011,\n",
       " 'Lactate_first': 0.011,\n",
       " 'Albumin_last': 0.011,\n",
       " 'Na_last': 0.011,\n",
       " 'HR_median': 0.012,\n",
       " 'Albumin_first': 0.012,\n",
       " 'FiO2_first': 0.012,\n",
       " 'DiasABP_first': 0.013,\n",
       " 'HR_first': 0.014,\n",
       " 'MAP_last': 0.014,\n",
       " 'PaCO2_first': 0.014,\n",
       " 'pH_last': 0.014,\n",
       " 'HR_highest': 0.015,\n",
       " 'Creatinine_first': 0.015,\n",
       " 'SOFA': 0.016,\n",
       " 'GCS_highest': 0.016,\n",
       " 'SysABP_first': 0.016,\n",
       " 'Glucose_median': 0.018,\n",
       " 'PaCO2_last': 0.019,\n",
       " 'pH_first': 0.02,\n",
       " 'MechVentDuration': 0.02,\n",
       " 'Creatinine_last': 0.022,\n",
       " 'Glucose_first': 0.023,\n",
       " 'SAPS-I': 0.025,\n",
       " 'GCS_median': 0.028,\n",
       " 'HCO3_last': 0.03,\n",
       " 'Glucose_highest': 0.032,\n",
       " 'PaO2_first': 0.032,\n",
       " 'BUN_first': 0.033,\n",
       " 'CSRU': 0.035,\n",
       " 'BUN_last': 0.04,\n",
       " 'GCS_last': 0.05,\n",
       " 'HCO3_first': 0.05,\n",
       " 'MechVentLast8Hour': 0.055}"
      ]
     },
     "execution_count": 7,
     "metadata": {},
     "output_type": "execute_result"
    }
   ],
   "source": [
    "from sklearn.metrics.cluster import adjusted_rand_score as ari_score\n",
    "km = KMeans(n_clusters=args.n_clusters, n_init=20)\n",
    "cluster_ids = torch.argmax(q_train, axis=1).data.cpu().numpy()\n",
    "n_features = X_train.shape[1]\n",
    "nmi_scores = {}\n",
    "ari_scores = {}\n",
    "nmi_sum = 0\n",
    "ari_sum = 0\n",
    "for feature in range(n_features):\n",
    "    feature_labels = km.fit(X_train[:,feature].reshape(-1,1)).labels_\n",
    "    nmi = nmi_score(feature_labels, cluster_ids)\n",
    "    ari = ari_score(feature_labels, cluster_ids)\n",
    "    nmi_sum += nmi\n",
    "    ari_sum += ari\n",
    "    nmi_scores[column_names[feature]] = np.round(nmi, 3)\n",
    "    ari_scores[column_names[feature]] = np.round(ari, 3)\n",
    "\n",
    "nmi_sum, ari_sum\n",
    "{k: v for k, v in sorted(nmi_scores.items(), key=lambda item: item[1])}\n",
    "{k: v for k, v in sorted(ari_scores.items(), key=lambda item: item[1])}"
   ]
  },
  {
   "cell_type": "code",
   "execution_count": 8,
   "id": "31ba752d",
   "metadata": {},
   "outputs": [
    {
     "name": "stdout",
     "output_type": "stream",
     "text": [
      "tensor([[ -0.0470,   3.9581,  -0.6811,  ...,  -0.7307,   0.3996,  -0.1538],\n",
      "        [  0.7745,  16.7383,  -4.1157,  ...,  -3.1421,   1.0533,  -1.2180],\n",
      "        [  1.2878,  41.3400, -11.4000,  ...,  -8.2573,   3.4354,  -3.5407],\n",
      "        ...,\n",
      "        [ -0.3648,   8.5961,  -0.9250,  ...,  -2.0739,   1.2289,  -0.9856],\n",
      "        [  0.6373,  14.0108,  -2.3756,  ...,  -2.7678,   1.3514,  -1.6754],\n",
      "        [  0.9142,  17.9184,  -5.0957,  ...,  -3.3098,   0.9024,  -1.9583]],\n",
      "       grad_fn=<AddmmBackward>) tensor([[0.0931, 0.0125, 0.8944],\n",
      "        [0.2301, 0.6733, 0.0966],\n",
      "        [0.2583, 0.5373, 0.2044],\n",
      "        ...,\n",
      "        [0.6842, 0.0289, 0.2869],\n",
      "        [0.5611, 0.2685, 0.1704],\n",
      "        [0.1116, 0.8357, 0.0527]], grad_fn=<TBackward>)\n",
      "[0 2 1 ... 0 2 2]\n",
      "0.5554603478570804\n"
     ]
    }
   ],
   "source": [
    "print(z_val, q_val)\n",
    "q_labels = torch.argmax(q_val, axis=1).data.cpu().numpy()\n",
    "km_labels = kmeans.fit_predict(z_val.data.cpu().numpy())\n",
    "print(km_labels)\n",
    "print(nmi_score(q_labels, km_labels))"
   ]
  },
  {
   "cell_type": "code",
   "execution_count": 9,
   "id": "601452dc",
   "metadata": {},
   "outputs": [
    {
     "name": "stdout",
     "output_type": "stream",
     "text": [
      "Training data\n"
     ]
    },
    {
     "data": {
      "image/png": "[encoded data removed]",
      "text/plain": [
       "<Figure size 432x288 with 2 Axes>"
      ]
     },
     "metadata": {
      "needs_background": "light"
     },
     "output_type": "display_data"
    },
    {
     "name": "stdout",
     "output_type": "stream",
     "text": [
      "Cluster #  0 sized:  2199\n",
      "[('GCS_last', 0.289), ('Age', 0.12), ('BUN_last', 0.101), ('NISysABP_lowest', 0.035), ('Weight_last', 0.034), ('GCS_first', 0.032), ('MechVentDuration', 0.027), ('Albumin_last', 0.024), ('pH_first', 0.022), ('CSRU', 0.02)]\n",
      "=========================\n",
      "\n",
      "Cluster #  1 sized:  2295\n",
      "[('GCS_last', 0.178), ('BUN_last', 0.106), ('GCS_highest', 0.105), ('MechVentDuration', 0.073), ('Age', 0.072), ('CCU', 0.036), ('Length_of_stay', 0.028), ('GCS_median', 0.024), ('NISysABP_lowest', 0.023), ('Bilirubin_last', 0.023)]\n",
      "=========================\n",
      "\n",
      "Cluster #  2 sized:  2256\n",
      "[('Age', 0.2), ('GCS_last', 0.188), ('GCS_first', 0.061), ('BUN_last', 0.04), ('MechVentDuration', 0.034), ('Albumin_first', 0.03), ('NISysABP_lowest', 0.027), ('RespRate_highest', 0.024), ('Glucose_last', 0.024), ('Weight_last', 0.021)]\n",
      "=========================\n",
      "\n"
     ]
    }
   ],
   "source": [
    "####################################################################################\n",
    "####################################################################################\n",
    "####################################################################################\n",
    "################################### Feature Imp. ###################################\n",
    "####################################################################################\n",
    "####################################################################################\n",
    "####################################################################################\n",
    "\n",
    "plot(model, torch.FloatTensor(X_train).to(args.device), y_train, labels=None)\n",
    "\n",
    "regs = [GradientBoostingRegressor(random_state=0) for _ in range(args.n_clusters)]\n",
    "qs, z_train = model(torch.FloatTensor(X_train).to(args.device), output=\"latent\")\n",
    "q_train = qs[0]\n",
    "cluster_ids = torch.argmax(q_train, axis=1)\n",
    "preds_e = torch.zeros((len(z_train), 2))\n",
    "feature_importances = np.zeros((args.n_clusters, args.input_dim))\n",
    "\n",
    "# Weighted predictions\n",
    "for j in range(model.n_clusters):\n",
    "    cluster_id = np.where(cluster_ids == j)[0]\n",
    "    # X_cluster = z_test[cluster_id]\n",
    "    X_cluster = z_train\n",
    "    cluster_preds = model.classifiers[j][0](X_cluster)\n",
    "    # print(q_test, cluster_preds[:,0])\n",
    "    preds_e[:,0] += q_train[:,j]*cluster_preds[:,0]\n",
    "    preds_e[:,1] += q_train[:,j]*cluster_preds[:,1]\n",
    "\n",
    "for j in range(model.n_clusters):\n",
    "    cluster_id = torch.where(cluster_ids == j)[0]\n",
    "    X_cluster = X_train[cluster_id]\n",
    "    if args.attention == True:\n",
    "        y_cluster = preds_e[cluster_id][:,1]\n",
    "    else:\n",
    "        y_cluster = preds[cluster_id][:,1]\n",
    "\n",
    "    # Some test data might not belong to any cluster\n",
    "    if len(cluster_id) > 0:\n",
    "        regs[j].fit(X_cluster, y_cluster.detach().cpu().numpy())\n",
    "        best_features = np.argsort(regs[j].feature_importances_)[::-1][:10]\n",
    "        feature_importances[j,:] = regs[j].feature_importances_\n",
    "        print(\"Cluster # \", j, \"sized: \", len(cluster_id))\n",
    "        print(list(zip(column_names[best_features], np.round(regs[j].feature_importances_[best_features], 3))))\n",
    "        print(\"=========================\\n\")\n"
   ]
  },
  {
   "cell_type": "markdown",
   "id": "f62d9fb7",
   "metadata": {},
   "source": [
    "## Baseline Model"
   ]
  },
  {
   "cell_type": "code",
   "execution_count": 10,
   "id": "aa21f9e5",
   "metadata": {
    "code_folding": []
   },
   "outputs": [
    {
     "ename": "NameError",
     "evalue": "name 'NNClassifier' is not defined",
     "output_type": "error",
     "traceback": [
      "\u001b[0;31m---------------------------------------------------------------------------\u001b[0m",
      "\u001b[0;31mNameError\u001b[0m                                 Traceback (most recent call last)",
      "\u001b[0;32m<ipython-input-10-3c1310b02c60>\u001b[0m in \u001b[0;36m<module>\u001b[0;34m\u001b[0m\n\u001b[1;32m      2\u001b[0m \u001b[0;34m\u001b[0m\u001b[0m\n\u001b[1;32m      3\u001b[0m \u001b[0;32mfor\u001b[0m \u001b[0mr\u001b[0m \u001b[0;32min\u001b[0m \u001b[0mrange\u001b[0m\u001b[0;34m(\u001b[0m\u001b[0;36m5\u001b[0m\u001b[0;34m)\u001b[0m\u001b[0;34m:\u001b[0m\u001b[0;34m\u001b[0m\u001b[0;34m\u001b[0m\u001b[0m\n\u001b[0;32m----> 4\u001b[0;31m     \u001b[0mm\u001b[0m \u001b[0;34m=\u001b[0m \u001b[0mNNClassifier\u001b[0m\u001b[0;34m(\u001b[0m\u001b[0margs\u001b[0m\u001b[0;34m,\u001b[0m \u001b[0minput_dim\u001b[0m\u001b[0;34m=\u001b[0m\u001b[0;36m89\u001b[0m\u001b[0;34m)\u001b[0m\u001b[0;34m\u001b[0m\u001b[0;34m\u001b[0m\u001b[0m\n\u001b[0m\u001b[1;32m      5\u001b[0m     \u001b[0mdevice\u001b[0m \u001b[0;34m=\u001b[0m \u001b[0margs\u001b[0m\u001b[0;34m.\u001b[0m\u001b[0mdevice\u001b[0m\u001b[0;34m\u001b[0m\u001b[0;34m\u001b[0m\u001b[0m\n\u001b[1;32m      6\u001b[0m \u001b[0;34m\u001b[0m\u001b[0m\n",
      "\u001b[0;31mNameError\u001b[0m: name 'NNClassifier' is not defined"
     ]
    }
   ],
   "source": [
    "f1_scores, auc_scores = [], []\n",
    "\n",
    "for r in range(5):\n",
    "    m = NNClassifier(args, input_dim=89)\n",
    "    device = args.device\n",
    "\n",
    "    N_EPOCHS = args.n_epochs\n",
    "    es = EarlyStopping(dataset=args.dataset, path=\"./pretrained_model/checkpoint_base\")\n",
    "\n",
    "    kmeans = KMeans(n_clusters=args.n_classes, n_init=20)\n",
    "\n",
    "    for e in range(1, N_EPOCHS):\n",
    "        epoch_loss = 0\n",
    "        epoch_acc = 0\n",
    "        epoch_f1 = 0\n",
    "        m.train()\n",
    "        nmi, acc, ari = 0, 0, 0\n",
    "\n",
    "#         for X_batch, y_batch, _ in train_loader:\n",
    "        X_batch, y_batch = torch.FloatTensor(X_train), torch.Tensor(y_train).type(torch.LongTensor)\n",
    "        y_pred, train_loss = m.fit(X_batch, y_batch)\n",
    "        epoch_loss += train_loss\n",
    "\n",
    "        f1 = f1_score(np.argmax(y_pred, axis=1), y_batch)\n",
    "        acc = roc_auc_score(y_batch, y_pred[:,1])\n",
    "        epoch_acc += acc.item()\n",
    "        epoch_f1 += f1.item()\n",
    "\n",
    "\n",
    "        m.classifier.eval()\n",
    "        val_pred = m(torch.FloatTensor(X_val).to(args.device))\n",
    "        val_loss = nn.CrossEntropyLoss(reduction='mean')(val_pred, torch.Tensor(y_val).type(torch.LongTensor))\n",
    "\n",
    "        val_f1 = f1_score(torch.argmax(val_pred, axis=1), y_val)\n",
    "        val_auc = roc_auc_score(y_val, val_pred[:,1].data.cpu().numpy())\n",
    "        es([val_f1, val_auc], m)\n",
    "\n",
    "        print(f'Epoch {e+0:03}: | Train Loss: {epoch_loss/len(train_loader):.5f} | ',\n",
    "            f'Train F1: {epoch_f1/len(train_loader):.3f} | Train Acc: {epoch_acc/len(train_loader):.3f}| ',\n",
    "            f'Val F1: {val_f1:.3f} | Val Acc: {val_auc:.3f} | Val Loss: {val_loss:.3f}')\n",
    "\n",
    "        if es.early_stop == True:\n",
    "            break\n",
    "\n",
    "\n",
    "    ###################################### Testing #####################################\n",
    "\n",
    "    print(\"\\n####################################################################################\\n\")\n",
    "    print(\"Evaluating Test Data\")\n",
    "\n",
    "    # Load best model trained from local training phase\n",
    "    m = es.load_checkpoint(m)\n",
    "    m.classifier.eval()\n",
    "    test_pred = m.classifier(torch.FloatTensor(X_test))\n",
    "    test_loss = nn.CrossEntropyLoss(reduction='mean')(test_pred, torch.Tensor(y_test).type(torch.LongTensor))\n",
    "\n",
    "    test_f1 = f1_score(np.argmax(test_pred.detach().numpy(), axis=1), y_test)\n",
    "    test_auc = roc_auc_score(y_test, test_pred[:,1].detach().numpy())\n",
    "    f1_scores.append(test_f1)\n",
    "    auc_scores.append(test_auc)\n",
    "    \n",
    "    print(f'Epoch {e+0:03}: | Train Loss: {epoch_loss/len(train_loader):.5f} | ',\n",
    "        f'Train F1: {epoch_f1/len(train_loader):.3f} | Train Acc: {epoch_acc/len(train_loader):.3f}| ',\n",
    "        f'Test F1: {test_f1:.3f} | Test Acc: {test_auc:.3f} | Test Loss: {test_loss:.3f}')\n",
    "\n",
    "\n",
    "#     reg = GradientBoostingRegressor(random_state=0)\n",
    "\n",
    "#     reg.fit(X_test, y_test)\n",
    "#     best_features = np.argsort(reg.feature_importances_)[::-1][:10]\n",
    "#     print(\"Best Features \")\n",
    "#     print(column_names[best_features])\n",
    "#     print(\"=========================\\n\")\n",
    "print(f1_scores, auc_scores)\n",
    "print(\"Avg. Test F1 = {:.3f}, AUC = {:.3f}\".format(np.average(f1_scores), np.average(auc_scores)))"
   ]
  },
  {
   "cell_type": "code",
   "execution_count": null,
   "id": "32b388fc",
   "metadata": {},
   "outputs": [],
   "source": []
  }
 ],
 "metadata": {
  "kernelspec": {
   "display_name": "Python 3 (ipykernel)",
   "language": "python",
   "name": "python3"
  },
  "language_info": {
   "codemirror_mode": {
    "name": "ipython",
    "version": 3
   },
   "file_extension": ".py",
   "mimetype": "text/x-python",
   "name": "python",
   "nbconvert_exporter": "python",
   "pygments_lexer": "ipython3",
   "version": "3.8.5"
  }
 },
 "nbformat": 4,
 "nbformat_minor": 5
}
