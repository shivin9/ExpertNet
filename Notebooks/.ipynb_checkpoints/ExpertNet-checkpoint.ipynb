{
 "cells": [
  {
   "cell_type": "code",
   "execution_count": 1,
   "id": "650c3f90",
   "metadata": {},
   "outputs": [
    {
     "name": "stdout",
     "output_type": "stream",
     "text": [
      "/Users/shivin/Document/NUS/Research/CAC/CAC_DL/DeepCAC\n"
     ]
    }
   ],
   "source": [
    "%cd ../"
   ]
  },
  {
   "cell_type": "code",
   "execution_count": 2,
   "id": "1fa1a3c5",
   "metadata": {},
   "outputs": [],
   "source": [
    "from __future__ import print_function, division\n",
    "import copy\n",
    "import torch\n",
    "import argparse\n",
    "import numpy as np\n",
    "import os\n",
    "import umap\n",
    "from torchvision import datasets, transforms\n",
    "from sklearn.metrics import adjusted_rand_score, normalized_mutual_info_score,\\\n",
    "f1_score, roc_auc_score, roc_curve, accuracy_score, matthews_corrcoef as mcc\n",
    "from torch.utils.data import Subset\n",
    "import pandas as pd\n",
    "from scipy.spatial import distance_matrix\n",
    "\n",
    "import argparse\n",
    "import numpy as np\n",
    "from scipy.cluster.vq import kmeans2\n",
    "from sklearn.metrics.cluster import normalized_mutual_info_score as nmi_score\n",
    "from sklearn.metrics import adjusted_rand_score as ari_score\n",
    "from sklearn.linear_model import LogisticRegression\n",
    "from sklearn.ensemble import GradientBoostingRegressor, GradientBoostingClassifier, RandomForestClassifier\n",
    "import torch.nn as nn\n",
    "import torch.nn.functional as F\n",
    "from torch.nn.parameter import Parameter\n",
    "from torch.optim import Adam\n",
    "from torch.utils.data import DataLoader, random_split\n",
    "from torch.nn import Linear\n",
    "from pytorchtools import EarlyStoppingCAC\n",
    "\n",
    "import numbers\n",
    "from sklearn.metrics import davies_bouldin_score as dbs, adjusted_rand_score as ari\n",
    "from matplotlib import pyplot as plt\n",
    "color = ['grey', 'red', 'blue', 'pink', 'brown', 'black', 'magenta', 'purple', 'orange', 'cyan', 'olive']\n",
    "\n",
    "from models import MultiHeadIDEC,  target_distribution, source_distribution\n",
    "from utils import *"
   ]
  },
  {
   "cell_type": "code",
   "execution_count": 28,
   "id": "49edcbc2",
   "metadata": {},
   "outputs": [],
   "source": [
    "# Dataset parameters\n",
    "params = {\n",
    "'dir' : 'synthetic',\n",
    "'dataset' : 'cic',\n",
    "\n",
    "# Training parameters\n",
    "'lr' : 0.002,\n",
    "'alpha' : 1,\n",
    "'wd' : 5e-4,\n",
    "'batch_size' : 512,\n",
    "'n_epochs' : 100,\n",
    "'n_runs' : 1,\n",
    "'pre_epoch' : 40,\n",
    "'pretrain' : True,\n",
    "\"load_ae\": False,\n",
    "\"classifier\": \"LR\",\n",
    "\"tol\": 0.01,\n",
    "\"attention\": \"True\",\n",
    "\"ablation\": 'None',\n",
    "\"cluster_balance\": 'hellinger',\n",
    "\"verbose\": 'True',\n",
    "\n",
    "# Model parameters\n",
    "'lamda' : 1,\n",
    "'beta' : 0.5, # KL loss/KM loss weight\n",
    "'gamma' : 1.5, # Classification loss weight\n",
    "'delta' : 1, # Class Balance weight\n",
    "'eta' : 0.0, # Class separation weight\n",
    "'hidden_dims' : [64, 32],\n",
    "'n_z' : 20,\n",
    "'n_clusters' : 3,\n",
    "'clustering' : 'cac',\n",
    "'n_classes'  : 2,\n",
    "\n",
    "# Utility parameters\n",
    "'n_jobs' : 6,\n",
    "'device' : 'cpu',\n",
    "'log_interval' : 2,\n",
    "'other' : 'False',\n",
    "'cluster_balance' : 'hellinger',\n",
    "'cluster_analysis' : 'False',\n",
    "'pretrain_path': '/Users/shivin/Document/NUS/Research/CAC/CAC_DL/DeepCAC/pretrained_model'}\n",
    "# 'pretrain_path': ''}\n",
    "\n",
    "\n",
    "class parameters(object):\n",
    "    def __init__(self, params):\n",
    "        self.dir = params['dir']\n",
    "        self.input_dim = -1\n",
    "        self.dataset = params['dataset']\n",
    "        \n",
    "        # Training parameters\n",
    "        self.lr = params['lr']\n",
    "        self.alpha = params['alpha']\n",
    "        self.wd = params['wd']\n",
    "        self.batch_size = params['batch_size']\n",
    "        self.n_epochs = params['n_epochs']\n",
    "        self.n_runs = params['n_runs']\n",
    "        self.pre_epoch = params['pre_epoch']\n",
    "        self.pretrain = params['pretrain']\n",
    "        self.load_ae = params['load_ae']\n",
    "        self.classifier = params['classifier']\n",
    "        self.tol = params['tol']\n",
    "        self.attention = params['attention'] == \"True\"\n",
    "        self.ablation = params['ablation']\n",
    "        self.verbose = params['verbose']\n",
    "\n",
    "        # Model parameters\n",
    "        self.lamda = params['lamda']\n",
    "        self.beta = params['beta']\n",
    "        self.gamma = params['gamma']\n",
    "        self.delta = params['delta']\n",
    "        self.eta = params['eta']\n",
    "        self.hidden_dims = params['hidden_dims']\n",
    "        self.latent_dim = self.n_z = params['n_z']\n",
    "        self.n_clusters = params['n_clusters']\n",
    "        self.clustering = params['clustering']\n",
    "        self.n_classes = params['n_classes']\n",
    "        self.cluster_balance = params['cluster_balance']\n",
    "        self.cluster_analysis = params['cluster_analysis']\n",
    "\n",
    "        # Utility parameters\n",
    "        self.n_jobs = params['n_jobs']\n",
    "        self.device = params['device']\n",
    "        self.log_interval = params['log_interval']\n",
    "        self.other = params['other']\n",
    "        self.pretrain_path = params['pretrain_path'] + \"/\" + self.dataset + \".pth\"\n",
    "\n",
    "args = parameters(params)\n",
    "datasets = ['titanic', 'magic', 'creditcard', 'adult', 'diabetes',\\\n",
    "            'cic', 'sepsis', 'synthetic', 'paper_synthetic', 'aki', 'infant', 'wid_mortality']"
   ]
  },
  {
   "cell_type": "code",
   "execution_count": 29,
   "id": "f7a76ae4",
   "metadata": {},
   "outputs": [
    {
     "name": "stdout",
     "output_type": "stream",
     "text": [
      "n_clusters 3\n",
      "alpha 1\n",
      "beta 0.5\n",
      "gamma 1.5\n",
      "delta 1\n",
      "eta 0.0\n",
      "cic\n"
     ]
    }
   ],
   "source": [
    "base_suffix = \"\"\n",
    "\n",
    "for key in ['n_clusters', 'alpha', 'beta', 'gamma', 'delta', 'eta']:\n",
    "    print(key, args.__dict__[key])\n",
    "\n",
    "base_suffix += args.dataset + \"_\"\n",
    "base_suffix += str(args.n_clusters) + \"_\"\n",
    "base_suffix += str(args.attention)\n",
    "\n",
    "scale, column_names, train_data, val_data, test_data = get_train_val_test_loaders(args)\n",
    "X_train, y_train, train_loader = train_data\n",
    "X_val, y_val, val_loader = val_data\n",
    "X_test, y_test, test_loader = test_data\n",
    "# X_train = X_train[:,:42]\n",
    "# args.input_dim = 42"
   ]
  },
  {
   "cell_type": "code",
   "execution_count": 30,
   "id": "437bf7a5",
   "metadata": {
    "code_folding": [
     552
    ],
    "scrolled": true
   },
   "outputs": [
    {
     "name": "stdout",
     "output_type": "stream",
     "text": [
      "Run : 0\n",
      "/Users/shivin/Document/NUS/Research/CAC/CAC_DL/DeepCAC/pretrained_model/cic.pth\n",
      "load pretrained ae from /Users/shivin/Document/NUS/Research/CAC/CAC_DL/DeepCAC/pretrained_model/cic.pth\n",
      "Starting Training\n",
      "\n",
      "[  0/100] train_loss: 0.667 valid_loss: 0.677 valid_F1: 0.549 valid_AUC: 0.561 valid_Feature_p: 0.000 valid_WDFD: 0.000 valid_Silhouette: 0.257 Complexity Term: 0.000\n",
      "Epoch: 00 | Epoch KM Loss: 2.245 | Total Loss: 17.892 | Classification Loss: 4.283 | Cluster Balance Loss: 1.162\n",
      "Epoch: 01 | Epoch KM Loss: 5.000 | Total Loss: 14.674 | Classification Loss: 3.287 | Cluster Balance Loss: 1.024\n",
      "\n",
      "[  2/100] train_loss: 0.437 valid_loss: 0.464 valid_F1: 0.461 valid_AUC: 0.455 valid_Feature_p: 0.000 valid_WDFD: 0.000 valid_Silhouette: 0.203 Complexity Term: 0.000\n",
      "EarlyStopping counter: 1 out of 7\n",
      "Epoch: 02 | Epoch KM Loss: 1.420 | Total Loss: 11.000 | Classification Loss: 2.674 | Cluster Balance Loss: 0.659\n",
      "Epoch: 03 | Epoch KM Loss: 1.274 | Total Loss: 10.670 | Classification Loss: 2.424 | Cluster Balance Loss: 0.734\n",
      "\n",
      "[  4/100] train_loss: 0.351 valid_loss: 0.360 valid_F1: 0.461 valid_AUC: 0.739 valid_Feature_p: 0.000 valid_WDFD: 0.000 valid_Silhouette: 0.212 Complexity Term: 0.000\n",
      "Epoch: 04 | Epoch KM Loss: 1.100 | Total Loss: 10.195 | Classification Loss: 2.303 | Cluster Balance Loss: 0.623\n",
      "Epoch: 05 | Epoch KM Loss: 0.951 | Total Loss: 10.074 | Classification Loss: 2.232 | Cluster Balance Loss: 0.741\n",
      "\n",
      "[  6/100] train_loss: 0.333 valid_loss: 0.323 valid_F1: 0.658 valid_AUC: 0.832 valid_Feature_p: 0.000 valid_WDFD: 0.000 valid_Silhouette: 0.239 Complexity Term: 0.000\n",
      "Epoch: 06 | Epoch KM Loss: 1.244 | Total Loss: 10.273 | Classification Loss: 2.127 | Cluster Balance Loss: 0.738\n",
      "Epoch: 07 | Epoch KM Loss: 1.107 | Total Loss: 9.721 | Classification Loss: 2.066 | Cluster Balance Loss: 0.610\n",
      "\n",
      "[  8/100] train_loss: 0.290 valid_loss: 0.302 valid_F1: 0.602 valid_AUC: 0.835 valid_Feature_p: 0.000 valid_WDFD: 0.000 valid_Silhouette: 0.251 Complexity Term: 0.000\n",
      "Epoch: 08 | Epoch KM Loss: 1.366 | Total Loss: 10.049 | Classification Loss: 2.025 | Cluster Balance Loss: 0.675\n",
      "Epoch: 09 | Epoch KM Loss: 1.206 | Total Loss: 9.982 | Classification Loss: 2.009 | Cluster Balance Loss: 0.677\n",
      "\n",
      "[ 10/100] train_loss: 0.280 valid_loss: 0.296 valid_F1: 0.695 valid_AUC: 0.850 valid_Feature_p: 0.000 valid_WDFD: 0.000 valid_Silhouette: 0.265 Complexity Term: 0.000\n",
      "Epoch: 10 | Epoch KM Loss: 1.382 | Total Loss: 10.103 | Classification Loss: 2.033 | Cluster Balance Loss: 0.719\n",
      "Epoch: 11 | Epoch KM Loss: 1.366 | Total Loss: 9.789 | Classification Loss: 1.913 | Cluster Balance Loss: 0.645\n",
      "\n",
      "[ 12/100] train_loss: 0.263 valid_loss: 0.297 valid_F1: 0.669 valid_AUC: 0.841 valid_Feature_p: 0.000 valid_WDFD: 0.000 valid_Silhouette: 0.267 Complexity Term: 0.000\n",
      "EarlyStopping counter: 1 out of 7\n",
      "Epoch: 12 | Epoch KM Loss: 1.638 | Total Loss: 9.809 | Classification Loss: 1.802 | Cluster Balance Loss: 0.696\n",
      "Epoch: 13 | Epoch KM Loss: 1.639 | Total Loss: 9.698 | Classification Loss: 1.753 | Cluster Balance Loss: 0.638\n",
      "\n",
      "[ 14/100] train_loss: 0.262 valid_loss: 0.316 valid_F1: 0.667 valid_AUC: 0.819 valid_Feature_p: 0.000 valid_WDFD: 0.000 valid_Silhouette: 0.275 Complexity Term: 0.000\n",
      "EarlyStopping counter: 2 out of 7\n",
      "Epoch: 14 | Epoch KM Loss: 2.152 | Total Loss: 10.036 | Classification Loss: 1.812 | Cluster Balance Loss: 0.705\n",
      "Epoch: 15 | Epoch KM Loss: 4.262 | Total Loss: 10.998 | Classification Loss: 1.421 | Cluster Balance Loss: 0.784\n",
      "\n",
      "[ 16/100] train_loss: 0.267 valid_loss: 0.336 valid_F1: 0.707 valid_AUC: 0.853 valid_Feature_p: 0.000 valid_WDFD: 0.000 valid_Silhouette: 0.290 Complexity Term: 0.000\n",
      "Epoch: 16 | Epoch KM Loss: 0.888 | Total Loss: 9.815 | Classification Loss: 1.729 | Cluster Balance Loss: 0.747\n",
      "Epoch: 17 | Epoch KM Loss: 1.577 | Total Loss: 10.080 | Classification Loss: 1.533 | Cluster Balance Loss: 0.798\n",
      "\n",
      "[ 18/100] train_loss: 0.257 valid_loss: 0.290 valid_F1: 0.665 valid_AUC: 0.860 valid_Feature_p: 0.000 valid_WDFD: 0.000 valid_Silhouette: 0.282 Complexity Term: 0.000\n",
      "Epoch: 18 | Epoch KM Loss: 1.004 | Total Loss: 8.903 | Classification Loss: 1.317 | Cluster Balance Loss: 0.620\n",
      "Epoch: 19 | Epoch KM Loss: 0.695 | Total Loss: 8.677 | Classification Loss: 1.341 | Cluster Balance Loss: 0.668\n",
      "\n",
      "[ 20/100] train_loss: 0.324 valid_loss: 0.353 valid_F1: 0.567 valid_AUC: 0.822 valid_Feature_p: 0.000 valid_WDFD: 0.000 valid_Silhouette: 0.297 Complexity Term: 0.000\n",
      "EarlyStopping counter: 1 out of 7\n",
      "Epoch: 20 | Epoch KM Loss: 0.913 | Total Loss: 8.989 | Classification Loss: 1.484 | Cluster Balance Loss: 0.599\n",
      "Epoch: 21 | Epoch KM Loss: 0.965 | Total Loss: 9.193 | Classification Loss: 1.587 | Cluster Balance Loss: 0.695\n",
      "\n",
      "[ 22/100] train_loss: 0.217 valid_loss: 0.333 valid_F1: 0.684 valid_AUC: 0.804 valid_Feature_p: 0.000 valid_WDFD: 0.000 valid_Silhouette: 0.307 Complexity Term: 0.000\n",
      "EarlyStopping counter: 2 out of 7\n",
      "Epoch: 22 | Epoch KM Loss: 1.984 | Total Loss: 9.266 | Classification Loss: 1.282 | Cluster Balance Loss: 0.669\n",
      "Epoch: 23 | Epoch KM Loss: 2.100 | Total Loss: 9.106 | Classification Loss: 1.163 | Cluster Balance Loss: 0.656\n",
      "\n",
      "[ 24/100] train_loss: 0.218 valid_loss: 0.321 valid_F1: 0.673 valid_AUC: 0.821 valid_Feature_p: 0.000 valid_WDFD: 0.000 valid_Silhouette: 0.306 Complexity Term: 0.000\n",
      "EarlyStopping counter: 3 out of 7\n",
      "Epoch: 24 | Epoch KM Loss: 0.720 | Total Loss: 9.291 | Classification Loss: 1.506 | Cluster Balance Loss: 0.844\n",
      "Epoch: 25 | Epoch KM Loss: 1.276 | Total Loss: 9.673 | Classification Loss: 1.342 | Cluster Balance Loss: 0.677\n",
      "\n",
      "[ 26/100] train_loss: 0.246 valid_loss: 0.300 valid_F1: 0.704 valid_AUC: 0.859 valid_Feature_p: 0.000 valid_WDFD: 0.000 valid_Silhouette: 0.306 Complexity Term: 0.000\n",
      "EarlyStopping counter: 4 out of 7\n",
      "Epoch: 26 | Epoch KM Loss: 1.087 | Total Loss: 8.845 | Classification Loss: 1.165 | Cluster Balance Loss: 0.625\n",
      "Epoch: 27 | Epoch KM Loss: 0.800 | Total Loss: 8.364 | Classification Loss: 1.111 | Cluster Balance Loss: 0.642\n",
      "\n",
      "[ 28/100] train_loss: 0.204 valid_loss: 0.373 valid_F1: 0.648 valid_AUC: 0.837 valid_Feature_p: 0.000 valid_WDFD: 0.000 valid_Silhouette: 0.306 Complexity Term: 0.000\n",
      "EarlyStopping counter: 5 out of 7\n",
      "Epoch: 28 | Epoch KM Loss: 1.026 | Total Loss: 9.591 | Classification Loss: 1.407 | Cluster Balance Loss: 0.831\n",
      "Epoch: 29 | Epoch KM Loss: 2.635 | Total Loss: 10.189 | Classification Loss: 1.151 | Cluster Balance Loss: 0.758\n",
      "\n",
      "[ 30/100] train_loss: 0.180 valid_loss: 0.343 valid_F1: 0.688 valid_AUC: 0.810 valid_Feature_p: 0.000 valid_WDFD: 0.000 valid_Silhouette: 0.330 Complexity Term: 0.000\n",
      "EarlyStopping counter: 6 out of 7\n",
      "Epoch: 30 | Epoch KM Loss: 0.712 | Total Loss: 8.648 | Classification Loss: 0.968 | Cluster Balance Loss: 0.573\n",
      "Epoch: 31 | Epoch KM Loss: 0.544 | Total Loss: 8.114 | Classification Loss: 0.969 | Cluster Balance Loss: 0.592\n",
      "\n",
      "[ 32/100] train_loss: 0.175 valid_loss: 0.373 valid_F1: 0.709 valid_AUC: 0.835 valid_Feature_p: 0.000 valid_WDFD: 0.000 valid_Silhouette: 0.325 Complexity Term: 0.000\n",
      "EarlyStopping counter: 7 out of 7\n",
      "Train Losses:  [[17.892, 4.283], [14.674, 3.287], [11.0, 2.674], [10.67, 2.424], [10.195, 2.303], [10.074, 2.232], [10.273, 2.127], [9.721, 2.066], [10.049, 2.025], [9.982, 2.009], [10.103, 2.033], [9.789, 1.913], [9.809, 1.802], [9.698, 1.753], [10.036, 1.812], [10.998, 1.421], [9.815, 1.729], [10.08, 1.533], [8.903, 1.317], [8.677, 1.341], [8.989, 1.484], [9.193, 1.587], [9.266, 1.282], [9.106, 1.163], [9.291, 1.506], [9.673, 1.342], [8.845, 1.165], [8.364, 1.111], [9.591, 1.407], [10.189, 1.151], [8.648, 0.968], [8.114, 0.969]]\n",
      "\n",
      "####################################################################################\n",
      "\n",
      "Training Local Networks\n",
      "Loading Best model with score:  [0.665151200739497, 0.8597066933066932]\n",
      "\n",
      "[ 32/100] train_loss: 0.119 valid_loss: 0.287 valid_F1: 0.669 valid_AUC: 0.864 valid_Sil: 0.282\n",
      "\n",
      "[ 32/100] train_loss: 0.119 valid_loss: 0.290 valid_F1: 0.668 valid_AUC: 0.864 valid_Sil: 0.282\n",
      "\n",
      "[ 32/100] train_loss: 0.119 valid_loss: 0.288 valid_F1: 0.675 valid_AUC: 0.863 valid_Sil: 0.282\n",
      "EarlyStopping counter: 1 out of 7\n",
      "\n",
      "[ 32/100] train_loss: 0.119 valid_loss: 0.288 valid_F1: 0.716 valid_AUC: 0.864 valid_Sil: 0.282\n",
      "EarlyStopping counter: 2 out of 7\n",
      "\n",
      "[ 32/100] train_loss: 0.118 valid_loss: 0.286 valid_F1: 0.708 valid_AUC: 0.864 valid_Sil: 0.282\n",
      "EarlyStopping counter: 3 out of 7\n"
     ]
    },
    {
     "name": "stdout",
     "output_type": "stream",
     "text": [
      "\n",
      "[ 32/100] train_loss: 0.117 valid_loss: 0.289 valid_F1: 0.667 valid_AUC: 0.864 valid_Sil: 0.282\n",
      "EarlyStopping counter: 4 out of 7\n",
      "\n",
      "[ 32/100] train_loss: 0.117 valid_loss: 0.293 valid_F1: 0.659 valid_AUC: 0.863 valid_Sil: 0.282\n",
      "EarlyStopping counter: 5 out of 7\n",
      "\n",
      "[ 32/100] train_loss: 0.117 valid_loss: 0.288 valid_F1: 0.705 valid_AUC: 0.864 valid_Sil: 0.282\n",
      "EarlyStopping counter: 6 out of 7\n",
      "\n",
      "[ 32/100] train_loss: 0.117 valid_loss: 0.292 valid_F1: 0.667 valid_AUC: 0.862 valid_Sil: 0.282\n",
      "EarlyStopping counter: 7 out of 7\n",
      "\n",
      "Cluster Wise discriminative features (NHFD)\n",
      "\n",
      "####################################################################################\n",
      "\n",
      "Evaluating Test Data with k =  3  Attention =  True\n",
      "Loading Best model with score:  [0.6683939373227162, 0.8642793206793207]\n",
      "\n",
      "Cluster Wise discriminative features (NHFD)\n",
      "Run #0\n",
      "Loss Metrics - Test Loss 0.316, E-Test Loss 0.307, Local Sum Test Loss 0.152\n",
      "Clustering Metrics     - Acc 0.0000 , nmi 0.0000 , ari 0.0000, NHFD 0.799\n",
      "Classification Metrics - Test F1 0.685, Test AUC 0.839, Test ACC 0.873 , E-Test F1 0.671, E-Test AUC 0.852, E-Test ACC 0.875\n",
      "\n",
      "\n"
     ]
    }
   ],
   "source": [
    "####################################################################################\n",
    "####################################################################################\n",
    "####################################################################################\n",
    "################################### Initialiation ##################################\n",
    "####################################################################################\n",
    "####################################################################################\n",
    "####################################################################################\n",
    "\n",
    "f1_scores, auc_scores, acc_scores = [], [], [] #Inattentive test results\n",
    "e_f1_scores, e_auc_scores, e_acc_scores = [], [], [] #Attentive test results\n",
    "sil_scores, wdfd_scores, nhfd_scores, w_nhfd_scores = [], [], [], []\n",
    "\n",
    "# to track the training loss as the model trains\n",
    "test_losses, e_test_losses, local_sum_test_losses = [], [], []\n",
    "model_complexity = []\n",
    "\n",
    "if args.ablation == \"alpha\":\n",
    "    iter_array = alphas\n",
    "    iteration_name = \"Alpha\"\n",
    "\n",
    "elif args.ablation == \"beta\":\n",
    "    iter_array = betas\n",
    "    iteration_name = \"Beta\"\n",
    "\n",
    "elif args.ablation == \"gamma\":\n",
    "    iter_array = gammas\n",
    "    iteration_name = \"Gamma\"\n",
    "\n",
    "elif args.ablation == \"delta\":\n",
    "    iter_array = deltas\n",
    "    iteration_name = \"Delta\"\n",
    "\n",
    "elif args.ablation == \"k\":\n",
    "    iter_array = ks\n",
    "    iteration_name = \"K\"\n",
    "\n",
    "else:\n",
    "    iter_array = range(args.n_runs)\n",
    "    iteration_name = \"Run\"\n",
    "\n",
    "for r in range(len(iter_array)):\n",
    "    if args.verbose == 'False':\n",
    "        blockPrint()\n",
    "\n",
    "    print(iteration_name, \":\", iter_array[r])\n",
    "\n",
    "    if args.ablation == \"beta\":\n",
    "        args.beta = iter_array[r]\n",
    "\n",
    "    elif args.ablation == \"gamma\":\n",
    "        args.gamma = iter_array[r]\n",
    "\n",
    "    elif args.ablation == \"delta\":\n",
    "        args.delta = iter_array[r]\n",
    "\n",
    "    elif args.ablation == \"k\":\n",
    "        args.n_clusters = iter_array[r]\n",
    "\n",
    "    suffix = base_suffix + \"_\" + iteration_name + \"_\" + str(iter_array[r])\n",
    "    model = MultiHeadIDEC(\n",
    "            n_enc_1=128,\n",
    "            n_enc_2=64,\n",
    "            n_enc_3=32,\n",
    "            n_dec_1=32,\n",
    "            n_dec_2=64,\n",
    "            n_dec_3=128,\n",
    "            args=args).to(args.device)\n",
    "\n",
    "    model.pretrain(train_loader, args.pretrain_path)\n",
    "\n",
    "    optimizer = Adam(model.parameters(), lr=args.lr)\n",
    "\n",
    "    # cluster parameter initiate\n",
    "    device = args.device\n",
    "    y = y_train\n",
    "    x_bar, hidden = model.ae(torch.Tensor(X_train).to(args.device))\n",
    "    original_cluster_centers, cluster_indices = kmeans2(hidden.data.cpu().numpy(), k=args.n_clusters, minit='++')\n",
    "    model.cluster_layer.data = torch.tensor(original_cluster_centers).to(device)\n",
    "    criterion = nn.CrossEntropyLoss(reduction='none')\n",
    "\n",
    "\n",
    "    ####################################################################################\n",
    "    ####################################################################################\n",
    "    ####################################################################################\n",
    "    ################################## Clustering Step #################################\n",
    "    ####################################################################################\n",
    "    ####################################################################################\n",
    "    ####################################################################################\n",
    "\n",
    "\n",
    "    print(\"Starting Training\")\n",
    "    model.train()\n",
    "    N_EPOCHS = args.n_epochs\n",
    "    es = EarlyStoppingCAC(dataset=suffix)\n",
    "    train_losses, e_train_losses = [], []\n",
    "\n",
    "    for epoch in range(N_EPOCHS):\n",
    "        # beta = args.beta*(epoch*0.1)/(1+epoch*0.1)\n",
    "        beta = args.beta\n",
    "        # gamma = args.gamma - args.gamma*(epoch*0.1)/(1+epoch*0.1)\n",
    "        gamma = args.gamma\n",
    "        delta = args.delta\n",
    "        eta = args.eta\n",
    "        if epoch % args.log_interval == 0:\n",
    "            # plot(model, torch.FloatTensor(X_val).to(args.device), y_val, labels=None)\n",
    "            model.ae.eval() # prep model for evaluation\n",
    "            for j in range(model.n_clusters):\n",
    "                model.classifiers[j][0].eval()\n",
    "\n",
    "            z_train, _, q_train = model(torch.Tensor(X_train).to(args.device), output=\"decoded\")\n",
    "            q_train, q_train_p, q_train_n = q_train\n",
    "            p_train = target_distribution(q_train.detach())\n",
    "\n",
    "            # evaluate clustering performance\n",
    "            cluster_indices = q_train.detach().cpu().numpy().argmax(1)\n",
    "            preds = torch.zeros((len(z_train), args.n_classes))\n",
    "\n",
    "            # Calculate Training Metrics\n",
    "            nmi, acc, ari = 0, 0, 0\n",
    "            train_loss = 0\n",
    "            B = []\n",
    "\n",
    "            for j in range(model.n_clusters):\n",
    "                cluster_idx = np.where(cluster_indices == j)[0]\n",
    "                X_cluster = z_train[cluster_idx]\n",
    "                y_cluster = torch.Tensor(y_train[cluster_idx]).type(torch.LongTensor).to(model.device)\n",
    "\n",
    "                # B.append(torch.max(torch.linalg.norm(X_cluster, axis=1), axis=0).values)\n",
    "                cluster_preds = model.classifiers[j][0](X_cluster)\n",
    "                train_loss += torch.sum(criterion(cluster_preds, y_cluster))\n",
    "\n",
    "            train_loss /= len(z_train)\n",
    "            # Evaluate model on Validation dataset\n",
    "            qs, z_val = model(torch.FloatTensor(X_val).to(args.device), output=\"latent\")\n",
    "            q_val = qs[0]\n",
    "            cluster_ids = torch.argmax(q_val, axis=1)\n",
    "            preds = torch.zeros((len(z_val), args.n_classes))\n",
    "\n",
    "            # Weighted predictions\n",
    "            if args.attention == False:\n",
    "                for j in range(model.n_clusters):\n",
    "                    cluster_id = np.where(cluster_ids == j)[0]\n",
    "                    X_cluster = z_val[cluster_id]\n",
    "                    cluster_preds_val = model.classifiers[j][0](X_cluster)\n",
    "                    preds[cluster_id,:] = cluster_preds_val\n",
    "\n",
    "            else:\n",
    "                for j in range(model.n_clusters):\n",
    "                    X_cluster = z_val\n",
    "                    cluster_preds = model.classifiers[j][0](X_cluster)\n",
    "                    for c in range(args.n_classes):\n",
    "                        preds[:,c] += q_val[:,j]*cluster_preds[:,c]\n",
    "\n",
    "            # print(\"qval\", torch.sum(q_val, axis=0))\n",
    "            # print(\"Cluster Counts\", np.bincount(cluster_ids))\n",
    "            # print(\"KL div\", torch.kl_div(torch.sum(q_val, axis=0),\\\n",
    "            #                         torch.ones(args.n_clusters)/args.n_clusters))\n",
    "\n",
    "            # Classification Matrics\n",
    "            val_f1  = f1_score(y_val, np.argmax(preds.detach().numpy(), axis=1), average=\"macro\")\n",
    "            val_auc = multi_class_auc(y_val, preds.detach().numpy(), args.n_classes)\n",
    "\n",
    "            # Clustering Metrics\n",
    "            val_sil = silhouette_new(z_val.data.cpu().numpy(), cluster_ids.data.cpu().numpy(), metric='euclidean')\n",
    "            val_feature_diff, val_WDFD = 0, 0\n",
    "            # val_feature_diff = calculate_nhfd(X_val, cluster_ids)\n",
    "            # val_WDFD = calculate_WDFD(X_val, cluster_ids)\n",
    "            complexity_term = 0\n",
    "            # complexity_term  = calculate_bound(model, B, len(z_train))\n",
    "\n",
    "            val_loss = torch.mean(criterion(preds, torch.Tensor(y_val).type(torch.LongTensor)))\n",
    "\n",
    "            # # record validation loss\n",
    "            # valid_losses.append(loss.item())\n",
    "\n",
    "            # # calculate average loss over an epoch\n",
    "            # valid_loss = np.average(valid_losses)\n",
    "            # avg_valid_losses.append(valid_loss)\n",
    "\n",
    "            epoch_len = len(str(N_EPOCHS))\n",
    "\n",
    "            print_msg = (f'\\n[{epoch:>{epoch_len}}/{N_EPOCHS:>{epoch_len}}] ' +\n",
    "                         f'train_loss: {train_loss:.3f} ' +\n",
    "                         f'valid_loss: {val_loss:.3f} '  +\n",
    "                         f'valid_F1: {val_f1:.3f} '  +\n",
    "                         f'valid_AUC: {val_auc:.3f} ' + \n",
    "                         f'valid_Feature_p: {val_feature_diff:.3f} ' + \n",
    "                         f'valid_WDFD: {val_WDFD:.3f} ' + \n",
    "                         f'valid_Silhouette: {val_sil:.3f} ' + \n",
    "                         f'Complexity Term: {complexity_term:.3f}')\n",
    "\n",
    "            print(print_msg)\n",
    "\n",
    "            # early_stopping needs the validation loss to check if it has decresed, \n",
    "            # and if it has, it will make a checkpoint of the current model\n",
    "            es([val_f1, val_auc], model)\n",
    "            if es.early_stop == True:\n",
    "                break\n",
    "\n",
    "        # Normal Training\n",
    "        epoch_loss = 0\n",
    "        epoch_balance_loss = 0\n",
    "        epoch_class_loss = 0\n",
    "        epoch_km_loss = 0\n",
    "        \n",
    "        model.ae.train() # prep model for evaluation\n",
    "        for j in range(model.n_clusters):\n",
    "            model.classifiers[j][0].train()\n",
    "\n",
    "        for batch_idx, (x_batch, y_batch, idx) in enumerate(train_loader):\n",
    "            total_loss = 0\n",
    "            x_batch = x_batch.to(device)\n",
    "            idx = idx.to(device)\n",
    "\n",
    "            X_latents, x_bar, q_batch = model(x_batch)\n",
    "            q_batch = q_batch[0]\n",
    "            reconstr_loss = F.mse_loss(x_bar, x_batch)\n",
    "\n",
    "            classifier_labels = np.zeros(len(idx))\n",
    "            sub_epochs = min(10, 1 + int(epoch/5))\n",
    "\n",
    "            if args.attention == False:\n",
    "                classifier_labels = np.argmax(q_batch.detach().cpu().numpy(), axis=1)\n",
    "\n",
    "            for _ in range(sub_epochs):\n",
    "                # Choose classifier for a point probabilistically\n",
    "                if args.attention == True:\n",
    "                    for j in range(len(idx)):\n",
    "                        classifier_labels[j] = np.random.choice(range(args.n_clusters), p = q_batch[j].detach().numpy())\n",
    "\n",
    "                for k in range(args.n_clusters):\n",
    "                    idx_cluster = np.where(classifier_labels == k)[0]\n",
    "                    X_cluster = X_latents[idx_cluster]\n",
    "                    y_cluster = y_batch[idx_cluster]\n",
    "\n",
    "                    classifier_k, optimizer_k = model.classifiers[k]\n",
    "                    # Do not backprop the error to encoder\n",
    "                    y_pred_cluster = classifier_k(X_cluster.detach())\n",
    "                    cluster_loss = torch.mean(criterion(y_pred_cluster, y_cluster))\n",
    "                    optimizer_k.zero_grad()\n",
    "                    cluster_loss.backward(retain_graph=True)\n",
    "                    optimizer_k.step()\n",
    "\n",
    "            # Back propagate the error corresponding to last clustering\n",
    "            class_loss = torch.tensor(0.).to(args.device)\n",
    "            for k in range(args.n_clusters):\n",
    "                idx_cluster = np.where(classifier_labels == k)[0]\n",
    "                X_cluster = X_latents[idx_cluster]\n",
    "                y_cluster = y_batch[idx_cluster]\n",
    "\n",
    "                classifier_k, optimizer_k = model.classifiers[k]\n",
    "                y_pred_cluster = classifier_k(X_cluster)\n",
    "                class_loss += torch.sum(q_batch[idx_cluster,k]*criterion(y_pred_cluster, y_cluster))\n",
    "\n",
    "            class_loss /= len(X_latents)\n",
    "            delta_mu   = torch.zeros((args.n_clusters, args.latent_dim)).to(args.device)\n",
    "            cluster_id = torch.argmax(q_batch, 1)\n",
    "            # print(np.bincount(cluster_id.cpu().numpy()))\n",
    "\n",
    "            km_loss             = 0\n",
    "            dcn_loss            = 0\n",
    "            class_sep_loss      = 0\n",
    "\n",
    "            if args.eta > 0:\n",
    "                for j in range(args.n_clusters):\n",
    "                    pts_index = np.where(cluster_id == j)[0]\n",
    "                    cluster_pts = X_latents[pts_index]\n",
    "                    delta_mu[j,:]   = cluster_pts.sum(axis=0)/(1+len(cluster_pts))\n",
    "                    dcn_loss += torch.linalg.norm(X_latents[pts_index] - model.cluster_layer[j])/(1+len(cluster_pts))\n",
    "\n",
    "            q_batch = source_distribution(X_latents, model.cluster_layer, alpha=model.alpha)\n",
    "            P = torch.sum(torch.nn.Softmax(dim=1)(10*q_batch), axis=0)\n",
    "            P = P/P.sum()\n",
    "            Q = torch.ones(args.n_clusters)/args.n_clusters # Uniform distribution\n",
    "\n",
    "            if args.cluster_balance == \"kl\":\n",
    "                cluster_balance_loss = F.kl_div(P.log(), Q, reduction='batchmean')\n",
    "            else:\n",
    "                cluster_balance_loss = torch.linalg.norm(torch.sqrt(P) - torch.sqrt(Q))\n",
    "\n",
    "            km_loss = F.kl_div(q_batch.log(), p_train[idx], reduction='batchmean')\n",
    "\n",
    "            loss = reconstr_loss\n",
    "            if args.beta != 0:\n",
    "                loss += beta*km_loss\n",
    "            if args.gamma != 0:\n",
    "                loss += gamma*class_loss\n",
    "            if args.delta != 0:\n",
    "                loss += delta*cluster_balance_loss\n",
    "            if args.eta != 0:\n",
    "                loss += eta*dcn_loss\n",
    "\n",
    "            epoch_loss += loss\n",
    "            epoch_class_loss += class_loss\n",
    "            epoch_balance_loss += cluster_balance_loss\n",
    "            epoch_km_loss += km_loss\n",
    "            optimizer.zero_grad()\n",
    "            loss.backward(retain_graph=True)\n",
    "            optimizer.step()\n",
    "\n",
    "            # Update the positive and negative centroids\n",
    "            if args.eta > 0:\n",
    "                for j in range(args.n_clusters):\n",
    "                    pts_index = np.where(cluster_id == j)[0]\n",
    "                    N  = len(pts_index)\n",
    "                    model.cluster_layer.data[j:] -= (1/(100+N))*delta_mu[j:]\n",
    "\n",
    "        print('Epoch: {:02d} | Epoch KM Loss: {:.3f} | Total Loss: {:.3f} | Classification Loss: {:.3f} | Cluster Balance Loss: {:.3f}'.format(\n",
    "                    epoch, epoch_km_loss, epoch_loss, epoch_class_loss, loss))\n",
    "        train_losses.append([np.round(epoch_loss.item(),3), np.round(epoch_class_loss.item(),3)])\n",
    "\n",
    "    ####################################################################################\n",
    "    ####################################################################################\n",
    "    ####################################################################################\n",
    "    ################################### Local Training #################################\n",
    "    ####################################################################################\n",
    "    ####################################################################################\n",
    "    ####################################################################################\n",
    "    print('Train Losses: ', train_losses)\n",
    "    print(\"\\n####################################################################################\\n\")\n",
    "    print(\"Training Local Networks\")\n",
    "    model = es.load_checkpoint(model)\n",
    "\n",
    "    es = EarlyStoppingCAC(dataset=suffix)\n",
    "\n",
    "    qs, z_train = model(torch.FloatTensor(np.array(X_train)).to(args.device), output=\"latent\")\n",
    "    q_train = qs[0]\n",
    "    cluster_id_train = torch.argmax(q_train, axis=1)\n",
    "\n",
    "    # X_latents_data_loader = list(zip(z_train, cluster_id_train, y_train))\n",
    "    X_latents_data_loader = list(zip(z_train.to(args.device),q_train, y_train))\n",
    "\n",
    "    train_loader_latents = torch.utils.data.DataLoader(X_latents_data_loader,\n",
    "        batch_size=1024, shuffle=False)\n",
    "\n",
    "    B = []\n",
    "\n",
    "    # plot(model, torch.FloatTensor(np.array(X_train)).to(args.device), y_train,\\\n",
    "    #      torch.FloatTensor(np.array(X_test)).to(args.device), y_test)\n",
    "\n",
    "    # Post clustering training\n",
    "    for e in range(N_EPOCHS):\n",
    "        epoch_loss = 0\n",
    "        epoch_acc = 0\n",
    "        epoch_f1 = 0\n",
    "        acc = 0\n",
    "\n",
    "        # model.ae.train() # prep model for evaluation\n",
    "        for j in range(model.n_clusters):\n",
    "            model.classifiers[j][0].train()\n",
    "\n",
    "        # Full training of local networks\n",
    "        for batch_idx, (X_latents, q_batch, y_batch) in enumerate(train_loader_latents):\n",
    "            # torch.autograd.set_detect_anomaly(True)\n",
    "\n",
    "            classifier_labels = np.zeros(len(X_latents))\n",
    "            # Choose classifier for a point probabilistically\n",
    "            if args.attention == True:\n",
    "                for j in range(len(X_latents)):\n",
    "                    classifier_labels[j] = np.random.choice(range(args.n_clusters), p = q_batch[j].detach().numpy())\n",
    "            else:\n",
    "                classifier_labels = torch.argmax(q_batch, axis=1).data.cpu().numpy()\n",
    "\n",
    "            for k in range(args.n_clusters):\n",
    "                idx_cluster = np.where(classifier_labels == k)[0]\n",
    "                X_cluster = X_latents[idx_cluster]\n",
    "                y_cluster = y_batch[idx_cluster]\n",
    "\n",
    "                classifier_k, optimizer_k = model.classifiers[k]\n",
    "                # Do not backprop the error to encoder\n",
    "                y_pred_cluster = classifier_k(X_cluster.detach())\n",
    "                cluster_loss = torch.mean(criterion(y_pred_cluster, y_cluster))\n",
    "                optimizer_k.zero_grad()\n",
    "                cluster_loss.backward(retain_graph=True)\n",
    "                optimizer_k.step()\n",
    "        \n",
    "        # model.ae.eval() # prep model for evaluation\n",
    "        for j in range(model.n_clusters):\n",
    "            model.classifiers[j][0].eval()\n",
    "\n",
    "        train_preds = torch.zeros((len(z_train), args.n_classes))\n",
    "        train_loss = 0\n",
    "\n",
    "        # Weighted predictions\n",
    "        q_train, z_train = model(torch.FloatTensor(X_train).to(args.device), output=\"latent\")\n",
    "        q_train = q_train[0]\n",
    "        cluster_ids_train = torch.argmax(q_train, axis=1)\n",
    "        \n",
    "        for j in range(model.n_clusters):\n",
    "            cluster_id = np.where(cluster_ids_train == j)[0]\n",
    "            X_cluster = z_train\n",
    "            y_cluster = torch.Tensor(y_train[cluster_id]).type(torch.LongTensor)\n",
    "\n",
    "            # Ensemble train loss\n",
    "            cluster_preds = model.classifiers[j][0](X_cluster)\n",
    "            for c in range(args.n_classes):\n",
    "                train_preds[:,c] += q_train[:,j]*cluster_preds[:,c]\n",
    "\n",
    "            X_cluster = z_train[cluster_id]\n",
    "            cluster_preds = model.classifiers[j][0](X_cluster)\n",
    "            train_loss += torch.sum(q_train[cluster_id,j]*criterion(cluster_preds, y_cluster))\n",
    "            # B.append(torch.max(torch.linalg.norm(X_cluster, axis=1), axis=0).values)\n",
    "\n",
    "\n",
    "        train_loss /= len(z_train)\n",
    "        e_train_loss = torch.mean(criterion(train_preds, torch.Tensor(y_train).type(torch.LongTensor)))\n",
    "\n",
    "        # Evaluate model on Validation set\n",
    "        qs, z_val = model(torch.FloatTensor(X_val).to(args.device), output=\"latent\")\n",
    "        q_val = qs[0]\n",
    "        cluster_ids_val = torch.argmax(q_val, axis=1)\n",
    "        preds = torch.zeros((len(z_val), args.n_classes))\n",
    "\n",
    "        # Weighted predictions\n",
    "        for j in range(model.n_clusters):\n",
    "            cluster_id = np.where(cluster_ids_val == j)[0]\n",
    "            X_cluster = z_val\n",
    "            cluster_preds = model.classifiers[j][0](X_cluster)\n",
    "            for c in range(args.n_classes):\n",
    "                preds[:,c] += q_val[:,j]*cluster_preds[:,c]\n",
    "\n",
    "        val_f1  = f1_score(y_val, np.argmax(preds.detach().numpy(), axis=1), average=\"macro\")\n",
    "        val_auc = multi_class_auc(y_val, preds.detach().numpy(), args.n_classes)\n",
    "        val_sil = silhouette_new(z_val.data.cpu().numpy(), cluster_ids_val.data.cpu().numpy(), metric='euclidean')\n",
    "\n",
    "        val_loss = torch.mean(criterion(preds, torch.Tensor(y_val).type(torch.LongTensor)))\n",
    "        # record validation loss\n",
    "        # valid_losses.append(loss.item())\n",
    "\n",
    "        # calculate average loss over an epoch\n",
    "        # valid_loss = np.average(valid_losses)\n",
    "        # avg_valid_losses.append(valid_loss)\n",
    "        \n",
    "        epoch_len = len(str(N_EPOCHS))\n",
    "        \n",
    "        print_msg = (f'\\n[{epoch:>{epoch_len}}/{N_EPOCHS:>{epoch_len}}] ' +\n",
    "                     f'train_loss: {train_loss:.3f} ' +\n",
    "                     f'valid_loss: {val_loss:.3f} '  +\n",
    "                     f'valid_F1: {val_f1:.3f} '  +\n",
    "                     f'valid_AUC: {val_auc:.3f} ' +\n",
    "                     f'valid_Sil: {val_sil:.3f}')\n",
    "        \n",
    "        print(print_msg)\n",
    "        \n",
    "        # early_stopping needs the validation loss to check if it has decresed, \n",
    "        # and if it has, it will make a checkpoint of the current model\n",
    "        es([val_f1, val_auc], model)\n",
    "        if es.early_stop == True:\n",
    "            # train_losses.append(train_loss.item())\n",
    "            # e_train_losses.append(e_train_loss.item())\n",
    "            sil_scores.append(silhouette_new(z_train.data.cpu().numpy(), cluster_ids_train.data.cpu().numpy(), metric='euclidean'))\n",
    "            nhfd_scores.append(calculate_nhfd(X_train,  cluster_ids_train))\n",
    "            wdfd_scores.append(calculate_WDFD(X_train,  cluster_ids_train))\n",
    "            # mifd_scores.append(calculate_MIFD(X_train,  cluster_ids_train))\n",
    "            # model_complexity.append(calculate_bound(model, B, len(z_train)))\n",
    "            break\n",
    "\n",
    "\n",
    "    ####################################################################################\n",
    "    ####################################################################################\n",
    "    ####################################################################################\n",
    "    ################################### Testing Perf. ##################################\n",
    "    ####################################################################################\n",
    "    ####################################################################################\n",
    "    ####################################################################################\n",
    "\n",
    "    print(\"\\n####################################################################################\\n\")\n",
    "    print(\"Evaluating Test Data with k = \", args.n_clusters, \" Attention = \", args.attention)\n",
    "\n",
    "    # Load best model trained from local training phase\n",
    "    model = es.load_checkpoint(model)\n",
    "\n",
    "    # # Evaluate model on Test dataset\n",
    "    qs, z_test = model(torch.FloatTensor(X_test).to(args.device), output=\"latent\")\n",
    "    q_test = qs[0]\n",
    "    cluster_ids = torch.argmax(q_test, axis=1)\n",
    "    # cluster_ids = np.argmax(distance_matrix(z_test.data.cpu().numpy(), model.cluster_layer.data.cpu().numpy()), axis=1)\n",
    "    test_preds_e = torch.zeros((len(z_test), args.n_classes))\n",
    "\n",
    "    test_loss = 0\n",
    "    e_test_loss = 0\n",
    "    local_sum_loss = 0\n",
    "\n",
    "    # Weighted predictions\n",
    "    for j in range(model.n_clusters):\n",
    "        cluster_id = np.where(cluster_ids == j)[0]\n",
    "        X_cluster = z_test\n",
    "        cluster_test_preds = model.classifiers[j][0](X_cluster)\n",
    "        for c in range(args.n_classes):\n",
    "            test_preds_e[:,c] += q_test[:,j]*cluster_test_preds[:,c]\n",
    "    \n",
    "    e_test_loss = torch.mean(criterion(test_preds_e, torch.Tensor(y_test).type(torch.LongTensor)))\n",
    "    e_test_f1 = f1_score(y_test, np.argmax(test_preds_e.detach().numpy(), axis=1), average=\"macro\")\n",
    "    e_test_auc = multi_class_auc(y_test, test_preds_e.detach().numpy(), args.n_classes)\n",
    "    e_test_acc = accuracy_score(y_test, np.argmax(test_preds_e.detach().numpy(), axis=1))\n",
    "    e_test_nhfd = calculate_nhfd(X_test, cluster_ids)\n",
    "\n",
    "    test_preds = torch.zeros((len(z_test), args.n_classes))\n",
    "\n",
    "\n",
    "    # Hard local predictions\n",
    "    for j in range(model.n_clusters):\n",
    "        cluster_id = np.where(cluster_ids == j)[0]\n",
    "        X_cluster = z_test[cluster_id]\n",
    "        y_cluster = torch.Tensor(y_test[cluster_id]).type(torch.LongTensor)\n",
    "        cluster_test_preds = model.classifiers[j][0](X_cluster)\n",
    "        test_preds[cluster_id,:] = cluster_test_preds\n",
    "        local_sum_loss += torch.sum(q_test[cluster_id,j]*criterion(cluster_test_preds, y_cluster))\n",
    "    \n",
    "    test_f1 = f1_score(y_test, np.argmax(test_preds.detach().numpy(), axis=1), average=\"macro\")\n",
    "    test_auc = multi_class_auc(y_test, test_preds.detach().numpy(), args.n_classes)\n",
    "    test_acc = accuracy_score(y_test, np.argmax(test_preds.detach().numpy(), axis=1))\n",
    "    test_loss = torch.mean(criterion(test_preds, torch.Tensor(y_test).type(torch.LongTensor)))\n",
    "    local_sum_loss /= len(X_test)\n",
    "\n",
    "    test_losses.append(test_loss.item())\n",
    "    e_test_losses.append(e_test_loss.item())\n",
    "    local_sum_test_losses.append(local_sum_loss.item())\n",
    "\n",
    "    # enablePrint()\n",
    "    print(\"Run #{}\".format(r))\n",
    "    print('Loss Metrics - Test Loss {:.3f}, E-Test Loss {:.3f}, Local Sum Test Loss {:.3f}'.format(test_loss, e_test_loss, local_sum_loss))\n",
    "\n",
    "    print('Clustering Metrics     - Acc {:.4f}'.format(acc), ', nmi {:.4f}'.format(nmi),\\\n",
    "          ', ari {:.4f}, NHFD {:.3f}'.format(ari, e_test_nhfd))\n",
    "\n",
    "    print('Classification Metrics - Test F1 {:.3f}, Test AUC {:.3f}, Test ACC {:.3f}'.format(test_f1, test_auc, test_acc),\\\n",
    "        ', E-Test F1 {:.3f}, E-Test AUC {:.3f}, E-Test ACC {:.3f}'.format(e_test_f1, e_test_auc, e_test_acc))\n",
    "\n",
    "    print(\"\\n\")\n",
    "\n",
    "    f1_scores.append(test_f1)\n",
    "    auc_scores.append(test_auc)\n",
    "    acc_scores.append(test_acc)\n",
    "\n",
    "    e_f1_scores.append(e_test_f1)\n",
    "    e_auc_scores.append(e_test_auc)\n",
    "    e_acc_scores.append(e_test_acc)\n",
    "\n",
    "    ####################################################################################\n",
    "    ####################################################################################\n",
    "    ####################################################################################\n",
    "    ################################### Feature Imp. ###################################\n",
    "    ####################################################################################\n",
    "    ####################################################################################\n",
    "    ####################################################################################\n",
    "\n",
    "\n",
    "    regs = [GradientBoostingRegressor(random_state=0) for _ in range(args.n_clusters)]\n",
    "    qs, z_train = model(torch.FloatTensor(X_train).to(args.device), output=\"latent\")\n",
    "    q_train = qs[0]\n",
    "    cluster_ids = torch.argmax(q_train, axis=1)\n",
    "    train_preds_e = torch.zeros((len(z_train), args.n_classes))\n",
    "    feature_importances = np.zeros((args.n_clusters, args.input_dim))\n",
    "\n",
    "    # Weighted predictions\n",
    "    for j in range(model.n_clusters):\n",
    "        X_cluster = z_train\n",
    "        cluster_preds = model.classifiers[j][0](X_cluster)\n",
    "        # print(q_test, cluster_preds[:,0])\n",
    "        for c in range(args.n_classes):\n",
    "            train_preds_e[:,c] += q_train[:,j]*cluster_preds[:,c]\n",
    "\n",
    "    for j in range(model.n_clusters):\n",
    "        cluster_id = torch.where(cluster_ids == j)[0]\n",
    "        X_cluster = X_train[cluster_id]\n",
    "        if args.attention == True:\n",
    "            y_cluster = train_preds_e[cluster_id][:,1]\n",
    "        else:\n",
    "            y_cluster = train_preds[cluster_id][:,1]\n",
    "\n",
    "        # Some test data might not belong to any cluster\n",
    "        if len(cluster_id) > 0:\n",
    "            regs[j].fit(X_cluster, y_cluster.detach().cpu().numpy())\n",
    "            best_features = np.argsort(regs[j].feature_importances_)[::-1][:10]\n",
    "            feature_importances[j,:] = regs[j].feature_importances_\n",
    "            # print(\"Cluster # \", j, \"sized: \", len(cluster_id))\n",
    "            # print(list(zip(column_names[best_features], np.round(regs[j].feature_importances_[best_features], 3))))\n",
    "            # print(\"=========================\\n\")\n",
    "\n",
    "    feature_diff = 0\n",
    "    cntr = 0\n",
    "    for i in range(args.n_clusters):\n",
    "        for j in range(args.n_clusters):\n",
    "            if i > j:\n",
    "                ci = torch.where(cluster_ids == i)[0]\n",
    "                cj = torch.where(cluster_ids == j)[0]\n",
    "                Xi = X_train[ci]\n",
    "                Xj = X_train[cj]\n",
    "                feature_diff += 100*sum(feature_importances[i]*feature_importances[j]*(ttest_ind(Xi, Xj, axis=0)[1] < 0.05))/args.input_dim\n",
    "                # print(\"Cluster [{}, {}] p-value: \".format(i,j), feature_diff)\n",
    "                cntr += 1\n",
    "\n",
    "    # print(\"Average Feature Difference: \", feature_diff/cntr)\n",
    "    if cntr == 0:\n",
    "        w_nhfd_scores.append(0)\n",
    "    else:\n",
    "        w_nhfd_scores.append(feature_diff/cntr)\n"
   ]
  },
  {
   "cell_type": "code",
   "execution_count": 31,
   "id": "aa53aa19",
   "metadata": {},
   "outputs": [],
   "source": [
    "def plot_hist(x, y, bins=10):\n",
    "    minn = min(np.min(x), np.min(y))\n",
    "    maxx = max(np.max(x), np.max(y))\n",
    "    range_x = np.max(x) - np.min(x)\n",
    "    range_y = np.max(y) - np.min(y)\n",
    "    gap = min(range_x, range_y)/bins\n",
    "\n",
    "    if gap < 1e-5:\n",
    "        return 0\n",
    "\n",
    "    h1, r1 = np.histogram(x, np.arange(minn-gap, maxx+gap, gap))\n",
    "    h2, r2 = np.histogram(y, np.arange(minn-gap, maxx+gap, gap))\n",
    "    k1 = [(r1[j]+r1[j-1])/2 for j in range(1, len(r1))]\n",
    "    k2 = [(r2[j]+r2[j-1])/2 for j in range(1, len(r2))]\n",
    "    # print(h1, h2, k1)\n",
    "\n",
    "    fig, axes = plt.subplots(1, 2)\n",
    "\n",
    "    axes[0].bar(k1, h1, label='X1', alpha=.5)\n",
    "    axes[1].bar(k2, h2, label='X2', alpha=.5)\n",
    "    # axes[0].hist(h1, bins=r1, label='X1', alpha=.5)\n",
    "    # axes[1].hist(h2, bins=r2, label='X2', alpha=.5)\n",
    "    plt.show()"
   ]
  },
  {
   "cell_type": "markdown",
   "id": "fa242517",
   "metadata": {},
   "source": [
    "## MIFD Cluster Analysis"
   ]
  },
  {
   "cell_type": "code",
   "execution_count": 10,
   "id": "28a19a00",
   "metadata": {},
   "outputs": [
    {
     "name": "stdout",
     "output_type": "stream",
     "text": [
      "\n",
      "========\n",
      "\n",
      "MIFD Analysis of Clusters:  1,0\n",
      "|C1| =  2132 , |C2| =  1835\n"
     ]
    },
    {
     "ename": "NameError",
     "evalue": "name 'scaled_X_train' is not defined",
     "output_type": "error",
     "traceback": [
      "\u001b[0;31m---------------------------------------------------------------------------\u001b[0m",
      "\u001b[0;31mNameError\u001b[0m                                 Traceback (most recent call last)",
      "\u001b[0;32m/var/folders/s4/8ld2kcdn6l143yw8rwv3fx9r0000gn/T/ipykernel_35100/450644607.py\u001b[0m in \u001b[0;36m<module>\u001b[0;34m\u001b[0m\n\u001b[1;32m     29\u001b[0m             \u001b[0mprint\u001b[0m\u001b[0;34m(\u001b[0m\u001b[0;34m\"|C1| = \"\u001b[0m\u001b[0;34m,\u001b[0m \u001b[0mlen\u001b[0m\u001b[0;34m(\u001b[0m\u001b[0mci\u001b[0m\u001b[0;34m)\u001b[0m\u001b[0;34m,\u001b[0m \u001b[0;34m\", |C2| = \"\u001b[0m\u001b[0;34m,\u001b[0m \u001b[0mlen\u001b[0m\u001b[0;34m(\u001b[0m\u001b[0mcj\u001b[0m\u001b[0;34m)\u001b[0m\u001b[0;34m)\u001b[0m\u001b[0;34m\u001b[0m\u001b[0;34m\u001b[0m\u001b[0m\n\u001b[1;32m     30\u001b[0m             \u001b[0;32mfor\u001b[0m \u001b[0mk\u001b[0m\u001b[0;34m,\u001b[0m \u001b[0mv\u001b[0m \u001b[0;32min\u001b[0m \u001b[0msorted_dict\u001b[0m\u001b[0;34m:\u001b[0m\u001b[0;34m\u001b[0m\u001b[0;34m\u001b[0m\u001b[0m\n\u001b[0;32m---> 31\u001b[0;31m                 print(\"MI =\", v, \"; Feature:\", column_names[k], \"- C1 Mean:\", np.round(np.mean(scaled_X_train[ci][:,k]),3),\\\n\u001b[0m\u001b[1;32m     32\u001b[0m                       \", C2 Mean:\", np.round(np.mean(scaled_X_train[cj][:,k]),3))\n\u001b[1;32m     33\u001b[0m                 \u001b[0;31m# print(scaled_X_train[cj][:,k])\u001b[0m\u001b[0;34m\u001b[0m\u001b[0;34m\u001b[0m\u001b[0;34m\u001b[0m\u001b[0m\n",
      "\u001b[0;31mNameError\u001b[0m: name 'scaled_X_train' is not defined"
     ]
    }
   ],
   "source": [
    "cluster_entrpy = 0\n",
    "cntr = 0\n",
    "n_columns = X_train.shape[1]\n",
    "n_clusters = len(torch.unique(cluster_ids))\n",
    "input_dim = X_train.shape[1]\n",
    "mi_scores = {}\n",
    "\n",
    "for i in range(n_clusters):\n",
    "    for j in range(n_clusters):\n",
    "        if i > j:\n",
    "            joint_col_name = str(i) + \",\" + str(j)\n",
    "            mi_scores[joint_col_name] = {}\n",
    "            ci = torch.where(cluster_ids == i)[0]\n",
    "            cj = torch.where(cluster_ids == j)[0]\n",
    "            Xi = X_train[ci]\n",
    "            Xj = X_train[cj]\n",
    "            col_entrpy = 0\n",
    "            for c in range(n_columns):\n",
    "                c_entropy = calc_MI(Xi[:,c], Xj[:,c], 0)\n",
    "                col_entrpy += c_entropy\n",
    "                mi_scores[joint_col_name][c] = np.round(c_entropy, 3)\n",
    "                # print(column_names[c], \":\", c_entropy)\n",
    "            cluster_entrpy += col_entrpy/n_columns\n",
    "            cntr += 1\n",
    "            print(\"\\n========\\n\")\n",
    "            print(\"MIFD Analysis of Clusters: \", joint_col_name)\n",
    "            sorted_dict = sorted(mi_scores[joint_col_name].items(), key=lambda item: -item[1])[:10]\n",
    "            # print({column_names[k]: v for k, v in sorted_dict})\n",
    "            print(\"|C1| = \", len(ci), \", |C2| = \", len(cj))\n",
    "            for k, v in sorted_dict:\n",
    "                print(\"MI =\", v, \"; Feature:\", column_names[k], \"- C1 Mean:\", np.round(np.mean(scaled_X_train[ci][:,k]),3),\\\n",
    "                      \", C2 Mean:\", np.round(np.mean(scaled_X_train[cj][:,k]),3))\n",
    "                # print(scaled_X_train[cj][:,k])\n",
    "                plot_hist(scaled_X_train[ci][:,k], scaled_X_train[cj][:,k])"
   ]
  },
  {
   "cell_type": "markdown",
   "id": "f2c2d4d3",
   "metadata": {},
   "source": [
    "## NHFD"
   ]
  },
  {
   "cell_type": "code",
   "execution_count": 11,
   "id": "0c902e8e",
   "metadata": {},
   "outputs": [
    {
     "name": "stdout",
     "output_type": "stream",
     "text": [
      "\n",
      "========\n",
      "\n",
      "1,0\n",
      "{'SAPS-I': 1.0, 'SOFA': 1.0, 'Length_of_stay': 1.0, 'Age': 1.0, 'Gender': 1.0, 'Weight': 1.0, 'SICU': 1.0, 'DiasABP_first': 1.0, 'Glucose_first': 1.0, 'HR_first': 1.0}\n",
      "1.0 SAPS-I - C1: 0.2688846837598102 , C2: -0.08733280141710369\n"
     ]
    },
    {
     "data": {
      "image/png": "[encoded data removed]",
      "text/plain": [
       "<Figure size 432x288 with 2 Axes>"
      ]
     },
     "metadata": {
      "needs_background": "light"
     },
     "output_type": "display_data"
    },
    {
     "name": "stdout",
     "output_type": "stream",
     "text": [
      "1.0 SOFA - C1: 0.31078864417311386 , C2: -0.17950903709047233\n"
     ]
    },
    {
     "data": {
      "image/png": "[encoded data removed]",
      "text/plain": [
       "<Figure size 432x288 with 2 Axes>"
      ]
     },
     "metadata": {
      "needs_background": "light"
     },
     "output_type": "display_data"
    },
    {
     "name": "stdout",
     "output_type": "stream",
     "text": [
      "1.0 Length_of_stay - C1: 0.2813873014772164 , C2: 0.010115084799703444\n"
     ]
    },
    {
     "data": {
      "image/png": "[encoded data removed]",
      "text/plain": [
       "<Figure size 432x288 with 2 Axes>"
      ]
     },
     "metadata": {
      "needs_background": "light"
     },
     "output_type": "display_data"
    },
    {
     "name": "stdout",
     "output_type": "stream",
     "text": [
      "1.0 Age - C1: -0.12086550968782515 , C2: 0.03431615426954898\n"
     ]
    },
    {
     "data": {
      "image/png": "[encoded data removed]",
      "text/plain": [
       "<Figure size 432x288 with 2 Axes>"
      ]
     },
     "metadata": {
      "needs_background": "light"
     },
     "output_type": "display_data"
    },
    {
     "name": "stdout",
     "output_type": "stream",
     "text": [
      "1.0 Gender - C1: 0.07971356673605962 , C2: -0.06205914848376705\n"
     ]
    },
    {
     "data": {
      "image/png": "[encoded data removed]",
      "text/plain": [
       "<Figure size 432x288 with 2 Axes>"
      ]
     },
     "metadata": {
      "needs_background": "light"
     },
     "output_type": "display_data"
    },
    {
     "name": "stdout",
     "output_type": "stream",
     "text": [
      "1.0 Weight - C1: 0.2570207438566876 , C2: -0.043937646032183295\n"
     ]
    },
    {
     "data": {
      "image/png": "[encoded data removed]",
      "text/plain": [
       "<Figure size 432x288 with 2 Axes>"
      ]
     },
     "metadata": {
      "needs_background": "light"
     },
     "output_type": "display_data"
    },
    {
     "name": "stdout",
     "output_type": "stream",
     "text": [
      "1.0 SICU - C1: -0.02477050422281565 , C2: 0.12422878793712583\n"
     ]
    },
    {
     "data": {
      "image/png": "[encoded data removed]",
      "text/plain": [
       "<Figure size 432x288 with 2 Axes>"
      ]
     },
     "metadata": {
      "needs_background": "light"
     },
     "output_type": "display_data"
    },
    {
     "name": "stdout",
     "output_type": "stream",
     "text": [
      "1.0 DiasABP_first - C1: 0.358613948361849 , C2: -0.007894044173558582\n"
     ]
    },
    {
     "data": {
      "image/png": "[encoded data removed]",
      "text/plain": [
       "<Figure size 432x288 with 2 Axes>"
      ]
     },
     "metadata": {
      "needs_background": "light"
     },
     "output_type": "display_data"
    },
    {
     "name": "stdout",
     "output_type": "stream",
     "text": [
      "1.0 Glucose_first - C1: 0.2825109697699002 , C2: 0.04024066037364881\n"
     ]
    },
    {
     "data": {
      "image/png": "[encoded data removed]",
      "text/plain": [
       "<Figure size 432x288 with 2 Axes>"
      ]
     },
     "metadata": {
      "needs_background": "light"
     },
     "output_type": "display_data"
    },
    {
     "name": "stdout",
     "output_type": "stream",
     "text": [
      "1.0 HR_first - C1: 0.31546006250124253 , C2: -0.0024378164598032846\n"
     ]
    },
    {
     "data": {
      "image/png": "[encoded data removed]",
      "text/plain": [
       "<Figure size 432x288 with 2 Axes>"
      ]
     },
     "metadata": {
      "needs_background": "light"
     },
     "output_type": "display_data"
    },
    {
     "name": "stdout",
     "output_type": "stream",
     "text": [
      "\n",
      "========\n",
      "\n",
      "2,0\n",
      "{'Length_of_stay': 1.0, 'Weight': 1.0, 'CCU': 1.0, 'CSRU': 1.0, 'SICU': 1.0, 'DiasABP_first': 1.0, 'GCS_first': 1.0, 'Glucose_first': 1.0, 'HR_first': 1.0, 'MAP_first': 1.0}\n",
      "1.0 Length_of_stay - C1: -0.22223460558996774 , C2: 0.010115084799703444\n"
     ]
    },
    {
     "data": {
      "image/png": "[encoded data removed]",
      "text/plain": [
       "<Figure size 432x288 with 2 Axes>"
      ]
     },
     "metadata": {
      "needs_background": "light"
     },
     "output_type": "display_data"
    },
    {
     "name": "stdout",
     "output_type": "stream",
     "text": [
      "1.0 Weight - C1: -0.16792764837707583 , C2: -0.043937646032183295\n"
     ]
    },
    {
     "data": {
      "image/png": "[encoded data removed]",
      "text/plain": [
       "<Figure size 432x288 with 2 Axes>"
      ]
     },
     "metadata": {
      "needs_background": "light"
     },
     "output_type": "display_data"
    },
    {
     "name": "stdout",
     "output_type": "stream",
     "text": [
      "1.0 CCU - C1: -0.1669484803095039 , C2: 0.09556450427647721\n"
     ]
    },
    {
     "data": {
      "image/png": "[encoded data removed]",
      "text/plain": [
       "<Figure size 432x288 with 2 Axes>"
      ]
     },
     "metadata": {
      "needs_background": "light"
     },
     "output_type": "display_data"
    },
    {
     "name": "stdout",
     "output_type": "stream",
     "text": [
      "1.0 CSRU - C1: 0.49133951340163773 , C2: -0.29950818144272856\n"
     ]
    },
    {
     "data": {
      "image/png": "[encoded data removed]",
      "text/plain": [
       "<Figure size 432x288 with 2 Axes>"
      ]
     },
     "metadata": {
      "needs_background": "light"
     },
     "output_type": "display_data"
    },
    {
     "name": "stdout",
     "output_type": "stream",
     "text": [
      "1.0 SICU - C1: -0.0629353614306834 , C2: 0.12422878793712583\n"
     ]
    },
    {
     "data": {
      "image/png": "[encoded data removed]",
      "text/plain": [
       "<Figure size 432x288 with 2 Axes>"
      ]
     },
     "metadata": {
      "needs_background": "light"
     },
     "output_type": "display_data"
    },
    {
     "name": "stdout",
     "output_type": "stream",
     "text": [
      "1.0 DiasABP_first - C1: -0.26952187094825086 , C2: -0.007894044173558582\n"
     ]
    },
    {
     "data": {
      "image/png": "[encoded data removed]",
      "text/plain": [
       "<Figure size 432x288 with 2 Axes>"
      ]
     },
     "metadata": {
      "needs_background": "light"
     },
     "output_type": "display_data"
    },
    {
     "name": "stdout",
     "output_type": "stream",
     "text": [
      "1.0 GCS_first - C1: -0.1776965368698655 , C2: 0.19056813305504905\n"
     ]
    },
    {
     "data": {
      "image/png": "[encoded data removed]",
      "text/plain": [
       "<Figure size 432x288 with 2 Axes>"
      ]
     },
     "metadata": {
      "needs_background": "light"
     },
     "output_type": "display_data"
    },
    {
     "name": "stdout",
     "output_type": "stream",
     "text": [
      "1.0 Glucose_first - C1: -0.2429590367714958 , C2: 0.04024066037364881\n"
     ]
    },
    {
     "data": {
      "image/png": "[encoded data removed]",
      "text/plain": [
       "<Figure size 432x288 with 2 Axes>"
      ]
     },
     "metadata": {
      "needs_background": "light"
     },
     "output_type": "display_data"
    },
    {
     "name": "stdout",
     "output_type": "stream",
     "text": [
      "1.0 HR_first - C1: -0.24006017249332018 , C2: -0.0024378164598032846\n"
     ]
    },
    {
     "data": {
      "image/png": "[encoded data removed]",
      "text/plain": [
       "<Figure size 432x288 with 2 Axes>"
      ]
     },
     "metadata": {
      "needs_background": "light"
     },
     "output_type": "display_data"
    },
    {
     "name": "stdout",
     "output_type": "stream",
     "text": [
      "1.0 MAP_first - C1: -0.23090910044005436 , C2: -0.02689002244243838\n"
     ]
    },
    {
     "data": {
      "image/png": "[encoded data removed]",
      "text/plain": [
       "<Figure size 432x288 with 2 Axes>"
      ]
     },
     "metadata": {
      "needs_background": "light"
     },
     "output_type": "display_data"
    },
    {
     "name": "stdout",
     "output_type": "stream",
     "text": [
      "\n",
      "========\n",
      "\n",
      "2,1\n",
      "{'SAPS-I': 1.0, 'SOFA': 1.0, 'Length_of_stay': 1.0, 'Age': 1.0, 'Weight': 1.0, 'CCU': 1.0, 'CSRU': 1.0, 'DiasABP_first': 1.0, 'GCS_first': 1.0, 'Glucose_first': 1.0}\n",
      "1.0 SAPS-I - C1: -0.14840332561104136 , C2: 0.2688846837598102\n"
     ]
    },
    {
     "data": {
      "image/png": "[encoded data removed]",
      "text/plain": [
       "<Figure size 432x288 with 2 Axes>"
      ]
     },
     "metadata": {
      "needs_background": "light"
     },
     "output_type": "display_data"
    },
    {
     "name": "stdout",
     "output_type": "stream",
     "text": [
      "1.0 SOFA - C1: -0.1197277421185994 , C2: 0.31078864417311386\n"
     ]
    },
    {
     "data": {
      "image/png": "[encoded data removed]",
      "text/plain": [
       "<Figure size 432x288 with 2 Axes>"
      ]
     },
     "metadata": {
      "needs_background": "light"
     },
     "output_type": "display_data"
    },
    {
     "name": "stdout",
     "output_type": "stream",
     "text": [
      "1.0 Length_of_stay - C1: -0.22223460558996774 , C2: 0.2813873014772164\n"
     ]
    },
    {
     "data": {
      "image/png": "[encoded data removed]",
      "text/plain": [
       "<Figure size 432x288 with 2 Axes>"
      ]
     },
     "metadata": {
      "needs_background": "light"
     },
     "output_type": "display_data"
    },
    {
     "name": "stdout",
     "output_type": "stream",
     "text": [
      "1.0 Age - C1: 0.06996590857700999 , C2: -0.12086550968782515\n"
     ]
    },
    {
     "data": {
      "image/png": "[encoded data removed]",
      "text/plain": [
       "<Figure size 432x288 with 2 Axes>"
      ]
     },
     "metadata": {
      "needs_background": "light"
     },
     "output_type": "display_data"
    },
    {
     "name": "stdout",
     "output_type": "stream",
     "text": [
      "1.0 Weight - C1: -0.16792764837707583 , C2: 0.2570207438566876\n"
     ]
    },
    {
     "data": {
      "image/png": "[encoded data removed]",
      "text/plain": [
       "<Figure size 432x288 with 2 Axes>"
      ]
     },
     "metadata": {
      "needs_background": "light"
     },
     "output_type": "display_data"
    },
    {
     "name": "stdout",
     "output_type": "stream",
     "text": [
      "1.0 CCU - C1: -0.1669484803095039 , C2: 0.13567390025985826\n"
     ]
    },
    {
     "data": {
      "image/png": "[encoded data removed]",
      "text/plain": [
       "<Figure size 432x288 with 2 Axes>"
      ]
     },
     "metadata": {
      "needs_background": "light"
     },
     "output_type": "display_data"
    },
    {
     "name": "stdout",
     "output_type": "stream",
     "text": [
      "1.0 CSRU - C1: 0.49133951340163773 , C2: -0.3835836551826224\n"
     ]
    },
    {
     "data": {
      "image/png": "[encoded data removed]",
      "text/plain": [
       "<Figure size 432x288 with 2 Axes>"
      ]
     },
     "metadata": {
      "needs_background": "light"
     },
     "output_type": "display_data"
    },
    {
     "name": "stdout",
     "output_type": "stream",
     "text": [
      "1.0 DiasABP_first - C1: -0.26952187094825086 , C2: 0.358613948361849\n"
     ]
    },
    {
     "data": {
      "image/png": "[encoded data removed]",
      "text/plain": [
       "<Figure size 432x288 with 2 Axes>"
      ]
     },
     "metadata": {
      "needs_background": "light"
     },
     "output_type": "display_data"
    },
    {
     "name": "stdout",
     "output_type": "stream",
     "text": [
      "1.0 GCS_first - C1: -0.1776965368698655 , C2: 0.06793477389906738\n"
     ]
    },
    {
     "data": {
      "image/png": "[encoded data removed]",
      "text/plain": [
       "<Figure size 432x288 with 2 Axes>"
      ]
     },
     "metadata": {
      "needs_background": "light"
     },
     "output_type": "display_data"
    },
    {
     "name": "stdout",
     "output_type": "stream",
     "text": [
      "1.0 Glucose_first - C1: -0.2429590367714958 , C2: 0.2825109697699002\n"
     ]
    },
    {
     "data": {
      "image/png": "[encoded data removed]",
      "text/plain": [
       "<Figure size 432x288 with 2 Axes>"
      ]
     },
     "metadata": {
      "needs_background": "light"
     },
     "output_type": "display_data"
    }
   ],
   "source": [
    "cluster_entrpy = 0\n",
    "cntr = 0\n",
    "n_columns = X_train.shape[1]\n",
    "n_clusters = len(torch.unique(cluster_ids))\n",
    "input_dim = X_train.shape[1]\n",
    "mi_scores = {}\n",
    "scaled_X_train = X_train\n",
    "for i in range(n_clusters):\n",
    "    for j in range(n_clusters):\n",
    "        if i > j:\n",
    "            joint_col_name = str(i) + \",\" + str(j)\n",
    "            mi_scores[joint_col_name] = {}\n",
    "            ci = torch.where(cluster_ids == i)[0]\n",
    "            cj = torch.where(cluster_ids == j)[0]\n",
    "            Xi = X_train[ci]\n",
    "            Xj = X_train[cj]\n",
    "            col_entrpy = 0\n",
    "            p_vals = np.nan_to_num(ttest_ind(Xi, Xj, axis=0, equal_var=True))[1]\n",
    "            for c in range(n_columns):\n",
    "                mi_scores[joint_col_name][c] = np.round(np.exp(-p_vals[c]/0.05), 3)\n",
    "                # print(column_names[c], \":\", c_entropy)\n",
    "            cntr += 1\n",
    "            print(\"\\n========\\n\")\n",
    "            print(joint_col_name)\n",
    "            sorted_dict = sorted(mi_scores[joint_col_name].items(), key=lambda item: -item[1])[:10]\n",
    "            print({column_names[k]: v for k, v in sorted_dict})\n",
    "            for k, v in sorted_dict:\n",
    "                print(v, column_names[k], \"- C1:\", np.mean(scaled_X_train[ci][:,k]), \", C2:\", np.mean(scaled_X_train[cj][:,k]))\n",
    "                plot_hist(scaled_X_train[ci][:,k], scaled_X_train[cj][:,k])"
   ]
  },
  {
   "cell_type": "markdown",
   "id": "a70d6860",
   "metadata": {},
   "source": [
    "## WDFD"
   ]
  },
  {
   "cell_type": "code",
   "execution_count": 32,
   "id": "74e921eb",
   "metadata": {
    "scrolled": true
   },
   "outputs": [
    {
     "name": "stdout",
     "output_type": "stream",
     "text": [
      "\n",
      "========\n",
      "\n",
      "WDFD Analysis of Clusters:  1,0\n",
      "|C1| = 1767, |C0| = 2400\n",
      "|C1| = 0.029, |C0| = 0.099\n",
      "MI = 0.923 ; Feature: CSRU - C1 Mean: 0.531 , C2 Mean: 0.149\n",
      "MI = 0.803 ; Feature: MechVentLast8Hour - C1 Mean: 0.253 , C2 Mean: 0.642\n",
      "MI = 0.707 ; Feature: MechVentDuration - C1 Mean: 1383.439 , C2 Mean: 1999.194\n",
      "MI = 0.648 ; Feature: UrineOutputSum - C1 Mean: 9.033 , C2 Mean: 12.842\n",
      "MI = 0.496 ; Feature: GCS_first - C1 Mean: 8.553 , C2 Mean: 10.979\n",
      "MI = 0.487 ; Feature: PaO2_first - C1 Mean: 263.052 , C2 Mean: 202.791\n",
      "MI = 0.441 ; Feature: GCS_last - C1 Mean: 14.545 , C2 Mean: 12.95\n",
      "MI = 0.411 ; Feature: GCS_median - C1 Mean: 13.872 , C2 Mean: 12.399\n",
      "MI = 0.39 ; Feature: NIMAP_highest - C1 Mean: 90.206 , C2 Mean: 97.5\n",
      "MI = 0.381 ; Feature: NIMAP_first - C1 Mean: 72.893 , C2 Mean: 79.605\n",
      "\n",
      "========\n",
      "\n",
      "WDFD Analysis of Clusters:  2,0\n",
      "|C2| = 2583, |C0| = 2400\n",
      "|C2| = 0.257, |C0| = 0.099\n",
      "MI = 0.72 ; Feature: GCS_last - C1 Mean: 10.345 , C2 Mean: 12.95\n",
      "MI = 0.576 ; Feature: GCS_median - C1 Mean: 10.337 , C2 Mean: 12.399\n",
      "MI = 0.565 ; Feature: BUN_last - C1 Mean: 33.909 , C2 Mean: 22.226\n",
      "MI = 0.561 ; Feature: GCS_highest - C1 Mean: 12.377 , C2 Mean: 13.832\n",
      "MI = 0.53 ; Feature: Creatinine_last - C1 Mean: 1.884 , C2 Mean: 1.134\n",
      "MI = 0.516 ; Feature: SOFA - C1 Mean: 7.555 , C2 Mean: 5.388\n",
      "MI = 0.489 ; Feature: Creatinine_first - C1 Mean: 1.894 , C2 Mean: 1.166\n",
      "MI = 0.466 ; Feature: BUN_first - C1 Mean: 33.959 , C2 Mean: 23.797\n",
      "MI = 0.465 ; Feature: SAPS-I - C1 Mean: 15.866 , C2 Mean: 13.033\n",
      "MI = 0.433 ; Feature: MechVentLast8Hour - C1 Mean: 0.852 , C2 Mean: 0.642\n",
      "\n",
      "========\n",
      "\n",
      "WDFD Analysis of Clusters:  2,1\n",
      "|C2| = 2583, |C1| = 1767\n",
      "|C2| = 0.257, |C1| = 0.029\n",
      "MI = 1.235 ; Feature: MechVentLast8Hour - C1 Mean: 0.852 , C2 Mean: 0.253\n",
      "MI = 1.161 ; Feature: GCS_last - C1 Mean: 10.345 , C2 Mean: 14.545\n",
      "MI = 1.116 ; Feature: CSRU - C1 Mean: 0.069 , C2 Mean: 0.531\n",
      "MI = 0.988 ; Feature: GCS_median - C1 Mean: 10.337 , C2 Mean: 13.872\n",
      "MI = 0.933 ; Feature: GCS_highest - C1 Mean: 12.377 , C2 Mean: 14.799\n",
      "MI = 0.932 ; Feature: MechVentDuration - C1 Mean: 2192.579 , C2 Mean: 1383.439\n",
      "MI = 0.86 ; Feature: UrineOutputSum - C1 Mean: 14.069 , C2 Mean: 9.033\n",
      "MI = 0.805 ; Feature: BUN_last - C1 Mean: 33.909 , C2 Mean: 17.27\n",
      "MI = 0.792 ; Feature: PaO2_first - C1 Mean: 164.993 , C2 Mean: 263.052\n",
      "MI = 0.779 ; Feature: BUN_first - C1 Mean: 33.959 , C2 Mean: 16.946\n"
     ]
    }
   ],
   "source": [
    "cluster_entrpy = 0\n",
    "cntr = 0\n",
    "n_columns = X_train.shape[1]\n",
    "n_clusters = len(torch.unique(cluster_ids))\n",
    "input_dim = X_train.shape[1]\n",
    "mi_scores = {}\n",
    "scaled_X_train = scale.inverse_transform(X_train)\n",
    "\n",
    "for i in range(n_clusters):\n",
    "    for j in range(n_clusters):\n",
    "        if i > j:\n",
    "            joint_col_name = str(i) + \",\" + str(j)\n",
    "            mi_scores[joint_col_name] = {}\n",
    "            ci = torch.where(cluster_ids == i)[0]\n",
    "            cj = torch.where(cluster_ids == j)[0]\n",
    "            Xi = X_train[ci]\n",
    "            Xj = X_train[cj]\n",
    "            col_entrpy = 0\n",
    "            for c in range(n_columns):\n",
    "                c_entropy = wd(Xi[:,c], Xj[:,c])\n",
    "                col_entrpy += c_entropy\n",
    "                mi_scores[joint_col_name][c] = np.round(c_entropy, 3)\n",
    "                # print(column_names[c], \":\", c_entropy)\n",
    "            cluster_entrpy += col_entrpy/n_columns\n",
    "            cntr += 1\n",
    "            print(\"\\n========\\n\")\n",
    "            print(\"WDFD Analysis of Clusters: \", joint_col_name)\n",
    "            sorted_dict = sorted(mi_scores[joint_col_name].items(), key=lambda item: -item[1])[:10]\n",
    "            # print({column_names[k]: v for k, v in sorted_dict})\n",
    "            print(\"|C{}| = {}, |C{}| = {}\".format(i, len(ci), j, len(cj)))\n",
    "            print(\"|C{}| = {:.3f}, |C{}| = {:.3f}\".format(i, sum(y_train[ci])/len(ci), j, sum(y_train[cj])/len(cj)))\n",
    "            for k, v in sorted_dict:\n",
    "                print(\"MI =\", v, \"; Feature:\", column_names[k], \"- C1 Mean:\", np.round(np.mean(scaled_X_train[ci][:,k]),3),\\\n",
    "                      \", C2 Mean:\", np.round(np.mean(scaled_X_train[cj][:,k]),3))\n",
    "                # print(scaled_X_train[cj][:,k])\n",
    "                # plot_hist(scaled_X_train[ci][:,k], scaled_X_train[cj][:,k])"
   ]
  },
  {
   "cell_type": "code",
   "execution_count": 33,
   "id": "b7ce6a3e",
   "metadata": {},
   "outputs": [],
   "source": [
    "def NHFD_Single_Cluster_Analysis(X_train, cluster_ids, column_names):\n",
    "    print(\"\\nCluster Wise discriminative features (NHFD)\")\n",
    "    cluster_entrpy = 0\n",
    "    cntr = 0\n",
    "    n_columns = X_train.shape[1]\n",
    "    n_clusters = len(torch.unique(cluster_ids))\n",
    "    input_dim = X_train.shape[1]\n",
    "    mi_scores = {}\n",
    "    for i in range(n_clusters):\n",
    "        mi_scores[i] = {}\n",
    "        ci = torch.where(cluster_ids == i)[0]\n",
    "        for c in range(n_columns):\n",
    "            Xi_c = X_train[ci][:,c]\n",
    "            Zc = []\n",
    "            # Collect values from other clusters\n",
    "            for j in range(n_clusters):\n",
    "                if i != j:\n",
    "                    cj = torch.where(cluster_ids == j)[0]                    \n",
    "                    Xj_c = X_train[cj][:,c]\n",
    "                    Zc = np.concatenate([Zc, Xj_c])\n",
    "\n",
    "            col_entrpy = 0\n",
    "            p_vals = np.nan_to_num(ttest_ind(Xi_c, Zc, axis=0, equal_var=True))[1]\n",
    "#             p_vals = np.nan_to_num(wd(Xi_c, Zc))\n",
    "#             p_vals = np.nan_to_num(calc_MI(Xi_c, Zc,0))\n",
    "#             mi_scores[i][c] = np.round(np.exp(-p_vals/0.05), 3)\n",
    "            mi_scores[i][c] = -np.log(p_vals + np.finfo(float).eps)*0.05\n",
    "\n",
    "        print(\"\\n========\\n\")\n",
    "        print(\"|C{}| = {}\".format(i, len(ci)))\n",
    "        print(\"|C{}| = {:.3f}\".format(i, sum(y_train[ci])/len(ci)))\n",
    "\n",
    "        sorted_dict = sorted(mi_scores[i].items(), key=lambda item: -item[1])\n",
    "        for feature, pval in sorted_dict:\n",
    "            f = column_names[feature]\n",
    "            print(f, \"\\t\", pval, end='\\t')\n",
    "            for cluster_id in range(n_clusters):\n",
    "                    c_cluster_id = torch.where(cluster_ids == cluster_id)[0]\n",
    "                    X_cluster_f = X_train[c_cluster_id][:,feature]\n",
    "                    print(\"({:.3f}, {:.3f})\".format(np.round(np.mean(X_cluster_f),3), np.round(np.std(X_cluster_f),3)), end='\\t')\n",
    "            print('')\n"
   ]
  },
  {
   "cell_type": "code",
   "execution_count": 35,
   "id": "b912febf",
   "metadata": {
    "scrolled": true
   },
   "outputs": [
    {
     "name": "stdout",
     "output_type": "stream",
     "text": [
      "\n",
      "Cluster Wise discriminative features (NHFD)\n",
      "\n",
      "========\n",
      "\n",
      "|C0| = 2400\n",
      "|C0| = 0.099\n",
      "SAPS-I \t 1.8021826694558578\t(13.033, 5.586)\t(13.362, 6.313)\t(15.866, 6.006)\t\n",
      "SOFA \t 1.8021826694558578\t(5.388, 3.808)\t(6.097, 3.837)\t(7.555, 4.497)\t\n",
      "GCS_first \t 1.8021826694558578\t(10.979, 4.557)\t(8.553, 5.183)\t(10.162, 4.745)\t\n",
      "GCS_lowest \t 1.8021826694558578\t(9.277, 4.773)\t(7.811, 4.951)\t(7.525, 4.556)\t\n",
      "CSRU \t 1.8021826692244938\t(0.149, 0.356)\t(0.531, 0.500)\t(0.069, 0.254)\t\n",
      "Creatinine_last \t 1.8021826688542975\t(1.134, 0.869)\t(0.935, 0.466)\t(1.884, 1.986)\t\n",
      "GCS_last \t 1.802182644620819\t(12.950, 2.958)\t(14.545, 1.196)\t(10.345, 4.178)\t\n",
      "BUN_last \t 1.8021814371119693\t(22.226, 15.438)\t(17.270, 9.372)\t(33.909, 26.605)\t\n",
      "Creatinine_first \t 1.7813288447251545\t(1.166, 0.868)\t(0.872, 0.460)\t(1.894, 2.113)\t\n",
      "Lactate_first \t 1.5309200573161714\t(2.323, 1.454)\t(2.273, 1.111)\t(3.036, 2.913)\t\n",
      "Lactate_last \t 1.518140281713143\t(1.750, 0.830)\t(1.769, 0.698)\t(2.244, 2.329)\t\n",
      "GCS_highest \t 1.3899197884306895\t(13.832, 2.091)\t(14.799, 0.720)\t(12.377, 3.268)\t\n",
      "K_last \t 1.335266874043037\t(4.008, 0.471)\t(4.091, 0.490)\t(4.106, 0.573)\t\n",
      "FiO2_first \t 1.3167137836062268\t(0.758, 0.243)\t(0.829, 0.237)\t(0.784, 0.267)\t\n",
      "Bilirubin_last \t 1.3149289831496025\t(1.414, 1.736)\t(1.654, 0.899)\t(2.614, 7.145)\t\n",
      "GCS_median \t 1.2972535119062898\t(12.399, 3.138)\t(13.872, 1.950)\t(10.337, 4.051)\t\n",
      "K_first \t 1.2667233429075617\t(4.098, 0.653)\t(4.199, 0.596)\t(4.238, 0.834)\t\n",
      "Albumin_last \t 1.0764874413310588\t(3.019, 0.624)\t(3.043, 0.398)\t(2.829, 0.773)\t\n",
      "Albumin_first \t 1.059047360483572\t(3.055, 0.632)\t(3.077, 0.396)\t(2.867, 0.786)\t\n",
      "Weight_last \t 1.04488322397399\t(82.618, 20.801)\t(81.591, 17.133)\t(89.643, 29.638)\t\n",
      "MechVentDuration \t 1.0363756519647038\t(1999.194, 745.855)\t(1383.439, 880.888)\t(2192.579, 813.515)\t\n",
      "Bilirubin_first \t 1.0355802449870688\t(1.444, 1.702)\t(1.640, 0.860)\t(2.466, 6.884)\t\n",
      "DiasABP_first \t 1.008246621447292\t(60.982, 11.503)\t(58.228, 10.176)\t(66.495, 17.162)\t\n",
      "HCO3_last \t 0.9983282446453473\t(24.685, 3.966)\t(24.905, 2.997)\t(23.442, 5.069)\t\n",
      "HR_first \t 0.9680075620216546\t(87.700, 19.574)\t(84.912, 14.207)\t(94.642, 22.493)\t\n",
      "BUN_first \t 0.959995205467105\t(23.797, 17.381)\t(16.946, 9.424)\t(33.959, 27.948)\t\n",
      "Weight_first \t 0.9426733613446132\t(82.087, 21.126)\t(80.737, 17.480)\t(89.086, 30.086)\t\n",
      "MAP_first \t 0.9380419128889793\t(82.170, 20.109)\t(78.056, 13.326)\t(91.751, 36.996)\t\n",
      "HR_median \t 0.9240645053648404\t(84.973, 14.958)\t(83.493, 11.297)\t(89.671, 16.580)\t\n",
      "pH_first \t 0.8996322364156731\t(7.377, 0.079)\t(7.392, 0.070)\t(7.344, 0.112)\t\n",
      "ALP_first \t 0.8856484191801951\t(95.655, 41.760)\t(98.928, 27.349)\t(120.107, 172.809)\t\n",
      "ALT_last \t 0.8814022744367279\t(113.876, 231.928)\t(141.538, 104.290)\t(254.975, 1048.849)\t\n",
      "AST_last \t 0.8732503820335847\t(139.390, 205.249)\t(175.847, 109.917)\t(331.604, 1451.145)\t\n",
      "AST_first \t 0.8549911359942097\t(142.340, 219.084)\t(178.764, 121.005)\t(338.470, 1492.962)\t\n",
      "UrineOutputSum \t 0.8441045135465063\t(12.842, 5.143)\t(9.033, 5.319)\t(14.069, 6.016)\t\n",
      "Temp_highest \t 0.832195898199699\t(37.863, 0.734)\t(37.831, 0.566)\t(38.058, 0.844)\t\n",
      "SaO2_lowest \t 0.8310032138468033\t(95.316, 2.423)\t(95.633, 2.208)\t(93.823, 8.299)\t\n",
      "HCO3_first \t 0.8063100674149054\t(23.553, 4.257)\t(23.542, 3.008)\t(22.507, 5.671)\t\n",
      "ALP_last \t 0.8043145851009564\t(94.489, 40.658)\t(97.437, 26.391)\t(118.117, 175.599)\t\n",
      "pH_last \t 0.7771258530686773\t(7.404, 0.053)\t(7.409, 0.044)\t(7.387, 0.075)\t\n",
      "TroponinT_first \t 0.7687841658819774\t(0.819, 1.131)\t(0.971, 0.658)\t(1.376, 4.632)\t\n",
      "SaO2_median \t 0.7596656261057309\t(97.050, 1.262)\t(97.341, 1.316)\t(96.109, 5.111)\t\n",
      "ALT_first \t 0.7586757797543182\t(103.096, 182.778)\t(127.188, 103.198)\t(224.349, 986.831)\t\n",
      "Weight \t 0.7535713738887221\t(79.516, 20.796)\t(76.743, 16.624)\t(86.532, 27.993)\t\n",
      "Glucose_highest \t 0.7372550104105822\t(166.289, 69.270)\t(142.456, 44.602)\t(201.679, 113.551)\t\n",
      "SICU \t 0.7371968110816026\t(0.304, 0.459)\t(0.192, 0.397)\t(0.284, 0.450)\t\n",
      "WBC_last \t 0.7307975633554484\t(11.759, 3.871)\t(11.422, 3.258)\t(13.412, 9.502)\t\n",
      "SaO2_last \t 0.6787297645714758\t(96.776, 1.380)\t(96.868, 1.634)\t(95.979, 5.357)\t\n",
      "PaO2_last \t 0.6551471985940154\t(121.332, 50.921)\t(116.656, 43.875)\t(114.305, 53.521)\t\n",
      "SaO2_first \t 0.613910832666742\t(96.958, 1.392)\t(97.407, 1.385)\t(95.793, 6.767)\t\n",
      "TroponinT_last \t 0.6111457631669619\t(0.823, 1.175)\t(0.891, 0.572)\t(1.245, 3.656)\t\n",
      "WBC_first \t 0.6043073597296122\t(12.332, 4.650)\t(11.791, 3.771)\t(14.225, 11.303)\t\n",
      "HR_lowest \t 0.5902307192478554\t(67.589, 13.898)\t(66.902, 10.998)\t(70.762, 15.785)\t\n",
      "DiasABP_highest \t 0.5872839073752585\t(82.312, 14.830)\t(78.723, 13.071)\t(88.107, 20.919)\t\n",
      "NISysABP_last \t 0.5787684904861724\t(120.809, 22.253)\t(116.671, 17.142)\t(119.422, 24.995)\t\n",
      "Na_last \t 0.568749555133606\t(139.155, 4.130)\t(137.825, 3.522)\t(139.254, 4.833)\t\n",
      "CCU \t 0.5576371945581622\t(0.169, 0.375)\t(0.056, 0.231)\t(0.181, 0.385)\t\n",
      "HR_highest \t 0.5514381806067217\t(110.833, 21.740)\t(106.405, 18.103)\t(117.950, 23.697)\t\n",
      "TroponinI_last \t 0.5369095199679551\t(5.801, 3.783)\t(6.013, 2.088)\t(7.395, 14.890)\t\n",
      "Temp_first \t 0.5252688449012365\t(36.642, 0.978)\t(36.330, 0.843)\t(36.668, 1.195)\t\n",
      "HCT_last \t 0.523389656435564\t(31.182, 4.643)\t(29.647, 4.202)\t(31.396, 4.832)\t\n",
      "TroponinI_first \t 0.47412155862619487\t(6.502, 4.633)\t(6.867, 2.735)\t(8.038, 16.261)\t\n",
      "MAP_highest \t 0.4470751673268385\t(116.132, 30.990)\t(109.452, 25.485)\t(126.712, 45.342)\t\n",
      "Temp_median \t 0.4455684493426816\t(37.017, 0.560)\t(37.063, 0.441)\t(37.083, 0.713)\t\n",
      "Platelets_last \t 0.4424521911886813\t(198.958, 99.039)\t(170.451, 70.754)\t(201.695, 121.384)\t\n",
      "SaO2_highest \t 0.4155279812460344\t(97.831, 1.295)\t(98.207, 1.188)\t(97.085, 4.729)\t\n",
      "HR_last \t 0.40022521490070545\t(84.990, 16.762)\t(83.644, 14.267)\t(88.546, 18.923)\t\n",
      "Glucose_first \t 0.37775091442392683\t(145.091, 61.474)\t(125.820, 37.741)\t(169.663, 100.399)\t\n",
      "Temp_lowest \t 0.3711269750149242\t(35.934, 0.739)\t(35.855, 0.640)\t(35.867, 0.978)\t\n",
      "NIDiasABP_highest \t 0.3673576547774917\t(80.384, 19.154)\t(73.171, 15.447)\t(82.498, 20.803)\t\n",
      "FiO2_last \t 0.3613137433948393\t(0.491, 0.142)\t(0.488, 0.131)\t(0.516, 0.186)\t\n",
      "Mg_first \t 0.3448056969336543\t(1.913, 0.357)\t(1.976, 0.370)\t(1.937, 0.622)\t\n",
      "NIMAP_last \t 0.33382193142765226\t(77.629, 15.090)\t(75.619, 11.969)\t(76.923, 16.796)\t\n",
      "NISysABP_median \t 0.3237655986484984\t(118.623, 18.703)\t(113.039, 13.543)\t(119.862, 21.817)\t\n",
      "Age \t 0.31653182914886135\t(65.146, 17.889)\t(64.722, 16.656)\t(63.088, 17.785)\t\n",
      "Length_of_stay \t 0.3130996472394284\t(12.819, 9.593)\t(10.119, 7.373)\t(16.293, 15.908)\t\n",
      "SysABP_first \t 0.29908517086862313\t(122.539, 22.803)\t(115.922, 18.220)\t(130.613, 34.139)\t\n",
      "RespRate_median \t 0.2936706856739758\t(19.252, 4.186)\t(18.785, 2.772)\t(20.087, 4.494)\t\n",
      "Na_first \t 0.2847419258987212\t(139.016, 4.513)\t(138.689, 3.412)\t(138.649, 5.545)\t\n",
      "Gender \t 0.2772608160051803\t(0.538, 0.498)\t(0.546, 0.498)\t(0.595, 0.491)\t\n",
      "NIDiasABP_last \t 0.2759082808777543\t(58.241, 15.012)\t(56.803, 12.538)\t(57.383, 16.302)\t\n",
      "Platelets_first \t 0.2682686321240012\t(221.195, 106.457)\t(185.075, 78.450)\t(232.142, 134.401)\t\n",
      "RespRate_last \t 0.2614269550542953\t(19.643, 5.722)\t(19.231, 3.828)\t(20.590, 6.341)\t\n",
      "MechVentLast8Hour \t 0.25156598085592724\t(0.642, 0.438)\t(0.253, 0.467)\t(0.852, 0.376)\t\n",
      "Glucose_lowest \t 0.24821296629886003\t(109.909, 29.386)\t(105.401, 23.524)\t(109.541, 33.811)\t\n",
      "NIDiasABP_median \t 0.23900488834920697\t(57.309, 12.056)\t(54.207, 8.767)\t(58.066, 13.717)\t\n",
      "Glucose_median \t 0.23666379787659586\t(131.917, 34.881)\t(121.637, 24.180)\t(143.212, 45.277)\t\n",
      "RespRate_highest \t 0.23494625806417369\t(28.978, 7.226)\t(28.273, 4.783)\t(30.303, 9.085)\t\n",
      "HCT_first \t 0.23176119135257847\t(32.185, 5.850)\t(30.081, 5.290)\t(32.957, 6.359)\t\n",
      "Temp_last \t 0.23147583382739315\t(37.016, 0.678)\t(36.983, 0.570)\t(37.118, 0.849)\t\n",
      "SysABP_last \t 0.2273958675378195\t(123.453, 21.564)\t(118.626, 20.611)\t(124.165, 26.979)\t\n",
      "NIMAP_median \t 0.21921212705532744\t(76.409, 12.050)\t(72.805, 8.509)\t(77.543, 14.507)\t\n",
      "NIMAP_highest \t 0.20299773996446496\t(97.500, 18.499)\t(90.206, 14.356)\t(100.561, 20.775)\t\n",
      "NISysABP_highest \t 0.19325095904151407\t(145.190, 25.911)\t(135.504, 19.792)\t(149.205, 29.206)\t\n",
      "RespRate_first \t 0.1928939044227374\t(19.929, 5.634)\t(19.303, 3.860)\t(20.966, 7.637)\t\n",
      "PaCO2_first \t 0.1615407544155201\t(41.163, 8.952)\t(40.400, 6.889)\t(42.626, 13.732)\t\n",
      "DiasABP_median \t 0.16051876040148652\t(59.270, 8.386)\t(56.328, 6.644)\t(62.122, 11.414)\t\n",
      "MechVentStartTime \t 0.13919733504325743\t(270.357, 384.535)\t(181.143, 174.787)\t(370.115, 662.956)\t\n",
      "NISysABP_first \t 0.13016044327500517\t(122.011, 24.890)\t(112.434, 19.377)\t(126.570, 29.302)\t\n",
      "NISysABP_lowest \t 0.12509796382910118\t(94.870, 19.264)\t(93.149, 14.138)\t(94.582, 22.990)\t\n",
      "Glucose_last \t 0.11459521355268597\t(127.327, 37.057)\t(119.999, 27.391)\t(135.237, 50.614)\t\n",
      "RespRate_lowest \t 0.10429862749456598\t(12.260, 3.774)\t(11.943, 2.536)\t(12.699, 3.439)\t\n",
      "Mg_last \t 0.09553592646383836\t(2.041, 0.276)\t(2.013, 0.240)\t(2.079, 0.385)\t\n",
      "Cholesterol_last \t 0.08371738654283309\t(155.539, 35.730)\t(156.083, 16.487)\t(157.776, 64.859)\t\n",
      "NIDiasABP_first \t 0.08266329759793434\t(60.694, 16.493)\t(54.780, 12.313)\t(63.781, 19.455)\t\n",
      "Cholesterol_first \t 0.07967740183338572\t(155.643, 35.662)\t(156.083, 16.536)\t(157.868, 65.128)\t\n",
      "MAP_last \t 0.07910715551172093\t(82.762, 16.707)\t(78.505, 15.277)\t(84.626, 23.281)\t\n",
      "DiasABP_last \t 0.07142844728868142\t(61.476, 12.520)\t(57.917, 11.417)\t(63.216, 15.798)\t\n",
      "NIMAP_first \t 0.053163558439219355\t(79.605, 16.585)\t(72.893, 12.603)\t(83.478, 20.454)\t\n",
      "PaCO2_last \t 0.03607990868148142\t(39.977, 7.276)\t(39.883, 5.551)\t(40.292, 10.692)\t\n",
      "Height \t 0.03597344381586643\t(171.032, 14.200)\t(169.616, 17.539)\t(174.493, 133.888)\t\n",
      "MAP_median \t 0.03349260059421526\t(79.887, 10.433)\t(75.488, 8.160)\t(83.288, 18.250)\t\n",
      "PaO2_first \t 0.032875090527687785\t(202.791, 112.350)\t(263.052, 121.020)\t(164.993, 119.954)\t\n",
      "NIMAP_lowest \t 0.02469081053038153\t(59.802, 12.634)\t(58.817, 8.974)\t(60.191, 15.488)\t\n",
      "MAP_lowest \t 0.01834736578441802\t(58.547, 13.864)\t(56.069, 10.215)\t(59.961, 21.507)\t\n",
      "NIDiasABP_lowest \t 0.017708135382630507\t(40.895, 12.552)\t(40.196, 9.458)\t(41.163, 14.815)\t\n",
      "DiasABP_lowest \t 0.0003113186215728181\t(44.495, 9.199)\t(42.255, 6.932)\t(46.025, 12.122)\t\n"
     ]
    },
    {
     "name": "stdout",
     "output_type": "stream",
     "text": [
      "\n",
      "========\n",
      "\n",
      "|C1| = 1767\n",
      "|C1| = 0.029\n",
      "Length_of_stay \t 1.8021826694558578\t(12.819, 9.593)\t(10.119, 7.373)\t(16.293, 15.908)\t\n",
      "CCU \t 1.8021826694558578\t(0.169, 0.375)\t(0.056, 0.231)\t(0.181, 0.385)\t\n",
      "CSRU \t 1.8021826694558578\t(0.149, 0.356)\t(0.531, 0.500)\t(0.069, 0.254)\t\n",
      "DiasABP_first \t 1.8021826694558578\t(60.982, 11.503)\t(58.228, 10.176)\t(66.495, 17.162)\t\n",
      "GCS_first \t 1.8021826694558578\t(10.979, 4.557)\t(8.553, 5.183)\t(10.162, 4.745)\t\n",
      "Glucose_first \t 1.8021826694558578\t(145.091, 61.474)\t(125.820, 37.741)\t(169.663, 100.399)\t\n",
      "HR_first \t 1.8021826694558578\t(87.700, 19.574)\t(84.912, 14.207)\t(94.642, 22.493)\t\n",
      "MAP_first \t 1.8021826694558578\t(82.170, 20.109)\t(78.056, 13.326)\t(91.751, 36.996)\t\n",
      "NIDiasABP_first \t 1.8021826694558578\t(60.694, 16.493)\t(54.780, 12.313)\t(63.781, 19.455)\t\n",
      "NIMAP_first \t 1.8021826694558578\t(79.605, 16.585)\t(72.893, 12.603)\t(83.478, 20.454)\t\n",
      "NISysABP_first \t 1.8021826694558578\t(122.011, 24.890)\t(112.434, 19.377)\t(126.570, 29.302)\t\n",
      "DiasABP_last \t 1.8021826694558578\t(61.476, 12.520)\t(57.917, 11.417)\t(63.216, 15.798)\t\n",
      "GCS_last \t 1.8021826694558578\t(12.950, 2.958)\t(14.545, 1.196)\t(10.345, 4.178)\t\n",
      "DiasABP_highest \t 1.8021826694558578\t(82.312, 14.830)\t(78.723, 13.071)\t(88.107, 20.919)\t\n",
      "GCS_highest \t 1.8021826694558578\t(13.832, 2.091)\t(14.799, 0.720)\t(12.377, 3.268)\t\n",
      "Glucose_highest \t 1.8021826694558578\t(166.289, 69.270)\t(142.456, 44.602)\t(201.679, 113.551)\t\n",
      "HR_highest \t 1.8021826694558578\t(110.833, 21.740)\t(106.405, 18.103)\t(117.950, 23.697)\t\n",
      "MAP_highest \t 1.8021826694558578\t(116.132, 30.990)\t(109.452, 25.485)\t(126.712, 45.342)\t\n",
      "NIDiasABP_highest \t 1.8021826694558578\t(80.384, 19.154)\t(73.171, 15.447)\t(82.498, 20.803)\t\n",
      "NIMAP_highest \t 1.8021826694558578\t(97.500, 18.499)\t(90.206, 14.356)\t(100.561, 20.775)\t\n",
      "NISysABP_highest \t 1.8021826694558578\t(145.190, 25.911)\t(135.504, 19.792)\t(149.205, 29.206)\t\n",
      "DiasABP_median \t 1.8021826694558578\t(59.270, 8.386)\t(56.328, 6.644)\t(62.122, 11.414)\t\n",
      "GCS_median \t 1.8021826694558578\t(12.399, 3.138)\t(13.872, 1.950)\t(10.337, 4.051)\t\n",
      "Glucose_median \t 1.8021826694558578\t(131.917, 34.881)\t(121.637, 24.180)\t(143.212, 45.277)\t\n",
      "MAP_median \t 1.8021826694558578\t(79.887, 10.433)\t(75.488, 8.160)\t(83.288, 18.250)\t\n",
      "NIMAP_median \t 1.8021826694558578\t(76.409, 12.050)\t(72.805, 8.509)\t(77.543, 14.507)\t\n",
      "NISysABP_median \t 1.8021826694558578\t(118.623, 18.703)\t(113.039, 13.543)\t(119.862, 21.817)\t\n",
      "BUN_first \t 1.8021826694558578\t(23.797, 17.381)\t(16.946, 9.424)\t(33.959, 27.948)\t\n",
      "Creatinine_first \t 1.8021826694558578\t(1.166, 0.868)\t(0.872, 0.460)\t(1.894, 2.113)\t\n",
      "HCT_first \t 1.8021826694558578\t(32.185, 5.850)\t(30.081, 5.290)\t(32.957, 6.359)\t\n",
      "PaO2_first \t 1.8021826694558578\t(202.791, 112.350)\t(263.052, 121.020)\t(164.993, 119.954)\t\n",
      "Platelets_first \t 1.8021826694558578\t(221.195, 106.457)\t(185.075, 78.450)\t(232.142, 134.401)\t\n",
      "SysABP_first \t 1.8021826694558578\t(122.539, 22.803)\t(115.922, 18.220)\t(130.613, 34.139)\t\n",
      "pH_first \t 1.8021826694558578\t(7.377, 0.079)\t(7.392, 0.070)\t(7.344, 0.112)\t\n",
      "BUN_last \t 1.8021826694558578\t(22.226, 15.438)\t(17.270, 9.372)\t(33.909, 26.605)\t\n",
      "Creatinine_last \t 1.8021826694558578\t(1.134, 0.869)\t(0.935, 0.466)\t(1.884, 1.986)\t\n",
      "HCT_last \t 1.8021826694558578\t(31.182, 4.643)\t(29.647, 4.202)\t(31.396, 4.832)\t\n",
      "Na_last \t 1.8021826694558578\t(139.155, 4.130)\t(137.825, 3.522)\t(139.254, 4.833)\t\n",
      "MechVentDuration \t 1.8021826694558578\t(1999.194, 745.855)\t(1383.439, 880.888)\t(2192.579, 813.515)\t\n",
      "MechVentLast8Hour \t 1.8021826694558578\t(0.642, 0.438)\t(0.253, 0.467)\t(0.852, 0.376)\t\n",
      "UrineOutputSum \t 1.8021826694558578\t(12.842, 5.143)\t(9.033, 5.319)\t(14.069, 6.016)\t\n",
      "Temp_first \t 1.802182669455855\t(36.642, 0.978)\t(36.330, 0.843)\t(36.668, 1.195)\t\n",
      "DiasABP_lowest \t 1.8021826694556946\t(44.495, 9.199)\t(42.255, 6.932)\t(46.025, 12.122)\t\n",
      "MechVentStartTime \t 1.8021826694448462\t(270.357, 384.535)\t(181.143, 174.787)\t(370.115, 662.956)\t\n",
      "Platelets_last \t 1.8021826694422929\t(198.958, 99.039)\t(170.451, 70.754)\t(201.695, 121.384)\t\n",
      "NIDiasABP_median \t 1.802182669431029\t(57.309, 12.056)\t(54.207, 8.767)\t(58.066, 13.717)\t\n",
      "Glucose_last \t 1.8021826671994383\t(127.327, 37.057)\t(119.999, 27.391)\t(135.237, 50.614)\t\n",
      "Weight \t 1.8021826648251715\t(79.516, 20.796)\t(76.743, 16.624)\t(86.532, 27.993)\t\n",
      "MAP_last \t 1.8021826422136837\t(82.762, 16.707)\t(78.505, 15.277)\t(84.626, 23.281)\t\n",
      "HR_median \t 1.8021819324216448\t(84.973, 14.958)\t(83.493, 11.297)\t(89.671, 16.580)\t\n",
      "SaO2_highest \t 1.8019735632129945\t(97.831, 1.295)\t(98.207, 1.188)\t(97.085, 4.729)\t\n",
      "SaO2_first \t 1.8014557250302403\t(96.958, 1.392)\t(97.407, 1.385)\t(95.793, 6.767)\t\n",
      "SaO2_median \t 1.7924835419249097\t(97.050, 1.262)\t(97.341, 1.316)\t(96.109, 5.111)\t\n",
      "FiO2_first \t 1.783988817440471\t(0.758, 0.243)\t(0.829, 0.237)\t(0.784, 0.267)\t\n",
      "SICU \t 1.7786134289203834\t(0.304, 0.459)\t(0.192, 0.397)\t(0.284, 0.450)\t\n",
      "RespRate_median \t 1.733628164506486\t(19.252, 4.186)\t(18.785, 2.772)\t(20.087, 4.494)\t\n",
      "pH_last \t 1.6942850590464813\t(7.404, 0.053)\t(7.409, 0.044)\t(7.387, 0.075)\t\n",
      "SysABP_last \t 1.6882667233209974\t(123.453, 21.564)\t(118.626, 20.611)\t(124.165, 26.979)\t\n",
      "Weight_first \t 1.4662379001756751\t(82.087, 21.126)\t(80.737, 17.480)\t(89.086, 30.086)\t\n",
      "HCO3_last \t 1.4549566337101132\t(24.685, 3.966)\t(24.905, 2.997)\t(23.442, 5.069)\t\n",
      "Lactate_first \t 1.408073085238165\t(2.323, 1.454)\t(2.273, 1.111)\t(3.036, 2.913)\t\n",
      "SaO2_lowest \t 1.3942451699537262\t(95.316, 2.423)\t(95.633, 2.208)\t(93.823, 8.299)\t\n",
      "WBC_first \t 1.3438103170989333\t(12.332, 4.650)\t(11.791, 3.771)\t(14.225, 11.303)\t\n",
      "Weight_last \t 1.3387271175271276\t(82.618, 20.801)\t(81.591, 17.133)\t(89.643, 29.638)\t\n",
      "MAP_lowest \t 1.3364478865736185\t(58.547, 13.864)\t(56.069, 10.215)\t(59.961, 21.507)\t\n",
      "Albumin_last \t 1.2878852921235004\t(3.019, 0.624)\t(3.043, 0.398)\t(2.829, 0.773)\t\n",
      "RespRate_first \t 1.2745053384628606\t(19.929, 5.634)\t(19.303, 3.860)\t(20.966, 7.637)\t\n",
      "SAPS-I \t 1.2540052780543216\t(13.033, 5.586)\t(13.362, 6.313)\t(15.866, 6.006)\t\n",
      "HR_last \t 1.2377157551630118\t(84.990, 16.762)\t(83.644, 14.267)\t(88.546, 18.923)\t\n",
      "RespRate_highest \t 1.222314001550132\t(28.978, 7.226)\t(28.273, 4.783)\t(30.303, 9.085)\t\n",
      "Albumin_first \t 1.1870376362287478\t(3.055, 0.632)\t(3.077, 0.396)\t(2.867, 0.786)\t\n",
      "WBC_last \t 1.1788704809916029\t(11.759, 3.871)\t(11.422, 3.258)\t(13.412, 9.502)\t\n",
      "Temp_highest \t 1.1371559897350116\t(37.863, 0.734)\t(37.831, 0.566)\t(38.058, 0.844)\t\n",
      "HR_lowest \t 0.9972085147984209\t(67.589, 13.898)\t(66.902, 10.998)\t(70.762, 15.785)\t\n",
      "RespRate_last \t 0.9549031131441515\t(19.643, 5.722)\t(19.231, 3.828)\t(20.590, 6.341)\t\n",
      "RespRate_lowest \t 0.9545754961244948\t(12.260, 3.774)\t(11.943, 2.536)\t(12.699, 3.439)\t\n",
      "NISysABP_last \t 0.8705542702943089\t(120.809, 22.253)\t(116.671, 17.142)\t(119.422, 24.995)\t\n",
      "Mg_last \t 0.8432984774373747\t(2.041, 0.276)\t(2.013, 0.240)\t(2.079, 0.385)\t\n",
      "Lactate_last \t 0.8293001896173696\t(1.750, 0.830)\t(1.769, 0.698)\t(2.244, 2.329)\t\n",
      "Glucose_lowest \t 0.7774114295656349\t(109.909, 29.386)\t(105.401, 23.524)\t(109.541, 33.811)\t\n",
      "SaO2_last \t 0.7594353163462466\t(96.776, 1.380)\t(96.868, 1.634)\t(95.979, 5.357)\t\n",
      "PaCO2_first \t 0.7584599068843496\t(41.163, 8.952)\t(40.400, 6.889)\t(42.626, 13.732)\t\n",
      "Temp_last \t 0.5333906197030798\t(37.016, 0.678)\t(36.983, 0.570)\t(37.118, 0.849)\t\n",
      "GCS_lowest \t 0.5259791380766168\t(9.277, 4.773)\t(7.811, 4.951)\t(7.525, 4.556)\t\n",
      "HCO3_first \t 0.5156731624460672\t(23.553, 4.257)\t(23.542, 3.008)\t(22.507, 5.671)\t\n",
      "NIMAP_last \t 0.4708474106870291\t(77.629, 15.090)\t(75.619, 11.969)\t(76.923, 16.796)\t\n",
      "Mg_first \t 0.4486050398052561\t(1.913, 0.357)\t(1.976, 0.370)\t(1.937, 0.622)\t\n",
      "FiO2_last \t 0.39827491662351444\t(0.491, 0.142)\t(0.488, 0.131)\t(0.516, 0.186)\t\n",
      "SOFA \t 0.3952304584640284\t(5.388, 3.808)\t(6.097, 3.837)\t(7.555, 4.497)\t\n",
      "NIMAP_lowest \t 0.34493794341953565\t(59.802, 12.634)\t(58.817, 8.974)\t(60.191, 15.488)\t\n",
      "ALP_first \t 0.30458463472561714\t(95.655, 41.760)\t(98.928, 27.349)\t(120.107, 172.809)\t\n",
      "Bilirubin_last \t 0.2963212601534657\t(1.414, 1.736)\t(1.654, 0.899)\t(2.614, 7.145)\t\n",
      "ALP_last \t 0.29281498163822656\t(94.489, 40.658)\t(97.437, 26.391)\t(118.117, 175.599)\t\n",
      "NISysABP_lowest \t 0.2774343335065714\t(94.870, 19.264)\t(93.149, 14.138)\t(94.582, 22.990)\t\n",
      "Bilirubin_first \t 0.2527782878183325\t(1.444, 1.702)\t(1.640, 0.860)\t(2.466, 6.884)\t\n",
      "AST_first \t 0.22077109824376695\t(142.340, 219.084)\t(178.764, 121.005)\t(338.470, 1492.962)\t\n",
      "AST_last \t 0.21976724578246043\t(139.390, 205.249)\t(175.847, 109.917)\t(331.604, 1451.145)\t\n",
      "ALT_last \t 0.21336982083202677\t(113.876, 231.928)\t(141.538, 104.290)\t(254.975, 1048.849)\t\n",
      "NIDiasABP_last \t 0.20571975630972\t(58.241, 15.012)\t(56.803, 12.538)\t(57.383, 16.302)\t\n",
      "NIDiasABP_lowest \t 0.2009130071735007\t(40.895, 12.552)\t(40.196, 9.458)\t(41.163, 14.815)\t\n",
      "TroponinI_last \t 0.19470642788831097\t(5.801, 3.783)\t(6.013, 2.088)\t(7.395, 14.890)\t\n",
      "K_last \t 0.19037912026237372\t(4.008, 0.471)\t(4.091, 0.490)\t(4.106, 0.573)\t\n",
      "TroponinT_last \t 0.1881715057341292\t(0.823, 1.175)\t(0.891, 0.572)\t(1.245, 3.656)\t\n",
      "ALT_first \t 0.18436679785505972\t(103.096, 182.778)\t(127.188, 103.198)\t(224.349, 986.831)\t\n",
      "Temp_lowest \t 0.14862030776657728\t(35.934, 0.739)\t(35.855, 0.640)\t(35.867, 0.978)\t\n",
      "TroponinT_first \t 0.11660159293851353\t(0.819, 1.131)\t(0.971, 0.658)\t(1.376, 4.632)\t\n",
      "Gender \t 0.10958688888199351\t(0.538, 0.498)\t(0.546, 0.498)\t(0.595, 0.491)\t\n",
      "TroponinI_first \t 0.0984201156490203\t(6.502, 4.633)\t(6.867, 2.735)\t(8.038, 16.261)\t\n",
      "K_first \t 0.093457367243546\t(4.098, 0.653)\t(4.199, 0.596)\t(4.238, 0.834)\t\n",
      "Height \t 0.08966164146400704\t(171.032, 14.200)\t(169.616, 17.539)\t(174.493, 133.888)\t\n",
      "Age \t 0.08401840670722961\t(65.146, 17.889)\t(64.722, 16.656)\t(63.088, 17.785)\t\n",
      "PaCO2_last \t 0.06567215500855854\t(39.977, 7.276)\t(39.883, 5.551)\t(40.292, 10.692)\t\n",
      "Na_first \t 0.06149794594683227\t(139.016, 4.513)\t(138.689, 3.412)\t(138.649, 5.545)\t\n",
      "PaO2_last \t 0.039045927018126064\t(121.332, 50.921)\t(116.656, 43.875)\t(114.305, 53.521)\t\n",
      "Temp_median \t 0.03592722835513132\t(37.017, 0.560)\t(37.063, 0.441)\t(37.083, 0.713)\t\n",
      "Cholesterol_first \t 0.027394658597705696\t(155.643, 35.662)\t(156.083, 16.536)\t(157.868, 65.128)\t\n",
      "Cholesterol_last \t 0.02305435009733281\t(155.539, 35.730)\t(156.083, 16.487)\t(157.776, 64.859)\t\n"
     ]
    },
    {
     "name": "stdout",
     "output_type": "stream",
     "text": [
      "\n",
      "========\n",
      "\n",
      "|C2| = 2583\n",
      "|C2| = 0.257\n",
      "SAPS-I \t 1.8021826694558578\t(13.033, 5.586)\t(13.362, 6.313)\t(15.866, 6.006)\t\n",
      "SOFA \t 1.8021826694558578\t(5.388, 3.808)\t(6.097, 3.837)\t(7.555, 4.497)\t\n",
      "Length_of_stay \t 1.8021826694558578\t(12.819, 9.593)\t(10.119, 7.373)\t(16.293, 15.908)\t\n",
      "Weight \t 1.8021826694558578\t(79.516, 20.796)\t(76.743, 16.624)\t(86.532, 27.993)\t\n",
      "CSRU \t 1.8021826694558578\t(0.149, 0.356)\t(0.531, 0.500)\t(0.069, 0.254)\t\n",
      "DiasABP_first \t 1.8021826694558578\t(60.982, 11.503)\t(58.228, 10.176)\t(66.495, 17.162)\t\n",
      "Glucose_first \t 1.8021826694558578\t(145.091, 61.474)\t(125.820, 37.741)\t(169.663, 100.399)\t\n",
      "HR_first \t 1.8021826694558578\t(87.700, 19.574)\t(84.912, 14.207)\t(94.642, 22.493)\t\n",
      "MAP_first \t 1.8021826694558578\t(82.170, 20.109)\t(78.056, 13.326)\t(91.751, 36.996)\t\n",
      "NIDiasABP_first \t 1.8021826694558578\t(60.694, 16.493)\t(54.780, 12.313)\t(63.781, 19.455)\t\n",
      "NIMAP_first \t 1.8021826694558578\t(79.605, 16.585)\t(72.893, 12.603)\t(83.478, 20.454)\t\n",
      "NISysABP_first \t 1.8021826694558578\t(122.011, 24.890)\t(112.434, 19.377)\t(126.570, 29.302)\t\n",
      "SaO2_first \t 1.8021826694558578\t(96.958, 1.392)\t(97.407, 1.385)\t(95.793, 6.767)\t\n",
      "GCS_last \t 1.8021826694558578\t(12.950, 2.958)\t(14.545, 1.196)\t(10.345, 4.178)\t\n",
      "SaO2_lowest \t 1.8021826694558578\t(95.316, 2.423)\t(95.633, 2.208)\t(93.823, 8.299)\t\n",
      "DiasABP_highest \t 1.8021826694558578\t(82.312, 14.830)\t(78.723, 13.071)\t(88.107, 20.919)\t\n",
      "GCS_highest \t 1.8021826694558578\t(13.832, 2.091)\t(14.799, 0.720)\t(12.377, 3.268)\t\n",
      "Glucose_highest \t 1.8021826694558578\t(166.289, 69.270)\t(142.456, 44.602)\t(201.679, 113.551)\t\n",
      "HR_highest \t 1.8021826694558578\t(110.833, 21.740)\t(106.405, 18.103)\t(117.950, 23.697)\t\n",
      "MAP_highest \t 1.8021826694558578\t(116.132, 30.990)\t(109.452, 25.485)\t(126.712, 45.342)\t\n",
      "NIMAP_highest \t 1.8021826694558578\t(97.500, 18.499)\t(90.206, 14.356)\t(100.561, 20.775)\t\n",
      "NISysABP_highest \t 1.8021826694558578\t(145.190, 25.911)\t(135.504, 19.792)\t(149.205, 29.206)\t\n",
      "SaO2_highest \t 1.8021826694558578\t(97.831, 1.295)\t(98.207, 1.188)\t(97.085, 4.729)\t\n",
      "DiasABP_median \t 1.8021826694558578\t(59.270, 8.386)\t(56.328, 6.644)\t(62.122, 11.414)\t\n",
      "GCS_median \t 1.8021826694558578\t(12.399, 3.138)\t(13.872, 1.950)\t(10.337, 4.051)\t\n",
      "Glucose_median \t 1.8021826694558578\t(131.917, 34.881)\t(121.637, 24.180)\t(143.212, 45.277)\t\n",
      "HR_median \t 1.8021826694558578\t(84.973, 14.958)\t(83.493, 11.297)\t(89.671, 16.580)\t\n",
      "MAP_median \t 1.8021826694558578\t(79.887, 10.433)\t(75.488, 8.160)\t(83.288, 18.250)\t\n",
      "SaO2_median \t 1.8021826694558578\t(97.050, 1.262)\t(97.341, 1.316)\t(96.109, 5.111)\t\n",
      "Albumin_first \t 1.8021826694558578\t(3.055, 0.632)\t(3.077, 0.396)\t(2.867, 0.786)\t\n",
      "BUN_first \t 1.8021826694558578\t(23.797, 17.381)\t(16.946, 9.424)\t(33.959, 27.948)\t\n",
      "Creatinine_first \t 1.8021826694558578\t(1.166, 0.868)\t(0.872, 0.460)\t(1.894, 2.113)\t\n",
      "Lactate_first \t 1.8021826694558578\t(2.323, 1.454)\t(2.273, 1.111)\t(3.036, 2.913)\t\n",
      "PaO2_first \t 1.8021826694558578\t(202.791, 112.350)\t(263.052, 121.020)\t(164.993, 119.954)\t\n",
      "SysABP_first \t 1.8021826694558578\t(122.539, 22.803)\t(115.922, 18.220)\t(130.613, 34.139)\t\n",
      "Weight_first \t 1.8021826694558578\t(82.087, 21.126)\t(80.737, 17.480)\t(89.086, 30.086)\t\n",
      "pH_first \t 1.8021826694558578\t(7.377, 0.079)\t(7.392, 0.070)\t(7.344, 0.112)\t\n",
      "Albumin_last \t 1.8021826694558578\t(3.019, 0.624)\t(3.043, 0.398)\t(2.829, 0.773)\t\n",
      "BUN_last \t 1.8021826694558578\t(22.226, 15.438)\t(17.270, 9.372)\t(33.909, 26.605)\t\n",
      "Creatinine_last \t 1.8021826694558578\t(1.134, 0.869)\t(0.935, 0.466)\t(1.884, 1.986)\t\n",
      "HCO3_last \t 1.8021826694558578\t(24.685, 3.966)\t(24.905, 2.997)\t(23.442, 5.069)\t\n",
      "Lactate_last \t 1.8021826694558578\t(1.750, 0.830)\t(1.769, 0.698)\t(2.244, 2.329)\t\n",
      "Weight_last \t 1.8021826694558578\t(82.618, 20.801)\t(81.591, 17.133)\t(89.643, 29.638)\t\n",
      "pH_last \t 1.8021826694558578\t(7.404, 0.053)\t(7.409, 0.044)\t(7.387, 0.075)\t\n",
      "MechVentDuration \t 1.8021826694558578\t(1999.194, 745.855)\t(1383.439, 880.888)\t(2192.579, 813.515)\t\n",
      "MechVentLast8Hour \t 1.8021826694558578\t(0.642, 0.438)\t(0.253, 0.467)\t(0.852, 0.376)\t\n",
      "UrineOutputSum \t 1.8021826694558578\t(12.842, 5.143)\t(9.033, 5.319)\t(14.069, 6.016)\t\n",
      "MechVentStartTime \t 1.8021826694558571\t(270.357, 384.535)\t(181.143, 174.787)\t(370.115, 662.956)\t\n",
      "Temp_highest \t 1.8021826694558472\t(37.863, 0.734)\t(37.831, 0.566)\t(38.058, 0.844)\t\n",
      "HCT_first \t 1.802182669455823\t(32.185, 5.850)\t(30.081, 5.290)\t(32.957, 6.359)\t\n",
      "WBC_last \t 1.8021826694556684\t(11.759, 3.871)\t(11.422, 3.258)\t(13.412, 9.502)\t\n",
      "WBC_first \t 1.8021826694554453\t(12.332, 4.650)\t(11.791, 3.771)\t(14.225, 11.303)\t\n",
      "NIDiasABP_highest \t 1.8021826694544238\t(80.384, 19.154)\t(73.171, 15.447)\t(82.498, 20.803)\t\n",
      "Glucose_last \t 1.802182669453762\t(127.327, 37.057)\t(119.999, 27.391)\t(135.237, 50.614)\t\n",
      "RespRate_median \t 1.8021826692410365\t(19.252, 4.186)\t(18.785, 2.772)\t(20.087, 4.494)\t\n",
      "DiasABP_lowest \t 1.8021826581191238\t(44.495, 9.199)\t(42.255, 6.932)\t(46.025, 12.122)\t\n",
      "HR_lowest \t 1.8021826538687247\t(67.589, 13.898)\t(66.902, 10.998)\t(70.762, 15.785)\t\n",
      "HR_last \t 1.8021825417944168\t(84.990, 16.762)\t(83.644, 14.267)\t(88.546, 18.923)\t\n",
      "Bilirubin_last \t 1.802182441538236\t(1.414, 1.736)\t(1.654, 0.899)\t(2.614, 7.145)\t\n",
      "SaO2_last \t 1.8021819484763377\t(96.776, 1.380)\t(96.868, 1.634)\t(95.979, 5.357)\t\n",
      "DiasABP_last \t 1.8021819021034131\t(61.476, 12.520)\t(57.917, 11.417)\t(63.216, 15.798)\t\n",
      "GCS_lowest \t 1.8021816597294746\t(9.277, 4.773)\t(7.811, 4.951)\t(7.525, 4.556)\t\n",
      "Platelets_first \t 1.802177924754897\t(221.195, 106.457)\t(185.075, 78.450)\t(232.142, 134.401)\t\n",
      "HCO3_first \t 1.8021405958011725\t(23.553, 4.257)\t(23.542, 3.008)\t(22.507, 5.671)\t\n",
      "RespRate_highest \t 1.8007228112195381\t(28.978, 7.226)\t(28.273, 4.783)\t(30.303, 9.085)\t\n",
      "NIMAP_median \t 1.799904822672144\t(76.409, 12.050)\t(72.805, 8.509)\t(77.543, 14.507)\t\n",
      "Bilirubin_first \t 1.7979510366780287\t(1.444, 1.702)\t(1.640, 0.860)\t(2.466, 6.884)\t\n",
      "RespRate_first \t 1.796477497623889\t(19.929, 5.634)\t(19.303, 3.860)\t(20.966, 7.637)\t\n",
      "ALP_first \t 1.78297626291501\t(95.655, 41.760)\t(98.928, 27.349)\t(120.107, 172.809)\t\n",
      "RespRate_last \t 1.7213345310740398\t(19.643, 5.722)\t(19.231, 3.828)\t(20.590, 6.341)\t\n",
      "ALP_last \t 1.6901087769857477\t(94.489, 40.658)\t(97.437, 26.391)\t(118.117, 175.599)\t\n",
      "AST_last \t 1.6171274562205824\t(139.390, 205.249)\t(175.847, 109.917)\t(331.604, 1451.145)\t\n",
      "ALT_last \t 1.6119368737593396\t(113.876, 231.928)\t(141.538, 104.290)\t(254.975, 1048.849)\t\n",
      "AST_first \t 1.5952755475650102\t(142.340, 219.084)\t(178.764, 121.005)\t(338.470, 1492.962)\t\n",
      "MAP_last \t 1.5553394221347716\t(82.762, 16.707)\t(78.505, 15.277)\t(84.626, 23.281)\t\n",
      "NISysABP_median \t 1.5500377658711981\t(118.623, 18.703)\t(113.039, 13.543)\t(119.862, 21.817)\t\n",
      "HCT_last \t 1.488664238410088\t(31.182, 4.643)\t(29.647, 4.202)\t(31.396, 4.832)\t\n",
      "ALT_first \t 1.3737624690090522\t(103.096, 182.778)\t(127.188, 103.198)\t(224.349, 986.831)\t\n",
      "NIDiasABP_median \t 1.2830782326269201\t(57.309, 12.056)\t(54.207, 8.767)\t(58.066, 13.717)\t\n",
      "CCU \t 1.2682861174927582\t(0.169, 0.375)\t(0.056, 0.231)\t(0.181, 0.385)\t\n",
      "RespRate_lowest \t 1.2656167109896799\t(12.260, 3.774)\t(11.943, 2.536)\t(12.699, 3.439)\t\n",
      "PaCO2_first \t 1.227351357694167\t(41.163, 8.952)\t(40.400, 6.889)\t(42.626, 13.732)\t\n",
      "TroponinT_first \t 1.2016968916165904\t(0.819, 1.131)\t(0.971, 0.658)\t(1.376, 4.632)\t\n",
      "FiO2_last \t 1.18596815110866\t(0.491, 0.142)\t(0.488, 0.131)\t(0.516, 0.186)\t\n",
      "TroponinT_last \t 1.1819196645851433\t(0.823, 1.175)\t(0.891, 0.572)\t(1.245, 3.656)\t\n",
      "Temp_last \t 1.1221256068077863\t(37.016, 0.678)\t(36.983, 0.570)\t(37.118, 0.849)\t\n",
      "Mg_last \t 1.1188403953573531\t(2.041, 0.276)\t(2.013, 0.240)\t(2.079, 0.385)\t\n",
      "TroponinI_last \t 1.0923586963907608\t(5.801, 3.783)\t(6.013, 2.088)\t(7.395, 14.890)\t\n",
      "Na_last \t 1.0481447536705222\t(139.155, 4.130)\t(137.825, 3.522)\t(139.254, 4.833)\t\n",
      "Temp_first \t 1.0170953846029898\t(36.642, 0.978)\t(36.330, 0.843)\t(36.668, 1.195)\t\n",
      "MAP_lowest \t 0.984793216872115\t(58.547, 13.864)\t(56.069, 10.215)\t(59.961, 21.507)\t\n",
      "Platelets_last \t 0.9276407732150492\t(198.958, 99.039)\t(170.451, 70.754)\t(201.695, 121.384)\t\n",
      "K_first \t 0.8290572497632948\t(4.098, 0.653)\t(4.199, 0.596)\t(4.238, 0.834)\t\n",
      "TroponinI_first \t 0.7808854979479829\t(6.502, 4.633)\t(6.867, 2.735)\t(8.038, 16.261)\t\n",
      "K_last \t 0.6726080288641882\t(4.008, 0.471)\t(4.091, 0.490)\t(4.106, 0.573)\t\n",
      "SysABP_last \t 0.6322533956701384\t(123.453, 21.564)\t(118.626, 20.611)\t(124.165, 26.979)\t\n",
      "Gender \t 0.5449196336202448\t(0.538, 0.498)\t(0.546, 0.498)\t(0.595, 0.491)\t\n",
      "Age \t 0.5430896762186856\t(65.146, 17.889)\t(64.722, 16.656)\t(63.088, 17.785)\t\n",
      "PaO2_last \t 0.4843694823278396\t(121.332, 50.921)\t(116.656, 43.875)\t(114.305, 53.521)\t\n",
      "Temp_median \t 0.31759126324249276\t(37.017, 0.560)\t(37.063, 0.441)\t(37.083, 0.713)\t\n",
      "SICU \t 0.21548764549303098\t(0.304, 0.459)\t(0.192, 0.397)\t(0.284, 0.450)\t\n",
      "NIMAP_lowest \t 0.21539238604281802\t(59.802, 12.634)\t(58.817, 8.974)\t(60.191, 15.488)\t\n",
      "Glucose_lowest \t 0.1620336399084257\t(109.909, 29.386)\t(105.401, 23.524)\t(109.541, 33.811)\t\n",
      "Height \t 0.14703364157548862\t(171.032, 14.200)\t(169.616, 17.539)\t(174.493, 133.888)\t\n",
      "Na_first \t 0.1468773266200358\t(139.016, 4.513)\t(138.689, 3.412)\t(138.649, 5.545)\t\n",
      "NIDiasABP_lowest \t 0.12756367495808593\t(40.895, 12.552)\t(40.196, 9.458)\t(41.163, 14.815)\t\n",
      "Cholesterol_first \t 0.1268892758384502\t(155.643, 35.662)\t(156.083, 16.536)\t(157.868, 65.128)\t\n",
      "Cholesterol_last \t 0.12442174028985112\t(155.539, 35.730)\t(156.083, 16.487)\t(157.776, 64.859)\t\n",
      "GCS_first \t 0.12380096351225174\t(10.979, 4.557)\t(8.553, 5.183)\t(10.162, 4.745)\t\n",
      "PaCO2_last \t 0.11943944238535618\t(39.977, 7.276)\t(39.883, 5.551)\t(40.292, 10.692)\t\n",
      "Temp_lowest \t 0.11217045555015798\t(35.934, 0.739)\t(35.855, 0.640)\t(35.867, 0.978)\t\n",
      "NISysABP_lowest \t 0.049754815080078625\t(94.870, 19.264)\t(93.149, 14.138)\t(94.582, 22.990)\t\n",
      "FiO2_first \t 0.03390096643445714\t(0.758, 0.243)\t(0.829, 0.237)\t(0.784, 0.267)\t\n",
      "NIDiasABP_last \t 0.03382083372878441\t(58.241, 15.012)\t(56.803, 12.538)\t(57.383, 16.302)\t\n",
      "NISysABP_last \t 0.033736190577554996\t(120.809, 22.253)\t(116.671, 17.142)\t(119.422, 24.995)\t\n",
      "NIMAP_last \t 0.017926801302070777\t(77.629, 15.090)\t(75.619, 11.969)\t(76.923, 16.796)\t\n",
      "Mg_first \t 0.009952101261323997\t(1.913, 0.357)\t(1.976, 0.370)\t(1.937, 0.622)\t\n"
     ]
    }
   ],
   "source": [
    "scaled_X_train = scale.inverse_transform(X_train)\n",
    "NHFD_Single_Cluster_Analysis(scaled_X_train, cluster_ids, column_names)"
   ]
  },
  {
   "cell_type": "code",
   "execution_count": 22,
   "id": "c6406008",
   "metadata": {},
   "outputs": [
    {
     "ename": "TypeError",
     "evalue": "WDFD_Single_Cluster_Analysis() missing 1 required positional argument: 'column_names'",
     "output_type": "error",
     "traceback": [
      "\u001b[0;31m---------------------------------------------------------------------------\u001b[0m",
      "\u001b[0;31mTypeError\u001b[0m                                 Traceback (most recent call last)",
      "\u001b[0;32m/var/folders/s4/8ld2kcdn6l143yw8rwv3fx9r0000gn/T/ipykernel_86948/3299654390.py\u001b[0m in \u001b[0;36m<module>\u001b[0;34m\u001b[0m\n\u001b[0;32m----> 1\u001b[0;31m \u001b[0mWDFD_Single_Cluster_Analysis\u001b[0m\u001b[0;34m(\u001b[0m\u001b[0mX_train\u001b[0m\u001b[0;34m,\u001b[0m \u001b[0mcluster_ids\u001b[0m\u001b[0;34m,\u001b[0m \u001b[0mcolumn_names\u001b[0m\u001b[0;34m)\u001b[0m\u001b[0;34m\u001b[0m\u001b[0;34m\u001b[0m\u001b[0m\n\u001b[0m",
      "\u001b[0;31mTypeError\u001b[0m: WDFD_Single_Cluster_Analysis() missing 1 required positional argument: 'column_names'"
     ]
    }
   ],
   "source": [
    "WDFD_Single_Cluster_Analysis(X_train, cluster_ids, column_names)"
   ]
  },
  {
   "cell_type": "markdown",
   "id": "2c29171a",
   "metadata": {},
   "source": [
    "## Local Training"
   ]
  },
  {
   "cell_type": "code",
   "execution_count": 36,
   "id": "16d7e2af",
   "metadata": {},
   "outputs": [
    {
     "name": "stdout",
     "output_type": "stream",
     "text": [
      "\n",
      "####################################################################################\n",
      "\n",
      "Training Local Networks\n",
      "Loading Best model with score:  [0.6683939373227162, 0.8642793206793207]\n",
      "\n",
      "[ 32/100] train_loss: 0.119 valid_loss: 0.287 valid_F1: 0.401 valid_AUC: 0.866 valid_Sil: 0.282\n",
      "\n",
      "[ 32/100] train_loss: 0.118 valid_loss: 0.286 valid_F1: 0.438 valid_AUC: 0.866 valid_Sil: 0.282\n",
      "EarlyStopping counter: 1 out of 7\n",
      "\n",
      "[ 32/100] train_loss: 0.118 valid_loss: 0.286 valid_F1: 0.502 valid_AUC: 0.866 valid_Sil: 0.282\n",
      "EarlyStopping counter: 2 out of 7\n",
      "\n",
      "[ 32/100] train_loss: 0.118 valid_loss: 0.288 valid_F1: 0.456 valid_AUC: 0.865 valid_Sil: 0.282\n",
      "EarlyStopping counter: 3 out of 7\n",
      "\n",
      "[ 32/100] train_loss: 0.116 valid_loss: 0.288 valid_F1: 0.506 valid_AUC: 0.865 valid_Sil: 0.282\n",
      "EarlyStopping counter: 4 out of 7\n",
      "\n",
      "[ 32/100] train_loss: 0.117 valid_loss: 0.287 valid_F1: 0.502 valid_AUC: 0.865 valid_Sil: 0.282\n",
      "EarlyStopping counter: 5 out of 7\n",
      "\n",
      "[ 32/100] train_loss: 0.116 valid_loss: 0.288 valid_F1: 0.445 valid_AUC: 0.864 valid_Sil: 0.282\n",
      "EarlyStopping counter: 6 out of 7\n",
      "\n",
      "[ 32/100] train_loss: 0.120 valid_loss: 0.290 valid_F1: 0.404 valid_AUC: 0.864 valid_Sil: 0.282\n",
      "EarlyStopping counter: 7 out of 7\n",
      "\n",
      "Cluster Wise discriminative features (NHFD)\n"
     ]
    },
    {
     "ename": "NameError",
     "evalue": "name 'mifd_scores' is not defined",
     "output_type": "error",
     "traceback": [
      "\u001b[0;31m---------------------------------------------------------------------------\u001b[0m",
      "\u001b[0;31mNameError\u001b[0m                                 Traceback (most recent call last)",
      "\u001b[0;32m/var/folders/s4/8ld2kcdn6l143yw8rwv3fx9r0000gn/T/ipykernel_35100/513432288.py\u001b[0m in \u001b[0;36m<module>\u001b[0;34m\u001b[0m\n\u001b[1;32m    132\u001b[0m         \u001b[0msil_scores\u001b[0m\u001b[0;34m.\u001b[0m\u001b[0mappend\u001b[0m\u001b[0;34m(\u001b[0m\u001b[0msilhouette_new\u001b[0m\u001b[0;34m(\u001b[0m\u001b[0mz_train\u001b[0m\u001b[0;34m.\u001b[0m\u001b[0mdata\u001b[0m\u001b[0;34m.\u001b[0m\u001b[0mcpu\u001b[0m\u001b[0;34m(\u001b[0m\u001b[0;34m)\u001b[0m\u001b[0;34m.\u001b[0m\u001b[0mnumpy\u001b[0m\u001b[0;34m(\u001b[0m\u001b[0;34m)\u001b[0m\u001b[0;34m,\u001b[0m \u001b[0mcluster_ids_train\u001b[0m\u001b[0;34m.\u001b[0m\u001b[0mdata\u001b[0m\u001b[0;34m.\u001b[0m\u001b[0mcpu\u001b[0m\u001b[0;34m(\u001b[0m\u001b[0;34m)\u001b[0m\u001b[0;34m.\u001b[0m\u001b[0mnumpy\u001b[0m\u001b[0;34m(\u001b[0m\u001b[0;34m)\u001b[0m\u001b[0;34m,\u001b[0m \u001b[0mmetric\u001b[0m\u001b[0;34m=\u001b[0m\u001b[0;34m'euclidean'\u001b[0m\u001b[0;34m)\u001b[0m\u001b[0;34m)\u001b[0m\u001b[0;34m\u001b[0m\u001b[0;34m\u001b[0m\u001b[0m\n\u001b[1;32m    133\u001b[0m         \u001b[0mnhfd_scores\u001b[0m\u001b[0;34m.\u001b[0m\u001b[0mappend\u001b[0m\u001b[0;34m(\u001b[0m\u001b[0mcalculate_nhfd\u001b[0m\u001b[0;34m(\u001b[0m\u001b[0mX_train\u001b[0m\u001b[0;34m,\u001b[0m  \u001b[0mcluster_ids_train\u001b[0m\u001b[0;34m)\u001b[0m\u001b[0;34m)\u001b[0m\u001b[0;34m\u001b[0m\u001b[0;34m\u001b[0m\u001b[0m\n\u001b[0;32m--> 134\u001b[0;31m         \u001b[0mmifd_scores\u001b[0m\u001b[0;34m.\u001b[0m\u001b[0mappend\u001b[0m\u001b[0;34m(\u001b[0m\u001b[0mcalculate_MIFD\u001b[0m\u001b[0;34m(\u001b[0m\u001b[0mX_train\u001b[0m\u001b[0;34m,\u001b[0m  \u001b[0mcluster_ids_train\u001b[0m\u001b[0;34m)\u001b[0m\u001b[0;34m)\u001b[0m\u001b[0;34m\u001b[0m\u001b[0;34m\u001b[0m\u001b[0m\n\u001b[0m\u001b[1;32m    135\u001b[0m         \u001b[0;31m# model_complexity.append(calculate_bound(model, B, len(z_train)))\u001b[0m\u001b[0;34m\u001b[0m\u001b[0;34m\u001b[0m\u001b[0;34m\u001b[0m\u001b[0m\n\u001b[1;32m    136\u001b[0m         \u001b[0;32mbreak\u001b[0m\u001b[0;34m\u001b[0m\u001b[0;34m\u001b[0m\u001b[0m\n",
      "\u001b[0;31mNameError\u001b[0m: name 'mifd_scores' is not defined"
     ]
    }
   ],
   "source": [
    "print(\"\\n####################################################################################\\n\")\n",
    "print(\"Training Local Networks\")\n",
    "model = es.load_checkpoint(model)\n",
    "\n",
    "es = EarlyStoppingCAC(dataset=suffix)\n",
    "\n",
    "qs, z_train = model(torch.FloatTensor(np.array(X_train)).to(args.device), output=\"latent\")\n",
    "q_train = qs[0]\n",
    "cluster_id_train = torch.argmax(q_train, axis=1)\n",
    "\n",
    "# X_latents_data_loader = list(zip(z_train, cluster_id_train, y_train))\n",
    "X_latents_data_loader = list(zip(z_train.to(args.device),q_train, y_train))\n",
    "\n",
    "train_loader_latents = torch.utils.data.DataLoader(X_latents_data_loader,\n",
    "    batch_size=1024, shuffle=False)\n",
    "\n",
    "B = []\n",
    "\n",
    "# plot(model, torch.FloatTensor(np.array(X_train)).to(args.device), y_train,\\\n",
    "#      torch.FloatTensor(np.array(X_test)).to(args.device), y_test)\n",
    "\n",
    "# Post clustering training\n",
    "for e in range(N_EPOCHS):\n",
    "    epoch_loss = 0\n",
    "    epoch_acc = 0\n",
    "    epoch_f1 = 0\n",
    "    acc = 0\n",
    "\n",
    "    # model.ae.train() # prep model for evaluation\n",
    "    for j in range(model.n_clusters):\n",
    "        model.classifiers[j][0].train()\n",
    "\n",
    "    # Full training of local networks\n",
    "    for batch_idx, (X_latents, q_batch, y_batch) in enumerate(train_loader_latents):\n",
    "        # torch.autograd.set_detect_anomaly(True)\n",
    "\n",
    "        classifier_labels = np.zeros(len(X_latents))\n",
    "        # Choose classifier for a point probabilistically\n",
    "        if args.attention == True:\n",
    "            for j in range(len(X_latents)):\n",
    "                classifier_labels[j] = np.random.choice(range(args.n_clusters), p = q_batch[j].detach().numpy())\n",
    "        else:\n",
    "            classifier_labels = torch.argmax(q_batch, axis=1).data.cpu().numpy()\n",
    "\n",
    "        for k in range(args.n_clusters):\n",
    "            idx_cluster = np.where(classifier_labels == k)[0]\n",
    "            X_cluster = X_latents[idx_cluster]\n",
    "            y_cluster = y_batch[idx_cluster]\n",
    "\n",
    "            classifier_k, optimizer_k = model.classifiers[k]\n",
    "            # Do not backprop the error to encoder\n",
    "            y_pred_cluster = classifier_k(X_cluster.detach())\n",
    "            cluster_loss = torch.mean(criterion(y_pred_cluster, y_cluster))\n",
    "            optimizer_k.zero_grad()\n",
    "            cluster_loss.backward(retain_graph=True)\n",
    "            optimizer_k.step()\n",
    "\n",
    "    # model.ae.eval() # prep model for evaluation\n",
    "    for j in range(model.n_clusters):\n",
    "        model.classifiers[j][0].eval()\n",
    "\n",
    "    train_preds = torch.zeros((len(z_train), 2))\n",
    "    train_loss = 0\n",
    "\n",
    "    # Weighted predictions\n",
    "    q_train, z_train = model(torch.FloatTensor(X_train).to(args.device), output=\"latent\")\n",
    "    q_train = q_train[0]\n",
    "    cluster_ids_train = torch.argmax(q_train, axis=1)\n",
    "\n",
    "    for j in range(model.n_clusters):\n",
    "        cluster_id = np.where(cluster_ids_train == j)[0]\n",
    "        X_cluster = z_train\n",
    "        y_cluster = torch.Tensor(y_train[cluster_id]).type(torch.LongTensor)\n",
    "\n",
    "        # Ensemble train loss\n",
    "        cluster_preds = model.classifiers[j][0](X_cluster)\n",
    "        train_preds[:,0] += q_train[:,j]*cluster_preds[:,0]\n",
    "        train_preds[:,1] += q_train[:,j]*cluster_preds[:,1]\n",
    "\n",
    "        X_cluster = z_train[cluster_id]\n",
    "        cluster_preds = model.classifiers[j][0](X_cluster)\n",
    "        train_loss += torch.sum(q_train[cluster_id,j]*criterion(cluster_preds, y_cluster))\n",
    "        # B.append(torch.max(torch.linalg.norm(X_cluster, axis=1), axis=0).values)\n",
    "\n",
    "\n",
    "    train_loss /= len(z_train)\n",
    "    e_train_loss = torch.mean(criterion(train_preds, torch.Tensor(y_train).type(torch.LongTensor)))\n",
    "\n",
    "    # Evaluate model on Validation set\n",
    "    qs, z_val = model(torch.FloatTensor(X_val).to(args.device), output=\"latent\")\n",
    "    q_val = qs[0]\n",
    "    cluster_ids_val = torch.argmax(q_val, axis=1)\n",
    "    preds = torch.zeros((len(z_val), 2))\n",
    "\n",
    "    # Weighted predictions\n",
    "    for j in range(model.n_clusters):\n",
    "        cluster_id = np.where(cluster_ids_val == j)[0]\n",
    "        X_cluster = z_val\n",
    "        cluster_preds = model.classifiers[j][0](X_cluster)\n",
    "        preds[:,0] += q_val[:,j]*cluster_preds[:,0]\n",
    "        preds[:,1] += q_val[:,j]*cluster_preds[:,1]\n",
    "\n",
    "    val_f1  = f1_score(y_val, np.argmax(preds.detach().numpy(), axis=1))\n",
    "    val_auc = roc_auc_score(y_val, preds[:,1].detach().numpy())\n",
    "    val_sil = silhouette_new(z_val.data.cpu().numpy(), cluster_ids_val.data.cpu().numpy(), metric='euclidean')\n",
    "\n",
    "    val_loss = torch.mean(criterion(preds, torch.Tensor(y_val).type(torch.LongTensor)))\n",
    "    # record validation loss\n",
    "    # valid_losses.append(loss.item())\n",
    "\n",
    "    # calculate average loss over an epoch\n",
    "    # valid_loss = np.average(valid_losses)\n",
    "    # avg_valid_losses.append(valid_loss)\n",
    "\n",
    "    epoch_len = len(str(N_EPOCHS))\n",
    "\n",
    "    print_msg = (f'\\n[{epoch:>{epoch_len}}/{N_EPOCHS:>{epoch_len}}] ' +\n",
    "                 f'train_loss: {train_loss:.3f} ' +\n",
    "                 f'valid_loss: {val_loss:.3f} '  +\n",
    "                 f'valid_F1: {val_f1:.3f} '  +\n",
    "                 f'valid_AUC: {val_auc:.3f} ' +\n",
    "                 f'valid_Sil: {val_sil:.3f}')\n",
    "\n",
    "    print(print_msg)\n",
    "\n",
    "    # early_stopping needs the validation loss to check if it has decresed, \n",
    "    # and if it has, it will make a checkpoint of the current model\n",
    "    es([val_f1, val_auc], model)\n",
    "    if es.early_stop == True:\n",
    "        train_losses.append(train_loss.item())\n",
    "        e_train_losses.append(e_train_loss.item())\n",
    "        sil_scores.append(silhouette_new(z_train.data.cpu().numpy(), cluster_ids_train.data.cpu().numpy(), metric='euclidean'))\n",
    "        nhfd_scores.append(calculate_nhfd(X_train,  cluster_ids_train))\n",
    "        mifd_scores.append(calculate_MIFD(X_train,  cluster_ids_train))\n",
    "        # model_complexity.append(calculate_bound(model, B, len(z_train)))\n",
    "        break\n"
   ]
  },
  {
   "cell_type": "markdown",
   "id": "e49629bb",
   "metadata": {},
   "source": [
    "## Evaluating on Test Data"
   ]
  },
  {
   "cell_type": "code",
   "execution_count": 39,
   "id": "fc6cdc82",
   "metadata": {},
   "outputs": [
    {
     "name": "stdout",
     "output_type": "stream",
     "text": [
      "\n",
      "####################################################################################\n",
      "\n",
      "Evaluating Test Data with k =  3  Attention =  True\n",
      "Loading Best model with score:  [0.40086206896551724, 0.8659676323676324]\n",
      "\n",
      "Cluster Wise discriminative features (NHFD)\n",
      "Loss Metrics - Test Loss 0.310, E-Test Loss 0.303, Local Sum Test Loss 0.150\n",
      "Clustering Metrics     - Acc 0.0000 , nmi 0.0000 , ari 0.0000, NHFD 0.799\n",
      "Classification Metrics - Test F1 0.414, Test AUC 0.849, Test ACC 0.877 , E-Test F1 0.423, E-Test AUC 0.856, E-Test ACC 0.876\n",
      "\n",
      "\n",
      "\n",
      "\n",
      "Test F1:  [0.68525498064029, 0.4234930448222566, 0.4234930448222566, 0.4234930448222566]\n",
      "Test AUC:  [0.8386392457958459, 0.8560595049490559, 0.8560595049490559, 0.8560595049490559]\n",
      "Sil scores:  [0.29376414, 0.29376414]\n",
      "NHFD:  [1.0664045584045592, 1.0664045584045592]\n",
      "MIFD:  []\n",
      "Train Loss:  [[17.892, 4.283], [14.674, 3.287], [11.0, 2.674], [10.67, 2.424], [10.195, 2.303], [10.074, 2.232], [10.273, 2.127], [9.721, 2.066], [10.049, 2.025], [9.982, 2.009], [10.103, 2.033], [9.789, 1.913], [9.809, 1.802], [9.698, 1.753], [10.036, 1.812], [10.998, 1.421], [9.815, 1.729], [10.08, 1.533], [8.903, 1.317], [8.677, 1.341], [8.989, 1.484], [9.193, 1.587], [9.266, 1.282], [9.106, 1.163], [9.291, 1.506], [9.673, 1.342], [8.845, 1.165], [8.364, 1.111], [9.591, 1.407], [10.189, 1.151], [8.648, 0.968], [8.114, 0.969], 0.11977297067642212]\n",
      "E-Train Loss:  [0.24700959026813507]\n",
      "Test Loss:  [0.31573328375816345, 0.3102920651435852, 0.3102920651435852, 0.3102920651435852]\n",
      "E-Test Loss:  [0.3070422410964966, 0.3029434084892273, 0.3029434084892273, 0.3029434084892273]\n",
      "Local Test Loss:  [0.15196162462234497, 0.14956516027450562, 0.14956516027450562, 0.14956516027450562]\n",
      "Model Complexity:  []\n",
      "Dataset\tk\tF1\tAUC\tACC\tSIL\tNHFD\tMIFD\tW-NHFD\n",
      "cic\t3\t0.489\t0.852\t0.873\t0.294\t1.066\tnan\n",
      "\n",
      "\n"
     ]
    },
    {
     "name": "stderr",
     "output_type": "stream",
     "text": [
      "/Users/shivin/miniconda/lib/python3.8/site-packages/numpy/lib/function_base.py:380: RuntimeWarning: Mean of empty slice.\n",
      "  avg = a.mean(axis)\n",
      "/Users/shivin/miniconda/lib/python3.8/site-packages/numpy/core/_methods.py:188: RuntimeWarning: invalid value encountered in double_scalars\n",
      "  ret = ret.dtype.type(ret / rcount)\n"
     ]
    }
   ],
   "source": [
    "print(\"\\n####################################################################################\\n\")\n",
    "print(\"Evaluating Test Data with k = \", args.n_clusters, \" Attention = \", args.attention)\n",
    "\n",
    "# Load best model trained from local training phase\n",
    "model = es.load_checkpoint(model)\n",
    "\n",
    "# # Evaluate model on Test dataset\n",
    "qs, z_test = model(torch.FloatTensor(X_test).to(args.device), output=\"latent\")\n",
    "q_test = qs[0]\n",
    "cluster_ids = torch.argmax(q_test, axis=1)\n",
    "# cluster_ids = np.argmax(distance_matrix(z_test.data.cpu().numpy(), model.cluster_layer.data.cpu().numpy()), axis=1)\n",
    "test_preds_e = torch.zeros((len(z_test), 2))\n",
    "\n",
    "test_loss = 0\n",
    "e_test_loss = 0\n",
    "local_sum_loss = 0\n",
    "\n",
    "# Weighted predictions\n",
    "for j in range(model.n_clusters):\n",
    "    cluster_id = np.where(cluster_ids == j)[0]\n",
    "    X_cluster = z_test\n",
    "    cluster_test_preds = model.classifiers[j][0](X_cluster)\n",
    "    test_preds_e[:,0] += q_test[:,j]*cluster_test_preds[:,0]\n",
    "    test_preds_e[:,1] += q_test[:,j]*cluster_test_preds[:,1]\n",
    "\n",
    "e_test_loss = torch.mean(criterion(test_preds_e, torch.Tensor(y_test).type(torch.LongTensor)))\n",
    "e_test_f1 = f1_score(y_test, np.argmax(test_preds_e.detach().numpy(), axis=1))\n",
    "e_test_auc = roc_auc_score(y_test, test_preds_e[:,1].detach().numpy())\n",
    "e_test_acc = accuracy_score(y_test, np.argmax(test_preds_e.detach().numpy(), axis=1))\n",
    "e_test_nhfd = calculate_nhfd(X_test, cluster_ids)\n",
    "\n",
    "test_preds = torch.zeros((len(z_test), 2))\n",
    "\n",
    "# Hard local predictions\n",
    "for j in range(model.n_clusters):\n",
    "    cluster_id = np.where(cluster_ids == j)[0]\n",
    "    X_cluster = z_test[cluster_id]\n",
    "    y_cluster = torch.Tensor(y_test[cluster_id]).type(torch.LongTensor)\n",
    "    cluster_test_preds = model.classifiers[j][0](X_cluster)\n",
    "    test_preds[cluster_id,:] = cluster_test_preds\n",
    "    local_sum_loss += torch.sum(q_test[cluster_id,j]*criterion(cluster_test_preds, y_cluster))\n",
    "\n",
    "test_f1 = f1_score(y_test, np.argmax(test_preds.detach().numpy(), axis=1))\n",
    "test_auc = roc_auc_score(y_test, test_preds[:,1].detach().numpy())\n",
    "test_acc = accuracy_score(y_test, np.argmax(test_preds.detach().numpy(), axis=1))\n",
    "test_loss = torch.mean(criterion(test_preds, torch.Tensor(y_test).type(torch.LongTensor)))\n",
    "local_sum_loss /= len(X_test)\n",
    "\n",
    "test_losses.append(test_loss.item())\n",
    "e_test_losses.append(e_test_loss.item())\n",
    "local_sum_test_losses.append(local_sum_loss.item())\n",
    "\n",
    "# enablePrint()\n",
    "# print(\"Run #{}\".format(r))\n",
    "\n",
    "print('Loss Metrics - Test Loss {:.3f}, E-Test Loss {:.3f}, Local Sum Test Loss {:.3f}'.format(test_loss, e_test_loss, local_sum_loss))\n",
    "\n",
    "print('Clustering Metrics     - Acc {:.4f}'.format(acc), ', nmi {:.4f}'.format(nmi),\\\n",
    "      ', ari {:.4f}, NHFD {:.3f}'.format(ari, e_test_nhfd))\n",
    "\n",
    "print('Classification Metrics - Test F1 {:.3f}, Test AUC {:.3f}, Test ACC {:.3f}'.format(test_f1, test_auc, test_acc),\\\n",
    "    ', E-Test F1 {:.3f}, E-Test AUC {:.3f}, E-Test ACC {:.3f}'.format(e_test_f1, e_test_auc, e_test_acc))\n",
    "\n",
    "print(\"\\n\")\n",
    "f1_scores.append(e_test_f1)\n",
    "auc_scores.append(e_test_auc)\n",
    "# acc_scores.append(e_test_acc)\n",
    "mifd_scores = []\n",
    "print(\"\\n\")\n",
    "print(\"Test F1: \", f1_scores)\n",
    "print(\"Test AUC: \", auc_scores)\n",
    "\n",
    "print(\"Sil scores: \", sil_scores)\n",
    "print(\"NHFD: \", nhfd_scores)\n",
    "print(\"MIFD: \", mifd_scores)\n",
    "\n",
    "print(\"Train Loss: \", train_losses)\n",
    "print(\"E-Train Loss: \", e_train_losses)\n",
    "\n",
    "print(\"Test Loss: \", test_losses)\n",
    "print(\"E-Test Loss: \", e_test_losses)\n",
    "print(\"Local Test Loss: \", local_sum_test_losses)\n",
    "\n",
    "print(\"Model Complexity: \", model_complexity)\n",
    "\n",
    "# enablePrint()\n",
    "print(\"Dataset\\tk\\tF1\\tAUC\\tACC\\tSIL\\tNHFD\\tMIFD\\tW-NHFD\")\n",
    "\n",
    "print(\"{}\\t{}\\t{:.3f}\\t{:.3f}\\t{:.3f}\\t{:.3f}\\t{:.3f}\\t{:.3f}\".format\\\n",
    "    (args.dataset, args.n_clusters, np.average(f1_scores), np.average(auc_scores),\\\n",
    "    np.average(acc_scores), np.average(sil_scores), np.average(nhfd_scores),\\\n",
    "    np.average(mifd_scores), np.average(w_nhfd_scores)))\n",
    "\n",
    "print(\"\\n\")"
   ]
  },
  {
   "cell_type": "markdown",
   "id": "e8351ea7",
   "metadata": {},
   "source": [
    "### K-Means feature segregation ... "
   ]
  },
  {
   "cell_type": "code",
   "execution_count": 35,
   "id": "dda312cd",
   "metadata": {},
   "outputs": [
    {
     "ename": "NameError",
     "evalue": "name 'KMeans' is not defined",
     "output_type": "error",
     "traceback": [
      "\u001b[0;31m---------------------------------------------------------------------------\u001b[0m",
      "\u001b[0;31mNameError\u001b[0m                                 Traceback (most recent call last)",
      "\u001b[0;32m/var/folders/s4/8ld2kcdn6l143yw8rwv3fx9r0000gn/T/ipykernel_86948/2472071341.py\u001b[0m in \u001b[0;36m<module>\u001b[0;34m\u001b[0m\n\u001b[1;32m      1\u001b[0m \u001b[0;32mfrom\u001b[0m \u001b[0msklearn\u001b[0m\u001b[0;34m.\u001b[0m\u001b[0mmetrics\u001b[0m\u001b[0;34m.\u001b[0m\u001b[0mcluster\u001b[0m \u001b[0;32mimport\u001b[0m \u001b[0madjusted_rand_score\u001b[0m \u001b[0;32mas\u001b[0m \u001b[0mari_score\u001b[0m\u001b[0;34m\u001b[0m\u001b[0;34m\u001b[0m\u001b[0m\n\u001b[0;32m----> 2\u001b[0;31m \u001b[0mkm\u001b[0m \u001b[0;34m=\u001b[0m \u001b[0mKMeans\u001b[0m\u001b[0;34m(\u001b[0m\u001b[0mn_clusters\u001b[0m\u001b[0;34m=\u001b[0m\u001b[0margs\u001b[0m\u001b[0;34m.\u001b[0m\u001b[0mn_clusters\u001b[0m\u001b[0;34m,\u001b[0m \u001b[0mn_init\u001b[0m\u001b[0;34m=\u001b[0m\u001b[0;36m20\u001b[0m\u001b[0;34m)\u001b[0m\u001b[0;34m\u001b[0m\u001b[0;34m\u001b[0m\u001b[0m\n\u001b[0m\u001b[1;32m      3\u001b[0m \u001b[0mcluster_ids\u001b[0m \u001b[0;34m=\u001b[0m \u001b[0mtorch\u001b[0m\u001b[0;34m.\u001b[0m\u001b[0margmax\u001b[0m\u001b[0;34m(\u001b[0m\u001b[0mq_train\u001b[0m\u001b[0;34m,\u001b[0m \u001b[0maxis\u001b[0m\u001b[0;34m=\u001b[0m\u001b[0;36m1\u001b[0m\u001b[0;34m)\u001b[0m\u001b[0;34m.\u001b[0m\u001b[0mdata\u001b[0m\u001b[0;34m.\u001b[0m\u001b[0mcpu\u001b[0m\u001b[0;34m(\u001b[0m\u001b[0;34m)\u001b[0m\u001b[0;34m.\u001b[0m\u001b[0mnumpy\u001b[0m\u001b[0;34m(\u001b[0m\u001b[0;34m)\u001b[0m\u001b[0;34m\u001b[0m\u001b[0;34m\u001b[0m\u001b[0m\n\u001b[1;32m      4\u001b[0m \u001b[0mn_features\u001b[0m \u001b[0;34m=\u001b[0m \u001b[0mX_train\u001b[0m\u001b[0;34m.\u001b[0m\u001b[0mshape\u001b[0m\u001b[0;34m[\u001b[0m\u001b[0;36m1\u001b[0m\u001b[0;34m]\u001b[0m\u001b[0;34m\u001b[0m\u001b[0;34m\u001b[0m\u001b[0m\n\u001b[1;32m      5\u001b[0m \u001b[0mnmi_scores\u001b[0m \u001b[0;34m=\u001b[0m \u001b[0;34m{\u001b[0m\u001b[0;34m}\u001b[0m\u001b[0;34m\u001b[0m\u001b[0;34m\u001b[0m\u001b[0m\n",
      "\u001b[0;31mNameError\u001b[0m: name 'KMeans' is not defined"
     ]
    }
   ],
   "source": [
    "from sklearn.metrics.cluster import adjusted_rand_score as ari_score\n",
    "km = KMeans(n_clusters=args.n_clusters, n_init=20)\n",
    "cluster_ids = torch.argmax(q_train, axis=1).data.cpu().numpy()\n",
    "n_features = X_train.shape[1]\n",
    "nmi_scores = {}\n",
    "ari_scores = {}\n",
    "nmi_sum = 0\n",
    "ari_sum = 0\n",
    "for feature in range(n_features):\n",
    "    feature_labels = km.fit(X_train[:,feature].reshape(-1,1)).labels_\n",
    "    nmi = nmi_score(feature_labels, cluster_ids)\n",
    "    ari = ari_score(feature_labels, cluster_ids)\n",
    "    nmi_sum += nmi\n",
    "    ari_sum += ari\n",
    "    nmi_scores[column_names[feature]] = np.round(nmi, 3)\n",
    "    ari_scores[column_names[feature]] = np.round(ari, 3)\n",
    "\n",
    "nmi_sum, ari_sum\n",
    "{k: v for k, v in sorted(nmi_scores.items(), key=lambda item: item[1])}\n",
    "{k: v for k, v in sorted(ari_scores.items(), key=lambda item: item[1])}"
   ]
  },
  {
   "cell_type": "code",
   "execution_count": 8,
   "id": "31ba752d",
   "metadata": {},
   "outputs": [
    {
     "name": "stdout",
     "output_type": "stream",
     "text": [
      "tensor([[ -0.0470,   3.9581,  -0.6811,  ...,  -0.7307,   0.3996,  -0.1538],\n",
      "        [  0.7745,  16.7383,  -4.1157,  ...,  -3.1421,   1.0533,  -1.2180],\n",
      "        [  1.2878,  41.3400, -11.4000,  ...,  -8.2573,   3.4354,  -3.5407],\n",
      "        ...,\n",
      "        [ -0.3648,   8.5961,  -0.9250,  ...,  -2.0739,   1.2289,  -0.9856],\n",
      "        [  0.6373,  14.0108,  -2.3756,  ...,  -2.7678,   1.3514,  -1.6754],\n",
      "        [  0.9142,  17.9184,  -5.0957,  ...,  -3.3098,   0.9024,  -1.9583]],\n",
      "       grad_fn=<AddmmBackward>) tensor([[0.0931, 0.0125, 0.8944],\n",
      "        [0.2301, 0.6733, 0.0966],\n",
      "        [0.2583, 0.5373, 0.2044],\n",
      "        ...,\n",
      "        [0.6842, 0.0289, 0.2869],\n",
      "        [0.5611, 0.2685, 0.1704],\n",
      "        [0.1116, 0.8357, 0.0527]], grad_fn=<TBackward>)\n",
      "[0 2 1 ... 0 2 2]\n",
      "0.5554603478570804\n"
     ]
    }
   ],
   "source": [
    "print(z_val, q_val)\n",
    "q_labels = torch.argmax(q_val, axis=1).data.cpu().numpy()\n",
    "km_labels = kmeans.fit_predict(z_val.data.cpu().numpy())\n",
    "print(km_labels)\n",
    "print(nmi_score(q_labels, km_labels))"
   ]
  },
  {
   "cell_type": "code",
   "execution_count": 41,
   "id": "601452dc",
   "metadata": {},
   "outputs": [
    {
     "name": "stdout",
     "output_type": "stream",
     "text": [
      "Training data\n"
     ]
    },
    {
     "data": {
      "image/png": "[encoded data removed]",
      "text/plain": [
       "<Figure size 432x288 with 2 Axes>"
      ]
     },
     "metadata": {
      "needs_background": "light"
     },
     "output_type": "display_data"
    },
    {
     "name": "stdout",
     "output_type": "stream",
     "text": [
      "Cluster #  0 sized:  2400\n",
      "[('Age', 0.187), ('GCS_last', 0.185), ('BUN_last', 0.082), ('RespRate_median', 0.061), ('BUN_first', 0.033), ('Weight_last', 0.029), ('HR_highest', 0.028), ('Weight_first', 0.027), ('Weight', 0.022), ('RespRate_highest', 0.022)]\n",
      "=========================\n",
      "\n",
      "Cluster #  1 sized:  1767\n",
      "[('Age', 0.211), ('UrineOutputSum', 0.085), ('GCS_last', 0.055), ('BUN_first', 0.051), ('CSRU', 0.05), ('GCS_lowest', 0.046), ('MechVentDuration', 0.043), ('BUN_last', 0.036), ('RespRate_median', 0.033), ('HR_highest', 0.032)]\n",
      "=========================\n",
      "\n",
      "Cluster #  2 sized:  2583\n",
      "[('GCS_last', 0.238), ('BUN_last', 0.108), ('Age', 0.073), ('Lactate_last', 0.049), ('Bilirubin_last', 0.048), ('Length_of_stay', 0.034), ('GCS_median', 0.03), ('SOFA', 0.028), ('Weight', 0.028), ('HCO3_last', 0.027)]\n",
      "=========================\n",
      "\n"
     ]
    }
   ],
   "source": [
    "####################################################################################\n",
    "####################################################################################\n",
    "####################################################################################\n",
    "################################### Feature Imp. ###################################\n",
    "####################################################################################\n",
    "####################################################################################\n",
    "####################################################################################\n",
    "\n",
    "plot(model, torch.FloatTensor(X_train).to(args.device), y_train, labels=None)\n",
    "\n",
    "regs = [GradientBoostingRegressor(random_state=0) for _ in range(args.n_clusters)]\n",
    "qs, z_train = model(torch.FloatTensor(X_train).to(args.device), output=\"latent\")\n",
    "q_train = qs[0]\n",
    "cluster_ids = torch.argmax(q_train, axis=1)\n",
    "preds_e = torch.zeros((len(z_train), 2))\n",
    "feature_importances = np.zeros((args.n_clusters, args.input_dim))\n",
    "\n",
    "# Weighted predictions\n",
    "for j in range(model.n_clusters):\n",
    "    cluster_id = np.where(cluster_ids == j)[0]\n",
    "    # X_cluster = z_test[cluster_id]\n",
    "    X_cluster = z_train\n",
    "    cluster_preds = model.classifiers[j][0](X_cluster)\n",
    "    # print(q_test, cluster_preds[:,0])\n",
    "    preds_e[:,0] += q_train[:,j]*cluster_preds[:,0]\n",
    "    preds_e[:,1] += q_train[:,j]*cluster_preds[:,1]\n",
    "\n",
    "for j in range(model.n_clusters):\n",
    "    cluster_id = torch.where(cluster_ids == j)[0]\n",
    "    X_cluster = X_train[cluster_id]\n",
    "    if args.attention == True:\n",
    "        y_cluster = preds_e[cluster_id][:,1]\n",
    "    else:\n",
    "        y_cluster = preds[cluster_id][:,1]\n",
    "\n",
    "    # Some test data might not belong to any cluster\n",
    "    if len(cluster_id) > 0:\n",
    "        regs[j].fit(X_cluster, y_cluster.detach().cpu().numpy())\n",
    "        best_features = np.argsort(regs[j].feature_importances_)[::-1][:10]\n",
    "        feature_importances[j,:] = regs[j].feature_importances_\n",
    "        print(\"Cluster # \", j, \"sized: \", len(cluster_id), \"+/-\", sum(y_train[cluster_id])/len(cluster_id))\n",
    "        print(list(zip(column_names[best_features], np.round(regs[j].feature_importances_[best_features], 3))))\n",
    "        print(\"=========================\\n\")\n"
   ]
  },
  {
   "cell_type": "markdown",
   "id": "f62d9fb7",
   "metadata": {},
   "source": [
    "## Baseline Model"
   ]
  },
  {
   "cell_type": "code",
   "execution_count": 10,
   "id": "aa21f9e5",
   "metadata": {
    "code_folding": []
   },
   "outputs": [
    {
     "ename": "NameError",
     "evalue": "name 'NNClassifier' is not defined",
     "output_type": "error",
     "traceback": [
      "\u001b[0;31m---------------------------------------------------------------------------\u001b[0m",
      "\u001b[0;31mNameError\u001b[0m                                 Traceback (most recent call last)",
      "\u001b[0;32m<ipython-input-10-3c1310b02c60>\u001b[0m in \u001b[0;36m<module>\u001b[0;34m\u001b[0m\n\u001b[1;32m      2\u001b[0m \u001b[0;34m\u001b[0m\u001b[0m\n\u001b[1;32m      3\u001b[0m \u001b[0;32mfor\u001b[0m \u001b[0mr\u001b[0m \u001b[0;32min\u001b[0m \u001b[0mrange\u001b[0m\u001b[0;34m(\u001b[0m\u001b[0;36m5\u001b[0m\u001b[0;34m)\u001b[0m\u001b[0;34m:\u001b[0m\u001b[0;34m\u001b[0m\u001b[0;34m\u001b[0m\u001b[0m\n\u001b[0;32m----> 4\u001b[0;31m     \u001b[0mm\u001b[0m \u001b[0;34m=\u001b[0m \u001b[0mNNClassifier\u001b[0m\u001b[0;34m(\u001b[0m\u001b[0margs\u001b[0m\u001b[0;34m,\u001b[0m \u001b[0minput_dim\u001b[0m\u001b[0;34m=\u001b[0m\u001b[0;36m89\u001b[0m\u001b[0;34m)\u001b[0m\u001b[0;34m\u001b[0m\u001b[0;34m\u001b[0m\u001b[0m\n\u001b[0m\u001b[1;32m      5\u001b[0m     \u001b[0mdevice\u001b[0m \u001b[0;34m=\u001b[0m \u001b[0margs\u001b[0m\u001b[0;34m.\u001b[0m\u001b[0mdevice\u001b[0m\u001b[0;34m\u001b[0m\u001b[0;34m\u001b[0m\u001b[0m\n\u001b[1;32m      6\u001b[0m \u001b[0;34m\u001b[0m\u001b[0m\n",
      "\u001b[0;31mNameError\u001b[0m: name 'NNClassifier' is not defined"
     ]
    }
   ],
   "source": [
    "f1_scores, auc_scores = [], []\n",
    "\n",
    "for r in range(5):\n",
    "    m = NNClassifier(args, input_dim=89)\n",
    "    device = args.device\n",
    "\n",
    "    N_EPOCHS = args.n_epochs\n",
    "    es = EarlyStopping(dataset=args.dataset, path=\"./pretrained_model/checkpoint_base\")\n",
    "\n",
    "    kmeans = KMeans(n_clusters=args.n_classes, n_init=20)\n",
    "\n",
    "    for e in range(1, N_EPOCHS):\n",
    "        epoch_loss = 0\n",
    "        epoch_acc = 0\n",
    "        epoch_f1 = 0\n",
    "        m.train()\n",
    "        nmi, acc, ari = 0, 0, 0\n",
    "\n",
    "#         for X_batch, y_batch, _ in train_loader:\n",
    "        X_batch, y_batch = torch.FloatTensor(X_train), torch.Tensor(y_train).type(torch.LongTensor)\n",
    "        y_pred, train_loss = m.fit(X_batch, y_batch)\n",
    "        epoch_loss += train_loss\n",
    "\n",
    "        f1 = f1_score(np.argmax(y_pred, axis=1), y_batch)\n",
    "        acc = roc_auc_score(y_batch, y_pred[:,1])\n",
    "        epoch_acc += acc.item()\n",
    "        epoch_f1 += f1.item()\n",
    "\n",
    "\n",
    "        m.classifier.eval()\n",
    "        val_pred = m(torch.FloatTensor(X_val).to(args.device))\n",
    "        val_loss = nn.CrossEntropyLoss(reduction='mean')(val_pred, torch.Tensor(y_val).type(torch.LongTensor))\n",
    "\n",
    "        val_f1 = f1_score(torch.argmax(val_pred, axis=1), y_val)\n",
    "        val_auc = roc_auc_score(y_val, val_pred[:,1].data.cpu().numpy())\n",
    "        es([val_f1, val_auc], m)\n",
    "\n",
    "        print(f'Epoch {e+0:03}: | Train Loss: {epoch_loss/len(train_loader):.5f} | ',\n",
    "            f'Train F1: {epoch_f1/len(train_loader):.3f} | Train Acc: {epoch_acc/len(train_loader):.3f}| ',\n",
    "            f'Val F1: {val_f1:.3f} | Val Acc: {val_auc:.3f} | Val Loss: {val_loss:.3f}')\n",
    "\n",
    "        if es.early_stop == True:\n",
    "            break\n",
    "\n",
    "\n",
    "    ###################################### Testing #####################################\n",
    "\n",
    "    print(\"\\n####################################################################################\\n\")\n",
    "    print(\"Evaluating Test Data\")\n",
    "\n",
    "    # Load best model trained from local training phase\n",
    "    m = es.load_checkpoint(m)\n",
    "    m.classifier.eval()\n",
    "    test_pred = m.classifier(torch.FloatTensor(X_test))\n",
    "    test_loss = nn.CrossEntropyLoss(reduction='mean')(test_pred, torch.Tensor(y_test).type(torch.LongTensor))\n",
    "\n",
    "    test_f1 = f1_score(np.argmax(test_pred.detach().numpy(), axis=1), y_test)\n",
    "    test_auc = roc_auc_score(y_test, test_pred[:,1].detach().numpy())\n",
    "    f1_scores.append(test_f1)\n",
    "    auc_scores.append(test_auc)\n",
    "    \n",
    "    print(f'Epoch {e+0:03}: | Train Loss: {epoch_loss/len(train_loader):.5f} | ',\n",
    "        f'Train F1: {epoch_f1/len(train_loader):.3f} | Train Acc: {epoch_acc/len(train_loader):.3f}| ',\n",
    "        f'Test F1: {test_f1:.3f} | Test Acc: {test_auc:.3f} | Test Loss: {test_loss:.3f}')\n",
    "\n",
    "\n",
    "#     reg = GradientBoostingRegressor(random_state=0)\n",
    "\n",
    "#     reg.fit(X_test, y_test)\n",
    "#     best_features = np.argsort(reg.feature_importances_)[::-1][:10]\n",
    "#     print(\"Best Features \")\n",
    "#     print(column_names[best_features])\n",
    "#     print(\"=========================\\n\")\n",
    "print(f1_scores, auc_scores)\n",
    "print(\"Avg. Test F1 = {:.3f}, AUC = {:.3f}\".format(np.average(f1_scores), np.average(auc_scores)))"
   ]
  },
  {
   "cell_type": "code",
   "execution_count": null,
   "id": "32b388fc",
   "metadata": {},
   "outputs": [],
   "source": []
  }
 ],
 "metadata": {
  "kernelspec": {
   "display_name": "Python 3 (ipykernel)",
   "language": "python",
   "name": "python3"
  },
  "language_info": {
   "codemirror_mode": {
    "name": "ipython",
    "version": 3
   },
   "file_extension": ".py",
   "mimetype": "text/x-python",
   "name": "python",
   "nbconvert_exporter": "python",
   "pygments_lexer": "ipython3",
   "version": "3.8.5"
  }
 },
 "nbformat": 4,
 "nbformat_minor": 5
}
